{
 "cells": [
  {
   "cell_type": "markdown",
   "metadata": {},
   "source": [
    "# **Detecção de Spam de E-mail**\n",
    "\n",
    "Neste tutorial, usaremos um classificador Naive Bayes e uma Rede Neural Convolucional para concluir uma tarefa clássica de classificação de texto, a filtragem de spam.\n",
    "\n",
    "Usaremos um conjunto de dados de spam do [UCI Machine Learning Repository](https://archive.ics.uci.edu/dataset/228/sms+spam+collection) \n",
    "\n",
    "[Classifying data using the Multinomial Naive Bayes algorithm](https://developer.ibm.com/tutorials/awb-classifying-data-multinomial-naive-bayes-algorithm/)\n"
   ]
  },
  {
   "cell_type": "markdown",
   "metadata": {},
   "source": [
    "### **Importando Bibliotecas**"
   ]
  },
  {
   "cell_type": "code",
   "execution_count": 572,
   "metadata": {},
   "outputs": [
    {
     "name": "stderr",
     "output_type": "stream",
     "text": [
      "[nltk_data] Downloading package stopwords to C:\\Users\\Daniela\n",
      "[nltk_data]     Sena\\AppData\\Roaming\\nltk_data...\n",
      "[nltk_data]   Package stopwords is already up-to-date!\n",
      "[nltk_data] Downloading package punkt to C:\\Users\\Daniela\n",
      "[nltk_data]     Sena\\AppData\\Roaming\\nltk_data...\n",
      "[nltk_data]   Package punkt is already up-to-date!\n",
      "[nltk_data] Downloading package wordnet to C:\\Users\\Daniela\n",
      "[nltk_data]     Sena\\AppData\\Roaming\\nltk_data...\n",
      "[nltk_data]   Package wordnet is already up-to-date!\n"
     ]
    }
   ],
   "source": [
    "import pandas as pd\n",
    "import seaborn as sns\n",
    "import matplotlib.pyplot as plt\n",
    "import re\n",
    "import numpy as np\n",
    "\n",
    "# !pip install scikit-learn\n",
    "from sklearn.feature_extraction.text import CountVectorizer, TfidfVectorizer\n",
    "from sklearn.model_selection import cross_val_score, StratifiedKFold\n",
    "from sklearn.metrics import classification_report, confusion_matrix, accuracy_score, f1_score, recall_score, precision_score, balanced_accuracy_score\n",
    "from sklearn.naive_bayes import MultinomialNB\n",
    "from sklearn.model_selection import train_test_split\n",
    "from sklearn.utils.class_weight import compute_class_weight\n",
    "\n",
    "# !pip install --upgrade scikit-learn \n",
    "from sklearn.model_selection import TunedThresholdClassifierCV # Está disponível no scikit-learn 1.5\n",
    "\n",
    "# !pip install scikeras\n",
    "from scikeras.wrappers import KerasClassifier\n",
    "\n",
    "\n",
    "# !pip install nltk\n",
    "import nltk\n",
    "from nltk.tokenize import word_tokenize\n",
    "from nltk.stem import WordNetLemmatizer\n",
    "from nltk.stem import PorterStemmer\n",
    "\n",
    "# !pip install tqdm\n",
    "from tqdm import tqdm\n",
    "\n",
    "# !pip install tensorflow\n",
    "import tensorflow as tf\n",
    "\n",
    "from tensorflow.keras.preprocessing.text import Tokenizer\n",
    "from tensorflow.keras.preprocessing.sequence import pad_sequences\n",
    "\n",
    "from sklearn.preprocessing import LabelEncoder\n",
    "\n",
    "# !pip install keras ou pip install --upgrade keras\n",
    "from keras import ops\n",
    "\n",
    "# !pip install fast-ml\n",
    "from fast_ml.model_development import train_valid_test_split\n",
    "\n",
    "nltk.download('stopwords')\n",
    "nltk.download('punkt')\n",
    "nltk.download('wordnet')\n",
    "\n",
    "import warnings\n",
    "warnings.filterwarnings(\"ignore\")"
   ]
  },
  {
   "cell_type": "markdown",
   "metadata": {},
   "source": [
    "### **Lendo os Dados**\n",
    "\n",
    "Usaremos um conjunto de dados de spam do [UCI Machine Learning Repository](https://archive.ics.uci.edu/dataset/228/sms+spam+collection).\n",
    "\n",
    "1) Baixe os dados do repositório [UCI Machine Learning Repository](https://archive.ics.uci.edu/dataset/228/sms+spam+collection) .\n",
    "\n",
    "2) Descompacte o arquivo e reformate-o como um arquivo .csv.\n",
    "\n",
    "3) Carregue este arquivo .csv do seu sistema local para o seu notebook "
   ]
  },
  {
   "cell_type": "code",
   "execution_count": 573,
   "metadata": {},
   "outputs": [],
   "source": [
    "data = pd.read_csv(\"SMSSpamCollection.csv\", sep='\\t', header=None)"
   ]
  },
  {
   "cell_type": "markdown",
   "metadata": {},
   "source": [
    "### **Análise Exploratória de Dados**\n",
    "\n",
    "Antes do pré-processamento, é sempre bom organizar os dados e examiná-los em busca de problemas subjacentes, como dados ausentes ou duplicados. Traçar os dados também pode nos ajudar a ver se os dados estão equilibrados."
   ]
  },
  {
   "cell_type": "code",
   "execution_count": 574,
   "metadata": {},
   "outputs": [
    {
     "data": {
      "text/html": [
       "<div>\n",
       "<style scoped>\n",
       "    .dataframe tbody tr th:only-of-type {\n",
       "        vertical-align: middle;\n",
       "    }\n",
       "\n",
       "    .dataframe tbody tr th {\n",
       "        vertical-align: top;\n",
       "    }\n",
       "\n",
       "    .dataframe thead th {\n",
       "        text-align: right;\n",
       "    }\n",
       "</style>\n",
       "<table border=\"1\" class=\"dataframe\">\n",
       "  <thead>\n",
       "    <tr style=\"text-align: right;\">\n",
       "      <th></th>\n",
       "      <th>0</th>\n",
       "      <th>1</th>\n",
       "    </tr>\n",
       "  </thead>\n",
       "  <tbody>\n",
       "    <tr>\n",
       "      <th>0</th>\n",
       "      <td>ham</td>\n",
       "      <td>Go until jurong point, crazy.. Available only ...</td>\n",
       "    </tr>\n",
       "    <tr>\n",
       "      <th>1</th>\n",
       "      <td>ham</td>\n",
       "      <td>Ok lar... Joking wif u oni...</td>\n",
       "    </tr>\n",
       "    <tr>\n",
       "      <th>2</th>\n",
       "      <td>spam</td>\n",
       "      <td>Free entry in 2 a wkly comp to win FA Cup fina...</td>\n",
       "    </tr>\n",
       "    <tr>\n",
       "      <th>3</th>\n",
       "      <td>ham</td>\n",
       "      <td>U dun say so early hor... U c already then say...</td>\n",
       "    </tr>\n",
       "    <tr>\n",
       "      <th>4</th>\n",
       "      <td>ham</td>\n",
       "      <td>Nah I don't think he goes to usf, he lives aro...</td>\n",
       "    </tr>\n",
       "  </tbody>\n",
       "</table>\n",
       "</div>"
      ],
      "text/plain": [
       "      0                                                  1\n",
       "0   ham  Go until jurong point, crazy.. Available only ...\n",
       "1   ham                      Ok lar... Joking wif u oni...\n",
       "2  spam  Free entry in 2 a wkly comp to win FA Cup fina...\n",
       "3   ham  U dun say so early hor... U c already then say...\n",
       "4   ham  Nah I don't think he goes to usf, he lives aro..."
      ]
     },
     "execution_count": 574,
     "metadata": {},
     "output_type": "execute_result"
    }
   ],
   "source": [
    "data.head()"
   ]
  },
  {
   "cell_type": "code",
   "execution_count": 575,
   "metadata": {},
   "outputs": [],
   "source": [
    "# Renomear colunas\n",
    "data.rename(columns={0:'classification', 1:'text'}, inplace=True)"
   ]
  },
  {
   "cell_type": "code",
   "execution_count": 576,
   "metadata": {},
   "outputs": [
    {
     "data": {
      "text/plain": [
       "(5572, 2)"
      ]
     },
     "execution_count": 576,
     "metadata": {},
     "output_type": "execute_result"
    }
   ],
   "source": [
    "data.shape"
   ]
  },
  {
   "cell_type": "code",
   "execution_count": 577,
   "metadata": {},
   "outputs": [
    {
     "name": "stdout",
     "output_type": "stream",
     "text": [
      "<class 'pandas.core.frame.DataFrame'>\n",
      "RangeIndex: 5572 entries, 0 to 5571\n",
      "Data columns (total 2 columns):\n",
      " #   Column          Non-Null Count  Dtype \n",
      "---  ------          --------------  ----- \n",
      " 0   classification  5572 non-null   object\n",
      " 1   text            5572 non-null   object\n",
      "dtypes: object(2)\n",
      "memory usage: 87.2+ KB\n"
     ]
    }
   ],
   "source": [
    "data.info()"
   ]
  },
  {
   "cell_type": "code",
   "execution_count": 578,
   "metadata": {},
   "outputs": [
    {
     "data": {
      "text/plain": [
       "classification    0\n",
       "text              0\n",
       "dtype: int64"
      ]
     },
     "execution_count": 578,
     "metadata": {},
     "output_type": "execute_result"
    }
   ],
   "source": [
    "# Não há dados faltantes\n",
    "data.isnull().sum()"
   ]
  },
  {
   "cell_type": "code",
   "execution_count": 579,
   "metadata": {},
   "outputs": [
    {
     "data": {
      "text/plain": [
       "403"
      ]
     },
     "execution_count": 579,
     "metadata": {},
     "output_type": "execute_result"
    }
   ],
   "source": [
    "# Existem dados duplicados neste conjunto de dados\n",
    "data.duplicated().sum()"
   ]
  },
  {
   "cell_type": "code",
   "execution_count": 580,
   "metadata": {},
   "outputs": [
    {
     "data": {
      "text/html": [
       "<div>\n",
       "<style scoped>\n",
       "    .dataframe tbody tr th:only-of-type {\n",
       "        vertical-align: middle;\n",
       "    }\n",
       "\n",
       "    .dataframe tbody tr th {\n",
       "        vertical-align: top;\n",
       "    }\n",
       "\n",
       "    .dataframe thead th {\n",
       "        text-align: right;\n",
       "    }\n",
       "</style>\n",
       "<table border=\"1\" class=\"dataframe\">\n",
       "  <thead>\n",
       "    <tr style=\"text-align: right;\">\n",
       "      <th></th>\n",
       "      <th>classification</th>\n",
       "      <th>text</th>\n",
       "    </tr>\n",
       "  </thead>\n",
       "  <tbody>\n",
       "    <tr>\n",
       "      <th>0</th>\n",
       "      <td>ham</td>\n",
       "      <td>Go until jurong point, crazy.. Available only ...</td>\n",
       "    </tr>\n",
       "    <tr>\n",
       "      <th>1</th>\n",
       "      <td>ham</td>\n",
       "      <td>Ok lar... Joking wif u oni...</td>\n",
       "    </tr>\n",
       "    <tr>\n",
       "      <th>2</th>\n",
       "      <td>spam</td>\n",
       "      <td>Free entry in 2 a wkly comp to win FA Cup fina...</td>\n",
       "    </tr>\n",
       "    <tr>\n",
       "      <th>3</th>\n",
       "      <td>ham</td>\n",
       "      <td>U dun say so early hor... U c already then say...</td>\n",
       "    </tr>\n",
       "    <tr>\n",
       "      <th>4</th>\n",
       "      <td>ham</td>\n",
       "      <td>Nah I don't think he goes to usf, he lives aro...</td>\n",
       "    </tr>\n",
       "  </tbody>\n",
       "</table>\n",
       "</div>"
      ],
      "text/plain": [
       "  classification                                               text\n",
       "0            ham  Go until jurong point, crazy.. Available only ...\n",
       "1            ham                      Ok lar... Joking wif u oni...\n",
       "2           spam  Free entry in 2 a wkly comp to win FA Cup fina...\n",
       "3            ham  U dun say so early hor... U c already then say...\n",
       "4            ham  Nah I don't think he goes to usf, he lives aro..."
      ]
     },
     "execution_count": 580,
     "metadata": {},
     "output_type": "execute_result"
    }
   ],
   "source": [
    "data.head()"
   ]
  },
  {
   "cell_type": "code",
   "execution_count": 581,
   "metadata": {},
   "outputs": [
    {
     "data": {
      "image/png": "[encoded data removed]",
      "text/plain": [
       "<Figure size 400x300 with 1 Axes>"
      ]
     },
     "metadata": {},
     "output_type": "display_data"
    }
   ],
   "source": [
    "# Distribuição da variável alvo\n",
    "\n",
    "fig, ax = plt.subplots(1, 1, figsize=(4,3))\n",
    "\n",
    "g1 = sns.countplot(data, x=\"classification\", stat=\"percent\", ax=ax, color='#006400')\n",
    "g1.set_ylim(0,100)\n",
    "\n",
    "for p in g1.patches:\n",
    "   width = p.get_width()\n",
    "   height = p.get_height()\n",
    "   x ,y = p.get_xy()\n",
    "   g1.annotate('{:.0f}%'.format(height), (x + width/2, y + height), ha='center')\n",
    "\n",
    "ax.set_xlabel(\"Classificação\")\n",
    "ax.set_ylabel(\"Percentual\")\n",
    "                 \n",
    "plt.show()"
   ]
  },
  {
   "cell_type": "markdown",
   "metadata": {},
   "source": [
    "O gráfico indica que a distribuição das classes é desigual, com o spam representando apenas 13% dos dados. \n",
    "\n",
    "Portanto, temos um conjunto de dados **desequilibrado**, o que pode ser uma preocupação, pois pode levar ao overfitting. \n",
    "\n",
    "Embora isso não signifique que os dados de treinamento serão superajustados, é bom estar ciente disso antecipadamente caso precisemos usar técnicas de sobreamostragem (também conhecida como upsampling) ou subamostragem (também conhecida como downsampling). Com isso em mente, eliminaremos os dados duplicados e prosseguiremos primeiro com o treinamento de nosso modelo nessa distribuição desequilibrada.\n"
   ]
  },
  {
   "cell_type": "code",
   "execution_count": 582,
   "metadata": {},
   "outputs": [],
   "source": [
    "# Excluindo dados duplicados\n",
    "data = data.drop_duplicates()"
   ]
  },
  {
   "cell_type": "code",
   "execution_count": 583,
   "metadata": {},
   "outputs": [],
   "source": [
    "# Resetando os indices do dataset\n",
    "data = data.reset_index(drop=True)"
   ]
  },
  {
   "cell_type": "code",
   "execution_count": 584,
   "metadata": {},
   "outputs": [
    {
     "data": {
      "text/plain": [
       "(5169, 2)"
      ]
     },
     "execution_count": 584,
     "metadata": {},
     "output_type": "execute_result"
    }
   ],
   "source": [
    "data.shape"
   ]
  },
  {
   "cell_type": "code",
   "execution_count": 585,
   "metadata": {},
   "outputs": [
    {
     "data": {
      "text/html": [
       "<div>\n",
       "<style scoped>\n",
       "    .dataframe tbody tr th:only-of-type {\n",
       "        vertical-align: middle;\n",
       "    }\n",
       "\n",
       "    .dataframe tbody tr th {\n",
       "        vertical-align: top;\n",
       "    }\n",
       "\n",
       "    .dataframe thead th {\n",
       "        text-align: right;\n",
       "    }\n",
       "</style>\n",
       "<table border=\"1\" class=\"dataframe\">\n",
       "  <thead>\n",
       "    <tr style=\"text-align: right;\">\n",
       "      <th></th>\n",
       "      <th>classification</th>\n",
       "      <th>text</th>\n",
       "    </tr>\n",
       "  </thead>\n",
       "  <tbody>\n",
       "    <tr>\n",
       "      <th>0</th>\n",
       "      <td>ham</td>\n",
       "      <td>Go until jurong point, crazy.. Available only ...</td>\n",
       "    </tr>\n",
       "    <tr>\n",
       "      <th>1</th>\n",
       "      <td>ham</td>\n",
       "      <td>Ok lar... Joking wif u oni...</td>\n",
       "    </tr>\n",
       "    <tr>\n",
       "      <th>2</th>\n",
       "      <td>spam</td>\n",
       "      <td>Free entry in 2 a wkly comp to win FA Cup fina...</td>\n",
       "    </tr>\n",
       "    <tr>\n",
       "      <th>3</th>\n",
       "      <td>ham</td>\n",
       "      <td>U dun say so early hor... U c already then say...</td>\n",
       "    </tr>\n",
       "    <tr>\n",
       "      <th>4</th>\n",
       "      <td>ham</td>\n",
       "      <td>Nah I don't think he goes to usf, he lives aro...</td>\n",
       "    </tr>\n",
       "  </tbody>\n",
       "</table>\n",
       "</div>"
      ],
      "text/plain": [
       "  classification                                               text\n",
       "0            ham  Go until jurong point, crazy.. Available only ...\n",
       "1            ham                      Ok lar... Joking wif u oni...\n",
       "2           spam  Free entry in 2 a wkly comp to win FA Cup fina...\n",
       "3            ham  U dun say so early hor... U c already then say...\n",
       "4            ham  Nah I don't think he goes to usf, he lives aro..."
      ]
     },
     "execution_count": 585,
     "metadata": {},
     "output_type": "execute_result"
    }
   ],
   "source": [
    "data.head()"
   ]
  },
  {
   "cell_type": "markdown",
   "metadata": {},
   "source": [
    "### **Dividindo o Conjunto de Dados em Treino e Teste**\n",
    "\n",
    "* Dados de treinamento: usado para treinar o modelo.\n",
    "* Dados de validação: usado para comparar diferentes modelos e no ajuste de hiperparâmetros. Ao usar validação cruzada não é necessário um conjunto de validação, pois a função cross_val_score irá fazer o split no conjunto de treinamento separando os dados em treino e validação.\n",
    "* Dados de teste: usado para avaliação final do modelo. Não deve ser usado durante o treino e a validação.\n",
    "\n",
    "As seguintes proporções podem ser adotadas:\n",
    "\n",
    "* 1 Opção:\n",
    "    * 70% dos dados para treino\n",
    "    * 15% dos dados para teste\n",
    "    * 15% dos dados para validação\n",
    "\n",
    "* 2 Opção:\n",
    "    * 70% dos dados para treino\n",
    "    * 30% dos dados para teste\n",
    "\n",
    "\n",
    "**IREMOS ADOTAR A SEGUNDA OPÇÃO E FAREMOS VALIDAÇÃO CRUZADA**\n",
    "\n",
    "Ao avaliar diferentes configurações (“hiperparâmetros”) para estimadores, existe o risco de ajuste excessivo no conjunto de teste porque os parâmetros podem ser ajustados até que o estimador tenha um desempenho ideal. Dessa forma, o conhecimento sobre o conjunto de testes pode “vazar” para o modelo e as métricas de avaliação não informam mais sobre o desempenho da generalização. \n",
    "\n",
    "Para resolver este problema, ainda outra parte do conjunto de dados pode ser considerada o chamado “conjunto de validação”: o treinamento prossegue no conjunto de treinamento, após o qual a avaliação é feita no conjunto de validação, e quando o experimento parece ser bem-sucedido , a avaliação final pode ser feita no conjunto de testes.\n",
    "\n",
    "No entanto, ao particionar os dados disponíveis em três conjuntos, reduzimos drasticamente o número de amostras que podem ser usadas para aprender o modelo, e os resultados podem depender de uma escolha aleatória específica para o par de conjuntos (treinamento, validação).\n",
    "\n",
    "Uma solução para este problema é um procedimento denominado **validação cruzada** (abreviadamente CV). Um conjunto de teste ainda deve ser apresentado para avaliação final, mas o conjunto de validação não é mais necessário ao fazer o CV. Na abordagem básica, chamada k-fold CV, o conjunto de treinamento é dividido em k conjuntos menores. O seguinte procedimento é seguido para cada uma das k “dobras”:\n",
    "\n",
    "* Um modelo é treinado usando k-1 das dobras como dados de treinamento;\n",
    "* O modelo resultante é validado na parte restante dos dados (ou seja, é usado como um conjunto de testes para calcular uma medida de desempenho, como a precisão)\n",
    "\n",
    "Usaremos a função cross_val_score para realizar a validação cruzada\n",
    "\n",
    "Ao utilizar técnicas de balanceamento de dados não podemos utilizar a função cross_val_score, pois o balanceamento só pode ser realizado no split de dados de treinamento. O split que será utilizado para validação não pode ser balanceamento. \n",
    "\n",
    "Algumas alternativas:\n",
    "* **KFold** divide todas as amostras em grupos de amostras, chamados dobras de tamanhos iguais. A função de previsão é aprendida usando dobras, e a dobra deixada de fora é usada para validação.\n",
    "\n",
    "from sklearn.model_selection import KFold\n",
    "kf = KFold(n_splits=2)\n",
    "for train, valid in kf.split(X_train):\n",
    "    print(\"%s %s\" % (train, valid))\n",
    "\n",
    "* **StratifiedKFold** é uma variação de k-fold que retorna dobras estratificadas: cada conjunto contém aproximadamente a mesma porcentagem de amostras de cada classe alvo que o conjunto completo.\n",
    "\n",
    "from sklearn.model_selection import StratifiedKFold\n",
    "skf = StratifiedKFold(n_splits=3)\n",
    "for train, valid in skf.split(X_train, y_train):\n",
    "    print(\"%s %s\" % (train, valid))\n",
    "\n",
    "\n",
    "[Validação Cruzada](https://scikit-learn.org/stable/modules/cross_validation.html)"
   ]
  },
  {
   "cell_type": "code",
   "execution_count": 586,
   "metadata": {},
   "outputs": [],
   "source": [
    "X = data['text'].values\n",
    "y = data['classification'].values"
   ]
  },
  {
   "cell_type": "code",
   "execution_count": 587,
   "metadata": {},
   "outputs": [],
   "source": [
    "# Treino e Teste\n",
    "X_train, X_test, y_train, y_test = train_test_split(X, y, test_size=0.30, random_state=42, stratify=y)\n"
   ]
  },
  {
   "cell_type": "code",
   "execution_count": 588,
   "metadata": {},
   "outputs": [
    {
     "data": {
      "text/plain": [
       "((3618,), (3618,), (1551,), (1551,))"
      ]
     },
     "execution_count": 588,
     "metadata": {},
     "output_type": "execute_result"
    }
   ],
   "source": [
    "X_train.shape, y_train.shape, X_test.shape, y_test.shape"
   ]
  },
  {
   "cell_type": "code",
   "execution_count": 589,
   "metadata": {},
   "outputs": [
    {
     "data": {
      "text/plain": [
       "array([\"I think we're going to finn's now, come\",\n",
       "       \"Yeah he got in at 2 and was v apologetic. n had fallen out and she was actin like spoilt child and he got caught up in that. Till 2! But we won't go there! Not doing too badly cheers. You? \",\n",
       "       'Hi baby ive just got back from work and i was wanting to see u allday! I hope i didnt piss u off on the phone today. If u are up give me a call xxx',\n",
       "       ...,\n",
       "       \"You will be receiving this week's Triple Echo ringtone shortly. Enjoy it!\",\n",
       "       \"We're done...\", 'Did you stitch his trouser'], dtype=object)"
      ]
     },
     "execution_count": 589,
     "metadata": {},
     "output_type": "execute_result"
    }
   ],
   "source": [
    "X_train"
   ]
  },
  {
   "cell_type": "code",
   "execution_count": 590,
   "metadata": {},
   "outputs": [
    {
     "data": {
      "text/plain": [
       "array(['ham', 'ham', 'ham', ..., 'spam', 'ham', 'ham'], dtype=object)"
      ]
     },
     "execution_count": 590,
     "metadata": {},
     "output_type": "execute_result"
    }
   ],
   "source": [
    "y_train"
   ]
  },
  {
   "cell_type": "markdown",
   "metadata": {},
   "source": [
    "#### **Codificando os Rótulos de Destino**"
   ]
  },
  {
   "cell_type": "code",
   "execution_count": 591,
   "metadata": {},
   "outputs": [],
   "source": [
    "# O LabelEncoder é usado para codificar rótulos de destino com valor entre 0 e n_classes-1.\n",
    "# Este transformador deve ser usado para codificar valores alvo, ou seja y, e não a entrada X.\n",
    "\n",
    "label = LabelEncoder()\n",
    "\n",
    "y_train = label.fit_transform(y_train)\n",
    "\n",
    "y_test = label.transform(y_test)"
   ]
  },
  {
   "cell_type": "code",
   "execution_count": 592,
   "metadata": {},
   "outputs": [
    {
     "data": {
      "text/plain": [
       "array([0, 0, 0, ..., 1, 0, 0])"
      ]
     },
     "execution_count": 592,
     "metadata": {},
     "output_type": "execute_result"
    }
   ],
   "source": [
    "y_train"
   ]
  },
  {
   "cell_type": "code",
   "execution_count": 593,
   "metadata": {},
   "outputs": [
    {
     "data": {
      "text/plain": [
       "array(['ham', 'ham', 'ham', ..., 'spam', 'ham', 'ham'], dtype=object)"
      ]
     },
     "execution_count": 593,
     "metadata": {},
     "output_type": "execute_result"
    }
   ],
   "source": [
    "label.inverse_transform(y_train)"
   ]
  },
  {
   "cell_type": "code",
   "execution_count": 594,
   "metadata": {},
   "outputs": [
    {
     "data": {
      "text/plain": [
       "array(['ham', 'spam'], dtype=object)"
      ]
     },
     "execution_count": 594,
     "metadata": {},
     "output_type": "execute_result"
    }
   ],
   "source": [
    "label.classes_"
   ]
  },
  {
   "cell_type": "code",
   "execution_count": 595,
   "metadata": {},
   "outputs": [
    {
     "data": {
      "text/plain": [
       "array([0, 1])"
      ]
     },
     "execution_count": 595,
     "metadata": {},
     "output_type": "execute_result"
    }
   ],
   "source": [
    "np.unique(y_train)"
   ]
  },
  {
   "cell_type": "code",
   "execution_count": 596,
   "metadata": {},
   "outputs": [
    {
     "data": {
      "text/plain": [
       "array(['ham', 'spam'], dtype=object)"
      ]
     },
     "execution_count": 596,
     "metadata": {},
     "output_type": "execute_result"
    }
   ],
   "source": [
    "label.inverse_transform(np.unique(y_train))"
   ]
  },
  {
   "cell_type": "markdown",
   "metadata": {},
   "source": [
    "### **Pré-processamento e Limpeza dos Dados**\n",
    "\n",
    "Depois de dividir os dados, podemos começar a pré-processá-los. Isso inclui tarefas de processamento de linguagem natural, como tokenização, remoção de palavras irrelevantes (stop words), stemização e lematização.\n",
    "\n",
    "Em seguida, usaremos uma técnica popular de incorporação de palavras, chamada bag-of-words , para extrair características do texto. Esta técnica calcula especificamente a frequência de palavras dentro de um determinado documento, o que pode nos ajudar a classificar documentos, assumindo que documentos semelhantes possuem conteúdo semelhante."
   ]
  },
  {
   "cell_type": "markdown",
   "metadata": {},
   "source": [
    "### **Limpeza de Texto, Tokenização, Remoção de Stopwords, Lematização e Stemização**"
   ]
  },
  {
   "cell_type": "code",
   "execution_count": 597,
   "metadata": {},
   "outputs": [],
   "source": [
    "# Função para remover Emojis\n",
    "def remove_emoji(string):\n",
    "    emoji_pattern = re.compile(\"[\"\n",
    "                               u\"\\U0001F600-\\U0001F64F\"  # emoticons\n",
    "                               u\"\\U0001F300-\\U0001F5FF\"  # symbols & pictographs\n",
    "                               u\"\\U0001F680-\\U0001F6FF\"  # transport & map symbols\n",
    "                               u\"\\U0001F1E0-\\U0001F1FF\"  # flags (iOS)\n",
    "                               u\"\\U00002500-\\U00002BEF\"  # chinese char\n",
    "                               u\"\\U00002702-\\U000027B0\"\n",
    "                               u\"\\U00002702-\\U000027B0\"\n",
    "                               u\"\\U000024C2-\\U0001F251\"\n",
    "                               u\"\\U0001f926-\\U0001f937\"\n",
    "                               u\"\\U00010000-\\U0010ffff\"\n",
    "                               u\"\\u2640-\\u2642\"\n",
    "                               u\"\\u2600-\\u2B55\"\n",
    "                               u\"\\u200d\"\n",
    "                               u\"\\u23cf\"\n",
    "                               u\"\\u23e9\"\n",
    "                               u\"\\u231a\"\n",
    "                               u\"\\ufe0f\"  # dingbats\n",
    "                               u\"\\u3030\"\n",
    "                               \"]+\", flags=re.UNICODE)\n",
    "    return emoji_pattern.sub(r'', string)"
   ]
  },
  {
   "cell_type": "code",
   "execution_count": 598,
   "metadata": {},
   "outputs": [],
   "source": [
    "def text_clean(text):\n",
    "    # Transforma o Texto em Minúsculas\n",
    "    texto = text.lower()\n",
    "\n",
    "    # Remove URLs do Texto\n",
    "    texto = re.sub(r'https?://\\S+', ' ', texto)\n",
    "\n",
    "    # Remove pontuação e caracteres especiais\n",
    "    texto = re.sub(r'[^\\w\\s]', ' ', texto)\n",
    "\n",
    "    # Remove notação ordinal\n",
    "    texto = texto.replace('ª', ' ').replace('º', ' ').replace('°', ' ').replace(\"'\", ' ')\n",
    "\n",
    "    # Remove dígitos\n",
    "    texto = re.sub(r'\\d', ' ', texto)\n",
    "\n",
    "    # Remove Tags HTML\n",
    "    texto = re.sub(r'<.*?>', '', texto)\n",
    "\n",
    "    return texto"
   ]
  },
  {
   "cell_type": "code",
   "execution_count": 599,
   "metadata": {},
   "outputs": [],
   "source": [
    "# Função para Tokenização\n",
    "def tokenizer(text):\n",
    "    tokens = word_tokenize(text)\n",
    "    \n",
    "    return tokens"
   ]
  },
  {
   "cell_type": "code",
   "execution_count": 600,
   "metadata": {},
   "outputs": [],
   "source": [
    "# Função para Remover Stop Words\n",
    "def stopwords(text):\n",
    "    stopwords_pt = nltk.corpus.stopwords.words('english') \n",
    "    remove_stopwords = []\n",
    "\n",
    "    for token in text:\n",
    "        if token not in stopwords_pt:\n",
    "            remove_stopwords.append(token)\n",
    "\n",
    "    return remove_stopwords"
   ]
  },
  {
   "cell_type": "code",
   "execution_count": 601,
   "metadata": {},
   "outputs": [],
   "source": [
    "# Função para Lematização\n",
    "def lemmatizacao(text):\n",
    "    lemmer = WordNetLemmatizer()\n",
    "    texto = [lemmer.lemmatize(token) for token in text]\n",
    "\n",
    "    return texto"
   ]
  },
  {
   "cell_type": "code",
   "execution_count": 602,
   "metadata": {},
   "outputs": [],
   "source": [
    "# Função para Stemização\n",
    "def stemizacao(text):\n",
    "    porter = PorterStemmer()\n",
    "    texto = [porter.stem(token) for token in text]\n",
    "\n",
    "    return texto"
   ]
  },
  {
   "cell_type": "code",
   "execution_count": 603,
   "metadata": {},
   "outputs": [],
   "source": [
    "# Função de Pré-processamento do Texto\n",
    "def text_processing(dc, rm_stop, method):\n",
    "    df = dc.copy()\n",
    "    i = 0\n",
    "    for text in tqdm(df):\n",
    "        # Remove Emojis\n",
    "        texto = remove_emoji(text)\n",
    "\n",
    "        # Remove Pontuações e Caracteres Especiais\n",
    "        texto = text_clean(texto)\n",
    "\n",
    "        # Faz a Tokenização\n",
    "        texto = tokenizer(texto)\n",
    "\n",
    "        # Remove palavras irrelevantes\n",
    "        if rm_stop == True:\n",
    "            texto = stopwords(texto)\n",
    "\n",
    "        # Lematização: normalmente preferida à lematização\n",
    "        if method == 'L':\n",
    "            texto = lemmatizacao(texto)\n",
    "            \n",
    "        # Stimização\n",
    "        if method == 'S':\n",
    "            texto = stemizacao(texto)\n",
    "        \n",
    "        df[i] = \" \".join(texto)\n",
    "        \n",
    "        i = i + 1\n",
    "\n",
    "    return df"
   ]
  },
  {
   "cell_type": "markdown",
   "metadata": {},
   "source": [
    "Como podemos processar os dados de diversas maneiras, devemos modelar diferentes versões de dados pré-processados ​​para entender qual variação de dados fornece os resultados ideais em nosso modelo. "
   ]
  },
  {
   "cell_type": "code",
   "execution_count": 604,
   "metadata": {},
   "outputs": [
    {
     "name": "stderr",
     "output_type": "stream",
     "text": [
      "100%|██████████| 3618/3618 [00:01<00:00, 2416.93it/s]\n",
      "100%|██████████| 1551/1551 [00:00<00:00, 2629.70it/s]\n",
      "100%|██████████| 3618/3618 [00:00<00:00, 7122.05it/s]\n",
      "100%|██████████| 1551/1551 [00:00<00:00, 7351.85it/s]\n",
      "100%|██████████| 3618/3618 [00:02<00:00, 1689.57it/s]\n",
      "100%|██████████| 1551/1551 [00:00<00:00, 1651.37it/s]\n",
      "100%|██████████| 3618/3618 [00:01<00:00, 3004.92it/s]\n",
      "100%|██████████| 1551/1551 [00:00<00:00, 2913.22it/s]\n"
     ]
    }
   ],
   "source": [
    "#preprocessed data: Lemm + stopword removal \n",
    "X_train_1 = text_processing(X_train, True, 'L')\n",
    "X_test_1 = text_processing(X_test, True, 'L') \n",
    "\n",
    "#preprocessed data: Lemm + no stopword removal \n",
    "X_train_2 = text_processing(X_train, False, 'L')\n",
    "X_test_2 = text_processing(X_test, False, 'L') \n",
    "\n",
    "#preprocessed data: Stem + stopword removal \n",
    "X_train_3 = text_processing(X_train, True, 'S')\n",
    "X_test_3 = text_processing(X_test, True, 'S') \n",
    "\n",
    "#preprocessed data: Stem + no stopword removal \n",
    "X_train_4 = text_processing(X_train, False, 'S')\n",
    "X_test_4 = text_processing(X_test, False, 'S') "
   ]
  },
  {
   "cell_type": "code",
   "execution_count": 605,
   "metadata": {},
   "outputs": [
    {
     "data": {
      "text/plain": [
       "array(['think going finn come',\n",
       "       'yeah got v apologetic n fallen actin like spoilt child got caught till go badly cheer',\n",
       "       'hi baby ive got back work wanting see u allday hope didnt piss u phone today u give call xxx',\n",
       "       ..., 'receiving week triple echo ringtone shortly enjoy', 'done',\n",
       "       'stitch trouser'], dtype=object)"
      ]
     },
     "execution_count": 605,
     "metadata": {},
     "output_type": "execute_result"
    }
   ],
   "source": [
    "X_train_1"
   ]
  },
  {
   "cell_type": "code",
   "execution_count": 606,
   "metadata": {},
   "outputs": [
    {
     "data": {
      "text/plain": [
       "array(['i think we re going to finn s now come',\n",
       "       'yeah he got in at and wa v apologetic n had fallen out and she wa actin like spoilt child and he got caught up in that till but we won t go there not doing too badly cheer you',\n",
       "       'hi baby ive just got back from work and i wa wanting to see u allday i hope i didnt piss u off on the phone today if u are up give me a call xxx',\n",
       "       ...,\n",
       "       'you will be receiving this week s triple echo ringtone shortly enjoy it',\n",
       "       'we re done', 'did you stitch his trouser'], dtype=object)"
      ]
     },
     "execution_count": 606,
     "metadata": {},
     "output_type": "execute_result"
    }
   ],
   "source": [
    "X_train_2"
   ]
  },
  {
   "cell_type": "code",
   "execution_count": 607,
   "metadata": {},
   "outputs": [
    {
     "data": {
      "text/plain": [
       "array(['think go finn come',\n",
       "       'yeah got v apologet n fallen actin like spoilt child got caught till go badli cheer',\n",
       "       'hi babi ive got back work want see u allday hope didnt piss u phone today u give call xxx',\n",
       "       ..., 'receiv week tripl echo rington shortli enjoy', 'done',\n",
       "       'stitch trouser'], dtype=object)"
      ]
     },
     "execution_count": 607,
     "metadata": {},
     "output_type": "execute_result"
    }
   ],
   "source": [
    "X_train_3"
   ]
  },
  {
   "cell_type": "code",
   "execution_count": 608,
   "metadata": {},
   "outputs": [
    {
     "data": {
      "text/plain": [
       "array(['i think we re go to finn s now come',\n",
       "       'yeah he got in at and wa v apologet n had fallen out and she wa actin like spoilt child and he got caught up in that till but we won t go there not do too badli cheer you',\n",
       "       'hi babi ive just got back from work and i wa want to see u allday i hope i didnt piss u off on the phone today if u are up give me a call xxx',\n",
       "       ...,\n",
       "       'you will be receiv thi week s tripl echo rington shortli enjoy it',\n",
       "       'we re done', 'did you stitch hi trouser'], dtype=object)"
      ]
     },
     "execution_count": 608,
     "metadata": {},
     "output_type": "execute_result"
    }
   ],
   "source": [
    "X_train_4"
   ]
  },
  {
   "cell_type": "markdown",
   "metadata": {},
   "source": [
    "### **Multinomial Naive Bayes**\n",
    "\n",
    "O classificador Naive Bayes é um algoritmo de aprendizado de máquina supervisionado , comumente aplicado em casos de uso que envolvem sistemas de recomendação, classificação de texto e análise de sentimento . Por ter um bom desempenho com conjuntos de dados com alta dimensionalidade, é um classificador preferido para classificação de texto em particular.\n",
    "\n",
    "Naive Bayes (NB) também é um algoritmo de aprendizagem generativo, o que significa que modela a distribuição de pontos de dados para uma determinada classe ou categoria. Este classificador probabilístico é baseado no Teorema de Bayes , o que significa que este classificador bayesiano usa probabilidades condicionais e probabilidades anteriores para calcular as probabilidades posteriores.\n",
    "\n",
    "Os classificadores Naive Bayes funcionam de maneira diferente, pois operam sob algumas suposições principais, ganhando o título de ingênuos . Ele assume que os preditores em um modelo Naive Bayes são condicionalmente independentes ou não relacionados a qualquer outro recurso do modelo. Também pressupõe que todos os recursos contribuem igualmente para o resultado.\n",
    "\n",
    "Embora essas suposições sejam frequentemente violadas em cenários do mundo real (por exemplo, uma palavra subsequente em um e-mail depende da palavra que a precede), elas simplificam um problema de classificação, tornando-o mais tratável computacionalmente. Ou seja, agora será necessária apenas uma única probabilidade para cada variável, o que, por sua vez, facilita o cálculo do modelo. Apesar desta suposição de independência irrealista, **o algoritmo de classificação funciona bem, especialmente com amostras pequenas**.\n",
    "\n",
    "Neste tutorial, usaremos o scikit-learn para percorrer diferentes tipos de algoritmos Naive Bayes, focando principalmente em uma tarefa popular de classificação de texto (filtragem de spam) usando Multinomial Naive Bayes.\n",
    "\n",
    "**Tipos de classificadores Naïve Bayes**\n",
    "\n",
    "Não existe apenas um tipo de classificador Naïve Bayes. Os tipos mais populares diferem com base nas distribuições dos valores dos recursos. Alguns deles incluem: \n",
    "\n",
    "* Gaussian Naïve Bayes (GaussianNB) : Esta é uma variante do classificador Naïve Bayes, que é usado com distribuições gaussianas - ou seja, distribuições normais - e variáveis ​​contínuas. Este modelo é ajustado encontrando a média e o desvio padrão de cada classe. \n",
    "* Multinomial Naïve Bayes (MultinomialNB) : Este tipo de classificador Naïve Bayes assume que os recursos são de distribuições multinomiais. Essa variante é útil ao usar dados discretos, como contagens de frequência, e normalmente é aplicada em casos de uso de processamento de linguagem natural, como classificação de spam. \n",
    "* Bernoulli Naïve Bayes (BernoulliNB) : Esta é outra variante do classificador Naïve Bayes, que é usado com variáveis ​​booleanas - ou seja, variáveis ​​com dois valores, como True e False ou 1 e 0. \n",
    "\n",
    "\n",
    "[Classifying data using the Multinomial Naive Bayes algorithm](https://developer.ibm.com/tutorials/awb-classifying-data-multinomial-naive-bayes-algorithm/)\n",
    "\n",
    "[What are Naïve Bayes classifiers?](https://www.ibm.com/topics/naive-bayes)"
   ]
  },
  {
   "cell_type": "markdown",
   "metadata": {},
   "source": [
    "### **Bag-of-Words**\n",
    "\n",
    "O modelo bag-of-words é comumente usado para gera uma contagem de frequência de cada palavra de um determinado texto.\n",
    "\n",
    "O modelo bag-of-words é uma forma de representar dados de texto para algoritmos de aprendizado de máquina. Algoritmos de aprendizado de máquina não podem trabalhar diretamente com texto bruto; o texto deve ser convertido em números (vetoriais) de comprimento fixo bem definidos.\n",
    "\n",
    "O modelo bag-of-words envolve duas coisas:\n",
    "* Um vocabulário de palavras conhecidas.\n",
    "* Uma medida da presença de palavras conhecidas.\n",
    "\n",
    "É chamado de bag-of-words, porque qualquer informação sobre a ordem ou estrutura das palavras no documento é descartada. O modelo se preocupa apenas em saber se as palavras conhecidas ocorrem no documento, e não em que parte do documento. A complexidade vem tanto na decisão de como projetar o vocabulário de palavras conhecidas (ou tokens) e como pontuar a presença de palavras conhecidas.\n",
    "\n",
    "**CountVectorizer**: é uma classe do scikit-learn que transforma uma coleção de documentos de texto em uma matriz numérica de contagens de palavras ou tokens. Esta implementação produz uma representação esparsa das contagens. \n",
    "\n",
    "Esta classe possui vários parâmetros que também podem auxiliar em tarefas de pré-processamento de texto, como:\n",
    "* remoção de stop word\n",
    "* limites de contagem de palavras (ou seja, máximos e mínimos)\n",
    "* limites de vocabulário\n",
    "* criação de n-gramas e muito mais.\n",
    "\n",
    "**TfidfVectorizer**: converte uma coleção de documentos brutos em uma matriz de recursos do TF-IDF.\n",
    "\n",
    "[Using CountVectorizer for NLP feature extraction](https://www.ibm.com/reference/python/countvectorizer#:~:text=CountVectorizer%20is%20a%20class%20in,of%20word%20or%20token%20counts.)"
   ]
  },
  {
   "cell_type": "code",
   "execution_count": 609,
   "metadata": {},
   "outputs": [],
   "source": [
    "# O CountVectorizer \n",
    "# Converte uma coleção de documentos de texto em uma matriz de contagens de tokens. Por padrão, ele converterá seu texto para letras minúsculas e usará a codificação utf-8.\n",
    "# Produz uma matriz esparsa das contagens a partir do conjunto de dados.\n",
    "# Se você não fornecer um dicionário a priori e não usar um analisador que faça algum tipo de seleção de recursos, o número de recursos será igual ao tamanho do vocabulário encontrado na análise dos dados.\n",
    "\n",
    "vectorizer = CountVectorizer()\n",
    "\n",
    "X_train_1_count = vectorizer.fit_transform(X_train_1)\n",
    "X_test_1_count = vectorizer.transform(X_test_1)\n",
    "\n",
    "X_train_2_count = vectorizer.fit_transform(X_train_2)\n",
    "X_test_2_count = vectorizer.transform(X_test_2)\n",
    "\n",
    "X_train_3_count = vectorizer.fit_transform(X_train_3)\n",
    "X_test_3_count = vectorizer.transform(X_test_3)\n",
    "\n",
    "X_train_4_count = vectorizer.fit_transform(X_train_4)\n",
    "X_test_4_count = vectorizer.transform(X_test_4)"
   ]
  },
  {
   "cell_type": "code",
   "execution_count": 610,
   "metadata": {},
   "outputs": [],
   "source": [
    "tfidf = TfidfVectorizer() \n",
    "\n",
    "X_train_1_tfidf = tfidf.fit_transform(X_train_1)\n",
    "X_test_1_tfidf= tfidf.transform(X_test_1)\n",
    "\n",
    "X_train_2_tfidf = tfidf.fit_transform(X_train_2)\n",
    "X_test_2_tfidf= tfidf.transform(X_test_2)\n",
    "\n",
    "X_train_3_tfidf = tfidf.fit_transform(X_train_3)\n",
    "X_test_3_tfidf= tfidf.transform(X_test_3)\n",
    "\n",
    "X_train_4_tfidf = tfidf.fit_transform(X_train_4)\n",
    "X_test_4_tfidf= tfidf.transform(X_test_4)"
   ]
  },
  {
   "cell_type": "code",
   "execution_count": 611,
   "metadata": {},
   "outputs": [
    {
     "data": {
      "text/html": [
       "<div>\n",
       "<style scoped>\n",
       "    .dataframe tbody tr th:only-of-type {\n",
       "        vertical-align: middle;\n",
       "    }\n",
       "\n",
       "    .dataframe tbody tr th {\n",
       "        vertical-align: top;\n",
       "    }\n",
       "\n",
       "    .dataframe thead th {\n",
       "        text-align: right;\n",
       "    }\n",
       "</style>\n",
       "<table border=\"1\" class=\"dataframe\">\n",
       "  <thead>\n",
       "    <tr style=\"text-align: right;\">\n",
       "      <th></th>\n",
       "      <th>aa</th>\n",
       "      <th>aah</th>\n",
       "      <th>aaooooright</th>\n",
       "      <th>aathi</th>\n",
       "      <th>abdomen</th>\n",
       "      <th>abeg</th>\n",
       "      <th>aberdeen</th>\n",
       "      <th>abi</th>\n",
       "      <th>abil</th>\n",
       "      <th>abiola</th>\n",
       "      <th>...</th>\n",
       "      <th>zero</th>\n",
       "      <th>zf</th>\n",
       "      <th>zhong</th>\n",
       "      <th>zindgi</th>\n",
       "      <th>zoe</th>\n",
       "      <th>zogtoriu</th>\n",
       "      <th>zoom</th>\n",
       "      <th>zouk</th>\n",
       "      <th>zyada</th>\n",
       "      <th>èn</th>\n",
       "    </tr>\n",
       "  </thead>\n",
       "  <tbody>\n",
       "    <tr>\n",
       "      <th>0</th>\n",
       "      <td>0</td>\n",
       "      <td>0</td>\n",
       "      <td>0</td>\n",
       "      <td>0</td>\n",
       "      <td>0</td>\n",
       "      <td>0</td>\n",
       "      <td>0</td>\n",
       "      <td>0</td>\n",
       "      <td>0</td>\n",
       "      <td>0</td>\n",
       "      <td>...</td>\n",
       "      <td>0</td>\n",
       "      <td>0</td>\n",
       "      <td>0</td>\n",
       "      <td>0</td>\n",
       "      <td>0</td>\n",
       "      <td>0</td>\n",
       "      <td>0</td>\n",
       "      <td>0</td>\n",
       "      <td>0</td>\n",
       "      <td>0</td>\n",
       "    </tr>\n",
       "    <tr>\n",
       "      <th>1</th>\n",
       "      <td>0</td>\n",
       "      <td>0</td>\n",
       "      <td>0</td>\n",
       "      <td>0</td>\n",
       "      <td>0</td>\n",
       "      <td>0</td>\n",
       "      <td>0</td>\n",
       "      <td>0</td>\n",
       "      <td>0</td>\n",
       "      <td>0</td>\n",
       "      <td>...</td>\n",
       "      <td>0</td>\n",
       "      <td>0</td>\n",
       "      <td>0</td>\n",
       "      <td>0</td>\n",
       "      <td>0</td>\n",
       "      <td>0</td>\n",
       "      <td>0</td>\n",
       "      <td>0</td>\n",
       "      <td>0</td>\n",
       "      <td>0</td>\n",
       "    </tr>\n",
       "    <tr>\n",
       "      <th>2</th>\n",
       "      <td>0</td>\n",
       "      <td>0</td>\n",
       "      <td>0</td>\n",
       "      <td>0</td>\n",
       "      <td>0</td>\n",
       "      <td>0</td>\n",
       "      <td>0</td>\n",
       "      <td>0</td>\n",
       "      <td>0</td>\n",
       "      <td>0</td>\n",
       "      <td>...</td>\n",
       "      <td>0</td>\n",
       "      <td>0</td>\n",
       "      <td>0</td>\n",
       "      <td>0</td>\n",
       "      <td>0</td>\n",
       "      <td>0</td>\n",
       "      <td>0</td>\n",
       "      <td>0</td>\n",
       "      <td>0</td>\n",
       "      <td>0</td>\n",
       "    </tr>\n",
       "    <tr>\n",
       "      <th>3</th>\n",
       "      <td>0</td>\n",
       "      <td>0</td>\n",
       "      <td>0</td>\n",
       "      <td>0</td>\n",
       "      <td>0</td>\n",
       "      <td>0</td>\n",
       "      <td>0</td>\n",
       "      <td>0</td>\n",
       "      <td>0</td>\n",
       "      <td>0</td>\n",
       "      <td>...</td>\n",
       "      <td>0</td>\n",
       "      <td>0</td>\n",
       "      <td>0</td>\n",
       "      <td>0</td>\n",
       "      <td>0</td>\n",
       "      <td>0</td>\n",
       "      <td>0</td>\n",
       "      <td>0</td>\n",
       "      <td>0</td>\n",
       "      <td>0</td>\n",
       "    </tr>\n",
       "    <tr>\n",
       "      <th>4</th>\n",
       "      <td>0</td>\n",
       "      <td>0</td>\n",
       "      <td>0</td>\n",
       "      <td>0</td>\n",
       "      <td>0</td>\n",
       "      <td>0</td>\n",
       "      <td>0</td>\n",
       "      <td>0</td>\n",
       "      <td>0</td>\n",
       "      <td>0</td>\n",
       "      <td>...</td>\n",
       "      <td>0</td>\n",
       "      <td>0</td>\n",
       "      <td>0</td>\n",
       "      <td>0</td>\n",
       "      <td>0</td>\n",
       "      <td>0</td>\n",
       "      <td>0</td>\n",
       "      <td>0</td>\n",
       "      <td>0</td>\n",
       "      <td>0</td>\n",
       "    </tr>\n",
       "    <tr>\n",
       "      <th>...</th>\n",
       "      <td>...</td>\n",
       "      <td>...</td>\n",
       "      <td>...</td>\n",
       "      <td>...</td>\n",
       "      <td>...</td>\n",
       "      <td>...</td>\n",
       "      <td>...</td>\n",
       "      <td>...</td>\n",
       "      <td>...</td>\n",
       "      <td>...</td>\n",
       "      <td>...</td>\n",
       "      <td>...</td>\n",
       "      <td>...</td>\n",
       "      <td>...</td>\n",
       "      <td>...</td>\n",
       "      <td>...</td>\n",
       "      <td>...</td>\n",
       "      <td>...</td>\n",
       "      <td>...</td>\n",
       "      <td>...</td>\n",
       "      <td>...</td>\n",
       "    </tr>\n",
       "    <tr>\n",
       "      <th>3613</th>\n",
       "      <td>0</td>\n",
       "      <td>0</td>\n",
       "      <td>0</td>\n",
       "      <td>0</td>\n",
       "      <td>0</td>\n",
       "      <td>0</td>\n",
       "      <td>0</td>\n",
       "      <td>0</td>\n",
       "      <td>0</td>\n",
       "      <td>0</td>\n",
       "      <td>...</td>\n",
       "      <td>0</td>\n",
       "      <td>0</td>\n",
       "      <td>0</td>\n",
       "      <td>0</td>\n",
       "      <td>0</td>\n",
       "      <td>0</td>\n",
       "      <td>0</td>\n",
       "      <td>0</td>\n",
       "      <td>0</td>\n",
       "      <td>0</td>\n",
       "    </tr>\n",
       "    <tr>\n",
       "      <th>3614</th>\n",
       "      <td>0</td>\n",
       "      <td>0</td>\n",
       "      <td>0</td>\n",
       "      <td>0</td>\n",
       "      <td>0</td>\n",
       "      <td>0</td>\n",
       "      <td>0</td>\n",
       "      <td>0</td>\n",
       "      <td>0</td>\n",
       "      <td>0</td>\n",
       "      <td>...</td>\n",
       "      <td>0</td>\n",
       "      <td>0</td>\n",
       "      <td>0</td>\n",
       "      <td>0</td>\n",
       "      <td>0</td>\n",
       "      <td>0</td>\n",
       "      <td>0</td>\n",
       "      <td>0</td>\n",
       "      <td>0</td>\n",
       "      <td>0</td>\n",
       "    </tr>\n",
       "    <tr>\n",
       "      <th>3615</th>\n",
       "      <td>0</td>\n",
       "      <td>0</td>\n",
       "      <td>0</td>\n",
       "      <td>0</td>\n",
       "      <td>0</td>\n",
       "      <td>0</td>\n",
       "      <td>0</td>\n",
       "      <td>0</td>\n",
       "      <td>0</td>\n",
       "      <td>0</td>\n",
       "      <td>...</td>\n",
       "      <td>0</td>\n",
       "      <td>0</td>\n",
       "      <td>0</td>\n",
       "      <td>0</td>\n",
       "      <td>0</td>\n",
       "      <td>0</td>\n",
       "      <td>0</td>\n",
       "      <td>0</td>\n",
       "      <td>0</td>\n",
       "      <td>0</td>\n",
       "    </tr>\n",
       "    <tr>\n",
       "      <th>3616</th>\n",
       "      <td>0</td>\n",
       "      <td>0</td>\n",
       "      <td>0</td>\n",
       "      <td>0</td>\n",
       "      <td>0</td>\n",
       "      <td>0</td>\n",
       "      <td>0</td>\n",
       "      <td>0</td>\n",
       "      <td>0</td>\n",
       "      <td>0</td>\n",
       "      <td>...</td>\n",
       "      <td>0</td>\n",
       "      <td>0</td>\n",
       "      <td>0</td>\n",
       "      <td>0</td>\n",
       "      <td>0</td>\n",
       "      <td>0</td>\n",
       "      <td>0</td>\n",
       "      <td>0</td>\n",
       "      <td>0</td>\n",
       "      <td>0</td>\n",
       "    </tr>\n",
       "    <tr>\n",
       "      <th>3617</th>\n",
       "      <td>0</td>\n",
       "      <td>0</td>\n",
       "      <td>0</td>\n",
       "      <td>0</td>\n",
       "      <td>0</td>\n",
       "      <td>0</td>\n",
       "      <td>0</td>\n",
       "      <td>0</td>\n",
       "      <td>0</td>\n",
       "      <td>0</td>\n",
       "      <td>...</td>\n",
       "      <td>0</td>\n",
       "      <td>0</td>\n",
       "      <td>0</td>\n",
       "      <td>0</td>\n",
       "      <td>0</td>\n",
       "      <td>0</td>\n",
       "      <td>0</td>\n",
       "      <td>0</td>\n",
       "      <td>0</td>\n",
       "      <td>0</td>\n",
       "    </tr>\n",
       "  </tbody>\n",
       "</table>\n",
       "<p>3618 rows × 5243 columns</p>\n",
       "</div>"
      ],
      "text/plain": [
       "      aa  aah  aaooooright  aathi  abdomen  abeg  aberdeen  abi  abil  abiola  \\\n",
       "0      0    0            0      0        0     0         0    0     0       0   \n",
       "1      0    0            0      0        0     0         0    0     0       0   \n",
       "2      0    0            0      0        0     0         0    0     0       0   \n",
       "3      0    0            0      0        0     0         0    0     0       0   \n",
       "4      0    0            0      0        0     0         0    0     0       0   \n",
       "...   ..  ...          ...    ...      ...   ...       ...  ...   ...     ...   \n",
       "3613   0    0            0      0        0     0         0    0     0       0   \n",
       "3614   0    0            0      0        0     0         0    0     0       0   \n",
       "3615   0    0            0      0        0     0         0    0     0       0   \n",
       "3616   0    0            0      0        0     0         0    0     0       0   \n",
       "3617   0    0            0      0        0     0         0    0     0       0   \n",
       "\n",
       "      ...  zero  zf  zhong  zindgi  zoe  zogtoriu  zoom  zouk  zyada  èn  \n",
       "0     ...     0   0      0       0    0         0     0     0      0   0  \n",
       "1     ...     0   0      0       0    0         0     0     0      0   0  \n",
       "2     ...     0   0      0       0    0         0     0     0      0   0  \n",
       "3     ...     0   0      0       0    0         0     0     0      0   0  \n",
       "4     ...     0   0      0       0    0         0     0     0      0   0  \n",
       "...   ...   ...  ..    ...     ...  ...       ...   ...   ...    ...  ..  \n",
       "3613  ...     0   0      0       0    0         0     0     0      0   0  \n",
       "3614  ...     0   0      0       0    0         0     0     0      0   0  \n",
       "3615  ...     0   0      0       0    0         0     0     0      0   0  \n",
       "3616  ...     0   0      0       0    0         0     0     0      0   0  \n",
       "3617  ...     0   0      0       0    0         0     0     0      0   0  \n",
       "\n",
       "[3618 rows x 5243 columns]"
      ]
     },
     "execution_count": 611,
     "metadata": {},
     "output_type": "execute_result"
    }
   ],
   "source": [
    "pd.DataFrame(data=X_train_4_count.toarray(), columns=vectorizer.get_feature_names_out())"
   ]
  },
  {
   "cell_type": "code",
   "execution_count": 612,
   "metadata": {},
   "outputs": [
    {
     "data": {
      "text/html": [
       "<div>\n",
       "<style scoped>\n",
       "    .dataframe tbody tr th:only-of-type {\n",
       "        vertical-align: middle;\n",
       "    }\n",
       "\n",
       "    .dataframe tbody tr th {\n",
       "        vertical-align: top;\n",
       "    }\n",
       "\n",
       "    .dataframe thead th {\n",
       "        text-align: right;\n",
       "    }\n",
       "</style>\n",
       "<table border=\"1\" class=\"dataframe\">\n",
       "  <thead>\n",
       "    <tr style=\"text-align: right;\">\n",
       "      <th></th>\n",
       "      <th>aa</th>\n",
       "      <th>aah</th>\n",
       "      <th>aaooooright</th>\n",
       "      <th>aathi</th>\n",
       "      <th>abdomen</th>\n",
       "      <th>abeg</th>\n",
       "      <th>aberdeen</th>\n",
       "      <th>abi</th>\n",
       "      <th>abil</th>\n",
       "      <th>abiola</th>\n",
       "      <th>...</th>\n",
       "      <th>zero</th>\n",
       "      <th>zf</th>\n",
       "      <th>zhong</th>\n",
       "      <th>zindgi</th>\n",
       "      <th>zoe</th>\n",
       "      <th>zogtoriu</th>\n",
       "      <th>zoom</th>\n",
       "      <th>zouk</th>\n",
       "      <th>zyada</th>\n",
       "      <th>èn</th>\n",
       "    </tr>\n",
       "  </thead>\n",
       "  <tbody>\n",
       "    <tr>\n",
       "      <th>0</th>\n",
       "      <td>0.0</td>\n",
       "      <td>0.0</td>\n",
       "      <td>0.0</td>\n",
       "      <td>0.0</td>\n",
       "      <td>0.0</td>\n",
       "      <td>0.0</td>\n",
       "      <td>0.0</td>\n",
       "      <td>0.0</td>\n",
       "      <td>0.0</td>\n",
       "      <td>0.0</td>\n",
       "      <td>...</td>\n",
       "      <td>0.0</td>\n",
       "      <td>0.0</td>\n",
       "      <td>0.0</td>\n",
       "      <td>0.0</td>\n",
       "      <td>0.0</td>\n",
       "      <td>0.0</td>\n",
       "      <td>0.0</td>\n",
       "      <td>0.0</td>\n",
       "      <td>0.0</td>\n",
       "      <td>0.0</td>\n",
       "    </tr>\n",
       "    <tr>\n",
       "      <th>1</th>\n",
       "      <td>0.0</td>\n",
       "      <td>0.0</td>\n",
       "      <td>0.0</td>\n",
       "      <td>0.0</td>\n",
       "      <td>0.0</td>\n",
       "      <td>0.0</td>\n",
       "      <td>0.0</td>\n",
       "      <td>0.0</td>\n",
       "      <td>0.0</td>\n",
       "      <td>0.0</td>\n",
       "      <td>...</td>\n",
       "      <td>0.0</td>\n",
       "      <td>0.0</td>\n",
       "      <td>0.0</td>\n",
       "      <td>0.0</td>\n",
       "      <td>0.0</td>\n",
       "      <td>0.0</td>\n",
       "      <td>0.0</td>\n",
       "      <td>0.0</td>\n",
       "      <td>0.0</td>\n",
       "      <td>0.0</td>\n",
       "    </tr>\n",
       "    <tr>\n",
       "      <th>2</th>\n",
       "      <td>0.0</td>\n",
       "      <td>0.0</td>\n",
       "      <td>0.0</td>\n",
       "      <td>0.0</td>\n",
       "      <td>0.0</td>\n",
       "      <td>0.0</td>\n",
       "      <td>0.0</td>\n",
       "      <td>0.0</td>\n",
       "      <td>0.0</td>\n",
       "      <td>0.0</td>\n",
       "      <td>...</td>\n",
       "      <td>0.0</td>\n",
       "      <td>0.0</td>\n",
       "      <td>0.0</td>\n",
       "      <td>0.0</td>\n",
       "      <td>0.0</td>\n",
       "      <td>0.0</td>\n",
       "      <td>0.0</td>\n",
       "      <td>0.0</td>\n",
       "      <td>0.0</td>\n",
       "      <td>0.0</td>\n",
       "    </tr>\n",
       "    <tr>\n",
       "      <th>3</th>\n",
       "      <td>0.0</td>\n",
       "      <td>0.0</td>\n",
       "      <td>0.0</td>\n",
       "      <td>0.0</td>\n",
       "      <td>0.0</td>\n",
       "      <td>0.0</td>\n",
       "      <td>0.0</td>\n",
       "      <td>0.0</td>\n",
       "      <td>0.0</td>\n",
       "      <td>0.0</td>\n",
       "      <td>...</td>\n",
       "      <td>0.0</td>\n",
       "      <td>0.0</td>\n",
       "      <td>0.0</td>\n",
       "      <td>0.0</td>\n",
       "      <td>0.0</td>\n",
       "      <td>0.0</td>\n",
       "      <td>0.0</td>\n",
       "      <td>0.0</td>\n",
       "      <td>0.0</td>\n",
       "      <td>0.0</td>\n",
       "    </tr>\n",
       "    <tr>\n",
       "      <th>4</th>\n",
       "      <td>0.0</td>\n",
       "      <td>0.0</td>\n",
       "      <td>0.0</td>\n",
       "      <td>0.0</td>\n",
       "      <td>0.0</td>\n",
       "      <td>0.0</td>\n",
       "      <td>0.0</td>\n",
       "      <td>0.0</td>\n",
       "      <td>0.0</td>\n",
       "      <td>0.0</td>\n",
       "      <td>...</td>\n",
       "      <td>0.0</td>\n",
       "      <td>0.0</td>\n",
       "      <td>0.0</td>\n",
       "      <td>0.0</td>\n",
       "      <td>0.0</td>\n",
       "      <td>0.0</td>\n",
       "      <td>0.0</td>\n",
       "      <td>0.0</td>\n",
       "      <td>0.0</td>\n",
       "      <td>0.0</td>\n",
       "    </tr>\n",
       "    <tr>\n",
       "      <th>...</th>\n",
       "      <td>...</td>\n",
       "      <td>...</td>\n",
       "      <td>...</td>\n",
       "      <td>...</td>\n",
       "      <td>...</td>\n",
       "      <td>...</td>\n",
       "      <td>...</td>\n",
       "      <td>...</td>\n",
       "      <td>...</td>\n",
       "      <td>...</td>\n",
       "      <td>...</td>\n",
       "      <td>...</td>\n",
       "      <td>...</td>\n",
       "      <td>...</td>\n",
       "      <td>...</td>\n",
       "      <td>...</td>\n",
       "      <td>...</td>\n",
       "      <td>...</td>\n",
       "      <td>...</td>\n",
       "      <td>...</td>\n",
       "      <td>...</td>\n",
       "    </tr>\n",
       "    <tr>\n",
       "      <th>3613</th>\n",
       "      <td>0.0</td>\n",
       "      <td>0.0</td>\n",
       "      <td>0.0</td>\n",
       "      <td>0.0</td>\n",
       "      <td>0.0</td>\n",
       "      <td>0.0</td>\n",
       "      <td>0.0</td>\n",
       "      <td>0.0</td>\n",
       "      <td>0.0</td>\n",
       "      <td>0.0</td>\n",
       "      <td>...</td>\n",
       "      <td>0.0</td>\n",
       "      <td>0.0</td>\n",
       "      <td>0.0</td>\n",
       "      <td>0.0</td>\n",
       "      <td>0.0</td>\n",
       "      <td>0.0</td>\n",
       "      <td>0.0</td>\n",
       "      <td>0.0</td>\n",
       "      <td>0.0</td>\n",
       "      <td>0.0</td>\n",
       "    </tr>\n",
       "    <tr>\n",
       "      <th>3614</th>\n",
       "      <td>0.0</td>\n",
       "      <td>0.0</td>\n",
       "      <td>0.0</td>\n",
       "      <td>0.0</td>\n",
       "      <td>0.0</td>\n",
       "      <td>0.0</td>\n",
       "      <td>0.0</td>\n",
       "      <td>0.0</td>\n",
       "      <td>0.0</td>\n",
       "      <td>0.0</td>\n",
       "      <td>...</td>\n",
       "      <td>0.0</td>\n",
       "      <td>0.0</td>\n",
       "      <td>0.0</td>\n",
       "      <td>0.0</td>\n",
       "      <td>0.0</td>\n",
       "      <td>0.0</td>\n",
       "      <td>0.0</td>\n",
       "      <td>0.0</td>\n",
       "      <td>0.0</td>\n",
       "      <td>0.0</td>\n",
       "    </tr>\n",
       "    <tr>\n",
       "      <th>3615</th>\n",
       "      <td>0.0</td>\n",
       "      <td>0.0</td>\n",
       "      <td>0.0</td>\n",
       "      <td>0.0</td>\n",
       "      <td>0.0</td>\n",
       "      <td>0.0</td>\n",
       "      <td>0.0</td>\n",
       "      <td>0.0</td>\n",
       "      <td>0.0</td>\n",
       "      <td>0.0</td>\n",
       "      <td>...</td>\n",
       "      <td>0.0</td>\n",
       "      <td>0.0</td>\n",
       "      <td>0.0</td>\n",
       "      <td>0.0</td>\n",
       "      <td>0.0</td>\n",
       "      <td>0.0</td>\n",
       "      <td>0.0</td>\n",
       "      <td>0.0</td>\n",
       "      <td>0.0</td>\n",
       "      <td>0.0</td>\n",
       "    </tr>\n",
       "    <tr>\n",
       "      <th>3616</th>\n",
       "      <td>0.0</td>\n",
       "      <td>0.0</td>\n",
       "      <td>0.0</td>\n",
       "      <td>0.0</td>\n",
       "      <td>0.0</td>\n",
       "      <td>0.0</td>\n",
       "      <td>0.0</td>\n",
       "      <td>0.0</td>\n",
       "      <td>0.0</td>\n",
       "      <td>0.0</td>\n",
       "      <td>...</td>\n",
       "      <td>0.0</td>\n",
       "      <td>0.0</td>\n",
       "      <td>0.0</td>\n",
       "      <td>0.0</td>\n",
       "      <td>0.0</td>\n",
       "      <td>0.0</td>\n",
       "      <td>0.0</td>\n",
       "      <td>0.0</td>\n",
       "      <td>0.0</td>\n",
       "      <td>0.0</td>\n",
       "    </tr>\n",
       "    <tr>\n",
       "      <th>3617</th>\n",
       "      <td>0.0</td>\n",
       "      <td>0.0</td>\n",
       "      <td>0.0</td>\n",
       "      <td>0.0</td>\n",
       "      <td>0.0</td>\n",
       "      <td>0.0</td>\n",
       "      <td>0.0</td>\n",
       "      <td>0.0</td>\n",
       "      <td>0.0</td>\n",
       "      <td>0.0</td>\n",
       "      <td>...</td>\n",
       "      <td>0.0</td>\n",
       "      <td>0.0</td>\n",
       "      <td>0.0</td>\n",
       "      <td>0.0</td>\n",
       "      <td>0.0</td>\n",
       "      <td>0.0</td>\n",
       "      <td>0.0</td>\n",
       "      <td>0.0</td>\n",
       "      <td>0.0</td>\n",
       "      <td>0.0</td>\n",
       "    </tr>\n",
       "  </tbody>\n",
       "</table>\n",
       "<p>3618 rows × 5243 columns</p>\n",
       "</div>"
      ],
      "text/plain": [
       "       aa  aah  aaooooright  aathi  abdomen  abeg  aberdeen  abi  abil  \\\n",
       "0     0.0  0.0          0.0    0.0      0.0   0.0       0.0  0.0   0.0   \n",
       "1     0.0  0.0          0.0    0.0      0.0   0.0       0.0  0.0   0.0   \n",
       "2     0.0  0.0          0.0    0.0      0.0   0.0       0.0  0.0   0.0   \n",
       "3     0.0  0.0          0.0    0.0      0.0   0.0       0.0  0.0   0.0   \n",
       "4     0.0  0.0          0.0    0.0      0.0   0.0       0.0  0.0   0.0   \n",
       "...   ...  ...          ...    ...      ...   ...       ...  ...   ...   \n",
       "3613  0.0  0.0          0.0    0.0      0.0   0.0       0.0  0.0   0.0   \n",
       "3614  0.0  0.0          0.0    0.0      0.0   0.0       0.0  0.0   0.0   \n",
       "3615  0.0  0.0          0.0    0.0      0.0   0.0       0.0  0.0   0.0   \n",
       "3616  0.0  0.0          0.0    0.0      0.0   0.0       0.0  0.0   0.0   \n",
       "3617  0.0  0.0          0.0    0.0      0.0   0.0       0.0  0.0   0.0   \n",
       "\n",
       "      abiola  ...  zero   zf  zhong  zindgi  zoe  zogtoriu  zoom  zouk  zyada  \\\n",
       "0        0.0  ...   0.0  0.0    0.0     0.0  0.0       0.0   0.0   0.0    0.0   \n",
       "1        0.0  ...   0.0  0.0    0.0     0.0  0.0       0.0   0.0   0.0    0.0   \n",
       "2        0.0  ...   0.0  0.0    0.0     0.0  0.0       0.0   0.0   0.0    0.0   \n",
       "3        0.0  ...   0.0  0.0    0.0     0.0  0.0       0.0   0.0   0.0    0.0   \n",
       "4        0.0  ...   0.0  0.0    0.0     0.0  0.0       0.0   0.0   0.0    0.0   \n",
       "...      ...  ...   ...  ...    ...     ...  ...       ...   ...   ...    ...   \n",
       "3613     0.0  ...   0.0  0.0    0.0     0.0  0.0       0.0   0.0   0.0    0.0   \n",
       "3614     0.0  ...   0.0  0.0    0.0     0.0  0.0       0.0   0.0   0.0    0.0   \n",
       "3615     0.0  ...   0.0  0.0    0.0     0.0  0.0       0.0   0.0   0.0    0.0   \n",
       "3616     0.0  ...   0.0  0.0    0.0     0.0  0.0       0.0   0.0   0.0    0.0   \n",
       "3617     0.0  ...   0.0  0.0    0.0     0.0  0.0       0.0   0.0   0.0    0.0   \n",
       "\n",
       "       èn  \n",
       "0     0.0  \n",
       "1     0.0  \n",
       "2     0.0  \n",
       "3     0.0  \n",
       "4     0.0  \n",
       "...   ...  \n",
       "3613  0.0  \n",
       "3614  0.0  \n",
       "3615  0.0  \n",
       "3616  0.0  \n",
       "3617  0.0  \n",
       "\n",
       "[3618 rows x 5243 columns]"
      ]
     },
     "execution_count": 612,
     "metadata": {},
     "output_type": "execute_result"
    }
   ],
   "source": [
    "pd.DataFrame(data=X_train_4_tfidf.toarray(), columns=tfidf.get_feature_names_out())"
   ]
  },
  {
   "cell_type": "markdown",
   "metadata": {},
   "source": [
    "#### **Métricas de Avaliação**\n",
    "\n",
    "\n",
    "* **Balanced_Accuracy**: Mede a proporção de previsões corretas feitas pelo modelo. É uma métrica para lidar com conjuntos de dados desbalanceados. Faz o cálculo da acurácia de forma balanceada. \n",
    "\n",
    "* **Precision**: Mede a proporção de previsões positivas feitas pelo modelo que estão corretas. Essa métrica ajudará a minimizar o número de falsos positivos (ou seja, o número de textos não-spam que acabam em spam).\n",
    "\n",
    "* **Recall (Sensibilidade)**: Mede a proporção de exemplos positivos que foram corretamente identificados pelo modelo. Essa métrica ajudará a minimizar o número de falsos negativos (ou seja, o número de textos spam que acabam em não-spam).\n",
    "\n",
    "* **F1-Score**: É a média harmônica entre a Precisão e o Recall e fornece um equilíbrio entre essas duas métricas. Ele é útil quando você deseja levar em consideração tanto os falsos positivos quanto os falsos negativos.\n",
    "\n",
    "verdadeiro positivo: quando o paciente tem uma doença e o teste classifica como doente\n",
    "                     uma pessoa realmente grávida (positivo) e classificada como grávida (positivo)\n",
    "\n",
    "verdadeiro negativo: quando o paciente não tem a doença e o teste classifica como não doente\n",
    "                     uma pessoa que realmente não está grávida (negativo) e é classificada como não grávida (negativo).\n",
    "\n",
    "falsos positivos:    quando o paciente não tem a doença mas o teste acusa que tem\n",
    "                     uma pessoa que realmente não está grávida (negativo) e é classificada como grávida (positivo)\n",
    "\n",
    "falsos negativos:    quando o paciente tem a doença mas o resultado acusa que não tem.\n",
    "                     uma pessoa realmente grávida (positivo) e é classificada como não grávida (negativo)"
   ]
  },
  {
   "cell_type": "code",
   "execution_count": 613,
   "metadata": {},
   "outputs": [],
   "source": [
    "# Levando em conta que os dados estão desbalanceados, as duas métricas escolhidas foram a balanced_accuracy_score e f1_score\n",
    "# balanced_accuracy_score é uma métrica de acurácia para lidar com dados desbalanceados\n",
    "# O f1-score weighted é uma escolha apropriada para dados desbalanceados porque pondera a contribuição de cada classe com base no número de exemplos dessa classe. \n",
    "# Isso significa que o F1-score de classes maiores terá mais influência no valor final.\n",
    "\n",
    "def evaluate_model(real, predictions):\n",
    "    accuracy = balanced_accuracy_score(real, predictions)\n",
    "    f1score = f1_score(real, predictions, average=\"weighted\") \n",
    "\n",
    "    print(f\"Balanced_Accuracy: {round(accuracy,2)*100}% F1-Score: {round(f1score,2)*100}%\")"
   ]
  },
  {
   "cell_type": "markdown",
   "metadata": {},
   "source": [
    "#### **Modelo**"
   ]
  },
  {
   "cell_type": "code",
   "execution_count": 614,
   "metadata": {},
   "outputs": [],
   "source": [
    "def model(X_train, y_train):\n",
    "    kf = StratifiedKFold(n_splits=5)\n",
    "\n",
    "    # Definição do Modelo\n",
    "    base_model = MultinomialNB()\n",
    "\n",
    "    # Instancia o Classificador para Definir o Limite de Decisão (Threshold)\n",
    "    # O TunedThresholdClassifierCV é um classificador que pós-ajusta o limite de decisão usando validação cruzada.\n",
    "    # Este estimador pós-ajusta o limite de decisão (ponto de corte) que é usado para converter estimativas de probabilidade posteriores (ou seja, saída de predict_proba) \n",
    "    # ou pontuações de decisão (ou seja, saída de decision_function) em um rótulo de classe. O ajuste é feito otimizando uma métrica binária, potencialmente restringida por outra métrica.\n",
    "    model_tuned = TunedThresholdClassifierCV(base_model, scoring='balanced_accuracy') \n",
    "\n",
    "    # Validação Cruzada: Auxilia na comparação de diferentes modelos e hiperparâmetros de maneira justa, fornecendo uma estimativa mais robusta da performance do modelo.\n",
    "    scores = cross_val_score(model_tuned, X_train, y_train, cv=kf, scoring='balanced_accuracy', n_jobs=-1)   \n",
    "    print(\"Média: {} Desvio Padrão: {}\".format(round(scores.mean(), 2), round(scores.std(),3)))\n",
    "\n",
    "    # Treina o Modelo e Ajusta o Limite de Decisão\n",
    "    model_tuned.fit(X_train, y_train)\n",
    "    print(f'Threshold {model_tuned.best_threshold_:.3f}')\n",
    "    \n",
    "    return model_tuned"
   ]
  },
  {
   "cell_type": "code",
   "execution_count": 615,
   "metadata": {},
   "outputs": [
    {
     "name": "stdout",
     "output_type": "stream",
     "text": [
      "--> Lemm + stopword removal + CountVectorizer\n",
      "Média: 0.95 Desvio Padrão: 0.01\n",
      "Threshold 0.354\n",
      "\n",
      "--> Lemm + no stopword removal + CountVectorizer\n",
      "Média: 0.95 Desvio Padrão: 0.012\n",
      "Threshold 0.545\n",
      "\n",
      "--> Stem + stopword removal + CountVectorizer\n",
      "Média: 0.95 Desvio Padrão: 0.011\n",
      "Threshold 0.434\n",
      "\n",
      "--> Stem + no stopword removal + CountVectorizer\n",
      "Média: 0.95 Desvio Padrão: 0.014\n",
      "Threshold 0.414\n"
     ]
    }
   ],
   "source": [
    "#Lemm + stopword removal \n",
    "print(\"--> Lemm + stopword removal + CountVectorizer\") \n",
    "model_count_1 = model(X_train_1_count, y_train)\n",
    "\n",
    "#Lemm + no stopword removal \n",
    "print(\"\\n--> Lemm + no stopword removal + CountVectorizer\") \n",
    "model_count_2 = model(X_train_2_count, y_train)\n",
    "\n",
    "#Stem + stopword removal \n",
    "print(\"\\n--> Stem + stopword removal + CountVectorizer\") \n",
    "model_count_3 = model(X_train_3_count, y_train)\n",
    "\n",
    "#Stem + no stopword removal \n",
    "print(\"\\n--> Stem + no stopword removal + CountVectorizer\") \n",
    "model_count_4 = model(X_train_4_count, y_train)"
   ]
  },
  {
   "cell_type": "code",
   "execution_count": 616,
   "metadata": {},
   "outputs": [
    {
     "name": "stdout",
     "output_type": "stream",
     "text": [
      "--> Lemm + stopword removal + TfidfVectorizer\n",
      "Média: 0.93 Desvio Padrão: 0.019\n",
      "Threshold 0.171\n",
      "\n",
      "--> Lemm + no stopword removal + TfidfVectorizer\n",
      "Média: 0.92 Desvio Padrão: 0.013\n",
      "Threshold 0.110\n",
      "\n",
      "--> Stem + stopword removal + TfidfVectorizer\n",
      "Média: 0.93 Desvio Padrão: 0.016\n",
      "Threshold 0.161\n",
      "\n",
      "--> Stem + no stopword removal + TfidfVectorizer\n",
      "Média: 0.92 Desvio Padrão: 0.011\n",
      "Threshold 0.110\n"
     ]
    }
   ],
   "source": [
    "#Lemm + stopword removal \n",
    "print(\"--> Lemm + stopword removal + TfidfVectorizer\") \n",
    "model_tfidf_1 = model(X_train_1_tfidf, y_train)\n",
    "\n",
    "#Lemm + no stopword removal \n",
    "print(\"\\n--> Lemm + no stopword removal + TfidfVectorizer\") \n",
    "model_tfidf_2 = model(X_train_2_tfidf, y_train)\n",
    "\n",
    "#Stem + stopword removal \n",
    "print(\"\\n--> Stem + stopword removal + TfidfVectorizer\") \n",
    "model_tfidf_3 = model(X_train_3_tfidf, y_train)\n",
    "\n",
    "#Stem + no stopword removal \n",
    "print(\"\\n--> Stem + no stopword removal + TfidfVectorizer\") \n",
    "model_tfidf_4 = model(X_train_4_tfidf, y_train)"
   ]
  },
  {
   "cell_type": "markdown",
   "metadata": {},
   "source": [
    "#### **Modelo Escolhido:** Lemm + stopword removal + CountVectorizer\n",
    "\n",
    "Escolhemos o modelo que obteve o melhor desempenho na validação cruzada, ou seja, média de balanced accuracy alto e desvio padrão baixo.\n",
    "\n",
    "Em nossas diferentes variações de modelo, descobrimos que o modelo que usa lematização, com remoção de palavras irrelevantes e CountVectorizer supera os demais modelos com uma pontuação de media de Balanced Accuracy de 95% e Desvio Padrão igual a 0.01.\n",
    "\n",
    "Depois de aplicarmos o modelo Multinomial Naive Bayes às nossas diferentes variantes com os dados de treinamento, podemos avaliar o desempenho do estimador usando os dados de teste."
   ]
  },
  {
   "cell_type": "code",
   "execution_count": 617,
   "metadata": {},
   "outputs": [
    {
     "name": "stdout",
     "output_type": "stream",
     "text": [
      "--> AVALIAÇÃO NO TESTE: Lemm + stopword removal + CountVectorizer\n",
      "Balanced_Accuracy: 96.0% F1-Score: 98.0%\n"
     ]
    }
   ],
   "source": [
    "#Lemm + stopword removal \n",
    "print(\"--> AVALIAÇÃO NO TESTE: Lemm + stopword removal + CountVectorizer\") \n",
    "\n",
    "# Predição no Conjunto de Teste\n",
    "predictions_naive = model_count_1.predict(X_test_1_count)\n",
    "\n",
    "# Avaliação Final do Modelo\n",
    "evaluate_model(y_test, predictions_naive)"
   ]
  },
  {
   "cell_type": "markdown",
   "metadata": {},
   "source": [
    "**Visualização da Matriz de Classificação**"
   ]
  },
  {
   "cell_type": "code",
   "execution_count": 618,
   "metadata": {},
   "outputs": [
    {
     "data": {
      "image/png": "[encoded data removed]",
      "text/plain": [
       "<Figure size 640x480 with 2 Axes>"
      ]
     },
     "metadata": {},
     "output_type": "display_data"
    }
   ],
   "source": [
    "classes = data['classification'].unique()\n",
    "\n",
    "cf_matrix = confusion_matrix(y_test, predictions_naive)\n",
    "\n",
    "group_names = ['True Neg', 'False Pos', 'False Neg', 'True Pos']\n",
    "group_counts = ['{0:0.0f}'.format(value) for value in cf_matrix.flatten()]\n",
    "\n",
    "group_percentages = ['{0:.2%}'.format(value) for value in cf_matrix.flatten()/np.sum(cf_matrix)]\n",
    "labels = [f'{v1}\\n{v2}\\n{v3}' for v1, v2, v3 in zip(group_names,group_counts,group_percentages)]\n",
    "labels = np.asarray(labels).reshape(2,2)\n",
    "\n",
    "sns.heatmap(cf_matrix, cmap=\"crest\", annot=labels, linewidth=1, fmt='', xticklabels=classes, yticklabels=classes)\n",
    "plt.xlabel('Predição')\n",
    "plt.ylabel(\"Real\")\n",
    "plt.show()"
   ]
  },
  {
   "cell_type": "markdown",
   "metadata": {},
   "source": [
    "**Relatório das Principais Métricas de Classificação**"
   ]
  },
  {
   "cell_type": "code",
   "execution_count": 619,
   "metadata": {},
   "outputs": [
    {
     "name": "stdout",
     "output_type": "stream",
     "text": [
      "              precision    recall  f1-score   support\n",
      "\n",
      "         ham       0.99      0.98      0.99      1355\n",
      "        spam       0.89      0.93      0.91       196\n",
      "\n",
      "    accuracy                           0.98      1551\n",
      "   macro avg       0.94      0.96      0.95      1551\n",
      "weighted avg       0.98      0.98      0.98      1551\n",
      "\n"
     ]
    }
   ],
   "source": [
    "print(classification_report(y_test, predictions_naive, target_names=classes)) "
   ]
  },
  {
   "cell_type": "markdown",
   "metadata": {},
   "source": [
    "### **Redes Neurais Convolucionais – CNN (Convolutional Neural Networks)**"
   ]
  },
  {
   "cell_type": "markdown",
   "metadata": {},
   "source": [
    "**Dividindo o Conjunto de Dados em Treino, Validação e Teste**"
   ]
  },
  {
   "cell_type": "code",
   "execution_count": 620,
   "metadata": {},
   "outputs": [],
   "source": [
    "#dc = data[['text', 'classification']]\n",
    "#dc.head()"
   ]
  },
  {
   "cell_type": "code",
   "execution_count": 621,
   "metadata": {},
   "outputs": [],
   "source": [
    "#X_train_cnn, y_train_cnn, X_valid_cnn, y_valid_cnn, X_test_cnn, y_test_cnn = train_valid_test_split(dc, \"classification\", train_size=0.7, valid_size=0.15, test_size=0.15)\n",
    "\n",
    "#y_train_cnn.shape, y_test_cnn.shape, y_valid_cnn.shape"
   ]
  },
  {
   "cell_type": "code",
   "execution_count": 622,
   "metadata": {},
   "outputs": [],
   "source": [
    "#X_train"
   ]
  },
  {
   "cell_type": "code",
   "execution_count": 623,
   "metadata": {},
   "outputs": [],
   "source": [
    "#X_train_cnn.values"
   ]
  },
  {
   "cell_type": "code",
   "execution_count": 624,
   "metadata": {},
   "outputs": [],
   "source": [
    "#X_train_cnn = np.reshape(X_train_cnn.values, -1)\n",
    "#X_test_cnn = np.reshape(X_test_cnn.values, -1)\n",
    "#X_valid_cnn = np.reshape(X_valid_cnn.values, -1)\n",
    "\n",
    "#X_train_cnn"
   ]
  },
  {
   "cell_type": "code",
   "execution_count": 625,
   "metadata": {},
   "outputs": [],
   "source": [
    "X = data['text'].values\n",
    "y = data['classification'].values\n",
    "\n",
    "X_train_cnn, X_test_cnn, y_train_cnn, y_test_cnn = train_test_split(X, y, test_size=0.30, random_state=42, stratify=y)\n"
   ]
  },
  {
   "cell_type": "markdown",
   "metadata": {},
   "source": [
    "#### **Codificando os Rótulos de Destino**"
   ]
  },
  {
   "cell_type": "code",
   "execution_count": 626,
   "metadata": {},
   "outputs": [],
   "source": [
    "# O LabelEncoder é usado para codificar rótulos de destino com valor entre 0 e n_classes-1.\n",
    "# Este transformador deve ser usado para codificar valores alvo, ou seja y, e não a entrada X.\n",
    "\n",
    "label = LabelEncoder()\n",
    "\n",
    "y_train_cnn = label.fit_transform(y_train_cnn)\n",
    "\n",
    "y_test_cnn = label.transform(y_test_cnn)\n",
    "\n",
    "#y_valid_cnn = label.transform(y_valid_cnn)"
   ]
  },
  {
   "cell_type": "code",
   "execution_count": 627,
   "metadata": {},
   "outputs": [
    {
     "data": {
      "text/plain": [
       "array([0, 0, 0, ..., 1, 0, 0])"
      ]
     },
     "execution_count": 627,
     "metadata": {},
     "output_type": "execute_result"
    }
   ],
   "source": [
    "y_train_cnn"
   ]
  },
  {
   "cell_type": "code",
   "execution_count": 628,
   "metadata": {},
   "outputs": [
    {
     "data": {
      "text/plain": [
       "array(['ham', 'ham', 'ham', ..., 'spam', 'ham', 'ham'], dtype=object)"
      ]
     },
     "execution_count": 628,
     "metadata": {},
     "output_type": "execute_result"
    }
   ],
   "source": [
    "label.inverse_transform(y_train_cnn)"
   ]
  },
  {
   "cell_type": "markdown",
   "metadata": {},
   "source": [
    "ham é 0\n",
    "\n",
    "spam é 1"
   ]
  },
  {
   "cell_type": "code",
   "execution_count": 629,
   "metadata": {},
   "outputs": [
    {
     "name": "stderr",
     "output_type": "stream",
     "text": [
      "100%|██████████| 3618/3618 [00:01<00:00, 2363.39it/s]\n",
      "100%|██████████| 1551/1551 [00:00<00:00, 2214.92it/s]\n",
      "100%|██████████| 3618/3618 [00:00<00:00, 6422.95it/s]\n",
      "100%|██████████| 1551/1551 [00:00<00:00, 5740.21it/s]\n",
      "100%|██████████| 3618/3618 [00:02<00:00, 1659.80it/s]\n",
      "100%|██████████| 1551/1551 [00:00<00:00, 1843.63it/s]\n",
      "100%|██████████| 3618/3618 [00:01<00:00, 3347.22it/s]\n",
      "100%|██████████| 1551/1551 [00:00<00:00, 3469.60it/s]\n"
     ]
    }
   ],
   "source": [
    "#preprocessed data: Lemm + stopword removal \n",
    "X_train_1_cnn = text_processing(X_train_cnn, True, 'L')\n",
    "X_test_1_cnn = text_processing(X_test_cnn, True, 'L') \n",
    "#X_valid_1_cnn = text_processing(X_valid_cnn, True, 'L') \n",
    "\n",
    "#preprocessed data: Lemm + no stopword removal \n",
    "X_train_2_cnn = text_processing(X_train_cnn, False, 'L')\n",
    "X_test_2_cnn = text_processing(X_test_cnn, False, 'L') \n",
    "#X_valid_2_cnn = text_processing(X_valid_cnn, False, 'L') \n",
    "\n",
    "#preprocessed data: Stem + stopword removal \n",
    "X_train_3_cnn = text_processing(X_train_cnn, True, 'S')\n",
    "X_test_3_cnn = text_processing(X_test_cnn, True, 'S') \n",
    "#X_valid_3_cnn = text_processing(X_valid_cnn, True, 'S')\n",
    "\n",
    "#preprocessed data: Stem + no stopword removal \n",
    "X_train_4_cnn = text_processing(X_train_cnn, False, 'S')\n",
    "X_test_4_cnn = text_processing(X_test_cnn, False, 'S') \n",
    "#X_valid_4_cnn = text_processing(X_valid_cnn, False, 'S') "
   ]
  },
  {
   "cell_type": "markdown",
   "metadata": {},
   "source": [
    "**Tokenização - convertendo dados textuais em uma representação numérica**"
   ]
  },
  {
   "cell_type": "code",
   "execution_count": 630,
   "metadata": {},
   "outputs": [],
   "source": [
    "def tokenizer(X_train, X_test):\n",
    "    tokenizer = Tokenizer(oov_token=\"<OOV>\")\n",
    "    tokenizer.fit_on_texts(X_train)\n",
    "\n",
    "    sequences_train = tokenizer.texts_to_sequences(X_train)\n",
    "    #sequences_valid = tokenizer.texts_to_sequences(X_valid)\n",
    "    sequences_test = tokenizer.texts_to_sequences(X_test)\n",
    "\n",
    "    word_index = tokenizer.word_index\n",
    "    vocab_size = len(word_index) + 1\n",
    "\n",
    "    return sequences_train, sequences_test, vocab_size, word_index\n",
    "    #return sequences_train, sequences_valid, sequences_test, vocab_size, word_index"
   ]
  },
  {
   "cell_type": "code",
   "execution_count": 631,
   "metadata": {},
   "outputs": [],
   "source": [
    "sequences_train_1, sequences_test_1, vocab_size_1, word_index_1 = tokenizer(X_train_1_cnn, X_test_1_cnn)\n",
    "sequences_train_2, sequences_test_2, vocab_size_2, word_index_2 = tokenizer(X_train_2_cnn, X_test_2_cnn)\n",
    "sequences_train_3, sequences_test_3, vocab_size_3, word_index_3 = tokenizer(X_train_3_cnn, X_test_3_cnn)\n",
    "sequences_train_4, sequences_test_4, vocab_size_4, word_index_4 = tokenizer(X_train_4_cnn, X_test_4_cnn)\n",
    "\n",
    "\n",
    "#sequences_train_1, sequences_valid_1, sequences_test_1, vocab_size_1, word_index_1 = tokenizer(X_train_1_cnn, X_valid_1_cnn, X_test_1_cnn)\n",
    "#sequences_train_2, sequences_valid_2, sequences_test_2, vocab_size_2, word_index_2 = tokenizer(X_train_2_cnn, X_valid_2_cnn, X_test_2_cnn)\n",
    "#sequences_train_3, sequences_valid_3, sequences_test_3, vocab_size_3, word_index_3 = tokenizer(X_train_3_cnn, X_valid_3_cnn, X_test_3_cnn)\n",
    "#sequences_train_4, sequences_valid_4, sequences_test_4, vocab_size_4, word_index_4 = tokenizer(X_train_4_cnn, X_valid_4_cnn, X_test_4_cnn)"
   ]
  },
  {
   "cell_type": "code",
   "execution_count": 632,
   "metadata": {},
   "outputs": [
    {
     "name": "stdout",
     "output_type": "stream",
     "text": [
      "[[36, 25, 2666, 13], [84, 15, 189, 2667, 34, 2668, 2669, 14, 2670, 617, 15, 1372, 360, 6, 2671, 678], [45, 326, 854, 15, 41, 72, 1373, 37, 2, 2672, 60, 280, 1820, 2, 44, 27, 2, 64, 3, 261], [204, 855, 185, 2, 400, 75], [7, 48, 341, 84, 1374, 2673, 51, 1821, 140], [42, 14, 856], [38, 113, 227, 262, 167], [263, 17, 379, 110, 2, 2, 342, 80, 78, 361, 3, 28, 186, 54, 327, 527, 238], [2674, 94, 1375, 574], [2675, 56, 51, 1143, 60, 56, 51, 72, 20, 56, 51, 362, 197, 1376, 618, 976, 618], [977, 401, 2676, 168, 528, 41, 402, 37, 162, 118], [228, 2677, 575, 89, 2678, 2, 99], [1822, 114, 761, 2679, 248], [679, 1377, 174, 59, 56, 1378], [20, 229, 680, 529, 123, 6, 2680, 163], [124, 363, 59, 115, 2, 43, 2681], [576, 5, 301, 530, 281, 264, 190, 10, 343, 681, 198, 32, 429, 1379, 91, 857, 125, 97, 978, 265], [2, 19, 92, 1823], [2682, 1144, 2, 26, 2683, 2684, 1380, 1145, 2, 327, 20, 1144, 1824, 2685, 1380, 141, 2686, 1145, 1145], [83, 2687, 2688, 75], [328, 2689, 216, 108, 430, 14, 858, 430, 14, 39, 126, 2690, 858, 158, 682], [531, 859, 1825, 1826, 2691, 979, 108, 77, 13, 2, 111, 859, 105, 762, 2, 239], [532, 7, 341, 14, 163, 49, 980, 85, 1381], [1382, 227, 1383, 23, 27, 2692, 1827], [56, 981, 159, 982, 380, 329, 302, 1828, 2693, 2694, 1829, 981, 50, 50, 108], [38, 68, 683, 1384], [983, 1385, 303, 198, 264, 281, 55, 984, 985, 684, 855, 109, 2695, 32, 855], [13, 986, 619, 191, 763, 31], [452, 15, 381, 330, 34, 685, 25, 485, 577, 34, 486, 2696, 1830, 1831], [27, 1146, 66, 860, 403, 364, 382, 487, 47, 3, 1147, 78, 266, 987, 238, 988], [130, 431, 2697, 686, 1148, 365, 78, 2698, 78, 66], [61, 1386, 144, 33, 1387, 31], [98, 764, 267, 101, 16, 55, 30, 268, 2699, 282, 533, 5, 11, 2, 95, 989], [44], [38, 1832, 110], [1833, 2700, 2701, 861], [2702, 862, 687, 2703, 76, 3, 131], [86, 39, 126, 21, 267, 217], [27, 50, 11, 315, 688, 315, 2704, 249, 488, 488, 1834, 765, 990, 5, 863, 1835, 16], [10, 283, 44, 1836, 140, 1149, 1388, 54, 331, 32, 2705, 620, 94, 2706, 3, 3, 404, 432, 2707], [344, 130, 2708, 864, 112, 2, 689, 269, 865, 1837, 1838, 32, 343, 682, 1389, 1839, 65, 28], [199, 304, 690, 2709, 14, 1390, 383, 119, 1840, 578, 2710, 345, 489, 1840], [73, 13, 453, 151, 1841], [133, 1842, 60, 127, 267, 58, 579, 63, 2711, 240, 25, 2712, 16, 63, 316, 162], [76, 64, 405, 1843, 1844, 766, 621, 1391, 42, 163, 64, 580, 766], [90, 19, 384, 866, 2713, 230, 42], [284, 239], [2714], [767, 227, 33], [22, 2715, 66, 76], [768, 1845, 4, 305, 768, 454, 1392, 5, 40, 200, 10, 385, 10, 102, 32, 768, 91, 867, 49, 130, 1150, 32, 28], [3, 37, 769, 452], [1846, 306], [284, 317, 24, 991, 1847, 68, 868, 152, 1393, 2], [1151, 218, 1394, 23, 59, 29, 74, 3, 79, 3, 205, 2716, 2717, 15, 366, 1394, 2718, 1394, 1848, 691, 1152, 307, 1849, 11, 2719], [42, 2, 270, 770, 2720, 2721], [13, 30, 19, 2, 1850], [145, 317, 124, 175, 24, 2, 271, 35, 367, 5, 1395], [308, 60, 11, 25, 2722, 85, 1851, 272, 771, 692, 1396, 140, 622, 87, 12, 2723, 17, 94, 69, 12], [36, 23, 455, 2724, 7, 160, 21, 81, 6, 13], [992, 192], [490, 2725, 48, 118, 1397, 491, 2726, 316], [82, 2727, 21, 623, 993, 456, 386, 82, 20], [7, 132, 2, 31, 305, 1153, 31, 581], [241, 582, 90, 88, 772, 346, 169], [492, 27, 11, 181, 1154, 239, 273, 20, 689, 242, 250, 1398, 624, 28, 186, 65, 46, 33, 146], [14, 1383, 405], [1155, 2728, 124, 1848, 1156, 1157, 2729, 2730], [332, 159, 693, 114, 176, 2731], [282, 15, 2732, 70], [71, 583, 28], [1852, 1853, 103, 274, 15, 1854, 11, 2733, 1399, 243, 2734, 72, 2735, 304, 2736, 2737, 2738, 251], [493, 11, 231, 97, 773, 42, 1158, 584, 1855, 22, 6, 28, 65, 1400, 694], [12, 2739, 368, 1856], [2740, 62, 9, 8, 13, 1857], [1858, 32, 206, 1401, 5, 182, 265, 695, 206, 1859, 344, 4, 1402], [39, 2741, 12, 433, 17, 2742, 14, 114, 2743, 232, 11, 95, 869, 11, 106, 244], [131, 183, 110, 2, 27, 198, 124, 80, 190, 3, 347, 207, 78, 43, 406, 208], [280, 4, 95, 31], [2744, 369, 870, 534], [1403, 2745, 2746, 170, 2747, 2748, 128, 17, 63], [285, 187, 5, 120], [1860, 871, 1861, 169], [16, 16, 2749, 387, 535, 2750, 201, 1862], [688, 407, 71], [326, 494, 457, 58, 1159, 42, 16, 126], [134, 4, 97, 10, 536, 42, 309, 22, 134, 872, 537, 347, 495, 142, 1404], [2751, 2, 1405, 60, 5, 7, 486, 2, 11, 20, 34, 107, 42, 126], [873, 272, 1406, 263, 1407], [4, 774, 1863, 3, 18, 120, 209], [48, 874], [1864, 89, 458, 39, 1865, 183, 2752, 69, 37], [408, 39, 33, 775, 16, 625, 95, 37, 120, 116, 763, 776], [31, 777, 31, 147, 626, 14, 585, 70, 2753, 2754], [2, 2755, 1408], [379, 110, 1160, 210, 52, 134, 696, 538, 627, 46, 3, 539], [89, 2756, 1866, 148, 66, 14], [994, 1867, 182], [875, 875, 875, 115, 995, 2757, 12, 1409, 1410, 876, 21], [147, 2758, 23], [10, 3, 310], [2759, 1411, 866, 30, 135], [996, 14], [244, 204, 486, 2, 93, 81, 49, 2, 1868, 2760, 153, 1869, 2761, 997, 997, 204, 153, 88, 697, 27, 25, 204, 3, 24], [7, 77, 30, 45, 45], [3, 1870, 1871], [71, 2762, 778, 2, 26, 154, 1872, 76, 3, 2763, 2, 175, 311, 94, 286, 1412, 48, 11, 2, 26, 154, 2764, 2765, 855, 229], [45, 2766, 64, 2, 41, 2767, 2768, 698, 2769], [496, 487, 1873, 998, 198, 2770], [7, 252, 49, 14, 155, 52, 51, 1161, 2, 156, 14, 697, 49, 2, 104, 2771], [86, 628, 1162, 77, 779], [19, 13, 453], [40, 140, 2, 26, 1413, 370, 305, 348, 40, 283, 10, 3, 40, 370, 49, 10], [629, 1874, 579, 579, 1414, 1414, 780, 780, 138], [50, 3, 75, 9, 8, 54], [4, 877, 116, 19, 13, 17, 1875], [2772, 2773, 31, 1876], [776, 878, 132, 94, 151], [171, 326, 16, 17, 174, 318, 253, 70], [71, 311, 319, 699, 367, 999, 311, 370, 699, 51, 333, 7, 2774, 2775, 2776, 2777, 16, 23, 193, 879], [284, 2778, 497, 218], [7, 219, 22, 9, 459, 8, 7], [1415, 35, 349, 282, 241, 202, 1163], [205, 41, 1416, 1877, 19, 4, 700, 1000, 30, 1164, 1877, 586], [781, 56, 1878, 2779, 2780, 4, 16, 159], [536, 1001, 2781, 782, 109, 2782, 782, 782, 22, 782, 96, 233, 782, 16, 498], [62, 4, 1165, 1417, 23, 2783, 2784, 1418, 304, 2, 2785, 170, 2786, 4, 1165, 35], [2787, 409, 107, 623, 21], [6, 48, 90, 106, 19, 239, 410, 57, 630, 163, 1879, 13, 410], [94, 2788, 460], [287, 34, 31, 1166, 159, 64, 3, 29, 26, 167], [94, 275, 2789, 13, 315], [106, 234, 4, 304, 587, 588], [45, 129, 82, 118, 2, 2790, 631, 2791, 176, 1167, 371, 1419, 1420, 1421, 4, 2792, 238, 65, 880, 2793, 540, 94, 1880], [220, 152, 2, 334, 1002, 68], [74, 67, 1168], [977, 15, 168], [115, 499, 20, 2794], [16, 11], [147, 333, 783, 1422], [434, 411, 239, 1169], [29, 156, 21, 113, 5, 1881], [541, 13, 116, 1882, 264, 1003, 2795, 1423, 1423], [784, 41, 2796, 1883], [84, 230, 577], [589, 37, 2, 1170], [308, 145, 1171], [288, 330, 29, 881, 24, 335, 1172, 977, 486, 1424, 25, 34, 65], [2797, 336, 1884, 92, 208, 402], [234, 1425, 1426, 176, 117, 341, 2798, 41, 2799, 1885, 1173, 388, 500, 1427, 369, 2800], [177, 88, 461, 114, 455, 2801, 2802, 7], [86, 47, 1886], [1887, 129, 431, 2803, 2804, 2805], [81, 128, 187, 686, 1888], [1004, 462, 976, 118, 1889, 99, 52, 136, 1428], [304, 11, 61, 11], [13, 79, 1890], [12, 2806, 234], [308, 501, 10, 3], [16, 463, 20, 16, 37, 138, 1429, 4, 1005, 1167, 590, 785, 312, 435, 701, 502], [29, 702, 48, 400, 30, 31, 542, 68], [2, 19, 503, 10, 18, 70, 52, 221, 44, 202, 331, 207, 543, 3, 10, 111], [7, 13, 34, 113, 2, 1891], [153, 581, 1430], [50, 187, 90, 90, 159, 174, 1892, 116, 19, 121], [882, 496, 4, 2807, 883, 332, 2808, 336, 123, 232, 253, 94, 882, 119, 2809, 1431, 2810, 883, 580, 2811, 147, 2812, 201, 2813], [2, 6, 41, 765, 24], [781, 2, 12, 1432], [368, 14, 1433, 2814], [211, 85, 1893, 1894, 144, 882, 433, 1853, 63, 2, 36, 786, 115, 2815, 63, 779, 1895], [400, 787, 2, 788, 2816, 1174, 334, 412, 38, 24, 11, 389], [50, 43, 5, 65, 461, 24, 1006, 51, 23, 63, 350, 2, 1175, 52, 194, 143], [2, 544, 219, 147, 55, 2, 2817, 249, 2, 212, 703, 2, 632, 2818, 2819, 2820, 48, 2821, 2822, 2], [2823, 23], [68, 93, 2, 14, 5, 337], [38, 545, 162, 320], [789, 633, 145, 504, 4, 537, 42, 591], [790, 190, 546, 80, 592, 390, 110, 78, 3, 2824, 2825, 2826], [45, 1896, 2827, 1434, 1435, 326, 2828], [276, 50, 42, 774, 136, 591, 235], [38, 413, 54, 37], [36, 2, 15, 36, 151, 15, 16, 634], [98, 593, 383, 88, 15, 2829, 227, 2830, 789], [23, 791, 2831, 171], [401, 25, 2832, 88], [154, 690, 160, 1436, 4, 454, 72, 117], [199, 704, 272, 151, 458, 705], [2, 37, 1176, 769], [2833, 792, 2834, 2835, 793, 1156, 1177, 1178, 1437, 1438, 1439, 9, 8, 3, 1897, 2836, 9, 8, 2837, 1440, 884, 2838, 125], [706, 2839, 2840, 794], [116, 178, 338, 1858, 15, 44, 66, 2841, 318, 1179, 2842, 635, 197, 505, 3, 861, 48, 1441, 197, 4, 2843], [184, 90, 1898, 1899, 391, 115, 4, 1900], [636, 35, 39, 2844], [101, 436, 158, 682], [131, 183, 110, 100, 169, 198, 124, 80, 190, 3, 78, 266, 406, 208], [88, 23, 116, 437], [64, 1170, 36, 36], [216, 311, 6, 37, 6, 2845, 240, 30, 15, 103, 547, 75, 69, 6, 273, 127, 336, 401, 42, 2], [131, 40, 1442, 464, 546, 80, 263, 390, 286, 3, 1007], [306, 1443, 372, 16, 109], [363, 2, 74, 67, 2846], [2847, 1180, 885, 154, 2, 199, 1421, 302, 311, 13, 41], [506, 72, 161, 103], [1444, 313, 182], [4, 188, 2848, 14, 9, 8, 213, 12, 2849], [38, 1901, 154, 188], [2850, 2851, 2852, 2853], [2854, 343, 465, 794, 245, 97, 886, 32, 1445, 4, 343, 887, 32, 238, 43, 365, 289], [222, 1446, 1447, 507, 290, 1448, 9, 8, 262, 1008, 1902, 229, 1903, 1904, 1181, 1449, 508, 351], [501, 2855, 2856, 160, 27], [545, 161, 7, 24, 6, 1450, 34, 232, 2, 152], [276, 18, 41], [96, 254, 5, 438, 350], [282, 319, 2857, 2858, 1009, 888, 1451, 1905, 42, 126, 1452, 1182], [889, 533, 25, 1453, 2859, 60, 2, 26, 2860, 16, 17, 64, 223, 411, 1906, 41, 223, 255], [1907, 778, 290, 795, 1448, 9, 459, 8, 9, 8, 463, 458, 318, 1454, 1454, 2861, 504, 458, 308, 583, 2862, 548, 117, 1908, 1909, 2863, 1010, 2864, 222, 1446, 153, 508, 351, 617, 153, 314, 2865, 153, 1144, 1454, 1455, 1447, 796, 46, 594, 2, 26, 1456], [306, 182, 5, 331, 195, 1910, 549, 113, 2, 890, 118, 2866, 291], [241, 368, 246, 15, 1455, 11], [15, 194, 162, 332, 1457, 41, 352, 2867, 504, 4, 2868, 2869, 227, 163, 214], [69, 151, 109, 53, 217], [131, 3, 373, 891, 1183, 229, 87, 502, 414, 509, 43, 135, 1458, 1911, 224], [85, 176, 1459, 128], [493, 250, 22, 321, 65, 5, 90, 510, 26, 148, 85, 20, 2, 1912, 348, 1913, 254, 797], [62, 44, 1866, 2870], [236, 216, 217, 1011, 353, 415, 1914, 550], [1460, 777, 272, 48, 95, 277, 272, 174], [798, 1012, 33, 111, 1013, 588, 410, 1013, 588], [416, 225, 392, 124, 1461, 464, 228, 78, 3, 439, 266, 440], [707, 5, 708, 15, 1184, 330, 59, 709, 1014, 13, 42, 205, 43, 15], [154, 41, 1462, 1185, 137, 67, 7, 4, 139, 678, 62, 84, 329, 354, 533, 287, 3, 72], [351, 3, 9, 8, 54], [275, 81, 799, 1186], [1915, 1916, 144, 585, 374, 2871, 575, 219, 64, 2, 2872, 1917, 1015], [35, 164, 117], [1918, 20, 57, 1187, 133, 136, 1015, 105, 433, 42, 2873, 534, 99, 52, 136, 20], [354, 56, 106, 178, 41, 127], [466, 1919, 1188, 1463], [7, 13, 5, 30, 202, 163], [1920, 58, 140], [171], [184, 16, 277, 1921, 1165, 1922, 262], [1923, 137, 67, 541], [38, 21, 1189, 95], [61, 28, 2874, 1924, 13, 2875, 105, 122], [1464, 467, 1925, 414, 1016, 292, 70, 385, 10, 1465, 102, 32, 551, 1464, 1466, 28, 186, 1016, 292], [533, 345, 71, 26, 2, 595], [1190, 2876, 6, 41, 680, 1191], [73, 637, 552, 1467, 2877, 1468, 1926, 312], [54, 6, 237], [1017, 93, 1192, 1193, 193, 2878, 39, 14, 2879, 800, 596, 39, 21, 2880], [62, 1469, 781, 383, 372, 1018, 441, 1470, 1018, 441, 123, 165, 770, 372, 2881, 2882, 434, 176, 2883, 353], [40, 442, 370, 10, 293, 305, 348, 283, 40, 710, 169, 3, 3, 40, 1927, 1471, 2884], [96, 1928, 1416, 294, 55, 1929, 577, 3, 2, 767], [56, 17, 127, 597, 216, 18, 597, 128], [1930, 375, 111, 262, 1418, 91, 2885, 49, 130], [220, 393, 19, 6, 1019, 3, 468], [39, 12, 62], [12, 2886, 2887, 383, 111, 9, 1472, 8], [94, 152, 638, 598, 1473, 23, 2, 156, 74, 7, 25, 1474, 271, 15, 511], [1475, 1476, 57, 2888, 2889, 232, 199, 599, 1194], [1931, 4, 342, 10, 3, 376, 289, 61, 210, 76, 46, 18, 406, 182, 222, 1477], [61, 2890, 711, 2891, 21, 2892, 37, 402], [19, 52, 221, 1195, 512, 295, 54, 202, 331, 207, 543, 538, 46, 3, 539, 79], [12, 76, 553, 41], [50, 3, 75, 226, 51, 2893, 1932, 47, 3, 2894, 9, 8], [2, 85, 1390, 271, 143, 57, 296, 409, 892, 232, 237, 27], [235, 2895], [35, 2896], [1196, 792], [461, 24, 133, 401, 177, 485, 237, 24, 469, 122, 341, 30, 893, 194, 194, 268, 893, 801], [416, 225, 392, 124, 513, 554, 228, 3, 439, 266, 440], [28, 1933, 1197, 617, 21, 574, 5, 467, 48, 5, 32, 102, 894, 1934, 443, 894, 1020, 1466, 1478, 894], [394, 511, 184, 1935, 2, 1479, 1480, 638, 247], [], [98, 712, 6, 183, 111, 105, 193, 108, 713, 315, 548], [555, 36, 4, 262, 895, 17, 127], [74, 67, 586, 2897], [355, 714, 293, 896, 1936, 27, 5, 639, 11, 111, 600, 897, 802, 2898], [288, 330, 294, 55, 898, 252, 715, 29, 74, 232, 133, 29, 185], [42, 44, 2899, 690, 1481, 136], [147, 1482, 2900, 462], [10, 541, 102, 18, 1020, 105, 53, 4, 52, 102, 303, 200], [4, 5, 307, 297, 10, 46, 65, 102, 417, 380, 102, 44, 105, 53, 186, 200, 601, 22, 33], [2901, 1937, 2902, 436, 327, 2903, 2904, 1938, 1939, 2905, 1940, 2906, 1144, 1483, 2907, 1938, 556, 161, 2908, 436, 1939, 2909, 1937, 1941, 1941], [15, 774, 803, 490, 2910], [899, 438], [212, 2911, 11, 5, 108, 16, 11, 64, 2, 859, 267, 11, 64, 2, 1193, 1484, 108, 209, 1198, 16, 122], [45, 15, 139, 31], [1942, 2912, 145, 1199], [418, 286], [69, 557, 69, 557, 489, 900, 1200, 1021, 444, 640, 2913], [901, 13, 128, 9, 17, 8], [62, 129, 15, 1485, 902, 553, 184, 445, 6, 1486, 2914, 1022, 298, 127, 10, 271, 1201, 381, 127], [16, 463, 1023, 2915, 11, 2916, 99, 1943, 1487, 1024, 312, 36, 20, 147], [7], [97, 270, 1202, 105, 53, 903, 314, 18, 716, 1488, 1025, 1489, 265, 2917], [583, 1944], [5, 2918, 880, 2919, 641, 514, 1020, 140, 91, 2920, 49, 130, 2921, 65], [22, 5, 1945, 140, 136, 804, 2, 5, 108, 1158, 182, 2922, 1946, 46, 419], [503, 1947, 5, 301, 470, 530, 264, 281, 10, 343, 26, 465, 198, 32, 429, 1948, 91, 857, 125, 97, 978, 265, 880], [134, 4, 97, 10, 536, 42, 309, 22, 134, 872, 537, 347, 495, 142, 1404], [58, 1490, 642, 2923, 904, 51], [73, 10, 3], [38, 38, 1428, 99, 1436], [164, 117, 418, 1491, 2, 308], [332, 865, 514, 66, 1492, 124, 89], [2924, 4, 2925, 77, 211, 1026, 495], [76, 33, 1949, 805, 1027, 90, 46, 86, 37, 91, 166, 602, 2, 1949, 33, 22, 33, 558], [76, 316, 164, 1493], [39, 12, 1494, 115, 81, 1950], [73, 559, 113, 2, 619, 2, 48, 549, 1869, 20, 717, 291], [195, 1951, 491, 42], [52, 1952, 157, 1154, 116, 5, 515, 28, 10, 364, 531, 1477, 1953, 125, 32, 23, 182, 2926, 33, 2927], [100, 51, 315, 356, 249, 36, 93, 806, 1495, 1954, 2928, 114, 25, 528, 703, 123, 718, 123, 632, 14, 93, 249, 124, 85, 12, 1955, 1203, 267, 171, 17, 893, 514, 1496, 42, 878, 143, 19, 6, 278, 51, 56, 214, 1204, 1956, 380, 90, 222, 1495, 1957, 2929, 2930, 214, 2931, 1958, 103, 302, 540, 16, 578, 339, 214], [98, 183, 56, 11, 320, 1959], [33, 420, 102, 1028, 33, 1960, 37, 102, 125, 201, 2932, 686, 420, 102, 203, 560, 53, 2933, 256, 135, 1497, 1498], [1961, 117, 174, 1205], [5, 87, 561, 643, 342, 905, 5, 87, 22, 6, 28, 65, 906, 872, 537, 347, 495, 142, 432, 644], [174, 233, 118], [72, 53], [19, 2934, 103, 205, 895, 2935, 384, 2936, 999, 1962, 187], [162, 193, 51, 217, 56, 1499], [77, 287, 76, 22, 2937, 66], [71, 1963, 2, 807, 1500, 592, 390, 110, 2, 32, 157, 28, 1964, 537, 347, 495, 142, 432, 644, 1206, 303], [131, 47, 3, 2938, 891, 1917, 229, 87, 502, 414, 509, 43, 135, 256, 2939, 224], [86, 217, 19, 47, 105, 63, 179, 2940], [20, 2941, 20, 2, 187], [48, 2, 1501, 19, 151, 163, 700, 17], [329, 900, 114, 622, 907, 1029, 244, 1207, 76, 187, 2942, 43], [60, 1161], [346, 2943, 2, 51, 469, 2944, 1208, 2945, 2946, 516, 437, 2], [908, 45, 1965, 1966, 166, 1209, 487, 47, 3, 41, 1967, 70, 487, 906, 28, 54], [313, 2947, 4, 1169, 1210, 365, 2948, 4, 136, 1438, 56, 108, 1502], [167, 1968, 1503, 377, 808, 161], [366, 809, 9, 8], [452, 645, 486, 2, 286, 195, 562, 247, 2, 11, 271], [1003, 1211, 79, 1030, 27, 254, 909, 201, 1003], [393], [5, 87, 561, 643, 342, 905, 5, 87, 22, 6, 28, 2949, 906, 872, 537, 347, 495, 142, 432, 644], [16, 169], [2, 1969, 2950, 683, 1143, 2951, 2952, 529, 1825], [38, 38, 383, 1196], [16, 395, 7, 160, 2953], [1970, 998, 2954], [63, 63, 37, 79], [206, 341, 214, 206, 21, 2955, 17, 517, 1212, 719, 242, 2956, 214], [2, 257], [86, 284, 2957, 910, 25, 1971, 2958, 2959], [116, 2960, 2961], [1213, 114, 802, 134, 34, 2962, 250, 2963, 420, 134, 6, 91, 2964, 125, 2965, 603, 1209, 46, 138], [2966, 541, 5, 128, 1031], [6, 34, 121, 340, 121, 4, 185], [2, 26, 1504, 2967, 681, 794, 307, 200, 10, 421, 2968, 2969, 1214, 641, 28, 65, 603, 32, 33, 694], [85, 1505], [1506, 1032, 1972], [47, 160, 1973, 50, 471], [84, 1033, 518, 446, 810, 103], [720, 44, 44, 510, 23, 1481, 215, 58], [2970, 154, 586, 1493, 811], [2971, 812, 2, 1034, 1974], [1975, 308], [12, 215, 627, 258, 86], [2, 813, 1215, 333, 56, 110, 2, 111, 26, 1216, 36, 5, 231, 3, 2972, 224], [7, 69, 400, 75, 34, 81, 3, 2, 350], [2973, 125, 69, 22, 10, 2974, 2975, 70, 83, 626, 70, 37, 1976, 2976], [70, 44, 1217], [494, 42, 16, 126, 217, 447, 47, 22, 292, 4, 245, 1977], [45, 50, 422, 3, 76, 3, 41], [73, 46, 310], [76, 22, 684, 182, 31], [201, 765, 350], [1507, 282, 1978, 1979, 448, 250, 102, 1508, 82, 768, 114, 40, 1509, 1980, 18, 721], [19, 132, 9, 8, 2977, 27, 236, 50, 249], [26, 30, 13, 1218, 54], [95, 185, 29, 25, 30, 279], [1981, 722, 93, 320, 23, 14, 3, 1981, 503, 723, 3, 468, 17], [50, 15, 51, 197, 472, 75], [129, 1982, 1983], [16, 36, 115, 22, 761, 93, 20, 37, 380, 1510], [98, 85, 21, 275, 232, 2978, 814, 1035, 604, 63, 82, 312], [84, 155, 1984, 103], [306, 180, 2979], [2, 364, 65], [58, 441, 1219, 233, 2980, 63, 1951, 244], [2981, 1985], [244, 315, 361, 333, 594, 42, 2982, 108, 20], [99, 337, 197, 5, 372, 13, 313], [172, 2983, 44, 72, 552, 76, 22, 227, 90, 1036], [2984, 214, 58], [724, 44, 157, 646, 2], [107, 1986, 2985, 605, 1220, 2, 419, 12, 58], [69, 1987, 16], [77, 30, 195, 1511, 1867, 1173, 93], [1988, 805, 1027, 90, 46, 86, 37, 91, 166, 602, 2, 1988, 38, 33, 22, 33, 558], [3, 70, 422, 3], [167], [62, 38, 38, 42, 396], [149, 17, 1989, 21, 1990, 1512, 2986, 331, 911, 1982, 26, 9, 8, 1513, 26, 9, 8, 1037, 26, 9, 8, 1991, 9, 8], [2987, 76, 2988, 76, 1514, 337, 179, 1992, 76, 27, 337], [240, 912, 597, 128, 21, 783, 6, 1993, 215, 1972], [312, 89, 6, 357, 725, 595, 36, 647, 114, 369, 815], [355, 164, 112, 1515, 2989], [362, 1038, 1994, 499, 1995, 299, 119, 913, 148, 119, 1039, 148, 809, 501], [276, 1996, 81, 490], [726, 89, 219, 914, 79], [98, 62, 15, 90, 1040], [38, 18, 77], [86, 1516, 319, 25, 1997, 351, 75, 385, 473, 75, 94, 1203], [1517, 27], [62, 1041, 1998, 497, 712], [648, 170, 1042, 2, 14, 2990, 514, 2, 123, 22, 303, 2991, 32, 308], [131, 263, 390, 110, 2, 2, 3, 55, 1518, 816, 34, 291, 1519, 2992, 817], [45, 321, 915, 93, 99, 72, 252, 29, 2993], [71, 2994, 47, 3, 373, 891, 1999, 1183, 229, 87, 502, 414, 224, 509, 43, 135, 1043, 1520], [7, 240, 21, 423, 104], [2000, 111, 23, 24, 152, 1044, 393, 81, 161, 48, 2, 542, 81], [2001, 795, 113, 500, 2002, 322, 36, 25, 155, 6, 23, 262], [164, 117, 3], [13, 42, 320, 17, 617, 1883, 2003, 1045, 2995, 19, 341, 63], [94, 1521], [383, 25, 30], [9, 459, 8, 1522, 178, 199, 121, 2004, 2996, 111, 727, 1162, 912], [4, 1046], [98, 62, 82, 272, 2997, 117, 2005, 101, 2006], [1859, 627, 83, 491, 2998, 728, 2999, 155, 3000, 550, 2007, 251, 2, 1523, 3001], [241, 116, 315, 649, 57, 21, 1524, 490, 183, 649, 57, 3002, 630, 588], [273, 189, 355], [174, 323, 56, 52, 90, 1525, 20, 357, 3003, 18, 729, 112, 18, 2008, 37, 115, 92], [172, 16, 277, 71, 99, 52, 136, 62], [148, 2, 12, 391, 729, 112, 110, 144, 246, 3, 1526, 358, 598, 28], [3004, 274, 552, 563, 5, 519, 13], [131, 263, 390, 110, 2, 80, 383, 35, 1047, 414, 78, 3, 2009, 191], [137, 67, 378, 244, 64, 139, 151], [129, 7, 279], [2, 92, 1048, 156, 74, 92, 218, 1014, 55, 116, 412], [45, 63, 5, 639, 63, 3005, 807, 1500, 130, 3006, 157, 32, 157, 28, 1964, 537, 347, 495, 142, 432, 644, 1206, 303], [7, 284, 317], [5, 397], [62, 424, 283], [98, 86, 640, 1459, 2010, 434, 2, 121, 159], [3007, 706, 377, 294, 127], [2, 97, 429, 264, 281, 105, 53, 903, 32, 138, 198, 1025, 91, 857, 125, 2011, 2012, 265, 2013], [38, 206, 145, 3008, 218], [19, 916, 105, 63], [48, 445, 385, 25, 33, 447], [1527, 5, 456, 1527, 5, 3009, 3010, 83, 3011, 3012, 2, 74, 67, 59, 204, 430, 650, 320, 141, 494, 324, 41, 5, 312], [425, 14, 259, 24, 340, 92, 651, 1221, 29, 156, 474, 13], [38], [45, 559, 818, 2, 917, 1528, 127, 83, 25, 472, 318, 3013, 103, 564, 23, 435, 44, 2], [398, 116, 3014, 100, 63, 3015, 3016, 61], [296, 356, 174, 1529, 15, 150, 175, 918], [62, 20, 3017, 16, 277, 781, 422, 57, 27, 50, 171, 3018, 248, 3019], [44, 3020, 2014, 684], [6, 3021, 228, 647, 466, 819, 34, 61, 357, 787, 96, 3022, 1022, 15, 3023, 68], [38, 38, 25, 3024, 53, 37, 606, 88, 630, 1222, 520, 2015, 19, 139, 64, 1049], [1223, 2, 7, 88, 185, 96, 2016, 3025], [3026, 81, 2, 788, 92], [3027, 104, 698, 9, 8], [294, 13, 1530, 11, 2017, 42, 160, 3028, 39, 235, 1224, 652, 21, 177, 131, 72], [82, 21, 1225], [173, 454, 196, 339, 133, 3029, 53, 84, 83, 3030, 3031, 2018, 35, 30], [1531, 1226, 2, 3032, 304, 730, 2, 212, 298, 1227, 47, 1395, 3033, 1228, 653, 55, 3034, 26, 50, 3035], [37, 202, 163], [7, 119, 14, 1229, 3036], [231], [76, 39, 3037, 1050, 1532, 14, 109, 328, 11], [71, 281, 2019, 109, 2020, 2, 151, 1051, 776, 1052, 201, 3038, 1193], [1533, 1157, 721, 3039, 125, 151, 721, 44, 1052], [62, 391, 242, 184, 42, 126, 29], [236, 216, 19, 47], [41, 141, 3040, 178, 69, 12, 194], [1534, 65, 31, 3041, 919], [230, 577, 1221, 36], [3042, 1435, 1535, 369, 100, 63, 775, 462], [49, 185, 1868, 3043, 7, 191, 24, 2, 212, 81, 6, 218, 104, 2, 93, 81, 654, 104, 2, 81, 27], [98, 193, 165, 296, 1053], [101, 60, 16, 11, 27], [38, 298, 116, 92, 3044, 3045, 89, 77], [104, 2, 278, 6, 1054, 213, 7, 2021, 323, 1055, 426, 2022, 2023, 650, 1056, 34, 458], [45, 1427, 472, 93, 61, 43, 2, 2, 1057, 13], [85, 21, 255, 2, 107, 2, 326, 5, 326, 2024], [920, 405, 31], [3046, 336, 2025, 2026, 1523], [2, 626, 30, 149, 7, 24, 181, 161], [173, 3047, 3048, 196, 1230, 346, 998, 176, 41, 399, 1231, 475, 107], [7, 1536, 405, 77, 4, 820, 731, 3049], [19, 6, 3050], [165, 66, 1537], [2, 156, 59, 257, 2027, 2, 43, 88, 59], [28, 186, 54, 3, 2028, 327, 207, 28, 186, 54, 282, 3051, 125, 607, 43, 18, 33, 601], [61, 217, 445], [356, 81, 29, 133, 177, 921, 49, 921, 177, 163, 240], [3052, 3053, 3054, 786, 4, 3055, 3056, 2029, 66], [2030, 207, 249, 1038, 278, 418, 3057, 3058, 5, 148, 212, 1990, 1232, 158, 634, 359, 372], [732, 1538, 3059, 457, 1539], [733, 189, 189, 3060, 242, 270], [50, 577, 922, 1540, 128, 174, 298, 108, 98], [95, 24, 2031, 2032, 15, 117, 430, 734], [362, 1038, 3061, 353, 115, 735, 504, 3062, 299, 115, 2033, 821, 23, 158, 634], [23, 983, 1385, 2, 923, 198, 233, 55, 264, 281, 1028, 923, 603, 18, 33], [223, 3063, 1522, 3064], [276, 101, 655], [2034, 188, 3065, 3066], [379, 110, 46, 210, 221, 44, 512, 295, 54, 202, 331, 207, 543, 538, 46, 3], [29, 243, 149, 185, 31, 1184, 655], [45, 20, 6, 11, 258, 122, 1058, 1541, 1180, 77, 3067, 924, 354, 3068, 107], [3069, 3070], [53, 656, 736, 210, 3071, 3, 289, 656, 358, 787, 1542, 53, 656, 210, 40], [425, 14, 259, 24], [313, 2030, 34, 126, 418, 3072, 6, 3073, 371, 3074, 1829, 56, 730, 3075, 3076, 3077, 175, 460], [62, 2, 419, 1233, 193, 493, 270, 149], [2, 35, 3078, 1543, 3079, 115, 2035], [7, 24, 2, 74, 6, 205, 2], [61, 2036, 912, 4], [72, 218, 389, 385, 24, 2, 737, 334, 412, 389, 6, 608, 24, 117, 6, 247], [3080, 3081, 310, 738], [15, 1455, 1467, 211, 9, 17, 8, 191], [992, 1544, 2037, 21], [606, 3082, 179, 116, 61, 822], [908, 47, 3, 796, 131, 70, 145], [177, 226, 3], [3083, 2], [308, 145, 319], [220, 739, 1944, 24, 96, 1230, 1545, 27], [3084, 112, 4, 3085, 323, 82, 3086, 1059, 44, 6, 880], [50, 10], [220, 3087, 393, 565, 1546, 740, 161, 801], [764, 120, 212, 3088], [2038, 9, 8, 3089, 3090], [73, 82, 90, 823, 35, 652], [15, 734], [10, 343, 465, 794, 22, 138, 97, 43, 91, 2039, 49, 130], [16, 122, 2040, 338, 594, 163], [287, 903, 341, 900, 14, 405, 1060, 657, 870, 14, 90, 287, 51, 355], [62, 15, 170, 1547], [811, 143, 58, 31, 47, 42, 126, 310, 47], [45, 559, 83, 77, 925, 2041, 227, 3091, 223, 3092, 83, 85, 460, 2, 2, 261], [995, 96, 2042, 3093], [679, 55, 25, 485, 654, 268, 257, 24, 49, 3094, 397, 15, 780, 31, 3095], [21, 926, 1234], [1935, 658, 658, 1014, 56, 151, 96, 710, 184], [183, 286, 386, 2043], [294, 19, 2044, 778, 235, 1235, 57, 1236, 1061, 1548, 139, 1997], [45, 1549, 83, 655, 269, 48, 105, 83, 50, 60, 2, 3096, 3097, 3098, 1550, 3099, 3100, 1551, 55, 1552, 728, 1205, 3101, 709, 521, 26, 118], [530, 2, 576, 5, 301, 530, 264, 281, 264, 190, 3102, 681, 198, 3103, 429, 1379, 91, 857, 125, 97, 978, 265], [3104, 1004, 61, 11, 927], [236, 168, 1553, 123, 609, 824, 16, 625, 106, 472], [2, 156, 74, 2, 156, 14, 88, 218, 68, 2, 35, 1050], [1062, 1873, 547, 159], [2045, 405, 659, 94], [150, 104, 989, 39, 1554], [2, 660, 631, 257, 122, 589, 856], [427, 3105, 24, 1014, 599, 96, 820], [3106, 3107], [30, 94], [198, 3108, 39, 36], [38, 2, 94, 39, 65, 46, 65], [222, 580, 2046, 1415, 3109, 3110, 3111, 1486, 3112, 2047, 3113], [3114, 3115, 117, 75, 127, 996], [1063, 52, 40], [2, 914, 1555, 1007, 7, 42, 126], [94, 157, 555, 56, 1419, 877, 37, 300], [33, 825, 1473, 341, 148, 476, 64, 3116, 105, 3117], [3118, 206, 357], [492, 301, 10, 2048, 1237, 283, 46, 3119, 449, 80, 3120, 601, 33, 28, 200, 1238, 3121, 1152], [2, 3], [3122, 69, 1556, 431, 1239], [786, 3123], [241, 137, 67, 35, 1184, 79, 27, 183, 4, 1900], [826, 3124, 317, 351, 3125], [158, 634, 1064, 2049, 42, 126], [2, 813, 1215, 333, 56, 110, 2, 111, 26, 1216, 36, 5, 231, 3], [920, 86, 71, 205, 3126, 28], [7, 43, 129], [636, 882, 13, 30, 2050, 876, 56, 279, 120, 4, 181, 325, 106, 181, 489, 108], [285, 17, 928, 2051, 1065, 3127, 5, 326, 19, 2, 1557], [111, 77, 2052, 289], [3128, 3129, 2053, 212, 113, 44], [1066, 1030, 210], [7, 436, 1558, 574], [62, 3130, 212, 823, 271, 184], [733, 3131, 411, 2002, 1463, 24, 144, 152, 95, 302, 55, 1559, 1040, 75], [131, 47, 3, 373, 87, 1512, 2054, 1067, 229, 502, 414, 43, 509, 382, 3132, 224], [3133, 217], [3134, 57, 3, 814, 126], [411, 608, 826, 3135], [25, 3136, 633, 27, 167], [241, 241, 241, 3137, 3138], [496, 426, 914, 3139], [50, 548, 195, 918], [3140, 39, 2, 19, 143], [216, 450, 251, 189, 827, 434, 917, 621, 798, 200, 15, 1060, 112, 3141, 3142, 42, 126, 3143, 3144, 118], [294, 3145, 58, 83], [556, 438, 123, 170, 594, 318, 2055, 1240, 436, 929, 335, 3146, 1029, 741, 683, 3147, 1560, 929, 1148, 929, 1561, 171], [196, 3148, 924, 14, 3149], [50, 319], [173, 293, 140, 10, 1241, 250, 454, 768, 385, 10, 18, 713, 70, 46, 86, 686, 365, 91, 293, 49, 130, 3150], [58, 14, 298, 318, 148, 3151, 2056, 1562], [1563, 378, 151, 828, 1521, 3152, 2057, 94, 42, 1564], [263, 390, 1242, 2, 53, 380, 80, 470, 87, 80, 3], [576, 790, 1418, 80, 198, 3, 80, 266], [3, 9, 8, 54, 236, 7], [474, 2, 795, 119, 777, 31, 189, 1243, 346], [230, 589, 742, 4, 87, 79], [47, 3153, 44], [26, 29, 25, 27, 226], [170, 3154], [164, 1068, 210, 52, 134, 40, 1244, 32, 138, 175, 4, 2058, 661, 28, 1245], [96, 919, 6, 142, 2, 24], [19, 255, 119, 109], [76, 979, 23, 11, 1879, 423, 66], [50, 290, 225, 1511, 93, 19, 115, 1932, 41, 202, 115, 121, 211, 376, 551], [13, 108, 1411, 522, 3155, 3156, 299, 922, 2059, 312, 353, 339, 119, 821, 2060], [29, 22, 888, 31, 1395], [13, 89, 1187], [45, 368, 929, 26, 2, 31, 1069, 3157, 2, 27], [2061, 2, 25, 705, 3158, 4, 168, 2062, 4, 5, 516, 2063, 236], [129, 192, 181, 1462], [1565, 3159, 1069, 662, 299, 3160], [582, 59, 113, 75, 84, 523], [90, 120, 2, 171, 64, 777, 2064, 347, 2, 227, 171, 120, 2, 3161, 2065, 171], [59, 9, 8, 136, 411, 290, 139, 100, 9, 8, 35, 145, 282], [2025, 885, 73, 350, 92, 191, 608, 651], [580, 3162, 2066, 3163, 3164], [2, 97, 429, 264, 281, 105, 53, 903, 32, 138, 198, 1025, 91, 3165, 125, 2011, 2012, 265, 2013], [2067, 1566, 2, 3166, 321, 357, 51, 2068, 3167, 3168, 3169, 3170, 34, 187, 2037, 529], [7, 81, 335, 96, 395, 2, 74, 3171, 334], [3172, 593, 44, 12, 23, 1567, 49, 236, 193, 138], [123, 2, 39, 4, 1246, 2069, 804, 1026, 804, 3173, 65, 39, 43, 499, 39, 46], [3174, 1057, 25, 191, 15, 77, 110], [3175, 82, 56, 1154, 610, 32, 1070, 82, 83, 415, 1914, 21, 46, 203, 823, 22, 33], [98, 415, 1024, 3176], [48, 596, 3177, 176, 2070], [2, 394, 14, 3178, 3179, 441, 3180, 14, 3181, 31, 366, 30, 363, 2, 3182, 3183, 321, 723], [663, 1568, 253, 89], [2071, 51, 1959, 16, 337, 2, 3184, 930, 408, 1247, 27], [370, 1569, 503, 210, 305, 931, 1248, 134, 10, 1249, 605, 54, 32, 293, 3, 743, 3, 404, 805, 1250], [12, 1030], [47, 64, 113, 932, 322, 7], [3185, 3186, 3187, 3188, 1037, 2072, 3189, 3190, 664, 3191, 3192, 3193, 3194], [45, 3195, 3196, 9, 8, 262, 109, 140, 12, 85, 1893, 327, 532, 3197, 3198, 142, 829, 3199], [311, 3, 71, 405], [60, 5, 413, 249, 57, 3200, 77, 3201, 3202, 933, 3203, 127, 13, 1001, 14], [153, 3204, 2015, 338], [101, 744, 3205, 579], [52, 70, 3], [16, 122, 475, 1570, 1571, 323, 1071, 36, 623, 21], [2073, 9, 17, 8, 863, 2, 566, 165, 2, 1026], [477, 589, 874, 3, 1572, 1573, 2], [84, 160, 163, 578, 394], [745, 1251, 116, 529, 745, 3, 28, 54, 33, 18, 3, 28, 54], [611], [156, 152, 1252, 161, 636, 6, 1486, 1574, 334, 6, 92, 866, 381, 389], [11, 391, 3206, 66], [56, 3207, 2072], [2, 315, 4, 574, 2074, 413, 594, 6, 369, 352, 2, 566, 14, 17], [2, 583, 25, 42, 184, 15, 3208, 68, 453, 934, 34, 1028, 319, 24], [246, 928, 100, 63, 3209, 3210, 3211], [1575, 1072, 85, 183, 48, 1253, 111], [3212, 2075, 3213], [1155, 79], [524, 2076, 182, 520, 188, 2], [3214, 276, 81, 3215, 4, 41], [3216, 805, 1027, 90, 46, 86, 37, 91, 166, 602, 2, 1576, 33, 22, 33, 558], [241, 12, 567, 9, 8, 1577, 476, 121, 3217, 116, 2077, 89, 4, 587, 935, 3218, 63], [2078, 11, 705, 3219, 809, 11, 1053, 3220, 11, 820, 1073, 1578, 11, 2079, 3221, 3222, 3223, 11, 3224, 3225, 262, 2, 126], [306, 735, 113, 690], [47, 48, 178, 1074, 2080], [3226, 3227, 2081, 2082, 3228], [585, 313, 3229, 746, 46, 233, 1192, 1254, 1579, 51, 1971, 278, 3230, 28, 32], [39, 174, 315, 7, 138], [1175, 52, 40, 429, 112, 239, 10, 429, 478, 936, 1580, 3231, 44, 3232, 448, 380, 3233], [84, 106, 51, 387, 3234, 15, 159, 1552, 83, 25, 394, 240, 3235, 1961, 77, 39, 12, 66, 747], [284, 395, 88, 598, 19, 338, 270, 142], [992, 242], [30, 330], [545, 937, 699, 531, 1581, 153, 638, 76, 1255, 5, 3236, 71, 862], [184, 2083, 3237, 2084, 3238, 748, 146, 63, 1582, 36, 115, 808, 14, 163], [26, 29, 655, 41, 279], [160], [99, 52, 136, 2, 5, 462, 197, 52, 136, 324, 859, 3239, 3240, 5, 3241, 3242, 108], [74, 67, 806, 155, 3243, 157, 40, 3244, 899, 138, 157, 22, 1583, 256, 135, 925, 142, 3245, 28, 65, 1400], [658], [355, 714, 293, 896, 1963, 27, 639, 11, 111, 600, 897, 802, 665, 1047], [101, 297, 428, 1584, 66, 26, 40, 641, 102, 936, 47, 3, 164, 112], [276, 394, 16, 19, 13], [159, 749, 48], [10, 18, 65, 18, 7, 376, 225], [144, 133, 37, 713, 2085], [61], [48, 3246, 3247, 1881, 3248], [184, 84, 37, 1170], [104, 93, 1058], [1585, 59, 216, 113, 117, 14, 163], [120, 2086, 25, 41, 79], [220, 7, 6, 30, 205, 919, 65, 29, 2087, 25, 1192, 263, 197, 381], [323, 323, 550, 18, 83, 1499, 907, 181, 2088, 2, 242, 65, 10, 2089, 65, 28, 1075, 3249, 823, 18, 33], [16, 463, 323, 1071, 6, 196, 531, 409, 149, 180, 147, 20, 179, 172, 99, 12, 2090], [3250, 3251, 103], [3252, 15, 3253, 3254, 2091, 3255, 1056, 3256, 3257, 470, 232, 1076, 389, 6, 1077, 34, 2092, 6, 2016, 1528], [394, 14, 170, 1586, 93, 14, 6, 279, 325, 109, 53], [7, 2, 42, 270, 2, 4, 1165], [244, 3258, 2, 34, 598, 24, 50, 24, 31, 116, 702, 43, 2, 300, 642, 12, 2, 24, 2, 74, 92, 598, 81, 324, 2, 1587, 109, 226], [2093, 3259], [12, 284, 497, 666], [36, 528, 111, 282, 2094, 1256, 117, 3260], [479, 799, 1588], [220, 109, 33], [73, 48, 2095, 505, 582, 356, 92, 15, 544, 1589, 44], [1257, 1226, 2096, 3261, 3262, 3263, 2097, 3264, 407, 1218, 11], [116, 4, 540, 3265, 2098], [62, 908, 70, 180, 22], [36, 31, 418], [45, 436, 22, 192, 65], [240, 36, 3266, 95, 830, 12, 19, 384, 1258, 1590], [606, 3267, 21, 395, 62, 1591, 385, 12, 3268, 3269, 1910, 870, 3270, 417, 11, 385, 408, 49, 39, 92, 453, 938, 1197], [500, 15, 3271, 1592, 1593, 31], [2099, 183, 110, 100, 169, 198, 124, 80, 190, 3, 78, 266, 38, 406, 208, 224], [731, 3272], [172, 1259, 75], [45, 16, 3273, 3274, 179, 2], [2, 74, 13, 279, 127], [251, 2, 2100, 57, 2, 667, 231, 2, 26, 541, 2, 1260, 251, 2, 261], [542, 177, 237, 6, 1392, 24, 425, 892, 24, 2, 177, 5, 237, 88], [], [642, 266, 1078, 473, 3275, 46, 750, 132, 89, 300], [286, 30, 3], [39, 378, 11, 223, 3276, 3277, 1261, 13, 352, 201, 3278, 479], [363, 2, 2, 3279], [71, 874, 3280, 407], [216, 1898, 42, 137, 67, 121, 547, 117, 75, 127, 1594, 428, 3281, 15, 375], [86, 351, 31], [284, 317, 24], [50, 3, 75], [63, 556, 933, 3282, 1079, 247, 687], [248, 14, 58], [15, 309, 3283, 208, 2101, 16, 51, 20, 290, 57, 3284, 73, 1080], [70, 1411, 3285, 624, 3286], [37, 3287, 47], [288, 330, 702, 59], [192, 11, 3288, 3289, 153, 30, 257, 119, 172, 1002, 275], [219, 3, 322, 219, 625], [220, 10], [48, 505], [45, 99, 337, 45, 45, 45, 45, 45, 45, 45], [2, 35, 25, 1595], [1262, 168, 3290, 3291, 29, 400, 1161, 156, 1263, 995, 801, 1045, 199, 2102, 568, 271], [5, 87, 561, 643, 342, 905, 5, 87, 22, 87, 28, 65, 906, 256, 135, 1596, 142], [569, 860, 181, 3, 106, 171, 2103, 212, 939, 528, 72, 668], [180, 332, 41, 135], [16, 322], [173, 3292], [19, 3293, 932, 121, 2020, 3294, 770], [119, 147, 99, 766, 2104, 3295, 141, 496, 2104, 309, 108, 1837, 99, 122, 141, 99, 11], [3296, 51, 19, 275, 75], [244, 15, 65, 662, 683, 2105], [58, 3297, 3, 1072], [42, 480, 569], [230, 139, 378, 51, 154, 1264, 1975, 1417, 3298, 72, 328, 1376, 140, 562], [173, 559, 854, 506, 619, 32, 2, 177, 2, 20, 818, 261], [35, 515, 2106, 219, 155, 13, 41, 162], [272, 4, 3299, 71, 12, 278, 329], [593, 172, 828, 265], [15, 14, 9, 8, 4, 75, 371, 4, 612, 119, 14], [492, 2107, 940, 3300, 60, 2, 14, 114, 604, 1081, 15, 1243, 1597, 74, 67, 43, 292, 32, 46, 325, 65, 28, 1265, 2108, 33], [1033, 369, 299, 1598, 386, 725, 623], [69, 5, 299, 5, 3301, 5, 278, 5, 1256, 5, 2109, 5, 1591, 2, 212, 3302, 357, 3303, 132, 884, 77, 166, 125], [276, 113, 553, 127], [16, 159], [519, 2110, 112, 1599, 3304, 3, 1266, 3305, 3306, 10, 40, 3307], [741, 196, 25, 3308, 174, 127, 2, 19, 13, 3309, 3310, 612], [10, 307, 53, 134, 102, 5, 467, 105, 53, 32, 134, 4, 899, 48, 5, 387, 91, 867, 49, 130, 358, 142, 941, 1150, 28, 102], [40, 66, 78, 3, 2, 41, 541, 78, 415, 207], [195, 3311, 24, 3312, 2, 279], [328, 1171, 888, 49, 23, 70, 316, 162], [161, 436, 25, 194, 1082, 366], [1185, 199, 165, 206, 470], [593, 1061, 222, 37, 1267, 9], [3313, 12], [7, 309, 79], [45, 818, 744, 37, 127, 219, 44, 79, 15, 2111, 116, 831, 551, 261], [790, 942, 295, 164, 3314, 403, 364, 943, 449, 3, 406, 163, 2009, 191], [297, 420, 4, 130, 832, 3315, 40, 53, 514, 380, 1083, 297, 70, 10, 424], [131, 40, 66, 464, 546, 80, 263, 390, 286, 3, 1007, 135, 34, 1600, 224], [3316, 216, 234, 3317, 664, 3318], [2112, 3319, 2113, 9, 8, 3320], [172, 3321, 172], [823, 3322, 4, 139, 41], [45, 1601, 39, 12, 72, 3, 2, 83, 30, 723, 261], [268, 24, 156, 48, 133, 4, 3323], [14, 944, 3324], [48, 21, 3325, 3326], [234, 989, 86], [781, 23, 51, 227, 1268, 3327, 267, 11, 146], [16, 322, 1269], [165, 25, 15, 2114], [294, 6, 485, 461, 96, 2115, 189, 1002], [209, 20, 3328, 209, 3329, 1602, 209, 1084, 3330, 197, 2, 209, 3331, 1198, 147, 5, 108, 158, 634], [3332, 3333, 94, 17, 77], [637, 48, 19, 21, 623, 20, 359, 3334, 3335, 1918, 1570], [2, 111, 3336, 3337, 700, 1085, 11, 383], [248, 451], [170, 1086, 42, 4, 2116, 3338, 2117], [116, 772, 4, 1554, 535, 100, 136], [101, 31, 1270, 119, 99, 71, 94, 107, 31], [14, 3339, 1603, 2118, 1958], [3, 66, 466, 2119, 81, 1573, 3, 2120, 1604], [1087, 3340, 89, 705, 104, 310], [311, 13, 4, 3341], [398, 1271, 3342, 3343, 479, 1415, 84], [935, 523, 989, 314, 587, 866, 800, 723, 453, 3344], [407, 71, 1272, 3345], [288, 330, 1605, 55, 438, 24, 49, 6, 485, 208, 1273], [6, 2121, 341], [737, 4, 196], [441, 359, 138, 253, 122, 1088, 6, 11, 20, 175, 739], [19, 3346, 613, 1603], [50, 212, 277, 877, 468, 23, 940, 747, 3347, 85, 333, 3348, 1274, 206, 23, 207, 57, 283, 103, 14, 3349, 205], [38, 56, 879, 1275, 582, 833, 116, 137, 67, 410, 6, 113, 433, 2122, 4, 742], [333, 763, 689, 2123, 328, 143], [306, 669, 88, 1449, 23, 819], [501, 583, 2124], [69, 12, 110, 2125, 194, 69, 12, 7], [1276, 185, 3350, 21, 121, 257, 49, 121, 15, 450, 691, 178], [940, 149, 23, 4, 3351, 1606, 316, 402], [258, 82, 107, 3352, 57, 179, 143, 214, 1277, 6, 143, 372, 20], [45, 2126, 136, 411, 72, 3353, 20, 689, 18, 239, 1054, 18, 2126, 2127, 233, 31, 3354], [173, 475, 993, 460, 27, 14, 22, 1005, 1607, 445, 821, 437, 255], [22, 2128, 3355, 31], [45, 217, 248, 292, 613], [47, 3, 796, 131, 70, 145], [3356, 55, 7, 24, 285], [50, 308, 3, 79, 1870, 1871], [83, 1278, 89], [98, 58, 1083, 1608, 267, 1608, 3357], [13], [42, 2129, 1089, 2130, 3358, 579, 2131], [233, 142, 26], [236, 216, 2132, 457, 2133, 2134], [920, 3359, 39, 232, 95, 1039, 7], [101, 437, 579], [1053, 349, 339, 223, 620, 1419, 3360, 2135, 1844, 3361], [230, 19, 113], [471, 48, 23, 457, 45, 45, 45], [2, 4, 70], [2136, 3362, 1920], [498, 810, 332], [230, 570, 163, 380], [172, 60, 94], [68, 31, 1279], [2, 384, 24], [71, 3], [2137, 13, 278, 29, 120, 121, 3363, 24, 5, 708, 1039], [447, 369, 662, 2, 430, 766, 141, 2138, 2, 126, 375, 33], [908, 45, 1965, 1966, 166, 1209, 70, 487, 47, 3, 41, 1967, 70, 487], [3364, 670, 609, 12], [170, 604, 48, 2139], [39, 751, 3365], [354, 101, 1225, 201, 63, 155, 4, 143], [113, 547, 178, 171], [1609, 1280, 1610, 229, 502, 414, 3, 2140, 509, 661, 358, 2141, 1043, 1520, 203, 191, 817, 54], [3366, 82, 2, 7], [2, 1611], [2142, 3367, 499, 1026, 215, 630, 17, 3368, 139, 139, 928, 1235, 17, 16, 122, 114, 595], [479, 117, 895, 424, 3369, 77, 3370, 2143, 84, 15, 194, 23], [819, 334, 826, 68], [1281, 50, 1612, 1613, 367, 476, 6, 270, 47, 111, 77, 4, 356, 2, 4, 47, 3371, 46, 10, 884, 1090, 1614], [73, 85, 613, 150, 19, 6, 381, 149, 344, 767, 3372, 651], [74, 257, 330, 571, 1091, 55, 30, 257, 702, 278], [1874, 290, 69, 12, 422, 180, 61, 11, 22, 3373, 3374, 66, 219, 814, 834], [173, 186, 1036, 9, 8, 26, 1615], [35, 127], [942, 1420, 164, 666, 1092, 97, 80, 449, 361, 3], [248, 57, 3375, 20, 945], [3376, 246, 1282, 3377, 3378], [73, 25, 1252, 162, 2087, 346, 360, 146, 140], [733, 89, 234, 246, 831, 1283, 1093, 869, 531, 1094, 1616, 103, 869, 1284, 3379, 752, 35, 59, 1283], [532, 267, 454, 3380, 691, 3381, 3382, 1233, 253, 2144], [275], [204, 60, 313, 1617, 49, 85, 1617, 167, 95, 119, 1618, 161], [45, 82, 83, 30, 74, 67, 103, 291], [144, 4, 31, 708, 3383, 551, 252, 29, 330], [316, 3384, 40, 171, 566, 2145, 566, 793, 3, 75], [132, 1095, 1096, 214, 217], [241, 1285, 2, 206, 212, 1550, 911, 521], [920, 391, 3, 1619], [38, 64, 41, 101], [92, 29, 1620, 29, 74, 24], [73, 441, 19, 415, 261, 292, 132, 835, 5, 44, 32, 2088, 208, 10, 28, 186, 11, 33, 18, 3385, 3386, 816, 34, 291], [10, 343, 681, 794, 97, 2146, 1073, 592, 2147, 307, 197, 18, 2146, 364, 343, 421, 887, 32, 238, 43, 365], [572, 572, 2148, 3387, 173, 3388, 173], [35, 72, 25, 791, 222], [1097, 575, 3389, 606, 2135, 3390], [58, 167, 836, 4, 1286, 443, 297, 348, 1098, 2149, 40, 18, 102, 1098, 601, 32, 2150, 33, 135, 142, 1621], [36, 590, 9, 8, 53], [35, 128, 115, 151, 202, 262], [38, 38, 79, 2151, 408, 218], [10, 70, 101, 800, 536, 880, 112, 28, 3391, 1622, 536, 32, 603, 32, 33, 3392], [12, 363, 215, 1164, 1099, 3393, 3394, 3395, 12, 26, 3396], [50, 3, 75, 226], [45, 2, 881, 363, 4, 1623, 219, 671, 204, 4, 281, 662, 1624, 3397], [84, 2152, 933, 169], [272, 55, 183, 642, 222, 7], [45, 558, 254, 77, 2153, 3398, 646, 3399, 23], [82, 60, 7, 211, 63, 143, 2154, 1625, 2155, 3400, 72, 127, 3401, 1439, 127, 118], [86, 217, 19, 56, 99], [16, 21, 596], [129, 7, 901, 1261, 43, 3402, 9, 8, 54, 728, 46, 2], [106, 1924, 280, 113], [1626, 56, 127, 19, 133, 352, 79], [1287, 425, 1287, 946, 425, 578, 1287, 331, 1287, 2144], [86, 117, 273, 92, 3403, 1017, 832, 130, 32, 157, 28, 65], [14], [18, 77, 1073, 33, 72, 366], [61, 1627, 223, 621, 4, 181], [48, 90, 13, 1001, 352, 14, 9, 8, 563], [133, 9, 8, 54], [276, 69, 12, 137, 67, 128, 895], [246, 115, 16, 783, 98], [73, 1822, 290, 72, 40, 66, 16, 23, 82, 3404, 3405], [206, 170, 1228, 2, 26, 1624, 26, 181, 2156, 5, 105, 3406, 21, 2, 2156, 18, 1628, 28], [401, 3407], [1160, 23, 3408, 3409, 3410, 117, 1100, 299, 147, 64, 1160, 126, 2, 158, 63, 1064, 372, 42, 126], [27, 1146, 66, 860, 403, 364, 943, 487, 47, 3, 1147, 78, 266, 987, 238, 365], [1612, 1629, 2157, 108, 101], [94, 3411, 3412, 3413, 1630, 93, 6, 3414, 1101, 243, 396, 1030, 132], [93, 35, 3415, 1631, 100, 63, 670, 153, 287, 72, 329, 1181], [2158, 415, 319, 125, 37], [1085, 3416, 17, 9, 8, 191, 3417], [3418, 788, 3419, 251, 2159, 468, 214, 3420, 251, 2159, 3421, 3422, 3423, 3424, 3425, 3426, 355, 3427, 158, 2160], [155, 233, 565, 413], [456, 3428, 3429], [393, 330, 109, 709], [10, 297, 46, 193, 443, 695, 193, 3430, 3431, 3432, 3433, 3434, 307, 102, 10, 2, 344, 200], [113], [2161, 2162, 151, 3435, 2163], [253, 161, 230, 137, 67, 352, 279], [84, 1041, 116, 273, 1102, 215, 128, 12], [13, 2, 15, 244], [379, 110, 46, 210, 54, 3436, 52, 221, 44, 3, 46, 10, 539, 79], [1850, 48, 2, 534, 2164, 1896, 2165, 3437, 3438, 3439, 2166, 149, 140, 143, 100, 63], [101, 938, 35, 741, 95, 160, 168, 947, 3440, 155, 75, 61, 1225, 101, 60, 2167, 35], [50, 1288, 548, 753, 7, 13], [94, 3441, 3442, 570, 17, 871, 517, 1212, 18, 672, 333, 588], [948, 82, 2, 3443, 3444, 2, 1289, 55, 706, 58, 1290, 60, 2168, 7, 42, 126, 3445, 2, 3446, 2169, 1557], [84, 612, 98], [98, 1291, 1292, 1275, 237, 431], [62, 7, 671], [1632, 481, 437, 94, 481, 1387, 481, 1633, 2170, 481, 481, 833], [62, 84, 374, 2, 42, 270], [3447, 206, 90, 56, 621, 139, 2171, 103, 64, 101, 209], [717, 44, 35, 3448, 619, 3449], [98, 58, 386, 115, 223, 754, 444], [949, 2172], [76, 81, 1634, 57, 1103, 704, 950, 49, 398, 52, 23, 9, 8, 1293], [398, 70, 38, 31], [101, 3450, 451, 248, 61, 53], [211, 82, 3451, 168, 3452, 1852, 3453, 2, 3454, 12, 2173, 3455, 2, 1294, 549, 83, 1625], [492, 73, 837, 53, 138, 41, 14, 242, 35, 1104, 7, 261, 887, 3456, 22, 1265], [50, 3457, 1105], [442, 202, 331, 293, 207, 543, 305, 283, 44, 10, 44, 442, 3, 2174, 10, 370, 1635], [26, 2, 106, 667, 664, 16, 625, 3458], [48, 104, 232, 211], [511, 15, 10, 828, 1636, 334, 74], [306, 162, 254], [73, 573, 2, 2175, 5, 1180, 469, 11, 1295, 16, 2, 126, 64, 3, 79], [65, 40, 448, 428, 3459, 2065, 390, 2176, 1264, 295, 2177, 3460, 3461, 3462, 130, 125], [492, 1516, 18, 2178, 323, 1637, 239, 1228, 251, 277, 2, 1398, 624, 28, 186, 65, 46, 33, 146], [3463, 805, 1027, 90, 46, 86, 37, 91, 166, 602, 2, 3464, 33, 22, 33, 558], [147, 922, 2179, 332, 878, 838, 769, 23, 553, 215, 315, 839, 93, 36, 878, 194, 93, 249, 56, 119, 3465], [76, 76, 435, 945, 945, 580], [673, 258, 3466, 723], [1296, 3467, 3468, 2180, 1272, 3469, 2181, 3470, 2062, 481, 76, 46], [10, 11, 177, 709, 34, 1297], [2182, 62, 71, 2, 35, 219, 632, 211, 122, 36, 3471, 227, 63, 160, 274], [2035, 5, 1298, 7], [97, 85, 534, 195, 17], [532, 288, 271, 614, 1298, 3472, 259, 791, 204, 95, 1638, 3473, 892, 259, 114], [63, 1299, 227, 11, 122, 13, 231, 77, 197, 312, 14, 1453, 1639, 809, 378, 672, 672, 2183, 158, 1640], [36, 115, 33, 14, 163, 1288, 333, 1184, 584], [354, 548, 1641, 41, 241], [236, 216, 1300, 645, 1642, 3474, 3475, 525], [116, 3476, 3477, 14, 996, 840, 103, 302, 109, 53, 831, 2, 10], [1643, 60, 1301, 3478, 3479, 42, 126, 239, 372], [764, 1059, 324, 2184, 435, 103, 298, 320, 2085, 1059, 87], [313, 38, 2, 674, 321, 9, 8], [5, 561, 109, 421, 939, 3480, 223, 3481, 55, 3482, 43, 1424, 18, 55, 43, 16, 498], [1023, 773, 681, 1250, 97, 380, 1302, 1106, 478, 2, 12, 1303, 3483, 32, 3484, 1238, 3485], [179, 51, 712, 725, 476, 124, 57, 2185, 76, 2186, 3486, 430, 596, 386, 1107, 47, 111, 51, 806, 20, 1644], [23, 1108, 3487, 1109, 3488, 180, 3489, 126, 375, 3490, 907, 122, 2187], [810, 366, 3491, 2188, 56, 951, 1050, 349, 253, 279, 119, 20], [220, 88, 285, 3492, 34, 3493], [7, 71, 3, 1950], [216, 18, 413], [2, 737, 3494, 3495], [82, 15, 375, 139, 113, 3496, 1578, 64, 41, 4, 30], [10, 65, 832, 111, 1158, 515, 193, 215, 145, 157, 22, 157, 3497, 22, 3498, 186, 65], [29, 35, 3499, 31, 174], [310, 403], [217, 1159, 1645, 1443], [1151, 840, 287, 15, 210, 385], [1266, 403, 364, 342, 382, 3, 207, 518, 203, 224, 43, 365, 3500, 3501], [273, 204, 42, 651, 75], [286, 30, 834, 34, 394, 247], [39, 19, 277, 1646, 59, 407], [1462, 63, 84, 106, 51, 72], [3502, 419, 3503, 17, 179, 13, 1034], [192, 52, 1099, 51, 1164, 3504, 3505, 633], [12, 3506, 411, 215, 349, 14, 199, 3507, 147, 23, 314, 747], [23], [218, 58, 2189, 51, 841, 180, 90, 336, 720, 51, 88, 642, 807, 446, 197, 13, 49, 139], [924, 14, 1553, 919, 63, 233, 19, 13, 410, 11, 3508, 3509, 147, 154, 339, 504, 410], [284, 222, 3510, 176, 469, 3511, 3512, 51, 123, 2190, 3513, 842, 2190], [45, 71, 3, 1647, 12, 524, 171, 19, 72, 171, 578, 48, 3514, 46], [92, 237, 787], [92, 162, 217, 1977], [501, 27, 150, 208], [137, 67, 3515, 3516], [131, 263, 390, 110, 2, 2, 3, 55, 1518, 816, 34, 291, 1519, 224, 2191, 817], [69, 12, 751], [22, 517, 1157], [120, 2, 2192, 1010, 2, 2193, 5, 1304, 26, 226, 2, 19], [3, 31, 145, 3], [131, 183, 110, 2, 27, 198, 124, 80, 190, 3, 347, 207, 78, 406, 208], [216, 3517, 2194, 522, 3518, 1648, 3519, 1304, 145, 179, 2, 501, 141, 192, 11], [311, 324, 2, 1649, 664, 114, 2, 2195, 952, 324, 23, 240], [58, 16, 122, 575, 533, 925, 3520, 129, 3521], [45, 559, 72, 2, 4, 1246, 3522, 3523, 401, 122, 85, 16, 17, 100, 63, 83, 427, 162, 3, 2], [195, 1252, 4, 14, 213, 11], [526, 1615, 9, 8, 9, 8, 310], [597, 37, 35, 1110], [3524, 259, 359, 36, 103, 192, 17, 127, 219, 230, 32, 2, 75, 49, 83, 1277, 261], [1899, 214, 14, 9, 8, 163], [475, 107, 573], [2196, 1005, 2197, 125, 2198, 2199, 517, 1111, 149, 313, 43, 43, 297], [3525, 76, 375, 462, 3526, 415, 522, 2200, 117, 594, 3527, 25, 807, 298, 3528, 6, 133, 1207, 3529], [69, 12, 289, 654, 2, 111, 49, 1650, 654, 3530, 1536, 101], [232, 211, 133, 5, 1651, 353, 1259, 2, 3531], [827, 231], [50, 422, 82, 150, 1085, 60, 201, 438, 381, 475, 107, 1305, 255], [1275, 1451, 85, 155, 37, 567, 302, 262, 116, 3532, 1292, 368], [874, 30, 827, 13, 3533], [3534, 1089, 14, 2201, 1652, 1100, 627], [220, 29, 400, 271], [153, 638, 1625, 71, 42, 126], [1112, 3535, 1641, 434, 345, 953, 375, 145, 349, 324, 953, 751, 638, 137, 67, 155, 75], [503, 943, 145, 666, 2202, 1092, 3536, 40, 164, 364, 943, 3], [547, 3537], [133, 360, 366, 113], [3538, 105, 762, 630, 444], [73, 524, 2, 583, 122], [9, 8, 142, 3539, 890, 374], [1306, 675], [339, 279], [264, 183, 4, 1204, 2203, 103], [368, 2, 674, 94, 3540, 1240, 158, 38, 158, 682], [948, 77, 349, 339, 3541, 1653, 3542], [1654, 2, 1006, 51, 64, 2, 657, 38, 1974, 36, 2], [15, 317, 260, 734, 2, 72, 27], [948, 51, 41, 30, 320, 482, 88], [3543, 90, 1289, 1655, 90], [879, 876, 2204], [173, 173, 45, 3544, 50, 548, 195, 46, 253, 40, 90, 3545, 15, 1113, 2173, 83, 50, 56, 5, 55, 11, 1549], [469, 178, 2143, 100, 328, 296, 1256, 954, 3546, 1307, 2205, 51, 25, 7, 28], [195, 388, 2206, 217], [84, 230, 106, 3547, 69, 2, 12, 3548, 3549, 771, 5, 427, 1551, 58], [230, 128, 633, 187], [3550, 144, 133, 1086], [70, 3551, 3552], [171, 1235, 187, 1083, 17, 444], [242, 718, 2207, 93, 36, 1072, 93, 3553, 2208, 3554, 211, 2209, 57, 410, 4, 2210, 14, 627], [62, 258, 3555, 214, 3556, 2046, 1085, 650, 136, 411, 3557, 2211, 2, 31, 1508, 521, 26, 261], [7, 2, 48, 68, 17, 2, 154, 75, 24], [233, 188, 257, 79, 3558, 183, 410, 9, 8], [2212, 21, 3559, 3560, 249, 187, 3561], [82, 119, 69, 4, 155, 678, 1509, 2100, 3562, 2, 3563], [41, 830, 12, 181], [1010, 2213, 228], [129, 3564, 2214, 687, 68, 218, 2215, 2, 457, 935, 2216, 55, 1656, 247, 511, 389, 2, 156, 72, 662, 350, 2151], [107, 57, 2217, 3565, 70, 253, 11, 566, 277, 394, 793, 20], [38, 13, 3566, 167], [92, 3567], [226, 3, 75], [118, 635, 303, 70, 1614, 2218, 26, 626], [147, 123, 3568, 4, 704, 162, 183, 106, 21], [285, 2219, 31, 696], [76, 6, 1308, 3569, 356, 106, 61, 169, 927], [114, 3570, 3571, 1200], [558, 340, 138, 3572, 3573, 1272, 494, 59, 3574, 1527, 2220, 3575, 71], [9, 8, 36, 59, 3576], [660, 236, 483, 272], [101, 1010, 3577], [522, 218, 152, 614, 156, 1532, 152, 468, 96, 381, 96, 1114, 608, 651, 2, 400, 2027], [101, 3578, 325, 44, 356, 59], [166, 536, 1175, 52, 134, 536, 27, 536, 10, 344, 42, 309, 32, 134], [1262, 2, 147, 43, 687, 23, 288, 335, 2214, 46, 149, 17, 2, 46, 638, 639, 737, 452, 15, 3579, 5, 3580, 218, 1657], [131, 5, 190, 382, 35, 3581, 3, 3582, 3583, 3584, 3585, 3586, 521, 1911], [73, 240], [454, 3587, 4, 588, 53, 3588, 139, 3589], [13, 128, 9, 459, 8, 191, 901, 2221, 1082, 728, 13, 683, 17], [452, 3590, 691, 2131, 218, 3591, 15, 2222, 240, 1658, 96, 254, 1659, 389, 340, 42], [2223, 187, 17, 842, 388, 2224, 1660, 14, 213, 195, 33, 2225], [837, 500, 287, 3592, 3593, 133, 1661, 3594, 42, 126], [98, 86, 1255, 3595, 11], [417, 2226, 3596, 1067, 3597, 385, 2227, 1264], [190, 305, 134, 44, 1309, 886, 1310, 478, 80, 32, 138, 449, 2228, 1662, 1031, 28, 2229], [1274, 3598, 1663, 716], [500, 25, 3599, 31], [461, 59, 15, 2177], [1664, 553], [1240, 209, 264, 1304, 3600, 477, 1665, 264, 662, 209], [2, 610, 2230, 2230, 523, 9, 8, 2162], [107], [253, 88, 608], [69, 6, 692, 3601], [1666, 3602, 3603, 396, 3604], [840, 27, 29, 21, 43, 734], [50, 368, 39, 12, 374, 123, 3605, 3606, 50, 60, 116, 242], [393, 15, 31, 1973, 161, 412], [39, 955, 1298, 72, 318, 48, 111, 95, 194], [1533, 1222, 1667, 243, 95, 360, 140, 2231, 287], [20, 129, 155, 1103, 139, 199, 82, 2232, 93, 2233, 703], [84, 445], [2], [73, 575, 524, 182, 692, 3607, 468, 23, 2139, 138], [17, 36, 21, 12, 826, 1311], [31, 447, 1312, 377, 1153, 31], [45, 60, 5, 11, 16, 41, 430, 1942, 669, 202, 3608, 69, 12, 5, 154], [48, 103, 236, 306], [191, 203, 28], [2234, 3609, 793, 739, 172, 106, 51, 3610, 446, 240, 2235, 2236], [86, 16, 3611, 278], [62, 1175], [86, 100, 53, 520, 239, 3], [741, 2, 3, 2237, 157, 416, 207, 550, 74, 43, 292, 706, 3612, 18, 761, 146, 22, 33, 1668, 261], [60, 61, 52, 822, 179, 254, 304, 3613], [3614, 56, 666, 1469], [748, 93, 22, 70, 628, 1264, 39, 375, 3615, 1115, 535, 698, 21, 748, 115, 561, 9, 8, 77, 115, 4, 360, 1313, 569, 60, 243, 41], [71, 10, 70, 386, 3616, 45, 45, 45], [18, 92, 148, 323, 27, 2, 111, 325, 123, 843, 2, 344, 28, 46, 182, 265, 695, 1668, 65, 2089, 3617, 2238], [7, 31, 88, 1211, 418, 113], [45, 55, 425, 618, 201, 34, 976, 118, 1889], [718, 1669, 124, 12, 1314, 3618, 1670, 19, 21], [52, 420, 39, 3619, 839, 161, 55, 417, 43, 2, 47, 160, 65, 11, 956, 5, 515, 46, 3620, 3621, 118, 3, 3622, 3623, 1458, 2239], [298, 2240, 15, 1013, 87, 35, 9, 8, 563], [14, 189, 3624, 271, 49, 471, 1116, 14, 471, 1172, 94, 14, 259, 589, 12, 247, 15, 81, 335, 5, 2241, 24], [73, 165, 182, 1537, 218], [104, 95, 720, 50, 483], [52, 70, 47, 3], [1006, 206, 6, 23, 11, 992], [86, 408, 22, 1036, 56, 345, 426, 41, 41, 214, 605, 1220, 3625, 15, 450, 87, 3626], [1082, 426, 3627, 31], [106, 934, 824, 128, 515], [109, 1579, 261, 2242, 221, 132, 201, 23, 3628, 375, 11, 18, 41, 3629, 2242, 4, 109, 221], [30, 284, 317, 24], [1460, 81, 498, 2243, 178], [47, 1315, 489, 1225, 47, 13, 155], [7, 359, 372], [35, 245, 531, 525, 4, 69, 155], [5, 87, 561, 643, 342, 905, 5, 87, 22, 6, 28, 65, 906, 256, 135, 1596, 142], [184, 306, 27, 169, 271], [7, 24, 285, 29, 287], [100, 245, 78, 5, 755, 957, 281, 27, 18, 338, 656, 210, 40, 43, 656, 358, 1316, 756], [986, 3630, 1317], [483, 611, 453, 338, 391], [2, 26, 790, 2, 890, 1266, 403, 364, 87, 229, 1671, 1075, 316, 239, 958, 78, 28, 54], [76, 3, 31, 407], [582, 213, 35, 21, 121], [20, 664, 3631, 668], [1179, 506, 195, 17, 562, 3632, 959, 3633], [2244, 2245, 3634, 484, 132, 227, 2122, 2246], [460, 775, 3635, 1182], [3636, 190, 305, 134, 44, 1309, 886, 1310, 478, 80, 32, 138, 449, 2228, 1662, 1031, 28, 2229], [48, 71, 407, 660, 14, 3637], [2, 74, 474, 237, 31, 3638], [173, 1318, 6, 52, 196, 99, 36, 409, 785, 22, 1305, 255, 844, 629], [1235, 52, 136, 526, 462, 69, 235, 92, 109, 53, 181, 2247], [93, 16, 44, 402, 3639, 311, 3640, 103], [490, 19, 72, 149, 394], [19, 160, 1117, 341, 3641, 2248, 1670, 3642], [249, 2249, 56, 981, 146, 108, 995, 488, 114, 23, 1319, 3643, 59, 777, 107, 2, 192, 11, 1118], [282, 650, 3644, 3645, 96, 2250], [555, 830, 12, 597, 128], [48, 407, 39, 1672, 14, 7, 21, 59], [643, 1643], [1004, 451, 53], [84, 1835, 17, 109, 53, 4, 369, 349, 141, 4], [1482, 55, 11, 302], [4, 1673, 836, 102, 46, 2251, 1674, 2252, 443, 6, 91, 1042, 49, 130, 1675, 34, 254, 102, 560, 295, 958, 238, 365], [10, 343, 417, 80, 681, 794, 245, 97, 305, 134, 3646, 87, 105, 200, 32, 61, 2196, 91, 417, 80, 125], [307, 3647, 3648, 1636], [31, 829, 26, 9, 8], [490, 165, 88], [50, 606, 114, 675], [572, 572, 572, 16, 747, 206, 1320, 3649], [950, 9, 8], [363, 960, 269, 352], [10, 3, 308, 145], [230, 9, 8], [2253, 3650], [234, 253, 257, 282, 49, 346], [37, 180], [1057, 2, 48, 1021, 83, 1676, 55, 168, 521, 49, 366, 477, 137, 1321, 49, 377, 83, 35, 2215, 717, 118], [168, 5, 312, 3651, 547, 5, 1239, 2254, 309, 5, 299, 108, 299, 14, 552, 418, 126, 2, 2220, 3652], [15, 15, 348, 24, 23, 348, 268, 913, 34, 96, 3653, 24, 298, 167, 3654, 516], [98, 7, 275, 352, 100, 269], [98, 703, 398, 1293, 716], [3655, 137, 67, 482, 1677, 11, 3656, 904, 3657], [50, 901, 284, 3658, 3659, 395, 1538, 3660, 3661, 646, 845], [85, 486, 5, 780, 1299, 195, 562, 68, 2, 3662, 204, 15, 151, 2, 99, 185, 35, 474, 757], [1092, 985, 103, 577], [50, 422, 3, 47, 3, 41], [3663, 72, 3664, 275, 119, 14, 98], [416, 225, 392, 124, 513, 554, 228, 3, 439, 266, 440], [156, 55, 456, 156, 152, 335, 88, 2255, 5, 780, 38], [3665, 137, 67], [12, 1166, 3666, 153], [1049, 9, 8, 20, 2, 11, 22, 321, 5, 942, 845, 3667, 13, 41, 2, 8, 1678, 300, 2, 251, 2, 1679, 321, 2, 599, 5, 251, 3668], [911, 97, 3669, 2256, 234, 1322], [201, 1680, 3670, 2257, 420, 376, 52, 3671, 1016, 3672, 4, 242, 1680, 49, 130, 120, 3], [73, 128, 15, 375, 202, 774, 3673], [308, 145, 3], [132, 14], [97, 136, 1681, 530, 716, 5, 1659, 755, 923, 465, 198, 32, 429, 961, 43, 91, 857, 125, 756, 97, 978], [370, 1569, 442, 202, 331, 293, 207, 543, 54, 3, 743, 3, 404, 432, 1250], [248, 2258, 325, 1645], [160, 252, 185, 29, 74, 3674, 734, 1039, 31, 1119, 3675, 29], [239, 109, 9, 8, 54], [920, 3676, 106, 2033, 18, 73, 1080, 169], [2248, 357, 361, 2, 470, 97, 599, 327, 3677, 518, 2, 3678, 2, 599, 2, 599, 2, 97, 2, 35, 599], [219, 54, 205], [73, 26, 284, 395, 127, 671, 55, 30, 257], [2200, 284, 263, 23, 214, 359, 372, 107, 2], [3679, 846, 510, 76], [1208, 234, 3680], [98, 3681, 349, 520, 753, 3682, 3683, 14, 213, 369, 673], [73, 35, 19, 6, 1574, 507, 146, 1022, 6, 962, 477, 2259, 883], [3684, 719, 513, 3685, 3686, 103, 14], [39, 56, 2071, 235, 930, 3687, 507, 19, 2, 13, 7], [225, 1442, 124, 1461, 228, 78, 3, 439, 266, 2260, 440], [58, 236, 192, 267, 144, 232], [489, 422, 784, 49, 3688, 3689, 930, 23, 202, 208, 438, 106, 691], [3690, 56, 1478, 175, 800, 4, 3691, 109, 1682], [165, 1683, 428], [1012, 300, 3692, 617, 1017, 197, 1672, 3693, 3], [17, 685, 427], [45, 3694, 626, 10, 44, 66, 570, 11, 64, 1241, 1017, 479], [84, 4, 1292, 368, 21, 423, 607, 1684, 479, 9, 8, 212, 757, 834], [50, 31, 1270, 50, 3695, 3696], [4, 264, 136, 280, 4, 95, 267], [189, 3697, 3698, 521, 3699, 96, 3700, 34, 3701, 3702, 3703, 34, 3704, 96, 3705, 99, 493, 11, 1428], [3706, 1046, 250, 8, 2261, 44, 98], [811, 31, 1270, 85, 107, 2, 71], [1685, 3707, 3708, 82, 3709, 3710, 3711, 1290, 3712, 20, 2262, 261, 3713, 3714, 3715, 47], [69, 12, 423, 109, 208, 123, 3716, 265, 2263, 825, 1393, 1590, 69, 12, 208], [83, 16, 445], [445, 2, 118], [745, 121, 405, 16, 330, 401, 34, 1151, 156, 74, 340, 121, 320, 168], [370, 353, 468, 2264, 3717], [1086, 105, 547, 181, 151, 3718, 58], [98, 354, 685, 184], [9, 8, 54, 33, 786, 149], [1686, 40, 442, 1413, 370, 305, 348, 283, 40, 10, 3, 40, 370, 49, 10], [1323, 1012, 447, 14, 9, 8, 202, 2265, 3719, 371, 4, 589, 469, 433, 1323, 9, 8], [46, 182, 505, 364, 508, 53, 1115, 10, 3720, 2213, 3721, 1094, 91, 3722, 125, 1152, 28], [12, 53, 25, 3723, 31], [3724, 337, 27, 179, 4, 3725], [423, 1687, 3726, 394], [3727, 478], [630, 11, 145, 2266, 2267, 3728, 2268, 2, 637, 2267, 304, 1688, 145, 811], [45, 496, 2161, 635], [50, 249], [47, 81, 1634, 331, 2263, 19, 103, 52, 540, 385, 3729, 2269, 950, 9, 8, 704], [50, 25, 30, 149, 963, 13, 1324, 29, 75], [1262, 49, 166, 29, 29, 702, 46, 133, 29, 46, 185, 486, 29, 393, 177, 5, 1166, 68], [591, 326], [1285, 345, 13, 27, 104, 3730, 828, 2270], [180, 2271, 375], [506, 1050, 15, 2, 3731, 3732, 17], [235, 462, 523, 2272], [7, 69, 2, 400, 160, 222], [3733, 3734, 103, 116, 12], [524, 222, 1037], [5, 1120, 773, 87, 561, 643, 905, 5, 87, 22, 1120, 28, 65], [59, 45, 3735], [309, 3736, 667], [611, 422, 3, 71, 526, 417, 11], [4, 10, 40, 221, 478, 10, 395, 449, 18, 6, 10, 622, 497, 2273, 43, 365, 303], [658], [62, 3737, 38, 24, 389, 92, 11], [192, 472, 826, 3738, 34, 3739, 826, 1689, 1325], [449, 493, 169, 1690, 1075, 1671, 847, 80, 190, 18, 1690, 91, 3740, 3741, 125], [70, 132, 1107, 9, 8, 1293, 3742, 243, 9, 8, 9, 8], [799, 59, 7, 7], [7, 64, 213, 36, 37, 1275, 3743, 2274, 516, 469, 17], [84, 188], [1227, 209, 104, 62, 227, 1326, 1227, 209, 104, 62, 1121, 703, 23, 11, 328, 1045, 3744, 753], [101, 880, 297, 130, 40, 641, 140, 47, 750, 1028, 86, 46, 641], [192, 660, 47, 39, 637, 761, 19, 37], [7, 578, 1072, 35, 128], [873, 181, 1406, 263, 1407], [33, 722, 504, 455, 294, 1053, 1691, 249, 174, 1589, 3745, 3, 4, 23, 3, 3746, 680], [81, 2, 226, 31, 1692, 350, 269], [50, 120], [111, 132, 3747, 70, 12, 3748], [397, 24, 340, 3749, 1383, 196], [1327, 2, 232, 2275, 232, 2, 374, 335, 88, 412, 2, 42, 195, 46, 152, 2042, 55, 55, 2017, 68, 311, 232], [678, 551, 17, 136, 88], [58, 419, 345, 810], [413, 1059], [500, 3750, 462, 60, 79, 775, 3751, 3752, 784, 1384, 69, 587, 724, 444, 141, 3753, 20, 141, 3754, 3755, 3756, 141, 345, 76, 344, 321, 1693, 141, 719, 33, 1560, 1694], [3757, 3758, 17, 136], [148, 3759, 729, 112, 984, 44, 711, 111, 3, 373, 358, 34, 2276], [679, 374, 124, 109, 53], [3760, 1452, 1182, 3761, 3762, 3763, 3764, 3765, 3766, 2277], [7, 21, 48, 95, 25, 143, 16, 63], [2, 15, 300, 676], [10, 307, 53, 134, 102, 5, 40, 105, 53, 32, 134, 4, 899, 48, 5, 387, 91, 867, 49, 130, 358, 142, 941, 1150, 28, 102], [7, 1695, 18, 384], [172, 77, 2, 119, 77, 3767, 55], [2, 137, 67, 4, 2278, 687], [153, 5, 2279, 1166, 23], [378, 506, 569, 563], [1207, 14, 3768, 3769], [1606, 2280, 1234], [3770, 152, 1605, 55, 3771, 35, 15, 3772, 34, 448, 1696, 34, 1328, 55, 31, 448, 1696, 34, 1011, 1696], [3773, 3, 282, 108, 1015, 937, 76, 775, 525], [354, 918, 15, 450, 423, 428, 202, 262], [10, 221, 283, 44, 202, 331, 207, 543, 442, 1149, 1388, 54, 746, 3, 743, 3, 404], [3774, 535, 1417, 1407], [7, 216, 37, 129], [12, 1055, 27], [12, 259, 2107, 717, 2281, 4, 866, 2282, 117, 2282, 17, 614], [7, 795, 321, 3775, 3776, 23, 205, 738, 203, 754], [3777, 4, 40, 448, 91, 3778, 125, 3, 443, 313, 761, 1042, 250, 1697, 1698], [494, 371, 123, 2283, 279, 161], [248, 217, 19, 37, 192, 2284, 1603], [276, 18, 41, 633, 808, 21, 935, 4, 1046], [2147, 1699, 1073, 592, 87, 449, 3, 55, 358, 224], [2285, 606, 1229, 27, 3779, 119, 21, 2286, 114, 25, 3, 2287, 566, 39, 56, 494, 56, 1700, 51, 361, 21, 47, 69, 2, 72, 51, 195, 114, 2288, 120, 3780, 3781, 76, 114, 99, 494, 309], [41, 72, 1823, 202, 686, 2, 43, 269, 323, 3782, 55, 6, 41, 157, 251, 3783, 3, 3784, 1458, 2239], [184, 555, 2, 570, 17, 154], [841, 21, 396], [43, 395, 340, 100, 213, 1279, 697, 340, 260, 185, 486, 29, 996], [218, 2289, 205, 14, 219, 671, 22, 708, 4, 964, 1284, 3785, 171], [2, 813, 1215, 333, 56, 110, 2, 111, 26, 1216, 36, 5, 231, 3], [415, 239, 1070, 3, 28, 186, 54, 1329, 624, 256, 135, 2290, 1330, 2291, 527, 238, 3], [1217], [73, 669, 1114, 1019, 381, 88, 184], [51, 3786, 2, 758, 1677, 114, 103, 213, 2, 69, 6, 236], [3787, 568, 669, 3788, 169, 247], [61, 2292, 3789, 479, 3790, 2293], [22, 18, 1496, 75], [131, 183, 110, 2, 27, 198, 124, 80, 190, 3, 347, 207, 78, 406, 208], [719, 321, 5, 110, 34, 37, 68, 2, 4, 1122, 251, 650, 2, 672, 2, 332, 312, 353, 3791, 2, 26, 1069, 415, 2294, 2, 26, 1064, 293, 1701, 3792, 2, 2295, 1069, 788, 6, 650, 2, 3793, 2296, 2, 3794, 759, 2026, 2, 3795, 107, 1082, 488, 2211, 23, 3796], [13, 194, 13, 222, 49, 222, 35, 1955, 184], [42, 508, 13, 419, 18, 99, 954, 23, 956, 173, 2297, 146, 1558, 2280], [204, 3797], [1219, 153, 58, 13, 945, 17, 3798, 6, 72], [12, 9, 8, 128], [58, 114, 278, 15, 375, 742, 23, 1001, 584, 3799, 3800, 3801, 87], [114, 611, 1553, 211, 3802, 3803, 3804, 298, 2298, 62], [636, 180, 104, 163, 785, 150, 3805], [3806, 57, 361, 64, 225, 3807, 79, 1247], [519, 47, 46, 265, 3808, 1015, 96, 233], [3809, 147, 72, 1252], [59, 3810, 578, 17, 11, 3811, 42, 57, 1123, 764, 278, 137, 67, 37, 19, 13, 2299, 127, 2, 48], [98, 147, 2069], [16, 51, 176, 965, 3812], [2, 10, 274, 412, 2, 74, 260, 1331, 1332, 252, 34, 677, 34, 614, 598], [354, 16, 63], [280, 72, 62, 7, 811, 914, 181, 17, 409, 1644, 422, 16, 63, 143], [16, 122, 83, 3813, 2300, 3814, 476, 13, 351, 27], [270, 24, 966, 697, 525, 160, 608], [36, 298, 174, 3, 861, 122, 153, 117, 100, 136, 165, 115, 6, 4, 178, 964, 1333, 1009, 471, 27, 57, 1851, 93, 13, 41, 147, 3815, 176, 66, 967], [45, 230, 57, 242, 4, 70, 180, 517, 32, 2, 49, 83, 482, 1702, 3816, 63], [2301, 258, 670, 273], [336, 3817], [1680, 4, 10, 2302, 18, 299, 43, 365, 21, 120, 3], [3818, 39, 119, 1314, 1481, 3819, 585, 23, 322, 451, 235, 2, 69, 108, 1015, 3, 512], [47, 3, 796, 131, 70, 145], [275, 11], [117, 5, 228, 96, 3820, 1334, 88], [3821, 232, 2303, 85, 745, 446, 1191, 770, 176, 910, 12, 700, 610, 1186, 98], [69, 56, 615, 680, 186, 3822], [104, 306, 50], [244, 24, 168, 482, 156, 2, 6, 30, 257, 143, 27], [1262, 47, 29, 15, 17, 734], [19, 512, 295, 54, 18, 52, 221, 44, 1703, 342, 186, 53, 3, 46, 539, 79], [503, 210, 305, 931, 1248, 134, 10, 1249, 1106, 605, 54, 32, 293, 3, 743, 3, 404, 3823], [173, 475, 993, 107, 88, 1058, 179, 214, 2123, 20], [3824, 52, 66, 418, 2, 151, 23, 450], [59, 407], [133, 13, 9, 8, 54], [131, 1609, 1280, 1610, 229, 502, 414, 3, 2140, 509, 661, 358, 2141, 1043, 1520, 203, 191, 817, 54], [230, 13, 1253, 167, 128, 9, 8, 89], [356, 59, 2304, 211, 116, 3825, 2184], [532, 445, 24], [2, 154, 41, 279, 412, 296, 81, 750, 252, 2], [678, 70, 3826, 3827, 44, 265, 2305, 1546, 18], [86, 92, 273, 49, 6, 3828, 30, 115, 18, 366, 33, 378, 506, 569, 563], [58, 3829, 434, 3830, 3831, 14, 1484, 3832], [84, 37], [9, 8, 1704, 3833, 1318, 3834, 477, 158, 3835, 259, 3836, 171, 132, 321, 2, 2, 418, 4, 158, 454, 690, 300, 14, 79, 254, 11, 108, 39, 431, 1693, 431, 3837, 22, 9, 8, 845, 9, 8, 54, 2306, 2, 499], [99, 456, 23, 51, 1321, 16, 122], [15, 3838, 342, 3839, 1705, 3840, 60, 7], [60, 61, 11], [98, 948, 748, 806], [133, 35, 1700, 106, 3841, 118, 19, 239, 2], [2, 56, 1124, 949], [3842, 3843, 2007, 1919, 3844, 3845, 1588, 1690, 10, 1319, 668, 607], [15, 2307, 3846, 371], [480, 1425, 179, 61, 11], [106, 4, 3847, 3848, 3849, 2258, 3850, 1865, 2308, 3851, 2309], [335, 339, 292, 3852], [556, 952, 994, 165], [115, 72, 286, 3853, 109, 226], [76, 13, 848, 144, 3854], [9, 8, 61, 2310, 503, 1199, 2311, 370, 1397, 37, 1706], [7, 83, 106, 17, 177, 79, 74, 67, 630, 322, 49, 93, 2312, 2312, 3855, 20, 261], [167, 904, 965, 189, 645, 22, 155, 75, 149, 51, 402], [23, 11, 1863, 188, 89], [62, 89, 7, 56, 106, 621, 72, 11, 15, 85, 3856, 3857, 27, 1511, 34, 2313, 85, 120], [7, 24, 68, 17, 29, 177], [218, 58, 2189, 51], [2314, 640, 328, 595, 954, 908, 70, 595, 611, 182, 158, 1335], [101, 297, 428, 1584, 66, 38, 40, 641, 102, 936, 47, 3, 164, 112], [2, 19, 13, 41, 362, 2315, 3858, 299, 236, 64, 458, 3859, 37, 23, 64, 39, 3, 133, 360, 13], [50, 1097, 1707, 84], [3860, 3861, 565, 69, 260, 3862, 3863, 3864, 1626], [226, 31, 3], [33, 411, 290, 4, 2208, 3865, 557, 3866, 3867, 758], [68, 17, 2, 177, 5, 921, 27], [2316, 647], [134, 44, 3868], [209, 391, 3869, 320, 617, 831, 744, 46, 451, 3870, 1199, 64, 249, 2272, 16, 63], [171, 430, 128, 3871, 3872, 25, 128, 59, 51, 1670, 6, 23, 3873, 6, 612, 19, 12, 1314, 566, 48, 25, 1314, 19, 1708, 2317], [1177, 181, 1096, 1095, 3874], [26, 1125, 433, 245, 3875, 3876], [2], [248, 217, 323], [576, 5, 301, 470, 530, 264, 281, 10, 343, 465, 198, 32, 429, 1379, 91, 857, 125, 97, 978, 265], [1336, 6, 586, 612, 20, 312, 60, 7, 16, 11, 82, 107, 57, 88], [12, 685, 1709, 3877, 617, 144, 2226, 1709, 93, 1562, 3878, 42, 375, 3879, 2318, 3880, 3881, 64, 1709, 953, 1710, 1126, 3882, 3883, 234, 11, 1115, 33], [34, 991], [73, 732, 2, 517, 251, 854, 6, 30], [13, 4, 55, 268, 1711, 246, 412], [1612, 20, 138, 1656, 11], [173, 16, 53, 711, 435, 103, 75], [176, 616, 3884, 3885, 262, 569, 387, 176, 274, 219, 243, 457, 19, 6, 32, 1113, 3886], [297, 420, 417, 52, 1020, 835, 40, 105, 53], [137, 67, 69, 12, 49, 13, 1113, 229, 11, 154, 4, 18, 66], [39, 332, 44, 1272, 1545, 7], [1382, 1986, 1099, 2, 332, 56, 1510, 202, 1163, 849, 1274, 1957], [378, 371, 667, 355, 332, 117, 3887, 180, 3888, 353, 2319, 51, 315, 573, 3889, 137, 67, 6, 2138], [62, 1712, 180, 663, 3890, 1713], [25, 2320, 1440, 27], [663, 1946, 9, 8, 3891, 9, 8, 287, 85, 1162, 408, 3892, 3893, 355, 565, 136, 3894, 287, 3895, 480], [37, 1171, 55, 178], [7, 24, 240, 152, 144, 4, 616, 49, 14, 268, 150, 88, 2, 74, 6, 205, 5, 715, 677, 252], [47, 81, 1231, 3, 1337], [357, 850, 35, 336, 529, 3896, 2317, 3897, 69, 3, 108, 114, 850, 357, 197, 2, 26, 94, 850, 69, 447], [181, 223, 11, 79], [889, 50, 477, 3898, 735, 741, 2234, 3899, 332, 778, 4, 642, 1556, 2321], [555, 235, 4, 17, 14, 9, 8, 18, 289, 2322, 168], [70, 355, 714, 896, 27, 639, 11, 111, 600, 897, 802, 665, 1047], [195, 4, 46, 3900, 3901, 352, 109, 822], [786, 3902, 3903, 1197, 913, 148, 36, 2, 372, 13, 313, 3904, 141, 359, 372], [262, 3905, 387, 26, 2, 290, 16, 1714, 219, 55, 41, 1260, 43, 2, 200, 65, 1292], [772, 2, 674, 556, 197, 5, 845, 3906], [42, 103, 345, 590, 825, 534, 109, 208, 37, 705], [3907, 377, 3908], [1892, 480, 3909, 3910], [84, 15, 949, 2, 3911, 529, 85, 1715, 1060], [57, 1854, 3912], [10, 65, 1716, 40, 66, 730, 3913, 47, 3, 424, 3914, 3, 10, 327, 373], [473, 59, 139], [101, 187, 179, 337, 101, 339, 337, 1254, 3915], [1127, 3916, 3917, 3918, 3919], [416, 225, 392, 124, 513, 554, 228, 3, 439, 266, 440], [288, 518, 568, 29, 189, 1845], [5, 1492], [220, 29, 655], [1023, 2236, 78, 5, 953, 229, 22, 3920, 1126, 505, 1414, 435, 2, 130, 256, 135, 3921, 3922, 3923, 773, 175, 615, 1338, 33], [212, 330, 189, 1230, 15, 68, 259, 11, 29, 22, 31, 1472, 144, 72, 23], [192, 11, 27, 20, 1644], [3924, 21, 273, 3925, 430, 3926], [1627, 1112, 145, 194], [38, 38, 57, 203], [29, 156, 74, 260, 1331, 1332], [101, 297, 428, 1328, 66, 118, 40, 641, 102, 936, 47, 3, 164, 112], [253, 3927, 2, 74, 6, 1717, 205, 2], [85, 50, 3928, 516, 1540], [20, 1718, 19, 587, 926, 1234, 89], [148, 136, 9, 8, 3929, 3930, 14, 575, 3931, 3932, 9, 8, 38, 893, 21, 12, 57, 749, 1339, 2323, 162, 3933, 749, 912, 41], [276, 219, 4, 1124, 570, 213], [935, 6, 3934, 3935, 828], [99, 52, 136, 290], [2324, 1027, 90, 46, 86, 37, 91, 166, 602, 2, 2324, 33, 22, 33, 558], [12, 133, 282], [658, 29, 74, 92, 1276, 49, 1276, 438, 27], [1327, 1174, 189, 745], [741, 95, 1589, 18, 2325, 2077, 104, 3936, 802], [819, 340, 68, 1688, 30, 568, 29, 150, 46, 334, 398, 380, 259, 14, 1340, 121, 26, 29], [7, 24, 65, 55, 2, 3], [450, 3937, 30, 82, 35], [1120, 464, 231, 342, 3938, 1120, 281, 510, 361, 421, 314, 22, 1120, 607, 91, 2326, 193, 125], [868, 35, 966], [146, 294, 35, 1710, 306, 329, 13], [138, 3939, 3940, 13, 3941, 3942, 3943, 3944, 234, 858, 885, 501, 16, 11], [408, 1341, 4, 196, 11, 61, 1976, 1586], [21, 596, 1034], [345, 3945, 51, 302], [1000, 588, 3946, 14, 1376, 11], [71, 1719, 318], [165, 154, 1203], [42, 3947, 478], [71, 3, 3948, 76, 3949], [58, 1921, 3950, 3951, 2, 74, 67, 3, 30, 181, 2157], [640, 250, 314, 138, 59, 175, 569, 146, 197, 79, 383, 27, 96], [416, 225, 392, 124, 513, 554, 228, 3, 439, 266, 440], [38, 2, 482, 13, 30], [3952, 15, 196, 1592, 1593], [368, 2327, 1380, 15, 411, 3953, 15, 1433], [248, 2], [405], [866, 3954, 1720, 2328, 61, 17, 3955, 456, 3956, 329, 1198], [2329, 65, 67, 3957, 3958, 3959, 182, 3960, 3961, 3962, 3963, 3964, 3965, 3966, 2329, 182, 9, 8, 3967, 3968, 3969, 109, 615, 3970, 3971, 16, 454, 3972, 3973, 3974, 3975, 3976, 3977, 3978, 3979, 3980, 9, 8, 313, 3981], [328, 968, 145, 478], [131, 40, 1442, 464, 546, 80, 263, 390, 286, 3, 1007, 135, 34, 1600, 224], [3982, 3983, 2, 32, 2, 275, 3984, 19, 174, 2, 32], [423, 1124, 3985, 3986, 3987], [3988, 345, 3989, 199, 13], [45, 3990, 3991, 722, 3992, 3993, 3994, 364, 3995, 80, 198, 47, 2029, 78, 80, 3996, 148, 302], [2171, 294, 727, 1450], [290, 582, 1102, 154, 633, 127, 783], [152, 29, 15, 450, 6, 30, 765, 49, 55, 25, 270, 715, 909], [5, 245, 97, 87, 105, 200, 32, 1721, 43, 91, 2330, 317, 694, 118, 28, 200], [19, 52, 134, 348, 44, 2331, 79, 10, 213, 40, 10, 18, 10, 538, 46, 3], [192, 207, 104, 2332, 299, 488, 550, 17, 2333, 3997, 846, 2, 16], [148, 2, 12, 391, 729, 112, 110, 144, 246, 3, 1526, 358, 521, 3998, 28], [170, 215, 924, 231, 149, 1342, 1666, 231, 360, 100, 1342, 2334, 360, 108, 146, 42, 1330, 31], [576, 101, 16, 90, 2, 503, 80, 78, 361, 3, 28, 186, 213, 327, 527, 238], [137, 67, 77, 2335], [258, 82, 573, 13, 212, 426, 41], [2158, 151, 435, 580, 1722], [25, 1343, 3999, 480, 53], [1723, 4000, 1386, 1723, 317, 2336], [71, 16, 122], [241, 77, 115, 113, 103, 127], [339, 361, 243, 41, 9, 8, 303, 59, 243, 41, 577, 4], [86, 13, 1616, 4001, 183, 4002], [1594, 4003, 1179, 2337, 211, 15], [30], [565, 215, 126, 159, 1724, 1725, 159, 4004], [27, 1420, 66, 860, 100, 2338, 4005, 403, 2339, 382, 66, 487, 47, 3, 78, 382], [5, 301, 1422, 431, 115, 97, 1344, 270, 1202, 105, 200, 32, 716, 1488, 1025, 1489, 265, 2340], [799, 12, 116, 749, 1888, 1258, 1032, 36, 115, 523, 14], [129, 4006, 199, 4007, 446], [35, 336, 160, 376, 551, 4, 742, 4, 41, 14, 165], [124, 5, 348, 1699, 210, 4, 836, 1098, 1673, 102, 5, 44, 851, 1051, 112, 70, 607], [276, 235, 13, 75, 127], [4008, 87, 161], [777, 59, 2341, 209, 39, 36, 1343, 849, 1421, 4009], [576, 5, 301, 530, 281, 264, 190, 10, 343, 681, 198, 32, 429], [1627, 223, 621, 4, 181], [1590, 227, 208, 115, 143, 345, 4010, 4011, 37, 4012, 306], [193, 326, 19, 324, 4013, 4014], [678, 2, 4015, 4016, 2, 4017, 84, 4018, 1290, 26, 4019, 200, 274, 394, 4020, 4021, 417, 242, 432, 114, 4022, 4023, 2169, 2260], [916, 351, 35, 4024, 2342, 12, 160], [416, 225, 392, 124, 513, 554, 228, 3, 439, 266, 440], [36, 4025, 724], [31, 1945, 4026, 1426, 193, 325, 27, 39, 4027, 311, 64, 231, 457, 114, 813, 77, 101, 179], [2, 2343, 96, 1838, 68, 96, 693, 182, 5, 222], [14, 304, 1204, 1726, 90, 178, 23, 17, 555], [45, 60, 2, 4, 32, 1727, 4028, 511, 54, 150, 36], [47, 22, 1345, 66], [248, 326, 144, 133, 2344, 193, 51], [179, 2, 170, 170, 852, 11, 99, 337, 901], [1444, 4029, 4030, 1715, 4031, 4032], [211, 1708, 153, 928, 322, 4033, 116, 839, 273, 4034, 128, 168, 69, 258], [38, 38, 4035], [108, 353, 1659, 4036, 1220, 2345, 1396, 421, 1220, 1024, 2, 12, 299, 748, 4037], [45, 4038, 164, 1068, 210, 52, 134, 40, 1244, 32, 138, 175, 4], [2, 12, 4039, 1728], [357, 4040, 187, 1560, 267, 215, 2346, 16, 215, 158, 63], [121, 969, 4041, 245, 97, 4042, 2347, 250, 4043, 2348, 250, 2347, 887, 721, 424, 37, 49, 130, 250, 686, 2349, 1729], [379, 110, 210, 52, 221, 44, 512, 295, 54, 202, 331, 543, 538, 3, 46, 539, 960], [82, 104, 163, 589, 904], [212, 244], [891, 1706, 2350, 229, 87, 21, 131, 414, 373, 599, 135, 1043, 2351, 224], [1004, 362, 11, 762, 4044, 123, 51, 114, 595, 201], [593, 14, 2294, 2352, 446], [4045, 1730, 31, 74, 67, 4046], [4, 1731, 4047, 19, 4048, 877, 12], [71, 15, 366, 1346, 2353], [116, 518], [6, 96, 738, 1114, 1128], [19, 52, 134, 348, 44, 2331, 79, 10, 213, 40, 10, 18, 10, 538, 46, 3], [532, 84, 4049, 83, 333, 763, 342, 231], [2354, 2355, 4050, 4051, 4052, 2, 49, 4053, 12, 4054, 26, 917, 4055, 146, 4056, 2, 265, 541, 5, 4057, 274, 20, 432, 261], [4058, 263, 390, 110, 2, 2, 3, 55, 1518, 816, 34, 291, 1519, 224, 2191, 817], [115, 255, 119, 109], [45, 559, 177, 2, 113, 92, 18, 41, 66, 251, 818, 261], [244, 2, 279, 142, 2], [351, 524, 2356, 65, 3, 431], [38, 37, 38], [], [86, 85, 61, 4059, 165, 873, 254, 4060, 2201, 357, 1374, 4], [525, 585, 51, 14, 59, 1232, 36, 1026, 455, 95], [20, 206, 351, 197, 725, 595, 1381], [873, 30, 2357, 4061, 30, 273, 4062], [73, 387, 2285, 2358, 215, 1732, 146, 140, 1732, 262, 2359, 174, 75], [29, 74, 6, 43, 705], [106, 438, 286, 4063, 162], [5, 780], [481, 4064, 4065], [68, 71, 583, 218], [98, 93, 349, 93, 1509, 48, 469, 462, 647, 1667], [29, 881, 2360, 49, 397, 25, 30, 247], [741, 53], [62, 4066, 158, 158, 4067, 2361, 4068, 436], [1733, 5, 4069, 2362, 4070, 240, 172, 340, 1658, 898, 57, 34, 2219, 1194, 184, 1532, 231, 573], [4, 1286, 836, 443, 297, 348, 1098, 2149, 40, 127, 250, 18, 102, 1098, 404, 32, 2150, 33, 135, 142, 1621], [30, 147, 157], [2281, 386, 326, 180, 659, 1551, 431, 74, 67, 6, 647, 4071, 21, 668, 4072], [278, 81, 573, 39, 59, 4073], [4074, 73, 2, 315, 1724, 109, 4075], [3, 59, 154, 27, 7, 48, 2363, 14, 7], [4076, 151, 2364, 71], [4077, 4078, 290, 56, 613, 326, 444], [25, 214, 4079], [4080, 6, 413, 223, 4081], [62, 209, 99, 37, 70, 11], [16, 4082, 4083], [276, 35, 19, 4, 139], [311, 175, 277], [23, 660], [434, 4084, 98], [1069, 50, 2365, 66, 2222, 26, 2, 47], [4085, 102, 28, 46, 443, 1674, 695, 443, 1685, 1685, 2271, 84, 645, 4086, 4087, 13, 33, 102, 32], [712, 1347], [1654, 156, 812, 2, 247, 152, 2, 187, 542, 5, 4088, 13], [47, 64, 2, 965, 27, 9, 459, 8, 4089, 692], [4090, 293, 164, 197, 78, 10, 283, 44, 2366, 1068, 3, 210, 146, 262, 4091, 43, 365, 601, 466], [4092, 2367, 1716, 28, 1398, 624, 256, 135, 4093, 4094], [167, 50, 60, 109, 969, 64, 329, 19, 275, 2352, 128, 590, 1734, 1734, 160, 1074, 4095], [4096, 83, 706, 2284, 1508, 653, 328, 4097, 660, 820, 706, 23, 36, 4098, 4099, 4100], [241, 564, 706, 87, 16, 454, 1092, 4101], [133, 29, 916, 31, 178, 691], [52, 4102, 1307, 97, 1320, 4103, 300, 39, 2368, 5, 90, 751, 141, 59, 147, 684], [324, 30, 4104], [184, 84, 1434, 489, 2307], [39, 12, 176, 70], [1129, 1735, 2369, 189, 4105, 2369, 1210, 481, 2313, 4106, 719, 4107, 64, 1735, 1129, 4108, 54], [4109, 72, 785, 4110, 205, 140, 2370, 49, 4111, 4112], [248, 209, 214], [152, 2216, 55, 129, 788, 6, 381, 184, 6, 23, 469, 2371], [2372, 498, 97, 223, 1130, 97], [444, 685], [4113, 1736, 4114, 4115, 1736, 4116, 4117, 4118, 4119, 2373, 4120, 2374, 2375, 2373, 2376, 4121, 4122, 1087, 2374, 2375, 1087, 2376, 1348, 4123, 1087], [166, 602, 2377, 1737, 1169, 2, 197, 12, 2378, 11, 5, 4124, 4125, 26, 926, 4126, 46, 855, 142, 421, 146, 46, 146, 2377], [20, 19, 4127, 613, 1738, 550], [61, 22, 225, 66], [21, 289, 453, 196], [922, 181, 9, 17, 8], [26, 2, 455, 428, 1554, 49, 243, 4128], [1726, 215, 151, 1506, 410, 57, 4129, 4130, 211], [452, 330], [151, 2379, 2380, 1303, 16, 1739], [129, 165, 772, 2381, 2356], [593, 61, 2310, 503, 1199, 2311, 9, 8, 175, 163], [2382, 367, 116, 183, 771, 4, 480, 1740, 77, 155, 178, 417, 11], [10, 380, 297, 756, 465, 297, 4, 307, 53, 10, 22, 2383, 186, 53, 33, 166], [873, 4131, 263, 396], [280, 531, 453, 69, 12], [698, 2384, 123, 267, 376, 2385, 519, 3, 4132, 125], [19, 52, 134, 348, 44, 4133, 10, 213, 40, 10, 18, 10, 538, 46, 3], [276, 830, 12], [132, 484, 505, 4134, 89], [572, 419, 430, 4135, 42, 4136, 4137, 104, 430, 4138, 1922, 847], [51, 848, 421], [73, 350, 92, 819], [2386, 31, 1081, 1082, 426, 30], [288, 2, 81], [4139, 1295, 1104, 396, 267, 2387, 700], [391, 1315, 13, 792, 531, 196], [254, 260, 59, 434, 4, 2114, 4140], [114, 5, 171, 5, 299, 55, 507, 670, 758, 2, 2, 141, 2, 758, 5, 1126, 141, 97, 2081, 4141, 233, 2388, 1348, 84, 64, 3, 15, 213, 1348, 45, 82, 4142, 4143, 211, 4144, 884, 4145, 4146, 4147, 4148, 2047, 4149, 4150, 4151, 4152, 240, 521, 3, 2], [7, 24, 273, 330], [4153, 65, 549, 2, 2389, 4154, 2, 59, 173, 2, 674, 1498, 193, 2277, 173, 182, 206, 86, 2, 674, 259, 206, 4155, 173, 2390, 805, 4156, 4157, 4158, 4159, 23, 4, 182, 300, 327, 2390, 233, 34, 233, 1031], [4160, 4161, 970, 4162, 1088, 4163, 491, 20, 57, 1117, 1033], [25, 42, 883, 219, 117, 1074, 1687], [733, 20, 4164, 57, 12, 1117, 1033, 725, 11, 6, 58, 20, 36, 107], [4165, 379, 161, 212, 2112, 1675, 470], [770, 72, 79, 4, 72, 222, 92, 2, 4166], [235, 161], [3, 7, 104, 3], [50, 310, 39, 674, 1561, 310], [707, 2, 22, 4167, 185], [17, 914, 4168, 1300, 4, 1115, 1711, 138, 6, 649], [1070, 2391, 41, 317, 6, 1349, 4169, 1349, 4170, 314, 38, 372, 968, 4171, 175, 615, 2392, 1349, 601], [129, 29, 520, 2168, 4172, 381, 175, 1188], [4173, 471, 690, 160, 4174, 1638, 160, 77, 3, 2120, 1604, 208, 2393], [63, 1299, 227, 11, 122, 13, 231, 77, 197, 312, 14, 1453, 1639, 809, 378, 672, 672, 2183], [1350, 25, 2394, 1878], [98, 304, 235, 52, 136], [134, 102, 5, 467, 105, 53, 32, 4175, 307, 102, 10, 4, 4176, 48, 5, 90, 28, 102, 46, 644, 607], [179, 61, 822], [1923, 4177, 4178, 67, 4179, 4180, 4181, 4182, 4183, 67, 44, 450, 4184, 67, 488, 488], [174, 1100, 230, 13, 257, 79], [1211, 161, 25, 344, 604, 2395, 12, 407], [10, 343, 465, 794, 245, 97, 886, 32, 1445, 4, 343, 887, 32, 238, 43, 365, 289], [18, 547, 118], [131, 355, 714, 896, 27, 639, 11, 111, 600, 897, 802, 665, 1047], [1830, 1831, 24, 29, 133, 1351], [1654, 525, 1131, 2, 75, 10, 48, 3, 34, 2396, 34, 48, 2], [15, 9, 8], [2397, 676, 206, 145], [147, 157, 718, 21, 139, 1339], [285, 2, 559, 83, 216, 285, 1623, 435, 269, 1260, 42, 126, 43, 2, 162, 261], [717, 47, 541, 4185, 2398, 4186, 376], [233, 59, 212, 510, 18, 750, 4187], [45, 60, 2, 26, 7, 104, 93, 18, 2, 735, 69, 4188, 47], [32, 3, 78, 943, 163, 174, 17, 151, 44, 1741, 560, 2399, 1075, 208, 33, 2400, 91, 4189, 317], [452, 144, 152, 568, 170, 752], [707, 389, 274, 2, 468, 96, 1201, 247, 452], [4190, 969, 1856, 2], [68, 17, 29, 74, 27], [86, 2, 1179, 4191, 460, 57], [45, 83, 4192, 17, 315, 4, 105, 11, 479, 16, 63, 4, 30, 79, 563], [150, 21, 6, 34, 4, 31, 708], [31, 27, 94, 374], [2, 2175, 696, 4193], [7, 160, 21, 81], [52, 1952, 157, 1154, 116, 5, 515, 28, 10, 364, 531, 1477, 1953, 125, 32, 23, 182], [72, 25, 54], [12, 411, 4194, 165, 383, 182, 1269, 15, 675, 100, 63, 19, 92, 27, 191], [31, 16, 16, 478, 1742], [270, 707, 4195, 4196, 335, 4197, 271, 184], [673, 1743, 4198, 1021, 39, 2202, 4199], [1000, 30, 2, 223, 1744, 4200, 100, 546, 2, 405, 167, 4201, 81, 4202], [84, 718, 391, 1437, 95, 14, 163, 562, 57], [7, 120, 81, 346, 350], [58, 89, 137, 67, 4, 282, 27, 2259, 754, 2401, 18, 19, 13, 4], [50, 253, 44, 1857, 7, 294, 4203, 93, 1304, 23, 2154, 2192, 325], [7, 94, 74, 260, 96, 191, 124], [1901, 960, 9, 8, 971], [50, 153, 214, 257, 4204], [95, 24, 2, 881], [2402, 185, 1620, 44, 1337, 4, 24], [29, 59, 14, 259, 156, 121, 4205, 334, 568, 185], [149, 17, 2372, 579], [10, 297, 46, 193], [47, 3, 164, 112, 1132, 1745, 191, 190, 87, 80], [188, 4, 18], [276, 2403, 90, 194, 18, 77], [492, 45, 326, 733, 15, 52, 1243, 1597, 74, 67, 43, 415, 292, 711, 157, 83, 142, 4206, 797, 157, 2108, 65, 28, 1265], [368, 6, 1105], [7, 1091, 55, 688, 65, 2, 542, 13, 30, 127], [673, 15, 450, 384, 41, 2388, 787, 1744, 1381], [95, 231], [193, 446, 1191, 123, 1908, 469, 2404, 745], [2, 35, 4207, 5, 4208], [553, 4209, 4210, 621, 332, 385, 865, 896, 182, 117, 124, 328, 66, 4211, 66, 66, 113, 66, 1492, 1746, 306], [26, 96, 226, 350], [101, 333, 85, 814], [7, 1340, 4, 5, 65], [39, 531, 20, 69, 20, 111, 2, 236, 318, 4212, 20, 990, 2, 39, 4213, 2, 1525, 2, 12, 4214, 587, 2, 1118], [16, 122, 488, 3, 308], [83, 167, 4215, 1352], [55, 150, 20, 401], [13, 30, 23, 100, 17, 272, 95, 846], [52, 136, 723, 7, 153, 479, 4216, 397, 73], [276, 518, 35, 128, 799, 117], [4217, 4218, 366, 1233, 784, 4219, 234, 55, 1348, 2405, 16, 946, 53], [235, 933, 63, 2406, 41, 352, 150], [970, 1088, 107, 85, 1708, 535, 399, 1077, 161, 4, 107], [38, 294, 13, 127, 188, 69, 257], [263, 17, 379, 110, 2, 2, 80, 78, 361, 3, 28, 186, 213, 327, 527, 238], [220, 152, 96, 338, 518, 24], [137, 67, 2095, 63, 294, 476, 4, 320, 257], [86, 1176, 570, 292, 1124, 35, 557, 571, 1109], [60, 57, 242, 386, 37, 2, 79, 20, 1601, 118], [93, 2, 2407, 585, 280, 12, 1297, 4220, 669, 4221, 21, 55, 4222], [361, 387, 246, 848, 435, 168, 4223], [4224, 18, 2408, 528, 535], [636, 152, 106, 15, 17, 902, 425, 129, 6, 10, 335, 1014, 3, 2, 2409, 247], [76, 750, 17, 449, 4225], [461, 302, 152, 642, 991, 51], [1747, 332, 51, 4226, 103, 14, 982], [500, 1748, 60, 61, 140, 455, 73, 927], [165, 4227, 750, 313], [73, 1219, 2, 26, 199, 277, 2, 4228, 765, 4229, 1243, 16, 26, 191, 2235, 52, 136, 43, 2, 4230, 1214], [4231, 1101, 840, 4232, 840, 1126, 4233, 94], [26, 2, 226, 31, 1692, 269, 350], [57, 176], [501, 27, 150, 9, 459, 8, 54], [2410, 44, 349, 471, 504, 1053, 500, 33, 722, 249, 174, 332, 37, 2, 2, 4, 30, 20, 2], [16, 122, 217], [679, 145, 485, 963], [82, 544, 155, 4234], [107, 129, 21, 129, 19, 129, 20, 129], [81, 233, 1749, 165, 676, 14, 774, 17, 88], [1468, 236, 199, 15, 1983, 55, 199, 435, 16, 853], [241, 284, 395, 4235], [984, 2411, 310, 104, 99, 55, 11, 861, 632, 231, 1133, 237, 237, 807, 1529, 153], [579, 303, 4236, 4, 2397, 497, 261, 292, 303, 44, 797, 4237, 4238, 624, 96, 4239, 28, 186, 11, 33, 823], [15, 1013, 742, 139, 19, 6, 2412, 2413, 2414, 2415, 320, 168], [86, 1402], [889, 2, 14, 4240, 292, 1190, 1327, 548, 1750, 533, 4241, 4242, 51, 316, 162, 4243], [68, 150, 35, 257, 697, 340, 6, 279, 24, 1751, 288], [76, 39, 637, 757], [1752, 4244, 30, 4245, 49, 4246, 128, 219, 316, 75, 631, 17, 159], [367, 183, 177, 52, 136, 333, 763, 496, 226], [610, 4247, 20, 1753, 44, 2105, 2227], [5, 297, 112, 869, 10, 376, 6, 420, 40, 125, 514, 448, 33, 32, 420, 33, 28, 200, 420, 256, 135, 1497, 1498], [176, 910, 1061, 1548, 88, 4248, 2319], [2416, 101, 1729, 221, 4249, 2416, 641, 28, 36, 199, 22, 221, 4250], [38, 38, 16, 757, 58], [88, 4251, 52, 77, 1688], [4252, 245, 1633], [368, 2417, 845, 15, 139, 1240, 4253, 2, 2, 736, 646, 319, 776, 2, 1261, 4254, 9, 8, 26, 728, 4255, 9, 8, 26, 198, 1078, 549, 9, 8, 26], [62, 85, 56, 1024, 1586], [1505, 121, 704, 49, 754, 1174], [62, 38, 15, 196, 524], [409, 388, 1062, 159, 398, 313, 466, 969, 76, 3, 4256, 22, 319], [62, 412, 58, 83, 254, 387, 717, 153, 53, 2051, 947, 53], [188, 9, 8, 4257], [977, 9, 8], [179], [767, 30, 54], [178, 163, 202, 25, 4258], [59, 4259, 290, 119, 456, 6, 356, 12, 93, 230, 535, 150, 63], [636, 246, 6, 1201, 34, 1084, 1019, 184, 288, 4260, 1084, 1019, 4261, 152, 15, 2418, 334, 374, 247], [152, 2, 156, 474, 1423, 96, 1754, 88, 24, 49, 165, 1271, 34, 677, 25, 48, 1116], [220, 7], [62, 209, 589, 30], [653, 31, 852, 30, 322], [70, 4262, 653, 4263, 44, 44, 534], [80, 6, 227, 164, 43, 91, 43, 1134, 28, 54, 2419, 624, 537, 925, 142, 432, 644, 47, 3, 41, 367], [552, 14, 760, 2004, 4264], [16, 122, 217, 99, 52, 136], [73, 387, 533, 2, 938, 2, 890, 16, 229, 4265, 483, 6, 118], [4266, 107, 4267, 6, 972, 188], [4268, 211, 161], [58, 12, 234, 1755], [1101, 4269, 396, 64, 1374, 421, 396, 4270], [139, 26, 639, 790, 78, 80, 18, 139, 1523, 64, 369, 4271, 118, 738, 18, 238, 135, 142, 4272], [106, 1475], [2420, 199, 4273, 6, 962, 34, 1396], [215, 37, 65, 36, 1756, 2421, 2422, 720, 990, 12, 1756, 2421, 359, 90, 1118], [39, 4274, 1571, 4275], [86, 100, 1757], [6, 7, 67], [748, 4, 369, 4276, 35, 273, 127], [2423, 214, 4277, 2354, 445], [285], [62, 4278, 267, 919, 61, 1758, 784, 314, 1587, 64, 2424, 54, 4279], [4280, 4281, 161], [1623, 193, 1426], [1729, 159, 27, 319, 256, 135, 66], [98, 137, 67, 100, 140, 4282, 253, 9, 8, 778, 4283, 53, 434, 4284, 4285], [21, 507, 212, 6], [2010, 4286, 4287, 1754, 1021, 508, 4288, 1036, 175, 100, 752, 449, 1510], [549, 4, 4289, 970, 61], [15, 2075, 143, 1009, 1109, 105, 163, 37, 1268, 356, 13, 378, 1029], [73, 669, 381, 522, 247], [11, 188, 188], [1116, 2425, 1271, 909, 4290, 260], [20, 838, 201, 1759, 1347], [148, 2, 12, 391, 729, 112, 110, 144, 246, 3, 1526, 256, 135, 1542], [609, 409, 8], [60, 18, 92, 595, 69, 18, 64, 594, 312, 362, 11], [15, 30, 82, 35, 973], [39, 12, 62, 1743, 140], [35, 333, 178, 121, 535, 438, 396, 161], [1127, 824, 352, 4, 371], [86, 571, 14, 163, 318, 469, 462, 409, 434, 408], [759, 1099, 34, 672, 2426, 152, 43, 29], [240, 170, 16, 322, 2], [2296, 121, 4291, 178, 4292, 4293, 131, 2427, 4294, 9, 8, 1760, 1826, 4295, 321, 4296, 9, 8, 1760, 236, 671], [2428, 698, 4297, 4298, 4, 376, 3, 10, 18, 41, 120], [98, 84, 228, 246], [15, 205, 4299, 963, 19, 232, 63, 195], [671, 22, 484], [28, 1933, 1197, 617, 21, 574, 5, 467, 48, 5, 32, 102, 894, 1934, 443, 894, 1020, 1466, 1478, 894], [450, 196, 466, 69, 12, 47, 49, 85, 21, 175, 346], [166, 112, 1353, 18, 376, 76, 4300, 91, 1135, 399, 1189, 2429, 603, 33, 622, 424, 120, 1135, 1583, 2430], [4301, 815, 1136, 838, 1136, 2431, 1136, 1431, 114, 44, 4302, 119, 4303], [39, 36, 610, 14, 4304, 1218, 54, 1761], [58, 137, 67, 177, 883, 16, 172, 63], [35, 2221, 727, 2, 13, 1260, 1539], [442, 202, 331, 293, 207, 543, 305, 283, 44, 10, 44, 442, 3, 2174, 10, 370, 1635, 43], [98, 2, 846], [336, 1058, 491, 171], [31, 1998, 25, 174, 4305, 317], [296, 59, 1000, 1916], [98, 367], [474, 2, 4306, 68, 17, 2, 74, 13], [10, 70, 1312, 10, 18, 70, 1028, 70, 138, 10, 686, 1148, 652, 91, 125], [16, 143, 2432, 300, 4307, 2432, 1354, 1192, 151, 19, 12], [280, 939, 2433, 62], [2, 286, 608, 88, 2, 74, 6, 121, 616, 149], [167, 568], [739, 10, 109, 169], [2381, 5, 1296, 335, 335, 2181], [456, 676, 290, 100, 53, 55, 11, 458, 556, 179, 564, 374, 34, 1018, 153, 72, 123, 1355, 179], [45, 40, 9, 8, 1599, 110, 949, 91, 2434, 125, 61, 117, 22, 10, 166, 215, 652, 2434, 125], [4308, 4309, 415, 4310, 2435, 820, 101, 842, 4311, 4312, 18, 138], [4313, 4314, 4315], [368, 83, 947, 4316, 83, 4317], [62, 209, 1233, 1555, 4318], [154, 30, 188, 89, 21, 72, 591], [461, 356, 2396, 2, 997, 150, 88, 15, 4319, 1736, 4320, 2, 81, 55, 81, 6, 142, 2, 24, 34, 2, 35, 4321, 193], [4, 4322, 4323, 349, 565, 13, 4324, 1002], [215, 864, 515, 3, 344, 14, 4325, 116, 1762, 322, 4326, 521, 704], [184, 685], [733, 212, 2436, 1495, 4327, 180, 1063, 388, 254, 115, 147, 1289, 99, 4328, 50, 64, 50, 4329, 50, 194, 4330], [298, 145, 53, 175, 922, 1111], [839, 799, 1588, 1568, 287, 610, 2437], [176, 675, 4331, 145, 604, 32, 41, 182, 265, 601, 201, 2130, 28, 166], [3, 48, 2333, 3], [73, 150, 4332, 21, 435, 951, 701], [795, 77, 4, 227, 988, 44, 707, 6, 399, 1077, 42, 196, 993, 21, 82, 623, 37], [555, 620, 4333, 2438, 165, 100, 63, 4334, 84], [84, 106, 160, 54], [4335, 346, 172, 726, 4336, 94, 4337, 35, 2439, 4338, 4339, 13, 128, 1457], [77, 22, 4340, 159, 451], [666, 4341, 1484, 309, 114, 1763, 491, 1326, 1288, 4342, 545, 51, 850, 377, 9, 8], [103, 2, 1432], [86, 2073], [22, 1764, 761], [179, 2, 119, 659], [1285, 300, 676], [29, 152, 68, 232, 127], [99, 337, 71, 187, 20, 862, 4343], [63, 359, 143, 58, 37, 4344, 4345, 1319, 197, 212, 143, 1556, 2321], [144, 113, 44, 89, 76, 22, 70], [4346, 2014, 1430, 103, 14, 4347, 693, 1063], [4, 181, 1096, 1095], [104, 205, 613, 252, 195, 516, 68, 152, 2274, 268, 974, 271], [524, 154, 1765, 4348, 60, 61, 11, 51, 26, 25, 172, 367, 371], [105, 11, 151, 143, 9, 8], [393, 798, 121, 75, 282, 88, 1728, 15, 124, 96, 463, 2, 177, 72, 88], [288, 330, 152, 401, 1230, 6, 702, 81, 161], [223, 209, 324, 2043], [194, 21], [592, 245, 78, 5, 755, 957, 281, 27, 18, 86, 656, 736, 210, 40, 43, 656, 358, 1316, 756], [2440, 151, 376, 851, 721, 776, 109, 32, 70, 851, 2440, 125, 34, 4349], [1137, 1668, 2441, 4350, 5, 66, 55], [41, 4351, 101, 922, 2, 1035, 2, 99, 37, 162], [359, 58, 217, 47, 48, 14, 1766, 214], [46, 97, 465, 4352, 768, 4353, 4354, 314, 22, 33, 146, 112], [9, 8, 2442, 2393], [7], [306, 58, 101, 4355], [29, 898, 75, 898, 252, 715, 330, 29, 25, 30, 149], [1764, 320, 180, 199, 843, 843, 34, 843, 1212, 437, 148, 34, 706, 249, 249, 34, 249, 158, 682], [2, 21, 4356, 147, 4357, 2, 144, 1753, 20, 4358, 4359, 4360, 4361, 4362, 4363, 4364, 1565, 4365, 1565, 20, 15, 39, 1753], [1041, 1756, 172, 99, 141, 58], [1723, 194], [129, 426, 562], [565, 161, 707], [1087, 71, 90, 52, 141, 909, 66, 4366, 4367, 4368], [73, 4369, 6, 1714, 940, 7, 14, 1765, 211, 35, 2443, 4370], [895, 246, 294, 58, 42, 178], [156, 21, 151, 2444, 340, 553, 31, 4371, 34, 4372], [35, 1767, 1537], [20, 1279, 529, 115, 881, 20, 108, 93, 57, 4373, 727, 4374], [145, 96, 178, 259, 482, 68, 49, 133, 571, 15, 244, 30, 159, 260, 317, 68], [84, 36, 1041, 116, 35, 1535, 100, 63, 4, 4375, 1356, 69, 12, 1204], [7, 671, 13, 237], [173, 615, 6, 1755, 37, 565, 95, 402, 183, 2006, 95], [55, 25, 485, 709, 397, 21, 42, 892], [39, 12, 657, 838, 4376, 1701, 36, 28, 314, 2445], [248, 790, 4377, 166, 16, 498, 1003, 4378, 46, 33, 164, 112], [1185, 133, 479, 444], [4379, 2, 12, 423, 2446, 384, 2275, 2445, 4380, 384], [490, 176, 85, 2070, 4381], [284, 4382, 2447, 429, 141, 723, 6, 2448, 141, 2036, 2], [4383, 51, 1768, 747, 272, 4384, 1505, 315], [52, 178, 222, 564, 52, 196, 724], [62, 86, 316, 32, 2, 532, 2, 4, 484], [4385, 466, 113, 547, 1046, 1079], [2, 4386, 4387, 4388, 1106, 4389, 782, 652, 166, 602, 4390, 146, 782, 4391, 46, 146], [36, 101, 37, 402], [190, 87, 80, 78, 303, 80, 3, 164, 112, 1132, 191, 203, 28], [20, 277, 189, 37, 4392], [29, 3, 56, 106, 259, 2449], [56, 258, 4393, 118], [77, 341, 62], [492, 711, 843, 46, 325, 344, 130, 4394, 4395, 40, 729, 112, 65, 1400, 28, 404, 32, 33, 46, 325], [4396, 76, 4397, 76, 1514, 337, 179, 1992, 76, 1563, 637, 27, 337, 4398], [131, 40, 301, 464, 546, 80, 263, 390, 110, 3, 135, 2450], [2, 739, 485, 25, 30, 240, 55, 25, 485, 75], [729, 328, 408, 132, 18, 174, 768, 1619, 100, 53, 965, 36, 4399], [15, 503, 1619, 17, 4], [267, 206, 35, 275], [58, 663, 4400, 2336, 63], [7, 318, 349, 849, 242], [4401, 121, 4402, 396, 2367, 22, 272, 4, 352, 14, 569, 22, 4403, 505, 2, 354, 306], [548, 575, 4404, 1086], [45, 391, 4405, 1604, 160], [268, 7, 168, 687, 2, 199, 6, 232, 892, 302, 119, 1618], [980, 1646], [14, 847, 4406, 250, 36, 1907, 4407, 515, 51], [85, 16, 4408, 579], [368, 398, 1769, 178, 4409, 2148, 2327], [12, 318], [1752, 2451, 168, 2243, 159], [288, 204, 59, 6, 1728, 17], [154, 11, 188], [1035, 369, 14], [268, 12, 35, 4, 587, 567, 1057, 113, 631, 191, 37, 472], [489, 548, 4410, 1430, 309, 2452, 21, 4411, 309, 2273, 34, 520, 964, 402, 122], [155, 339, 227, 1744], [234, 820, 413], [10, 27, 474, 113, 564, 699], [133, 360, 146, 569, 4412, 4413, 4, 62], [409, 9, 8, 122], [86, 4414, 242], [314, 142, 666, 1223, 2092, 2, 24], [13, 4415, 366, 33, 9, 459, 8], [548, 1564, 2241, 122], [39, 674, 310, 435, 1578], [9, 8, 803, 473, 1770, 964, 199, 3, 473, 111], [38, 407, 127], [4416, 4417, 4418, 89], [522, 144, 13, 1138, 22, 251, 1639, 4419, 144, 13, 2453, 22, 251, 1474, 144, 13, 92, 2, 22, 126, 65, 2, 158, 1335], [227, 140, 21, 4420, 588, 1524], [144, 114, 660, 215, 106, 243, 2454, 331, 76, 48, 19, 85, 121, 57, 1771, 243], [977, 44, 1707, 123, 12, 84, 14, 199], [4421, 4422, 4423, 4424, 4425, 4426], [27, 25, 619, 476, 4427, 188], [418, 9, 8, 213, 15, 969], [29, 4428, 68, 17, 29, 177, 840], [10, 3, 308], [2, 92, 5, 372, 1158, 162, 5, 2455, 4429, 175, 111, 10, 32, 2456, 2457, 5, 1706, 865, 96, 233, 2456, 4430], [732, 134, 221, 283, 44, 3, 3, 203, 224, 890, 3, 54, 1357, 40, 518, 508, 1772, 1206, 816, 34, 291], [288, 68, 4], [2, 205, 31, 1876, 15, 159, 393, 177, 161], [1276, 330, 486, 29, 59, 4431], [7, 170, 121], [71, 1385, 5, 198, 264, 281, 55, 984, 985, 684, 855, 4432, 4433, 337, 32, 510], [52, 505, 2078, 4434, 4435], [240, 25, 270, 49, 397, 167, 161, 156, 812, 2, 247], [490, 59, 605, 4436], [62, 326, 222, 13, 39, 52, 878, 769], [1773, 31, 408, 351, 3], [2, 237, 659, 482], [4437, 40, 314, 1286, 4438, 2458, 290, 250, 5, 40, 89, 18, 2458, 250, 22, 2, 10, 1774, 2302], [295, 958, 112, 10, 43, 652, 1134], [1000, 30, 1653, 167], [14, 174, 310, 476, 39, 12], [66, 4439], [84, 4440, 15], [2, 3, 4441, 7], [296, 41, 1152], [658, 1161, 2, 59, 820, 2, 156, 74, 88], [6, 4442, 447, 4443, 999], [36, 35, 178], [50, 1340, 1734, 4444], [237, 453], [21, 4], [461, 24, 74, 6, 43, 4445, 2261, 27, 697, 232, 577, 24, 1432, 1731, 2091, 2], [581, 310, 13], [73, 2, 35, 586], [6, 1761, 194, 352, 2459, 386, 4446], [62, 84, 2460, 4447, 1687], [4448, 56, 119, 199, 4449, 4450, 4451, 4452, 2461, 119, 267, 123, 1373, 23], [73, 581, 408, 971, 31], [61, 834, 584, 39, 2462, 4453], [508, 521, 26, 188], [532, 170, 2001, 292, 1567, 2463, 415, 1056, 940, 242, 446], [84, 172, 4, 7], [216, 13, 393, 4454, 4455], [734, 2464, 4456, 85, 218, 156, 278, 156, 735, 544, 1194, 1657], [346, 980, 1646, 18, 2, 75, 168, 10, 157], [325, 1267], [278, 4457, 2465, 4458, 4459, 1775, 1886, 853, 4460], [445, 4461, 5, 1122, 2295, 34, 759, 4462, 779, 4463, 4464, 784], [4465, 170, 170, 99, 852, 11, 71, 359, 299, 99, 337, 71], [230, 79, 123, 75, 127, 103, 25], [391, 2466, 296, 1174], [7, 407, 1672, 14], [10, 102, 60, 2467, 52, 448, 18, 33, 603, 120, 28, 1776, 102, 49, 130], [26, 2, 161, 1611, 672, 1099, 34, 759, 4466], [1324, 1151, 2, 1324], [50, 3, 75, 7, 1358], [248, 77, 544], [23, 726, 2468, 306, 557, 4467], [1143, 972], [89, 1377, 581, 4468, 655], [190, 382, 336, 123, 87, 78, 5, 382, 3, 10, 4469, 4470, 66, 68, 2, 36], [533, 1558, 300, 27, 26, 2, 737, 525, 143, 100, 269, 4471, 1550, 2], [4472, 2469, 2470, 4473, 566, 95, 4474, 386, 2471, 4475, 1126, 1236, 234, 1678], [493, 250, 22, 321, 65, 5, 90, 510, 26, 148, 85, 20, 2, 1912, 348, 1913, 254], [1993], [1023, 773, 97, 1534, 1302, 1106, 4476, 4477, 2103, 4478, 18, 4479, 55], [288, 259, 68, 165, 7, 24], [94, 426, 194], [101, 1777, 939, 2355, 4480], [173, 25, 1359, 472, 470, 13, 1412, 7], [45, 396, 9, 8, 1463], [4481, 148, 1066, 304, 2, 209, 565, 4482, 17, 56, 2, 92, 259, 300, 360, 389, 201, 5, 4483], [132, 1210, 4484, 4485, 2096, 287, 36, 445, 4486, 1778, 203, 94, 110, 747, 4487, 287, 23, 727, 1162, 23], [841, 56, 879, 42, 877, 10, 21, 12, 4488, 125], [165, 48, 777, 277, 272, 48, 95, 296, 318, 526, 1779], [4489, 4490, 49, 130, 250, 4491, 71, 2472, 4492, 10, 250, 61, 4493], [697, 55, 113, 79], [744, 63, 409, 37, 70, 60, 312, 1441, 61, 122], [889, 100, 63, 1764, 2425, 4494, 320, 181, 270, 446, 489, 17, 74, 67, 92], [4, 4495, 430, 1149, 740, 693, 89, 534, 9, 8, 999, 693, 610, 149, 89], [47, 13, 4496, 273, 4497, 4498, 4499, 26, 4500, 4501, 47, 4502, 4503, 4504, 2, 4505, 4506, 355, 4507, 1294], [4508, 661, 1757, 25], [4509, 6, 1479, 1480, 1622, 425, 334, 6, 1022, 389, 6, 651, 23, 1780, 1780, 1780], [45, 31, 27, 188], [363, 2, 1259], [276, 413], [42, 369, 139, 378], [166, 602, 2473, 52, 4510, 4511, 4512, 1122, 4513, 314, 828, 4514, 684, 4515, 146, 46, 146, 2473], [73, 1111, 1861, 269, 4516, 386, 129, 4517, 2, 1002, 4518, 285, 2, 133, 352, 930, 17, 728, 890, 129], [2, 519, 1372, 2, 800, 2332, 1178], [57, 199, 101, 98], [976, 618, 2, 4519], [132, 9, 8, 803], [252, 840, 4520, 185], [246, 9, 8, 54], [4521, 153, 1544, 580], [368, 15, 4522, 4523], [20, 175, 4524, 119, 21, 105, 17, 128, 149, 51, 13, 180, 93, 175, 11, 146, 105, 17, 372, 20, 105, 2474, 182, 108, 407, 128, 108, 4525, 93, 981, 64, 859, 42, 2254, 181, 758, 567, 20, 2337, 51, 20, 4526, 567, 206, 362, 668, 469, 2475, 147, 2225, 4527, 20, 175, 339, 1731, 2476, 146, 4528, 4529, 108, 362, 4, 105, 122, 248, 209, 11, 93, 14, 59, 187, 48, 75], [180, 37], [316, 119, 138, 199, 2346, 158, 1640], [558, 4530, 108, 882, 765, 4531, 558, 929, 2, 119, 5, 4532, 68, 2, 4533, 5, 1180, 68, 335, 4534, 1701, 335, 1682, 4535, 2060, 422, 141, 4536, 2, 4537, 71, 437, 845, 4538, 2, 144, 239, 1081, 4539, 501], [461, 24, 2, 400, 2, 540, 259, 4540], [2477, 196], [2237, 1311], [12, 1281, 132, 139, 161, 132, 18, 771, 626, 39, 4541, 95, 4542, 95, 149, 117, 2478], [21, 1940, 4543, 29, 482, 868, 4544, 152], [121, 1186, 4545, 1318, 4546, 2, 4, 113], [354, 52, 1129], [4547, 187, 117, 653, 986, 117, 834], [1712, 98, 314, 1046, 4548, 241], [351, 31], [245, 97, 10, 1249, 4549, 1139, 46, 41, 4550], [362, 79, 212, 13, 13, 88, 27, 4551, 362, 79, 1730, 451, 27, 501], [38, 38, 144, 13, 531, 196], [474, 2479, 34, 43, 24], [131, 40, 301, 464, 546, 80, 592, 155, 110, 2, 3, 373, 135, 4552, 43, 224], [144, 36, 567, 1763, 194, 380, 413], [4553, 72], [48, 2, 3, 78, 80, 2, 923, 5, 40, 944, 289, 2480, 1695], [4554, 1350, 1004, 61, 11, 927], [379, 110, 46, 210, 221, 1195, 512, 295, 54, 710, 18, 538, 46, 3], [873, 272, 314, 149, 328, 4555], [131, 40, 464, 546, 80, 263, 390, 286, 3, 1007, 135, 34, 1600, 224], [71, 308, 4556, 4557, 2481, 1360, 226, 27, 951, 338, 1257, 22, 110, 66, 937, 862, 853, 76, 779, 66, 4558, 1781], [7], [73, 2482, 2, 74, 67, 92, 279, 4559], [20, 60, 95, 4560, 1460, 749, 1052, 44], [500, 1782, 328, 1001, 1592, 1593, 383], [22, 484, 278, 9, 8, 17, 186, 63], [132, 1539, 139, 383, 62], [7, 75, 1301, 128, 19, 1884, 435, 2483, 2484, 630, 139, 4561, 278, 930, 200], [296, 153, 568], [416, 225, 392], [598, 5, 178, 2, 1010], [2344, 1544, 2476, 28], [117, 4, 194, 1076], [7, 24, 121, 68], [3, 1572, 1491, 69, 92, 4562, 970], [84, 160, 570, 213, 141, 69, 12, 4, 633], [426, 2485], [286, 5, 30, 9, 8, 213], [4563, 4564], [983, 4565, 4566, 600, 4567, 125, 923, 2486, 9, 8, 750, 1880, 4568, 2487, 4569, 2486, 567], [15, 42, 42, 309, 2488, 2489, 1434, 2, 2490, 1737, 18, 2489, 727, 28, 37, 2057, 2490, 49, 130, 2488, 4570, 2], [59, 16, 865, 58, 12, 2491, 1322, 954, 1694], [1361, 114, 154, 1350, 636, 1598, 316, 107, 4571], [1393, 2368, 147, 457, 14, 756, 14, 212, 1382, 1607, 2492], [2493, 591, 84, 160, 167], [62, 129, 129, 275, 31], [240, 994, 627, 41, 1577, 913, 1072, 147, 211, 2494], [204, 874, 30, 6, 962, 149, 397, 800, 399, 48, 2, 177, 38], [7, 93, 55, 744, 2, 26, 106, 36, 363, 2, 19, 4572, 4573, 898, 1325, 2, 363], [889, 2, 731, 139, 225, 101, 15, 4574, 665, 1062, 561, 2, 43, 4, 392, 1078], [670, 182, 2204, 206, 182, 676, 1255], [73, 82, 50, 4, 1875, 2232, 13, 914, 434, 36, 12, 6, 528, 2495, 59, 203, 9, 8, 803, 12, 294, 1333, 111, 148, 433, 724, 4575, 89, 69, 12, 19, 82], [51, 26, 16, 285, 15, 480, 569, 854, 167, 2496, 1783, 35, 4576, 854, 15, 450, 4577, 2018, 168, 910, 118], [9, 8, 563, 213, 213, 562, 1291], [71, 4578, 194], [23, 2303, 23, 4579, 98], [170, 51, 4580, 540, 2431, 4581, 4582, 2497, 123, 2079, 2497], [50, 31, 1270, 730], [627, 590], [4583, 1483, 58], [87, 80, 78, 3, 43, 4584, 1784, 1785, 224], [10, 18, 70, 406, 1686], [71, 281, 2019, 78, 53, 210, 1052, 47, 6, 961, 43, 365], [40, 66, 76, 166, 5, 319, 517, 1514, 1781, 4585, 4586, 862, 937], [85, 21, 211, 79, 12, 973, 14], [62, 38, 36, 4587, 4588, 478, 1742], [416, 225, 392, 124, 513, 554, 228, 3, 439, 266, 440], [732, 40, 233, 4589, 26, 3, 4590, 650, 5, 387, 314, 4591, 250, 4592, 4593, 429, 4594, 4595, 1362, 1786, 191], [669, 616, 1436], [5, 301, 1422, 431, 115, 97, 1344, 270, 1202, 105, 200, 32, 716, 1488, 1025, 1489, 265, 2340], [38, 38, 310, 237, 971], [280, 4, 5, 377, 65, 4596, 460, 22], [39, 36, 21, 4597, 551, 130, 1224, 81, 148, 535, 9, 8, 803], [104, 171, 69, 12], [29, 6, 30, 247, 81, 296, 113], [1631, 784, 122, 57, 664, 1660, 143, 58], [98, 982, 2498, 341, 2498], [332, 479, 11, 53, 757, 4598, 36, 21, 198, 4599, 4600, 12, 2499], [425, 24, 7, 70, 29, 24], [154, 30, 279], [7, 227, 66], [4601, 219, 64, 154, 1213], [798, 13, 792], [959, 173, 51, 268, 6, 235, 4602, 766, 30, 2457, 4603, 2452, 1459], [2, 1102, 21, 1334, 96, 4604, 321, 4605, 868, 2, 74, 42, 1334, 307], [605, 54, 746, 293, 331, 1836, 931, 1248, 55, 4606, 10, 134, 10, 3, 743, 404, 2427], [361, 218, 1315, 15, 403, 234, 16], [161, 129, 4607, 1345, 4608, 11, 4609, 4610, 377, 1363, 4611, 759, 4612], [972, 2034, 31, 13, 619], [263, 17, 379, 110, 2, 2, 342, 80, 78, 361, 3, 28, 186, 54, 327, 527, 238], [101, 174, 615, 71, 4613, 526, 1089, 1140], [4614, 66, 4615, 1655, 459, 228, 4616, 1828, 459, 117, 14, 4617], [1689, 1359, 43, 4618, 4619, 4620, 1787, 1689, 1359, 4, 10, 953, 4621, 124, 65, 616, 2500, 406, 43, 43, 2500, 46, 1302, 4622, 497, 210], [4623, 574, 4624], [4625, 1168, 188, 1476, 101, 371, 625, 17, 13, 79], [4626, 47, 100, 51, 21, 2501, 108, 2502], [131, 40, 301, 464, 546, 80, 592, 390, 110, 2, 3], [298, 22, 1931, 27, 451, 169], [4627, 244], [311, 81, 23, 51, 39, 730], [298, 1832, 411, 989, 4628, 4629, 4630, 125], [4631, 13, 31, 77], [948, 17, 2, 4, 2, 609, 42, 270, 27], [45, 82, 101, 154, 123, 371, 280, 6, 58, 356, 214, 60, 37, 162, 20, 255, 261], [298, 258, 612, 111, 783, 1032, 228, 1008, 371], [92, 4632, 307, 571, 1788, 37, 278, 346], [158, 158, 38, 436, 4633, 126, 143, 58, 158, 682], [115, 81, 582, 115, 4, 1356, 302, 2435], [7, 24], [2, 400, 22, 955, 666], [220, 962, 247], [633, 155, 649, 57, 139, 504, 742, 1524, 490, 183, 649, 588, 1103], [1255, 85, 126, 578, 4, 368, 258, 73, 139, 19], [1769, 109, 2048, 154, 27, 36], [7, 2132, 457, 2133, 2134], [84, 204, 412], [51, 423, 2362, 19, 2255, 4634, 2455, 83, 545], [379, 3, 46, 166, 221, 40, 54, 710, 18, 10, 538, 46, 3, 1280, 1297], [438, 1155], [403, 341, 380, 2503, 847, 244, 229, 755, 78, 3, 925, 1362, 1784, 1785], [359, 197, 197, 6, 2, 92, 582, 4635, 4636, 2504], [190, 382, 123, 4637, 78, 5, 382, 3, 10, 33, 4638, 4639, 4640, 4641], [7, 171, 4, 1895, 43, 2505, 79, 932, 932, 36, 26, 25, 1325], [330], [4642, 4643, 4644, 4645, 870], [3, 4, 245, 488, 9], [556, 427, 15, 1528, 877, 2506, 279, 24, 184, 725, 6, 4646, 17], [179, 1217, 4647, 339, 37, 355, 57, 234, 57, 21, 108], [131, 47, 3, 373, 87, 1512, 2054, 1067, 229, 502, 414, 43, 509, 256, 135, 598, 224], [71, 4648, 4649, 25, 235, 146], [65, 4650, 13], [461, 486, 2, 703, 321, 93, 407, 195, 562, 88], [11, 346, 11, 1638, 615, 1267], [256, 483, 21, 196, 971], [571, 1067, 413, 998, 525, 579, 447], [1652], [7, 311, 174], [37, 177, 621, 698, 243], [160, 128, 2338, 7], [82, 6, 11, 2507, 2508, 36, 20, 22, 255, 844, 629], [62, 38, 13, 79], [45, 82, 2, 26, 4651, 214, 83, 50, 127, 85, 74, 67, 37, 2, 79, 3, 20, 261], [321, 915, 204, 398, 5, 319, 778, 4652, 393, 132, 2, 1119, 321, 1119], [73, 1749, 831, 66, 1506, 4653, 90], [658, 285], [416, 225, 392, 124, 513, 554, 228, 3, 439, 266, 440], [68, 26, 2], [41, 168, 195, 49, 4654, 4655, 884, 4656, 1456, 169, 101, 316, 162, 187, 20], [109, 9, 8, 163, 1364, 2509, 211], [156, 1164, 2426, 24], [153, 243, 628, 6, 473, 4657, 2510], [1412, 2343, 18, 138, 7, 40, 44, 22], [900], [1123, 14, 333, 211, 4658, 2387, 2410, 89, 2233], [583, 1298, 2136, 780, 44, 289, 95, 302], [4659, 729, 112, 148, 12, 111, 3, 40, 373, 358, 4660], [10, 221, 283, 44, 202, 331, 207, 543, 442, 1149, 1388, 54, 746, 3, 743, 3, 404], [4661, 63, 25, 808], [292, 47, 22], [2511, 2485, 971], [1121], [311, 22, 1789, 319, 517], [20, 2, 82, 26, 2, 106, 329, 1137, 1326, 32, 1113, 4662], [368, 4663, 2512, 23, 228, 180, 298, 1790, 194, 589, 379, 4664, 23, 4665], [2, 111, 17, 366, 507, 21, 642, 159], [184, 555, 918, 41], [73, 669, 1201, 274, 88, 381, 25, 218, 114, 274, 63, 10, 21, 92, 750, 4666], [50, 483, 153, 338], [4, 4667, 55, 4668, 1317], [441, 304, 242, 27, 7, 171, 132, 23, 70, 242], [2076, 4669, 4670, 2328, 4671, 4672, 4673, 1052], [1108, 1337, 1229, 1229, 182, 1108, 1337, 4674], [101, 70, 85, 814, 2286, 106, 1156, 835, 243, 111, 77, 41, 396, 79, 188, 451, 11], [272, 95, 483], [71, 1531, 4675, 113, 3, 2513, 662, 4676, 1872, 30, 253, 40, 178, 4677, 1347, 4678, 99, 4679], [62, 575, 2514, 74, 67, 314, 250, 306, 861, 4680, 64, 1339, 64, 23], [225, 4681, 2097, 4682, 9, 459, 8, 4683, 4684, 225, 561, 26, 9, 459, 8, 2515, 517, 4685, 9, 8], [829, 1096, 34, 96, 4686, 6, 720, 863, 829, 483, 1307, 26, 863, 4687, 4688, 771, 477, 6, 285, 291], [4689, 75, 4690, 261], [778, 409, 1278, 374, 42, 126, 103, 2182, 27, 167, 4691], [417, 443, 102, 467, 835, 2, 797, 443, 1130, 695, 443, 1487, 1130, 4692, 4693, 4694, 4695, 867, 49, 130, 358, 142, 941, 28], [1080, 1080, 223, 2516, 806, 37, 129, 402], [397, 397, 36, 219, 6, 56, 1663, 2517], [384, 499, 21, 1343], [68, 31, 1140, 1119, 5, 44], [15, 9, 8, 77, 115, 113], [4696, 60, 210, 139, 21, 842, 146, 140, 4697, 249, 739, 1336, 417, 169], [12, 4698, 211, 95, 59, 81, 103, 4699, 19, 4700, 18, 612, 1160, 4701], [94, 1791, 2415, 2518], [2068, 4702, 4703, 2113], [2, 273, 659], [173, 285, 520, 3, 15, 196, 175, 680], [2481, 589, 9, 8, 136, 411, 2493, 139, 1018, 609, 620, 159, 4704, 159, 48], [4705, 2519, 6, 23, 278], [836, 189, 4706, 39, 107, 1129, 968, 454, 32, 5, 527, 968, 695, 836, 155, 1714, 1643, 32, 4707, 4708, 142, 941], [10, 307, 53, 343, 1365, 245, 97, 1309, 886, 87, 105, 200, 32, 4709, 961, 43, 91, 1365, 399, 694], [50, 1097, 1707, 13, 176, 1323, 117], [416, 225, 392, 1936, 124, 513, 554, 228, 3, 439, 266, 440], [94, 48, 104, 99, 337], [4710, 504, 128, 4711, 58, 4712, 388, 907, 4713, 1791, 193, 2474, 1023], [593, 613, 4714], [166, 112, 1353, 18, 376, 76, 1366, 91, 1135, 399, 1189, 603, 33, 622, 424, 120, 256, 135, 1786], [7, 185, 952, 252, 2, 1273], [27, 210, 78, 5, 755, 957, 281, 18, 86, 656, 736, 210, 40, 43, 756, 1338, 46, 118], [790, 1266, 403, 364, 87, 382, 316, 239, 958, 78, 3, 191, 203, 28], [19, 557, 1792, 4715], [654, 218, 658, 24, 427, 1793, 389, 6, 4716, 1658], [136, 170, 2101], [127, 387, 2520, 143, 52, 66, 77], [4717, 70, 96, 319], [49, 19, 51], [9, 8, 38, 62, 22, 30, 754], [493, 452, 4718, 1124, 752, 673, 1219, 85, 260, 4719, 124, 4720], [20, 963, 56, 1095, 1360, 25, 1834, 838, 1794], [715, 6, 24, 659, 252, 401, 34, 397, 24], [286, 425, 54, 7], [416, 225, 392, 124, 513, 554, 228, 3, 439, 266, 291, 440], [19, 1431, 4721, 369, 21, 193, 290, 2521, 32, 458, 4722, 1721, 32, 33, 146, 32, 2522, 4723, 4724, 787, 142], [57, 4725], [85, 85, 1795, 62, 1222, 791, 123, 9, 8], [38, 38, 576], [216, 63, 830, 12, 128], [152, 24, 288, 4, 616, 68, 2], [4726, 9, 8], [21, 262, 1311, 1630, 115, 113, 163, 328], [189, 4727, 4728, 4729, 4730, 1676, 6, 92, 4731, 1846, 1081, 1065, 4732, 2475, 1138, 975, 189, 4733, 39, 56, 477, 511, 63], [35, 154, 127], [86, 317, 147, 466, 72, 117], [85, 156, 1847, 271, 2, 143, 257, 269], [2339, 40, 448, 201], [82, 6, 11, 107, 88, 20, 437, 255, 60, 329, 6, 58], [689, 5, 40, 10, 323, 292, 4734, 18, 82, 105, 200, 4, 323, 4735, 4736, 49, 130, 292, 200], [52, 2523, 47, 3], [30, 34, 181], [673, 195, 11, 1631, 19, 1718, 42, 4737], [4738, 382, 4739, 105, 328, 140, 2045, 23, 140, 1661], [14, 321, 4740, 760, 4741, 2524, 88, 2525], [38, 231], [455, 4742, 165, 4743, 12, 148, 230, 137, 67, 771], [16, 983, 1724], [64, 385, 104, 4744, 1378, 597, 316], [304, 4745, 2299, 1211, 60, 35, 4746, 16, 37, 291], [3, 488, 66, 124, 4747, 515, 1647, 3, 4748, 141, 286, 1457, 3, 488], [194], [714, 4749, 4750, 4751, 2526, 180, 253, 789, 214, 2527, 4752, 426, 104, 25, 15, 30, 188, 47, 155, 4753, 56, 19, 566, 727], [131, 40, 66, 301, 80, 190, 3, 347, 207, 78, 406, 208], [2528, 349, 89, 4754, 719, 89, 4755, 253, 4756, 1765, 505, 9, 8], [664, 4757, 4758], [205, 2407, 17, 258, 36], [133, 65, 9, 8, 54], [222, 1446, 1447, 507, 290, 1448, 9, 8, 262, 1008, 1902, 229, 1903, 1904, 1181, 1449, 508, 351, 667], [991, 718, 670, 972, 4759, 4760, 2465, 4761, 4762, 4763, 4764, 972, 929, 514, 458, 1665, 4765, 982], [91, 4766, 125, 4767, 28, 65, 817, 140, 4768, 1796, 265, 33, 32, 33], [354, 4769, 116], [4770, 2300, 172], [285, 187], [11, 751, 1699, 2, 1009, 325, 305, 454, 1030, 1722, 2529, 22, 4, 32, 33], [86, 217, 4771], [62, 4772, 427, 1574, 389, 263, 6, 389, 1996, 2530, 2531, 658, 24, 2, 3, 181], [71, 1055, 144, 384, 526, 384], [48, 268, 195, 49, 177, 497, 161], [394, 14, 103, 148, 2532, 93, 4773], [39, 124, 528, 332, 52, 878, 769], [88, 15, 4774, 564, 4775, 609, 617, 196, 657, 564, 1403, 265, 240, 609, 657, 249, 4776, 249, 4777], [349, 19, 12], [4778, 4779, 1435, 1535, 369, 100, 63, 775, 462], [29, 74, 92, 34, 2479, 309, 31, 946, 31, 581, 25], [473, 2533, 726, 926, 121, 2534, 113, 736, 2535, 2536, 2537, 186], [55, 4780, 55, 4781, 99, 1251, 157, 112, 713, 1375, 3, 28, 54, 33, 18, 3], [86, 172], [76, 272, 4782, 209, 1575], [27, 870, 2538, 4, 181, 58, 94, 970, 58], [853, 26, 1006, 911, 1006, 1303, 59, 23, 2539, 473, 4783, 59, 9, 8, 1760, 2540, 853, 139, 4784, 2539, 473, 540, 4785, 1103, 9, 8, 303, 64, 9, 8, 2540, 196, 853, 1359, 4786, 2541, 693, 753, 10, 1084, 4787, 9, 8, 1060, 581, 105, 2542, 4, 1533, 9, 8, 9, 8, 303, 21, 357, 473, 141, 4788, 698, 36, 139, 4789, 1656, 2543, 377, 89, 4790, 2543, 4791, 763, 4792, 4793, 4794, 911, 4795, 233], [2404, 153, 1797], [16, 69, 248, 209, 47, 939, 596, 187, 580, 362, 11], [635, 2249, 12, 1139, 419, 37, 815, 114, 1176, 2544, 437, 312, 4796, 255], [4797, 4798, 4799, 508, 4800, 321, 9, 8], [2, 12, 4801, 123, 19, 6, 653, 1009, 471, 770, 1363, 2545, 653, 1363, 2545], [379, 110, 46, 210, 221, 1195, 512, 295, 54, 710, 18, 538, 46, 3], [74, 67, 260, 395], [20, 346, 30], [2], [272, 68, 646, 116], [73, 4802, 397, 452], [98, 4803, 179, 4804, 168, 947], [39, 667, 70], [55, 2, 281, 142, 43, 4805, 600, 897, 91, 55, 4806, 125, 957, 376, 601, 46, 33, 164, 126, 3], [2402, 1273, 185, 29, 367, 1091, 812, 29], [36, 5, 1167, 97, 53, 465, 773, 18, 314, 43, 4807, 256, 135, 1316, 560, 53], [1282, 114, 455, 388, 1427, 114, 4808, 413, 4809, 189, 1547, 827, 57, 211, 620, 1117, 1035, 444, 4, 1599], [241, 4810, 4811, 188, 74, 67, 42, 1101, 59, 4812, 188, 377], [409, 8], [15, 41, 1766, 214], [2276, 28], [68, 4813, 4], [1066, 39, 374, 13, 147, 675], [172, 107, 57], [3, 203, 246, 1295, 267, 107, 129, 21, 129, 19, 129, 20, 129], [26, 2546, 622, 53, 41, 109, 960, 4814, 169, 45, 43, 2, 162], [45, 164, 1068, 210, 52, 134, 40, 1244, 32, 138, 175, 4, 2058, 661, 28, 1245], [57, 93, 203, 4815, 4816], [165, 329, 33, 39, 69, 4, 4817], [50, 226, 3, 75], [4818, 4819, 23, 2, 1127, 2, 419, 853, 1153, 23, 69, 1127, 160, 496, 1530, 1153, 23, 33, 1127, 56, 4820], [938, 4821, 837, 323, 1071, 1391, 4822, 1361, 107, 475, 4823, 838, 6, 586], [84, 1117, 375, 194, 328, 2, 118, 170, 491, 4824, 50, 290, 37, 75], [974, 1628, 16, 300, 39, 155, 4825, 158, 856], [285, 11, 2, 26, 4826, 36, 5, 412, 2212, 4827, 2, 4828, 20, 2, 4829], [35, 393, 2547, 2323, 76, 69, 12, 6, 117, 132, 4, 2165, 66], [60, 354, 82, 378, 294, 632, 168, 2217, 4830, 196, 2417, 145, 13, 41, 20], [226, 2, 72, 804, 311, 72, 79], [1798, 597, 18, 60, 6, 58, 402], [98, 12, 73, 148, 61, 4831, 4832, 1754, 20], [84, 160, 336, 563], [119, 575, 193, 493, 241, 493, 123, 446, 2, 2398, 314], [93, 85, 814, 3, 21, 148, 174], [4833, 1799, 4834, 4835, 4836, 722, 107, 169, 242, 3, 28, 54, 33, 18, 3, 1576, 238], [184, 199, 150, 315, 77, 115, 808], [72, 709, 1297, 274, 144, 271, 669, 247, 11, 2, 10], [86, 1143, 1306, 155, 76, 39, 48, 23, 38], [29, 6, 121, 252, 92, 29, 75], [2, 973, 557], [4837, 71, 2548, 592, 1123, 449, 1183, 229, 87, 382, 3, 373, 661, 509, 135, 4838, 1621, 224], [7, 154, 30], [52, 40, 419, 6, 32, 134, 449, 27, 91, 661, 1134, 404, 560, 1245], [86, 613, 668, 14, 832], [7, 285], [173, 1626, 618, 51, 36, 565, 114, 1310, 841, 72], [52, 2278, 687, 250, 655, 257, 109, 303], [26, 170, 1140, 1302, 4839, 94, 4840, 9, 8, 4841, 16, 327, 374, 4842], [29, 655, 1324, 2, 568], [612, 19, 12, 1800, 174, 577, 53, 175, 824, 1301, 1547, 161, 105, 53, 4843, 1800, 77, 77, 612, 827, 4844, 1307, 105, 53, 9, 8, 395, 841, 4845, 4846, 35, 176], [25, 608, 4847, 767, 162, 2, 767], [282, 194, 4848, 4849], [86, 217, 25, 56, 1096], [625, 246, 72, 163, 609, 160, 388, 1041, 670, 2504, 4850, 211, 100, 433], [1792, 30, 161, 275, 255, 349, 122, 20, 36, 460, 161], [236, 216, 1063, 713, 323], [2, 648, 4851, 988], [346, 1801, 657, 793, 1156], [1493, 6, 586, 79, 418, 13, 150, 811], [50, 422, 3, 69, 174, 17], [215, 1802, 180, 975, 51, 132, 2549, 1391], [58, 167, 251, 129], [83, 4852, 57, 93, 59, 728, 22, 2, 2550, 4853, 4854, 57, 245, 4855, 4856, 4857, 4858, 1242, 251, 4859], [4860, 5, 467, 1925, 414, 134, 1016, 292, 70, 385, 10, 1465, 102, 32, 551, 1464], [230, 137, 67, 808, 2322, 168], [4861, 294, 570, 803, 22, 79, 38, 20, 129], [976, 618, 82, 20, 129, 255], [15, 450], [25, 244, 61, 1358], [36, 1730, 2551], [95, 2335, 1781, 4862, 1282, 258], [171, 4863, 89, 369, 39, 12, 289], [58, 223, 665], [36, 964, 22, 396, 70], [2552, 944, 180, 147, 155, 114, 1253, 99, 17, 670, 4864, 659], [84, 490, 642, 491, 4865], [288, 340, 1107, 49, 15, 551, 15, 2115, 318, 516, 879, 486, 31, 23, 29, 740, 5, 516], [7, 185, 605, 282, 252, 31, 516, 4866, 88, 104, 1091, 740, 189, 974, 104, 740, 205, 192], [4867, 157, 4, 4868, 343, 157, 194, 4869, 203, 46, 4870, 3, 1741, 28, 191, 4871, 1772, 135, 1206, 816, 34, 291], [173, 362, 26, 2, 7, 940, 1111, 495, 956, 2528, 472, 356, 63, 956, 2, 107, 2], [57, 26, 29, 1771, 243], [520, 309, 40, 4872, 383, 18, 151, 825, 179, 4, 746, 22, 32, 43, 91, 32, 125, 28], [4873, 1582, 65, 379, 3, 46, 166, 10, 134, 40, 10, 538, 47, 3, 539, 79], [470, 77, 72, 9, 8, 136, 411, 60, 841, 771], [685, 148, 16, 596], [4874, 265, 4875, 52, 130, 205, 689, 130, 116, 2, 14, 242, 18, 4876, 4877, 32, 307, 10, 4878, 120], [1137, 4879, 533, 2496, 427, 4880, 1065, 917, 4881, 34, 96, 77, 2, 74, 67, 550, 619, 291], [4882, 4883, 309, 568, 29, 4, 760], [7, 177], [201, 284, 1767, 2391, 4884, 95, 4885], [1085, 17], [244, 7, 240, 64, 457], [38, 38, 4886, 38, 16, 395], [253, 4887, 104, 93, 1226, 300, 4888, 4889, 628, 2409, 4890, 4891, 4892, 227, 117, 934, 453, 117, 128, 1720, 9, 8], [132, 4893, 4894, 4895, 289, 319, 135], [16, 16, 196, 14, 4896], [492, 2553, 503, 102, 46, 193], [21, 701, 447, 402, 585, 17, 53, 88], [2074, 31, 1568, 31, 495, 31, 89, 724, 534, 31, 9], [45, 4897, 206, 145, 18, 18, 61, 63, 1402, 22, 33, 33, 112], [37, 37, 336, 4898, 1429, 735, 1136], [36, 792, 58, 2125], [38, 38, 94, 172, 939, 635], [27, 737, 10, 334, 1657, 2464, 2, 737, 5, 1048, 338], [394, 61, 30], [4899, 11, 94, 4900, 604, 42, 1214, 77, 4901, 42, 53, 4, 4902, 197, 4903, 4904, 4, 159], [516, 1636, 2554], [73, 160, 223, 620, 42, 126], [680, 109, 53, 64, 377, 2433], [94, 275, 4, 2518, 2555, 178], [1242, 40, 4905, 305, 931, 134, 967, 10, 605, 54, 18, 293, 2556, 18, 86, 2557, 1141, 1322], [144, 585, 104, 170, 51, 122, 85, 356, 59, 16, 122, 20, 362, 122, 37, 1352, 75], [2519, 16, 122, 1501, 567], [20, 523, 2109, 1540, 4906, 2558, 223, 4907, 2558, 4908], [170, 215, 924, 231, 149, 1342, 1666, 231, 360, 100, 1342, 2334, 360, 108, 146, 2538, 4909], [959, 4910, 83, 4911, 4912, 276], [36, 145, 366, 1226, 4, 315, 4], [4913, 792, 1066, 113, 2, 1121], [47, 3, 796, 131, 70, 145], [354, 413, 213, 18, 92], [267, 206, 668], [4914, 660, 971], [425, 24], [920, 17, 39, 14, 242], [18, 4, 3, 44, 171], [2, 403, 341, 380, 2503, 847, 244, 229, 942, 2444, 78, 527, 238, 3, 1362, 1784, 1785], [45, 30, 2353], [2164, 4915, 1679], [2, 474, 114, 367], [98, 12, 4916, 287, 88, 1181, 79, 1803, 384, 2559, 557, 609, 4], [1116, 59, 423, 1717, 4917, 2, 400, 26, 2], [73, 323, 1071, 11, 138, 122, 1429, 36], [1341, 89, 138, 248, 4918, 494, 272, 42, 120, 4919, 4920, 494, 451, 1198, 17], [19, 47, 916, 571, 1054], [17, 154, 75], [36, 4921, 2326, 106], [357, 4922], [842, 388, 174, 1283, 944, 392, 98, 2056, 869, 2436, 104, 1616, 59, 1283], [33, 1278, 733, 315, 25, 33, 1005, 2505, 1005, 597, 19, 552, 806], [18, 4, 1042, 1016, 250, 91, 32, 125, 421, 607, 32, 49, 130], [7, 1133, 2, 674, 683], [363, 1044, 957, 2, 4, 468], [50, 246, 597, 4, 587, 965, 336, 163, 328, 18], [395, 3, 68], [22, 148, 302], [492, 78, 5, 166, 70, 18, 7, 151, 1796, 40, 5, 387, 967, 344, 32, 125, 28, 200, 43, 135, 787, 1542, 1141, 4923, 33], [37, 4924, 4, 257, 2293, 1185], [35, 346, 17, 94, 379, 4925, 4926, 4927, 934, 9, 8], [189, 2560], [62, 7], [14, 2247], [438, 966, 4, 1372, 96, 651, 1221, 24], [7, 13, 30, 1261, 192, 92, 189, 157], [72, 89], [61, 454, 3, 1471, 78, 190, 87, 264, 316, 239, 958], [367, 13, 228, 649, 79], [449, 5, 708], [15, 742, 139, 245, 2561, 19, 6, 2412, 2413, 2414], [10, 307, 53, 134, 102, 5, 467, 105, 53, 32, 134, 4, 899, 48, 5, 387, 91, 867, 49, 130, 358, 142, 941, 1150, 28, 102], [4928, 99, 52, 136, 611], [71, 90, 50, 150, 714, 27, 337, 437, 1351, 4929, 289, 600, 353, 468, 37, 66, 9, 8, 39, 107, 4930, 457], [108, 4931, 4932, 4933, 4934, 2562, 4935], [98, 89, 2460, 2563, 2564, 240, 663, 4936], [97, 1978, 2565, 4937, 428, 4938, 468, 46, 2565, 510, 421, 245, 149, 2527, 4939], [38, 254, 732], [1803, 4940, 4941, 848], [7, 16, 339, 139], [73, 2566, 360, 1306, 92, 123, 832, 17, 398, 1320, 2566], [648, 1700, 395, 1106, 888], [576, 5, 301, 470, 303, 1681, 530, 1624, 1322, 2244, 264, 190, 3, 961, 43, 91, 2567, 399, 191, 4942, 54], [461, 268, 4943, 542, 170, 246, 24, 15, 81, 324, 152, 677, 1771, 6, 1751, 152, 1172, 35, 4944, 68], [594, 968, 1103, 466, 100, 121, 1742, 478, 4945, 238], [75, 246, 4946, 4947, 757], [942, 164, 1257, 2568, 1051, 2569, 1213, 467, 301, 464, 80, 3], [15, 5, 319, 4948, 248, 4949, 205, 763, 187, 657, 727, 110, 275, 23, 4950, 4951, 79, 150, 311, 155, 13, 360, 811, 71], [5, 561, 5, 109, 421, 4952, 4953, 206, 510, 32, 5, 510, 16, 498], [296, 137, 67, 3, 4, 72, 81, 647, 421], [7, 340, 364], [180, 115, 6, 279, 457, 1613, 7], [573, 241, 325], [45, 147, 453, 1090, 93, 14, 157, 4954], [1606, 1718, 93, 4955, 21, 187, 951, 1653, 489, 4956], [30, 425, 68, 17, 2, 286], [625, 162, 4, 4957, 239], [50, 345, 7, 92, 227, 63, 928, 150, 463, 4958, 234, 167, 159, 1294, 4959, 17, 1684, 50], [68, 26, 2], [2477, 1801, 657, 4960], [4961, 534, 1541], [12, 225, 289, 81, 349, 22, 349, 286], [156, 740, 974, 271, 2, 156, 14, 218, 2176, 268, 456], [29, 181, 3], [764, 4962, 4963], [164, 112, 1515, 871, 379, 56, 539, 1572, 47, 3, 4964, 1584], [25, 237, 252, 462, 542, 259, 6, 1392, 608, 24], [846, 123], [57, 1804, 4965], [223, 526, 85, 4966, 4967, 591, 1060, 4968], [679, 1793, 702, 2470, 31, 713, 330], [151, 2379, 2380, 1303], [492, 32, 3, 78, 943, 163, 174, 17, 151, 44, 1741, 560, 2399, 1075, 208, 33, 2400], [3, 48, 2, 3, 78, 80, 2, 923, 5, 40, 944, 289, 2480, 1695], [10], [49, 677, 59, 29, 2209, 697, 81, 29], [26, 29, 25, 22], [98, 7, 219, 155, 22, 4969, 4970, 885, 645, 2406, 4, 79], [26, 2, 1909, 279], [2314, 640, 328, 595, 954, 908, 70, 595, 611, 182, 158, 1335, 4971], [525, 313, 57, 124, 141, 4972, 20, 148, 57, 249, 160, 4, 4973, 4974, 322], [2484, 10, 11, 4975, 960, 654, 334, 29, 81, 737, 24], [45, 2, 19, 344, 4976, 75, 226, 1703, 3, 2, 188], [38, 38, 289, 19, 4977, 1078, 375], [564, 2570, 90, 34, 1355, 1208, 665, 145, 975, 1163], [394, 199, 322, 83, 1882, 83, 106, 17, 177, 79, 32, 146], [492, 73, 4978, 20, 2521, 1093, 30, 659, 529, 2178, 46, 43, 761, 4979, 120, 28, 65, 22, 33, 33, 746], [306, 16, 171, 285], [7, 285, 42, 126], [4980, 5, 428, 77, 2, 364, 112, 65, 648, 5, 448, 2, 1366, 721, 4981, 317, 5, 40, 904, 112, 2571], [39, 311, 121, 23, 71], [354, 324, 37, 14, 9, 8, 54], [193, 2, 176, 241, 21, 616, 23, 2572, 167, 88, 540, 4982], [99, 82, 4983, 4984, 479, 368], [31, 524, 235], [4985, 2573, 308, 318, 166, 14, 4986, 4987, 4988, 581, 4989, 165, 27, 310, 39, 730], [4990, 5, 2574, 1897, 4991], [86, 4992, 108, 42, 187, 610, 1367, 155, 587, 4993], [192, 133, 1755, 89, 137, 67, 243, 616, 129, 12], [2575, 2279, 2, 4994, 1750], [2524, 4995, 1564, 2, 4996, 4997, 5, 838], [31, 1128, 1011, 1737, 4998, 34, 2576, 34, 4999, 2577, 5000, 5001, 5002, 34, 334, 2577, 1989, 5003, 34, 5004, 15, 335, 34, 202, 752], [501, 27, 150, 9, 8, 54], [71, 2, 807, 1500, 592, 390, 110, 2, 32, 157], [73, 150, 218, 92], [220, 868, 35, 966, 5005, 49, 96, 651, 43, 571], [24, 129, 6, 279, 444], [5, 245, 97, 87, 105, 200, 32, 1721, 43, 91, 2330, 317, 694, 118, 28, 200], [1012, 1354, 42, 126, 121, 339, 106, 841, 5006, 76, 2186, 174, 615], [598, 25, 96, 237], [62, 211, 180, 584, 5007, 56, 57, 879, 815, 975, 1328, 143, 5008, 776, 132, 153, 584, 62, 82, 6, 1503, 628], [83, 172, 82, 1608, 57, 446, 398, 1894, 395, 997, 268, 991, 19, 1368, 463, 273, 1595, 2578, 291], [5009, 552, 5010, 1805, 235], [2, 121, 5011, 88], [39, 69, 739, 2501, 521, 26], [64, 23, 107, 66, 47], [497, 219, 3, 75], [92, 1352], [5012, 12], [26, 35, 226, 279, 127], [452, 94, 170, 730], [150], [38, 38, 260, 497], [241, 50, 591, 1105], [850, 2063, 213, 1437, 5013, 294, 5014, 5015, 1827], [268, 150, 185, 425, 240, 1091, 55, 1793], [875, 875, 875, 82], [306, 24, 35, 69, 2, 6, 218, 507, 12, 75, 547, 551, 135, 89], [58, 1860, 5016, 90, 471, 384, 13, 410, 471, 588, 5017, 56, 410, 57, 5018, 51, 37, 5019], [58, 1929, 5020, 188, 191, 2553, 837, 60, 11, 7, 701, 2483, 16, 341, 150, 79, 17, 117, 147], [1467, 842, 149, 5021], [220, 35, 701, 252, 715, 1048, 2513, 64, 2389], [1799, 292, 5022, 1650, 717, 1794, 718, 1131, 155, 1251, 157, 713, 1375, 3, 28, 54, 33, 18, 3], [76, 377, 182, 747, 287, 49, 1770, 2579, 5023, 1613, 298, 9, 8, 38, 76, 912, 41], [97, 87, 80, 80, 755], [29, 400, 1424, 25], [679, 43, 29], [293, 164, 197, 78, 10, 283, 44, 2366, 1068, 3, 210, 146, 5024, 43, 365, 601, 5025], [441, 20, 2, 1369, 5026, 441, 2257, 1693, 5027, 1369, 2580, 441, 2315, 5028, 1369, 2580, 441, 5029, 5030, 5031, 5032, 1369, 20, 2, 1538], [147, 1090, 1614, 22, 70, 4, 197, 22, 40, 1545, 2370, 4, 46], [313, 1502], [241, 128, 15, 178, 41], [58, 1364, 1102, 21, 5033, 2459, 69, 12], [1465, 134, 102, 2, 797, 102, 1130, 695, 102, 5034, 1130, 5035, 5036, 5037, 5038, 5039, 91, 867, 49, 130, 358, 142, 941, 28], [137, 67, 113, 5040, 77, 30, 123, 590, 345, 2084], [647, 1351, 1678, 29, 14, 511, 333, 116, 715, 14, 59, 5041, 1172, 2581, 156, 152, 542, 445, 614, 671, 6], [874, 30, 496], [5042, 526, 76, 22, 66, 1496], [13, 34, 113, 29, 13, 796, 542, 5, 381], [306, 25, 143, 75], [283, 301, 5043, 1237, 283, 3, 5044, 373, 539, 1218, 11], [45, 2053, 83, 154, 30, 654, 73, 635, 1798, 519, 479, 187, 909, 219, 44, 2, 4, 41, 621, 20, 5045, 118, 118, 118, 118, 118, 118, 118, 118, 118], [2405, 16, 77, 64, 2, 616, 274, 723, 316, 118], [52, 1228, 325, 515, 187, 52, 215, 983, 515, 46, 325, 175, 91, 5046, 2, 46], [99, 13, 856], [248, 57, 2582, 646, 2583, 1806, 280, 4, 1360, 604, 60, 16, 1399, 2584, 62, 2585, 2586, 201, 70, 132, 11, 562], [25, 1476, 712, 529, 5047, 1279, 5048, 5049, 17, 5050, 329, 585], [1285, 345, 60, 2, 26, 172], [7, 24, 6, 2587, 24], [246, 935, 12, 5051, 711, 74, 67, 111, 64, 2, 3, 373, 5052, 5053, 5054, 28, 54], [1792, 5055, 828, 1797], [5056, 58, 2463, 2194, 257, 122], [3, 2028, 2238, 186, 213, 3, 964, 207, 884, 1241, 66, 5057, 835, 1241], [106, 597, 124, 258, 8], [20], [2, 156, 384, 6, 485], [555, 18, 5058], [179, 36, 137, 67, 557, 57, 5059, 1012, 4, 5060, 627, 2357, 2223, 557, 388, 9, 8, 123, 1227], [173, 475, 304, 30, 2059, 180, 20, 60, 192, 652, 133, 360, 13, 30, 255], [7, 29, 2231, 162], [898, 24, 427, 41, 72, 162, 96, 5061, 5062, 124, 452, 260, 55, 247, 192], [61, 176, 910, 12, 451, 1725, 300, 14, 254, 108, 12, 2, 26, 451, 209, 20], [3, 151, 5, 54, 3, 5063, 28, 54, 467, 1357, 112, 1776, 2588, 560, 140, 2588, 135, 959, 2, 33, 265], [14, 1076, 99, 5064, 664, 56, 119, 199], [3, 566, 5065, 1804, 239, 157, 25, 351, 89, 1594, 5066, 23, 12, 5067, 2447, 28, 54, 1310], [350, 5068, 35, 31, 68, 49, 15, 381], [532, 606, 1629, 731, 287, 1346, 76, 121, 405], [76, 21, 259, 766, 1710], [188, 912, 75], [116, 798, 154], [2358, 226, 5069, 228], [27, 979, 11, 2, 979, 526, 500, 1318, 71, 254, 5070, 5071, 5072, 5073, 5074, 2574, 5075, 5076, 797, 234, 1807], [5077, 382, 27, 1146, 66, 860, 1557, 403, 364, 382, 487, 47, 3, 1147, 78, 266, 987, 238, 988], [4, 1673, 836, 102, 46, 2251, 1674, 2252, 443, 6, 91, 1042, 49, 130, 1675, 34, 254, 102, 560, 295, 958, 238, 365], [62, 22, 505], [96, 65, 204, 2, 104, 101, 264], [2207, 165, 2, 259, 5078, 353, 260, 85, 14, 96, 260, 2, 831, 49, 760, 2, 285, 329, 259, 2, 167, 27, 2589], [183, 649, 5079, 37, 570, 712, 215, 53, 104, 4, 444, 523, 325], [544, 5080, 27], [49, 270, 252, 677, 204, 34, 318, 81, 68, 909, 74, 24, 408, 2325, 252, 34, 496, 5081, 677, 24], [19, 4, 2590, 127, 19, 193, 864, 1094, 132, 835, 5, 467, 344, 130, 2591, 864, 295, 327, 899, 5082, 556, 1389, 28, 65, 28], [336, 111, 103, 302, 849], [2592, 141, 5083, 349, 178, 691, 195, 676], [7, 5084, 425, 2, 74, 121, 95, 6, 5, 222], [166, 112, 1353, 18, 376, 76, 1366, 91, 1135, 399, 1189, 2429, 603, 33, 622, 424, 120, 1135, 1583, 2430], [673, 2083, 249, 5085, 5086, 709], [5087, 2256, 5088, 16], [3, 1745], [5089, 5090, 10, 134, 10, 931, 10, 5091, 5092, 293, 1242, 3, 743, 3, 404], [73, 109, 522, 2593, 1019, 635, 819, 6, 1114, 1128, 109, 274, 48, 17, 26, 10], [5093, 427, 150], [204, 177, 1559], [58, 260, 5094, 55], [12, 65, 871], [22, 66, 64, 46, 79, 122, 104, 14, 7], [68, 17, 29, 177], [94, 1196, 243], [401, 81, 29, 121, 405, 30], [74, 97, 92, 1378, 5095, 2, 643, 1802, 5096, 5097, 5098, 18, 203, 28, 887, 18], [10, 5099, 18, 111, 20, 108, 155, 10, 18, 245, 10, 65], [282, 2594, 2264, 89], [95, 24, 6, 6, 24], [626, 2187, 1108, 859, 417, 322], [22, 5100, 2448, 67], [86, 172, 20, 834], [158, 634, 71, 5101, 58, 42, 126, 1064, 372, 5102], [38, 38, 64, 457], [5103, 2449, 267, 372, 2, 446, 39, 14, 2, 89, 280, 12, 95, 1386, 63, 246, 83], [57, 5, 5104, 5105, 203], [12, 2466, 1791, 139, 287, 1770, 243, 628, 159, 14, 236, 21, 120, 90, 21], [183, 169, 189], [5106, 1210, 223, 1705, 523, 5107], [216, 18], [25, 497, 11, 31, 191, 50, 31], [48, 1637, 189, 5108, 2305, 4], [45, 1801, 657, 5109, 5110, 2, 164, 3, 484], [129, 25, 2106], [7, 918, 5111], [77, 30, 153, 423, 5112, 260, 6, 338, 168, 24], [45, 5113, 717, 854, 1065, 5114, 871, 477, 5115, 5116, 253, 692, 104, 2, 5, 628, 614, 996, 477, 5117, 128, 1104, 1702], [5118, 5119, 125, 473, 2533, 726, 926, 121, 2534, 113, 736, 2535, 2536, 2537, 186], [131, 183, 110, 2, 27, 198, 124, 80, 190, 3, 347, 207, 78, 406, 208], [5120, 292, 1059, 44, 37, 176, 1499, 1373, 291, 18, 292, 32, 203, 28, 2127, 233, 2124, 261], [471, 5121, 193, 493, 2, 212, 113, 244], [50, 1517, 5122, 215, 39, 114, 675, 234, 61, 620, 90, 17, 123, 61, 944, 203, 61, 53], [58, 83, 5123, 17, 56, 1663, 2517], [1044, 2245, 1268, 421, 5124, 9, 8, 9, 8, 9, 8, 48, 510, 2, 26, 1456, 51, 15, 5125], [71, 12, 9, 8, 262, 9, 8, 262, 337, 437, 5126, 798, 64, 791, 264, 11, 14, 5127, 519, 47, 110, 1928, 968, 289], [234, 508, 2595, 14, 170, 17, 5128, 159, 69, 1367, 529, 17, 688, 253, 627, 22, 33, 1062, 44, 15, 178, 104, 143, 482, 17, 893, 5129, 1956, 967, 578, 56, 214], [86, 326, 21, 2371, 553, 1738], [7, 201, 26, 2, 30], [190, 87, 80, 78, 303, 80, 3, 164, 112, 1132], [68, 29], [60, 2467, 52, 448, 18, 33, 603, 120, 28, 1776, 102, 49, 130], [17, 2, 4], [99, 326, 354, 42, 196, 60, 172, 22, 255, 56, 312, 844, 629, 255, 255], [4, 433, 202, 70], [137, 67, 81, 98, 36], [276, 79, 128, 9, 8], [108, 630, 148, 1855, 197, 5130, 762, 928, 148, 85, 20, 234, 108], [2378], [13, 1370, 9, 459, 8, 1669, 222], [68, 2], [5131, 5132, 1778], [33, 676, 165, 1683, 455, 428], [94, 308, 132, 484, 600, 1720, 2510, 5133, 22, 227, 70, 1205, 51, 41, 30, 61, 169], [26, 2, 5134], [133, 2, 24, 21, 119, 267, 185], [1597, 472, 773, 97, 1169, 999, 80, 2, 12, 52, 5135, 1842, 32, 149, 182, 1338, 33, 1238], [942, 164, 1257, 2568, 1051, 2569, 1213, 467, 301, 464, 80, 3], [215, 250, 1595, 1749, 5136], [924, 5137, 5138], [166, 536, 134, 4, 97, 10, 536, 42, 309, 22, 134, 872, 537, 347, 495, 142, 1404], [83, 150, 5139, 83, 77], [5140], [73, 19, 623, 107, 21, 20, 1187, 5141, 829, 2596], [7, 559, 5142, 7, 378, 57, 497, 159, 387, 5143, 3, 291], [61, 11, 362, 23], [204, 426, 41, 760, 237, 252, 397, 2, 271], [593, 4, 1483, 5144], [58, 25, 1345], [39, 151, 1110], [258, 82, 107, 88, 12, 69, 22, 139, 998, 399, 21, 19, 623], [30, 1112, 831, 345, 953, 59, 329, 172], [5145, 180, 5146, 2, 39, 329, 2, 19, 234, 2, 35, 1581, 5147, 79, 2, 27], [764, 5148, 5149, 35, 1433], [83, 50, 631, 100, 269, 5, 863, 5150, 5151, 2578, 2, 64, 36, 2, 5152], [95, 2597, 1320, 149, 176, 433, 5153], [934], [2, 36, 206, 2086, 2, 27, 5154, 5, 1915, 1980, 211, 491, 353, 5155], [71, 5156, 545, 937, 699, 5157, 1581, 76, 114, 675, 9, 484, 8, 1530], [1340, 48, 2, 204], [452, 257, 29, 279, 571, 868], [84, 14, 6, 14, 90, 1364, 2509, 211, 14, 202, 163], [73, 282, 31, 5158, 31], [73, 274, 25, 1128, 1114, 5159], [1097, 2598, 82], [95], [131, 53, 10, 1905, 80, 5160, 32, 138, 78, 43, 91, 5161, 399, 5162, 358, 1662, 5163], [5164, 4, 2590, 19, 193, 5165, 1094, 132, 835, 40, 344, 130, 2591, 864, 295, 32, 1040, 682, 1389, 1839, 65], [29, 13], [16, 463, 20, 6, 11, 60, 336, 15, 1808, 196, 36, 475, 22, 1809, 255, 844, 629], [94, 258, 462, 25, 5166, 1067, 2193, 258, 545, 659, 53, 52, 5167, 8], [5168, 1168, 619], [27, 574, 5169, 11, 574, 2, 5170, 22, 5, 2597, 845, 149, 797], [5171, 533, 2, 696, 424, 2599, 5172, 549, 2, 5173, 5174, 1111, 192, 1787, 83, 106, 2, 2102, 5175, 43, 2, 1368, 251, 5176], [708, 400, 5177, 645, 185, 74, 638, 23], [932, 63, 26, 2, 193], [48, 5178, 76], [725, 49, 156, 1263, 611, 1906, 178, 152, 398, 759, 23], [47, 31, 3, 730, 534, 50, 31, 76, 31, 1366, 705], [1212, 5179, 1145, 770, 89, 5180], [274, 89, 306, 101], [62, 84, 477, 61, 17, 5181, 22, 2550, 205, 206, 83, 535, 2, 12, 83, 5182, 631, 291], [73, 61, 620, 1664, 1802, 191, 5183, 5184, 197], [68, 26, 2, 367, 252, 72], [2423, 15, 945], [56, 326, 241, 446], [77, 1773], [377, 5185, 310, 5186, 5187, 310], [350, 29, 5188, 185, 1751, 75, 13, 34, 43, 185, 614, 29, 702, 523, 2600, 29, 15, 31, 120, 1684, 252, 29], [7, 197, 10, 586], [590, 1641], [106, 35, 466, 371], [2601, 30, 2594, 296], [1761, 2442], [98, 7, 5189, 2080], [456, 676, 290, 100, 53, 55, 11, 458, 556, 179, 564, 374, 34, 1018, 153, 72, 123, 1355, 179, 984, 2411, 310, 104, 99, 55, 11, 861, 632, 231, 1133, 237, 237, 807, 1529, 153, 104, 2, 278, 6, 1054, 213, 7, 2021, 323, 1055, 426, 2022, 2023, 650, 1056, 34, 458, 564, 2570, 90, 34, 1355, 1208, 665, 145, 975, 1163], [1271, 59, 654, 271, 34, 104, 1887, 5190, 5191, 144, 56, 5192, 104, 133, 24], [431, 17, 23, 13, 34, 4, 159, 760, 29], [545, 222], [2166, 1775, 25, 41, 143], [45, 559, 60, 192, 63, 179, 13, 144, 133, 37, 20, 1783, 28, 19, 1804, 5193, 689, 19, 290, 2561, 2082], [73, 243, 1438, 483, 9, 8], [5194, 1055, 2064], [1820, 660, 148, 2382, 2, 228, 499, 5195], [89, 2602, 37, 75], [40, 442, 370, 305, 283, 221, 44, 10, 114, 5, 66, 4, 622, 10, 54, 18, 18, 86, 3], [129, 23, 645, 5196], [1642, 217, 56, 359, 1642, 20], [58, 1774, 17, 56, 3], [88, 41, 30, 230], [3, 75, 295, 1647, 166], [9, 8, 233, 398, 11, 562, 116, 19, 749, 5197, 9, 8, 233, 9, 8, 5198], [992, 42, 292, 22], [62, 50, 47], [4, 87, 444, 18, 1585], [132, 22], [7, 24, 1969, 6, 2031, 2032, 852, 892, 2, 74, 22, 68], [84, 36, 151, 8, 1630, 2392, 106, 240, 120, 69, 12, 106, 181], [62, 5199, 234, 22, 98], [26, 25, 9, 8, 366], [12, 209, 2603, 1788, 1758, 23, 304, 13, 141, 1777, 1788, 1217, 724, 20], [38, 64, 1170, 5200, 9, 8, 5201], [45, 5202, 6, 489, 119, 6, 402, 278], [318, 23, 113, 96, 44, 81, 88, 104, 7], [19, 52, 221, 44, 512, 295, 54, 1353, 221, 3, 1698, 186, 53, 10, 5203, 3, 46], [121, 23, 2188, 31, 47], [1686, 40, 442, 1413, 370, 305, 348, 283, 40, 10, 3, 40, 370, 5204, 10], [161, 436, 38, 68, 335, 683, 116, 1775, 2525, 2422, 2], [393, 270, 24, 340, 936], [2579, 5205, 2468], [7, 152, 15, 2, 74, 13, 68], [258, 5206, 1074, 258, 13, 240, 446], [93, 1726, 120, 2, 72, 833, 17], [818, 5207, 2522, 2116, 563, 89], [77, 25, 41], [1234, 172, 2167, 1247], [73, 5208, 27, 226, 35], [186, 1036, 5209, 5210, 523, 2604, 546, 2348, 888, 90, 2604], [1783, 565, 6, 34, 96, 77, 83, 1115, 1795, 2155, 15, 631, 43, 2, 1368, 20, 5211, 28, 296, 696, 376], [484, 5212, 5213, 5214, 5215, 2598, 203, 5216, 5217, 566, 484, 3], [5218, 218, 5219, 171], [76, 76, 111, 2292, 5220], [5221, 5222, 5223, 310], [187, 540, 23, 82, 1140, 120, 5224, 324, 487], [496, 573, 1370, 5225, 1037, 1333, 1513, 5226, 5227, 2, 435, 384], [678, 5228, 82, 5229, 5230, 5231, 5232, 2, 289, 75, 5233, 157, 2600, 118], [4, 1079, 1740, 77, 732], [19, 950, 704, 1142], [13, 5234, 6, 34, 48, 2, 165], [73, 205, 14, 720, 23, 5235, 116, 66, 35, 44, 19, 18, 37, 128], [374, 42, 136, 591, 50, 44, 885, 161], [2, 1065, 301, 314, 5236, 87, 3, 78, 105, 262, 478, 97, 54, 404], [572, 59, 499, 95, 77, 2, 1289, 14, 5237, 779, 690, 472], [39, 19, 277, 95], [738], [119, 14, 1794, 114, 583, 18, 769, 70, 1105, 273], [824, 2283, 196, 5238, 5239, 5240, 5241], [145, 3], [959, 593, 106, 5242], [959, 84, 55, 50, 48, 472, 1077, 1367, 13, 549, 2], [38, 106, 5243, 30, 166, 483, 76], [315, 1123, 438, 567, 25, 5244, 1326, 504, 438, 2360, 5245], [69, 19, 222], [2, 813, 1215, 333, 56, 110, 2, 111, 26, 1216, 36, 5, 231, 3], [700, 5246, 19, 1409, 1410, 876, 1409, 1410, 876, 19, 785, 19], [58, 187, 51, 824, 5247, 52, 136, 1088, 5248, 2495, 672, 5249, 103, 25], [16, 21, 985, 58, 167, 86, 47, 48, 66, 115, 541], [188, 163, 50], [38, 57, 262, 5250], [5251, 103, 7, 336, 168, 5252], [45, 82, 5253, 26, 2, 2041, 615, 63, 61, 169, 2, 460, 1238, 5254, 125, 18, 33, 33, 28, 18], [216, 69, 12, 751, 128, 9, 8, 11], [2605, 610, 242, 270, 584, 5255, 11, 329, 93, 205, 222], [171, 174, 75], [58, 12, 5256, 42, 126, 378], [701, 1056, 246], [246, 149, 17, 2603, 1796, 752, 91, 5257, 125, 499, 2595, 145, 1296, 19, 90], [45, 915, 92, 2, 350], [14, 9, 8, 421], [132, 29, 309], [232, 5258, 167, 334, 542, 5, 921, 68, 29, 15, 921, 412], [248, 57, 2582, 646, 2583, 1806, 280, 4, 1360, 604, 60, 16, 1399, 2584, 62, 2585, 2586, 201], [45, 559, 83, 2472, 696, 83, 137, 67, 55, 5259, 269, 47, 13, 1104, 20, 818], [286, 351, 128, 9, 459, 8, 141, 40, 171, 2145, 4, 793, 3, 5260, 10], [7, 48, 202, 208, 55, 2, 13, 21, 2606], [60, 51, 153, 58, 705, 5261, 35, 21, 6, 2, 43, 320, 51, 253, 5262], [781, 19, 1095, 5263, 544, 1194, 5264], [7, 26, 226, 75], [963, 2607, 2607, 333, 2, 2, 74, 48, 2, 5265, 68], [230, 35, 25, 159], [320, 837, 528, 53, 21, 701, 447, 402, 585, 17, 53, 88], [40, 442, 370, 305, 293, 283, 221, 44, 10, 779, 10, 18, 169, 3, 18, 86, 2557, 5266, 601], [555, 37, 168], [57, 758, 16, 269], [2, 1327, 2482, 2, 703, 259, 25, 252, 997, 34, 2, 35, 13, 34, 81], [118, 9, 8, 25, 4], [5267, 2, 26, 249, 5268, 518, 2, 758, 646, 5269, 507, 5270, 321, 758, 779, 1566, 327, 5271, 809, 2137, 1566, 158, 2160], [663, 59, 144, 133, 37, 2, 176, 482, 5272, 5273], [173, 837, 27, 93, 20, 157, 39, 48, 205, 14, 323], [5274], [604, 16, 5275, 5276, 405, 85, 192], [5277, 290, 2563, 972, 2608, 2609, 455, 45], [184, 85, 62, 5278, 381, 350], [98, 61, 83, 176, 745], [167, 43, 29], [23, 11, 1810, 850, 629, 5279, 2610, 426, 34, 1782, 1811, 1810, 1810, 391, 558, 26, 2, 2611, 362, 1811, 2610, 1516, 5280, 1051, 5, 1811, 810, 236, 1782, 5281, 212, 69, 2, 5282, 158, 682], [3, 582, 44, 5283, 2612, 294, 277, 18], [47, 18, 1034, 244, 302, 59], [1104, 5284, 1443, 2, 388, 2359, 1102, 731, 101, 714, 1679, 5285, 5286], [2361, 436, 5287, 5288, 65, 5289, 951, 701], [98, 12, 555, 44, 115, 851, 1954, 89, 19], [12, 5290, 5291, 5292, 289, 309, 910], [39, 12, 81, 526, 244, 171, 51, 165], [86, 5293, 5294], [107, 3, 107, 3, 5295, 5296, 5297, 107, 3, 5298, 5299, 236, 1800, 23, 61, 44, 1812, 1083, 97], [95, 24, 154], [42, 480, 569], [29, 81, 296, 113, 29, 185, 29, 74, 341, 734], [679, 284, 317, 30, 25, 189, 482], [21, 33, 25, 214, 56, 491, 2437], [1282, 789, 33, 338, 1962, 187, 89, 5300, 980, 119, 14, 5301, 329, 670, 19, 119, 14, 5302], [226, 29, 412, 6, 30, 24, 29, 156, 119, 14, 655, 7], [416, 225, 392, 124, 1461, 464, 228, 78, 3, 439, 266, 440], [230, 232, 27, 36, 137, 67, 2117, 169, 2, 107], [155, 4, 544, 718, 2613, 801], [277, 52, 5303, 5304, 13, 5305, 159], [13, 194, 228, 5306, 235, 169], [305, 233, 35, 1984, 5307, 19, 64, 52, 5308, 155], [172, 60, 16, 42, 126], [2, 4, 44, 74, 67, 157, 523, 92, 3, 2, 550, 1294, 251, 1713, 291, 3, 5309, 256, 1733], [263, 17, 379, 110, 2, 2, 342, 80, 78, 361, 3, 28, 186, 213, 327, 527, 238], [76, 22, 5310, 319, 731, 57], [230, 137, 67, 37, 75, 127, 9], [751, 52, 1173, 1214, 10, 1129, 454, 5, 40, 32, 5, 420, 182, 695, 5311], [97, 131, 40, 66, 301, 80, 190, 3, 347, 207, 78, 406, 208, 224], [26, 226], [73, 25, 2418, 381, 586], [725, 44, 1097, 153, 885, 48, 20, 82], [58, 466, 5312, 5313, 100, 63, 81, 5314, 5315, 849], [95, 24], [1620, 2, 25, 24], [16, 17, 192, 103, 168, 712, 169, 423, 37, 129, 162], [216, 18, 1769], [938, 76, 111, 57, 749, 5316, 1317, 170, 17, 540, 355, 46, 680], [10, 297, 145, 2547, 1139, 18, 1157, 1960, 2614, 4, 5317, 5318, 1797, 256, 135, 1497, 1031, 5319], [609, 56, 35, 273, 371], [80, 6, 227, 164, 43, 91, 43, 1134, 28, 54, 2419, 624, 537, 925, 142, 432, 644, 47, 3, 41, 367], [2304, 1632, 2615, 520, 195], [2616, 441, 5320, 5321, 5322, 13, 5323, 2441], [39, 12, 324, 405], [362, 1038, 1994, 499, 1995, 299, 119, 913, 148, 119, 1039, 148, 809, 16, 63], [21, 121, 237, 232, 5324, 5325], [5326, 24, 68, 17, 2, 74, 13, 34, 205, 2], [5327, 1569, 605, 54, 746, 293, 2556, 305, 931, 1248, 134, 1249, 10, 3, 743, 3, 404, 5328], [606, 5329, 120, 2611, 178], [532, 311, 324, 1649, 664, 114, 2, 2195, 952, 35, 324, 1649, 1122, 1274, 37, 79], [21, 185, 204, 2532, 96, 44, 551, 288, 295, 511, 152, 145, 397, 177, 1559, 962, 156, 812, 2, 247, 2, 1669, 5, 194], [5330, 5331, 5332, 5333, 5334, 5335, 5336, 97, 5337, 250, 843, 851, 1507, 721, 5338, 18, 721], [29, 318, 296, 568], [16, 277], [38, 3, 518], [804, 2439, 182], [453, 2515], [1311, 1352], [84, 2575, 100, 63, 1567, 2520, 316, 162], [19, 512, 295, 54, 18, 52, 221, 44, 1703, 342, 186, 53, 3, 46, 539, 79], [12, 21, 4, 847, 15, 5339, 2478, 2617, 359, 13, 1178, 1401, 5340], [4, 30], [2606, 5341], [59, 950, 1142, 75, 23, 1142, 950], [2605, 3, 280, 979, 123, 832, 3, 552, 123, 2618], [139, 726, 2619, 101, 1487, 1502, 56, 106, 39, 1531, 101], [62, 86, 320, 900, 489, 5342, 30], [216, 9, 8, 2559, 195, 60, 14, 223], [15, 319, 5343, 5344], [315, 23, 876], [576, 53, 1121, 198, 2, 80, 78, 3, 55, 43, 33, 166, 224], [35, 2620, 1985, 5345, 29, 42, 753, 13, 41], [5, 87, 561, 643, 342, 905, 5, 87, 22, 87, 28, 65, 906, 872, 537, 347, 495, 142, 432, 644], [732, 136, 231, 1325, 719, 3, 43, 5346, 189, 5347, 5348, 967, 10, 1362, 1786, 191, 39, 107], [25, 1403, 5349], [84, 89, 324, 1543, 1602, 654], [1490, 1803, 5350], [1306, 13, 2], [89, 36], [5351, 55, 1250, 716, 108, 5352, 293, 5353, 426, 391, 356, 5354, 15, 149, 5355], [155, 103, 71, 499, 103, 480], [1319, 21, 580, 1173, 21, 423, 5356, 21, 5357, 44, 21, 5, 166, 21, 5, 744, 5358, 753], [36, 5359, 1066, 4, 23, 5360], [5361, 541, 852, 858, 716, 46, 2621, 1188, 245, 97, 2621, 5362, 530, 5363, 46, 33, 146, 746], [85, 5364, 5365, 975], [73, 2438, 50, 150, 46], [254, 65, 525, 300, 2, 12, 23, 1079, 5366, 56, 2, 1525, 20, 141, 23, 1079, 41, 5367, 5, 640, 16, 63], [173, 84, 15, 883, 21, 516, 13, 167, 84], [175, 626, 2269, 1142, 1317, 111, 2172, 14, 140, 48, 296, 121, 704, 567, 62], [117, 19, 31], [396, 577, 814, 3, 79], [52, 40, 419, 6, 32, 134, 449, 27, 91, 661, 1134, 404, 560, 1245, 1244], [39, 64, 1651, 363, 36, 1747, 278, 90, 552, 143, 956, 2622, 5368], [692, 1171, 2288, 23, 293, 692, 197, 35, 59, 293], [422, 3, 434, 2526, 5369, 107, 2, 133, 2, 13, 30, 1277, 27], [994, 48, 2093, 138, 89], [220], [37, 497], [116], [584, 7, 268, 5370, 24, 1247, 175, 27, 7, 49, 520, 1334, 204, 5371, 592, 303, 581], [195, 42, 4], [131, 183, 110, 2, 27, 198, 124, 80, 190, 3, 347, 207, 78, 43, 406, 208], [416, 225, 392, 124, 513, 554, 228, 3, 439, 266, 440], [354, 37, 168], [679, 25, 30, 6, 5372, 1513, 24, 14, 25, 1474, 162], [13, 1943, 199, 684, 16, 333, 649], [165, 208, 19, 5373, 792, 346], [244, 663, 139, 5374, 225, 473, 1141, 1805, 238, 148, 1615, 9, 8, 225, 9, 8, 1293, 15, 2529, 473, 2623, 424, 94, 2623, 106, 846, 2624, 300, 626, 225, 289, 49], [48, 310, 345, 483], [5375, 75], [236, 216, 550], [963, 42, 16, 126], [90, 15, 59, 5376, 428, 1323, 15, 9, 8, 4], [50, 132, 5377, 65, 220, 183, 1207, 739], [635, 56, 5378], [82, 20, 1011, 353, 255], [3, 14, 9, 8, 17, 62, 64, 2, 5379, 62], [764, 83, 427, 5380, 432, 363, 631, 2], [2, 4, 292, 65, 44], [166, 602, 2625, 325, 2, 5381, 5382, 5383, 5384, 282, 166, 602, 142, 5385, 5386, 26, 2625, 325, 22, 2626], [12, 5387, 1119, 5388, 1346, 6, 5389, 5390, 263, 365], [38, 22, 9, 8, 54], [73, 39, 6, 260, 118, 1093, 237, 184], [62, 209, 137, 67, 2094, 5391, 2203], [232, 2309, 237, 5392], [283, 268, 16, 2627, 5393, 5394, 1237, 5395, 744, 229, 834, 60, 477, 16, 1727, 99, 52, 136, 37, 570, 53], [50, 2602, 506, 100, 480], [19, 305, 221, 1195, 512, 295, 54, 202, 331, 207, 543, 46, 3, 539, 79], [394, 16, 114, 1176], [1713, 82, 427, 1813, 119, 219, 2599, 269, 5396, 88, 1011, 5397], [40, 442, 370, 10, 293, 305, 348, 283, 40, 710, 169, 3, 3, 40, 1927, 1471, 1635], [2142, 1236, 5398, 5399, 1814, 5400, 141, 1814, 1133, 1367, 5401, 1370, 274, 1814, 165, 259, 2628, 142, 304, 1044, 1405, 5402, 2628, 327, 280, 590, 104, 304, 1044, 272, 123, 175, 5403, 1236], [416, 225, 392, 696, 124, 513, 554, 228, 3, 439, 266, 440], [1008, 5404, 754, 415, 1251, 157, 1333, 3, 527, 238, 28, 54, 1076, 28, 54, 5405, 33, 18, 3, 28, 54], [61, 5406, 1645], [2613, 801, 1739, 5407, 1358, 1358], [313, 71, 274, 775, 322, 632, 166, 17], [16, 90, 126, 518, 90, 667, 313, 90, 341, 753, 1768, 138, 1768, 17, 158, 634], [311, 4, 5408], [10, 65, 297, 2197, 125, 2198, 2199, 517, 55, 5409, 5410, 149, 313, 5411], [38, 13, 5412, 2, 2218, 13, 94, 804, 901, 13, 176, 10, 17], [45, 559, 83, 1617, 2, 60, 16, 17, 2, 41, 17, 2, 64, 3, 30, 1601, 291], [1534, 31, 16, 5413, 5414], [788, 235, 584, 5415], [7, 185, 2, 143, 257, 269], [222, 96, 1349, 268, 2003, 247, 966, 15, 783, 447, 88, 412, 801], [29, 1343, 68], [26, 2, 35, 346], [2, 427, 269], [2629, 5416, 5417, 848, 5418], [131, 47, 3, 373, 87, 229, 502, 414, 43, 509, 256, 135, 598], [57, 267, 2153, 14], [1253, 242, 322, 107], [698, 2384, 5419, 2385, 519, 5420, 2428, 35, 120, 3, 10, 18, 41, 120], [86, 180, 101], [62, 202, 163, 57, 947, 5421, 2608, 707, 733, 419, 4, 57, 72, 167, 11, 2, 622, 17, 815], [865, 5422, 175, 455, 223, 51, 298, 175, 5423, 791, 51, 192, 322, 1118], [21, 185, 6, 1891, 49, 397, 1168, 27], [7, 104, 15, 5424, 1555, 5425, 916, 34, 614, 21, 1141], [131, 3, 373, 891, 2350, 229, 87, 502, 414, 509, 43, 256, 135, 1043, 2351, 224], [40, 420, 514, 380, 1083, 2461, 40, 5426], [98, 115, 5427, 599, 342, 146, 11], [85, 35, 127, 82], [735, 41, 5428], [17], [7, 5429, 275, 90, 21], [282, 5430], [5431, 149, 17, 2, 104, 2, 422, 386, 772, 422, 2, 149, 20], [331, 78, 3], [20, 2, 320, 5432, 2630, 50, 20, 2], [2, 700, 35, 6, 270], [276, 81, 1288], [1579, 2469, 1300, 108, 833, 881, 524, 720, 1232, 1200, 312, 1038, 1200, 1239], [1575, 2615, 1259, 183, 64, 596, 510, 491, 44], [7, 671, 42, 5, 17], [38, 1585, 59, 137, 67, 128, 128, 9, 8], [131, 3, 373, 5433, 1183, 229, 87, 502, 414, 509, 43, 256, 135, 1733, 5434, 224, 5435, 2631, 210], [220, 95, 24, 2, 156, 74, 7], [184, 60, 29, 277, 985, 394, 511, 498], [73, 1704, 63, 1177, 1094, 252, 5436, 5437], [19, 52, 221, 44, 512, 295, 54, 202, 331, 207, 543, 10, 18, 140, 46, 3, 10, 539], [1029, 39, 456, 71], [180, 4, 260, 49, 236, 489, 51, 2, 4, 262, 20, 57], [22, 5438], [105, 858, 981, 326, 105, 61, 1416, 1256, 5439, 2, 26, 27, 2, 418, 286, 5440, 158, 634], [7, 24], [401, 59, 74, 6, 6, 5441, 5442, 260, 31, 5443, 5444], [113, 5445, 5446], [145, 96, 178, 401, 24, 2, 271, 286, 30, 88], [219, 5447], [2549, 1284, 391], [45, 60, 16, 11, 199, 63], [86, 217, 19, 810, 223, 926, 724], [169, 172, 783, 57, 5448], [204, 177, 284, 317, 2], [38, 1815, 41, 564, 117, 1258, 1032, 294, 21, 620, 786, 302], [5449, 231, 9, 8, 2632, 1186, 12, 917, 127], [132, 5, 484, 517, 162], [2111, 5450, 36, 94, 355, 111, 148, 1637, 12, 117, 58, 1843, 2542, 94, 1167, 120, 5451, 123, 51, 14, 5452, 44, 235, 5453, 5454, 5455, 81, 842, 206], [116, 2408, 1816, 388, 431, 12, 23, 116, 5456, 258, 14, 1816, 386, 352, 150, 127], [84, 268, 168, 253, 808, 79, 4], [154, 612, 19], [2592, 55, 5457, 141, 5458], [86, 1806, 522, 317, 98], [16, 463, 20, 6, 11, 143, 60, 58, 475, 36], [50, 1246, 2, 121, 296, 223, 791, 274, 34, 522, 285], [10, 380, 5459, 102, 3, 527, 238, 4, 5460, 5461, 132, 105, 53, 18, 2383, 186, 2562, 1338], [36, 132, 18, 30, 44, 144, 1746, 18, 35, 19, 22, 66], [131, 47, 3, 373, 891, 1999, 1609, 1280, 1610, 229, 87, 502, 414, 224, 509, 43, 1702, 707, 2551], [5462, 18], [5463, 858, 2576, 221, 420, 21, 120, 607, 2633, 49, 130, 3, 419, 420, 376, 5464, 91, 2633, 49, 130, 201], [86, 506, 284, 11, 108, 20], [5465, 44, 112, 3], [73, 524, 235, 274], [76, 56, 2634, 5466, 94, 111, 287, 567, 302, 2494, 1040, 1268, 222, 69, 12, 75], [108, 212, 57, 242, 61, 426, 304, 1254, 231, 637, 201, 23, 560, 166], [492, 140, 710, 10, 3, 1312, 5467, 32, 3, 5468, 560, 200, 710, 3, 120, 33, 32, 33, 5469], [5470, 37, 570, 11, 9], [512], [189, 192, 2514, 1650, 1024, 1296, 5471, 55, 540, 1602, 5472, 109, 5473, 367, 5474], [73, 359, 1278, 762, 294, 13, 19, 22, 955, 148, 6, 1090, 965, 1191, 275, 523, 752, 6, 648, 5475, 5476, 115, 48, 12, 77, 648, 223, 955, 648, 159, 1346, 904, 120, 93, 61, 2544, 1305, 255], [248, 722, 374, 59, 99, 5477, 5478, 172, 1817, 839, 1371, 300, 92, 937, 1452, 1182, 862, 687, 5479, 5480, 1517, 5481, 5482], [23, 16, 5483, 25, 42, 1808], [72, 919], [123, 90, 5484, 3], [2099, 183, 110, 100, 169, 198, 124, 80, 190, 3, 78, 266, 38, 406, 208, 224], [1061, 167, 188], [73, 5485, 64, 2630, 4, 21, 174, 2394, 652, 307, 1188], [472], [2635, 2128, 5486], [1281, 188, 447, 580, 56, 7, 76], [298, 40, 377, 65, 72, 453, 21, 22, 9, 8, 132, 65, 418, 1205, 2, 75], [16, 463, 1361, 6, 11, 498, 13, 77, 36, 2246, 22, 20, 844, 629, 56, 312, 99], [5, 245, 97, 87, 105, 200, 32, 314, 43, 91, 429, 5487, 399, 694, 118, 28, 200], [1109, 463, 1105], [204, 471, 2, 259, 55, 545, 5488, 307, 849, 474, 17, 92, 5489], [520, 1061, 141, 1548, 2121, 41, 17, 167, 160, 5490, 5491, 18, 5492, 181], [276, 68, 824, 534], [494, 176, 162, 18, 122, 69, 12, 304, 7], [5493, 2512], [45, 5494, 5495], [26, 571, 88], [129, 144, 1746, 5496, 756, 15, 450, 5497], [882, 108, 386, 37, 638, 2, 1341, 378, 521, 147, 812, 2, 5498], [45, 484, 505, 869], [544, 120], [25, 155, 140, 572, 572, 952], [633, 14, 9, 8, 433], [10, 343, 465, 1121, 18, 138, 97, 43, 91, 2039, 49, 130], [45, 1890, 915, 226, 191, 5499, 127], [519, 130, 40, 325, 65, 10, 1125, 10, 722, 1003, 5500, 1716, 28, 1722, 823, 22, 6, 33], [19, 124, 357, 217, 5501], [113, 631, 563, 17, 25], [7, 7, 246], [789, 425, 244, 24, 2, 271, 367, 142, 72], [39, 19, 277, 95], [2205, 23, 165, 383], [93, 61, 5502, 115, 92, 5503, 693, 786, 4, 675, 169, 235, 42, 1671, 16, 53], [618, 5504, 5505, 5506, 5, 2185, 2061, 2636, 141, 5507, 2266, 618], [5508, 20, 1258, 691, 871, 408, 284, 351], [66, 308], [218, 37, 5509, 69, 12, 363, 1138, 506, 339], [1774, 2637, 187, 5510, 100, 833, 1406], [5511, 396, 5512, 1138, 1799, 5513, 386, 2471, 299, 5514, 661], [1093, 147, 21, 362, 5515, 1725, 437, 5516, 5517, 458, 1748, 5518, 23, 458], [2, 511, 24, 6, 270, 15, 159, 2, 74, 260, 1331, 1332, 13, 185], [4, 1501, 183, 649, 2, 846, 1987, 494], [10, 307, 53, 343, 1365, 245, 97, 1309, 886, 87, 105, 200, 32, 1445, 961, 43, 91, 1365, 399, 694], [2638, 150, 428, 2638, 1648, 618, 3, 117, 428, 2005, 79], [2639, 24, 302], [24, 423, 1717, 68, 17, 2, 154], [30], [45, 915, 1451, 5519, 1128, 5520, 433, 5521, 1816], [81, 217], [741, 2, 3, 63, 5522, 56, 2287, 14, 2, 100, 17, 291, 251, 5523, 399], [6, 2363, 39, 2564, 1100, 7], [982, 26, 5524, 68, 19, 13, 219, 4, 986, 1371, 476, 1732, 2593, 126, 643, 270, 89, 986, 1371, 64, 352, 690, 122, 236, 37, 2129, 300, 1591, 89, 1371], [151, 5525, 151, 30, 29, 288, 1131, 138, 1351], [184, 144, 350, 5526, 184], [5527, 6, 653, 483, 39, 69, 5528], [121], [132, 5529, 164, 112, 550, 225, 2640, 5, 319, 517, 289, 110, 2], [5530, 409, 359, 122, 519, 201, 11, 377, 1108, 158, 1640], [95, 24], [1494, 1336, 528, 5531, 757, 5532], [71, 286], [2, 3], [24], [461, 24, 114, 966, 5533, 33, 2, 74, 6, 1450], [338, 360, 2, 547, 470, 38, 38, 87, 1224, 281, 3, 1329, 256, 135, 1330, 327, 5534, 203, 224, 40, 1357], [1344, 496, 711, 157, 843, 323, 832, 303, 515, 4, 5535, 46, 1344, 10, 344, 404, 32, 33, 120], [2641, 49, 130, 4, 187, 87, 169, 91, 2641, 49, 130, 71, 519, 169, 15, 2642, 254, 315, 87, 64, 369], [12, 1110, 234, 89], [409, 195, 562, 88, 288, 51], [48, 90, 235, 493, 11, 9, 1472, 8], [470, 625, 12, 5536, 103], [2552, 138, 180, 99, 2643, 51, 1138, 2643, 2612, 99, 5537, 345, 916], [14, 48, 5538, 5539, 1070, 3, 28, 54, 33, 18, 3, 1576, 238], [10, 65, 4, 5540, 5541, 647, 297, 1397, 10, 46, 6, 70, 89], [549, 5, 2180, 5542, 688, 650, 2, 1563, 42, 994, 507, 688, 1926, 34, 313, 77, 1301, 970, 2636, 126, 34, 251, 5543, 5544, 192, 11, 31], [637, 371, 20, 430, 5545, 284, 1035, 299, 907], [7, 25, 143, 60, 92], [50, 83, 5546, 2210, 100, 269, 153, 5547, 15, 72], [16, 322, 308, 60, 192, 11, 356, 324, 1123, 150, 731, 628, 1321, 140, 243, 9, 8, 424, 632, 93, 2644, 2645, 103, 64, 61, 203, 280, 316, 825, 2646, 272, 476, 243, 424, 140, 2647, 1107, 58, 1308, 140, 146, 47, 120, 248, 329], [1137, 1290, 363, 2, 269, 280, 146, 427, 273, 204, 31, 472, 849, 204, 2403, 31, 1750, 1054, 20, 2262, 261], [106, 282, 1090, 484, 132, 713, 383], [13, 215], [1300, 299, 5548, 148, 57, 5549, 148, 162, 990, 299, 14, 504, 1063, 23, 1817, 5550, 1118], [45, 2616, 5551, 7, 356, 157, 507, 2443, 1779, 2, 195, 17, 60, 5, 917, 1137, 16, 5552, 432, 20, 129, 118], [5553, 1798, 167, 4, 41, 371, 1970], [5554, 1444, 1291, 5555, 5556, 194, 103], [29, 55, 25, 2639, 760, 30], [45, 77, 2, 11, 738, 77, 193, 5, 1930, 60, 12, 2, 946, 5557, 60, 2, 111, 363, 544], [2648, 108, 109, 433, 2626, 2649, 813, 179, 105, 433, 451, 5, 108, 158, 34], [13, 785, 25, 5558, 5559, 2650, 339, 5560], [38, 106, 5561, 2342, 189], [1139, 789, 284, 487, 351], [7, 366, 13, 162, 13, 1577, 79], [7, 137, 67, 413, 895, 14, 2424, 213], [525, 239, 157, 28, 54, 514, 206, 1573, 239, 3, 1076, 157, 130, 2642, 239, 112, 5562, 1772, 816, 34, 291], [73, 323, 1071, 165, 2090, 1361, 60, 275, 248, 500, 1748, 5563, 815, 20, 82], [1763, 1084, 1681], [29, 234, 2152, 486, 340, 59, 1273, 7], [61, 217, 20, 1125, 1812, 5564, 1759, 1347, 2581, 5565, 201, 339, 20, 9, 8, 17, 186, 63], [1818, 1818, 1818, 107, 149, 2555], [594, 1779, 136, 1336, 61, 53, 254, 480], [99, 493, 11, 12, 257, 1705, 5566, 2648, 179, 180, 177, 1345, 606, 307], [15, 221, 1543, 1704, 1131, 70, 24, 2, 10, 74, 120, 801, 49, 400, 2, 74, 260, 1331, 1332, 81, 2, 1587, 772, 1116, 334], [7, 272, 3, 812, 23, 12, 2650, 5567], [5568, 15, 137, 67, 175, 2516, 1824, 5569, 960, 2, 19, 344, 1077], [50, 5570], [354, 106, 69, 12, 545], [58, 82, 5571, 5572, 1691, 146], [25, 16, 171, 35, 21, 320, 1193, 667, 2224, 164, 793], [2, 35, 393, 15, 765, 2572, 218], [16, 463, 5573, 475, 623, 161, 1598, 258, 2507, 2508, 107, 82, 1305, 255], [39, 12, 5574, 2609], [5575, 821, 1109, 138, 122, 107, 20, 60, 11, 6, 58, 99, 133, 2, 444], [511, 498, 5, 480], [86, 23, 1694, 290, 47, 48, 14, 1766, 214], [173, 1549, 1561, 77, 83, 16, 325, 116, 839, 5576, 528, 92, 162, 533, 504, 302], [5577, 1405, 806, 1377, 837, 5578], [2118, 2453], [27, 1146, 66, 860, 403, 364, 382, 487, 47, 3, 1147, 78, 266, 987, 238, 988], [993, 107, 88, 12, 36, 258, 133, 360, 109, 136, 444, 437, 255], [85, 16, 37, 11, 5579, 460], [101, 297, 428, 1328, 66, 118, 40, 641, 102, 936, 47, 3, 164, 112, 348, 1122, 18, 348, 5580], [544, 342, 388, 1112, 652, 100, 53, 2651, 2651, 137, 67, 1482, 5581, 353], [77, 332, 1622, 89, 571, 2268, 222, 37, 222, 2044], [2622, 212, 278, 2, 39, 107, 2, 39, 21, 2, 418, 85, 249, 549, 2, 21, 141, 2, 39, 48, 42, 126], [119, 5582, 1470, 232, 359, 53, 434, 27, 798, 1390, 5583, 53, 745], [1468, 1570, 82, 192, 2652, 5584], [57, 1142, 2624], [573, 5585], [58, 900, 2617, 61, 5586, 61, 21, 178, 590, 5587, 5588, 5589, 61, 117, 456, 309, 460, 30], [324, 1819, 530, 637], [2502, 375, 95, 25], [345, 13, 1562, 17], [5590, 253, 44, 30, 398, 5, 70, 60, 16, 61, 169], [5, 353, 396, 9, 8, 2110, 66, 48, 5, 353, 5591, 145, 848, 46], [10, 297, 18, 149, 443, 18, 4, 313, 102, 120, 307, 10, 102, 118, 5592, 96, 263, 32, 33], [2454, 33, 685, 5593, 47, 81, 1634, 421], [5, 245, 97, 681, 270, 1202, 32, 338, 43, 91, 32, 338, 125, 694, 118, 28, 200], [173, 1101, 648, 574, 131, 76], [109, 140, 4, 1439, 3, 5, 987, 295, 424, 1312, 3, 43, 5594, 399, 307, 686, 358, 1316, 203, 54, 5595], [684, 72, 27], [62, 176, 123, 2, 2], [1712, 5596, 5597, 178], [15, 52, 136, 49, 1281, 104, 356, 665, 280, 37, 139, 1683, 1313, 1008, 9, 8, 11, 852, 1661, 1299], [5598, 304, 744, 1073, 951, 5599, 1541, 1074, 5600, 1758, 176], [378, 361, 5601], [1081, 423, 1819], [1628, 180, 640, 2492, 2487, 105, 813, 5, 518, 558, 2067, 2, 2653, 313], [104, 89, 5602, 398, 2, 93, 5603, 149, 300, 995, 5604, 36, 57, 115], [73, 818, 60, 5, 7, 64, 2, 5605, 5606, 6, 5607, 5608, 273, 1057, 6, 5609, 168, 1021, 5610, 5611, 20, 5612], [474, 1841, 915, 5613, 125], [56, 5614, 9, 8, 803, 296], [61, 1089, 1140, 1125, 57, 85, 179, 11, 2654, 209, 594, 329, 419, 59, 179, 703, 39, 1190, 388, 5615, 35, 61, 11], [503, 1947, 5, 301, 470, 530, 264, 281, 10, 343, 26, 465, 198, 32, 429, 1948], [84, 230], [934, 85, 107, 611, 5616, 61, 140], [7], [2, 154, 113], [13], [645, 800, 5617, 5618], [82, 36, 15, 5, 5619, 253, 1178, 418, 324, 1368, 2, 251, 5620], [2, 1504, 254, 40, 448, 112, 130, 186, 11, 22, 33, 2655], [2, 1504, 254, 40, 448, 112, 130, 186, 774, 11, 22, 33, 2655], [522, 1715, 143, 2270], [610, 90, 933, 469, 124, 41, 352, 9, 8, 119, 10, 6, 1308, 410, 9, 8, 755], [2420, 49, 34, 397, 15, 237, 27, 296, 153, 288, 1546, 232, 485, 68], [16, 122, 71, 61, 141, 2656, 11], [667, 2318, 1864, 72, 287], [84, 553, 157, 851, 90, 949, 56, 949, 361, 1660], [1773, 3, 31], [2657, 318, 5621, 447, 386, 2658, 525, 5622, 151, 2657, 888, 355, 955, 870, 64, 2040, 338], [147, 455, 1490], [1265, 65, 157, 5623, 10, 2499, 112, 18, 6, 2, 4, 244, 2, 419, 265, 2614, 303, 295, 155], [795, 1711, 1664, 338, 121, 2632, 77, 41, 3], [7, 400, 2, 367, 85, 482, 65, 2, 334, 288, 68, 348, 514, 23], [94, 31, 119, 383, 63, 133, 352, 11, 63, 71], [84, 1364, 13, 434, 490, 19, 596], [], [465, 216, 467, 102, 181, 648, 53, 52, 102, 2052, 647, 5624, 5625, 805, 5626, 1277, 759, 5627, 39, 28, 607, 34], [4, 79, 22], [38, 64, 5628, 1078, 289], [2659, 542, 226, 2000, 15, 72, 247, 2, 346], [129, 471, 335, 683, 1384], [2098, 136, 2649, 411, 668, 850, 128, 5629], [48, 56, 320, 5630, 2491, 5631, 625, 410, 5632, 410, 57, 5633, 140, 1425, 13], [173, 20, 153, 11, 354, 36, 359, 22, 2652, 299, 1607, 20, 277, 2206, 844, 629, 357, 277, 1187, 829, 2596, 821, 5634, 5635, 1809, 255], [5636, 475], [137, 67, 1677, 137, 67, 160, 2634, 59, 5637, 863, 5638], [938, 948, 460, 2], [38, 106, 4, 856, 37], [7, 24, 29, 767, 70], [45, 1787, 7, 1727, 1667, 200, 16, 5639, 41, 600, 5640], [954, 18, 132, 663, 747, 499, 913], [15, 196, 2320, 4, 105, 51, 108, 136], [2, 81, 109, 274, 56, 7, 24], [1177, 37, 5641, 235], [47, 3, 164, 112, 1132, 191, 190, 87, 80], [572, 572, 1833, 5642, 5643, 5644, 2635, 436, 2, 2653, 170, 51, 646, 528, 165, 1354, 123, 5645, 138, 335, 2, 5, 5646, 57, 48, 1100, 488, 930, 17, 39, 151, 138, 7, 436, 55], [308, 16, 122, 60, 16, 169, 318, 69, 12, 476, 1339, 9, 8, 296, 825, 104, 93, 56, 946, 466, 1313, 1049, 1222, 35, 268, 974, 748, 93, 120, 16, 11, 927], [2, 422, 2, 393, 57, 168, 482, 229, 19, 6, 1113, 619, 456, 1295, 291], [5647, 639, 298, 973, 856], [5648, 666, 2554, 505, 5649, 5650, 2541, 1291, 2289], [62, 7, 280, 12, 663, 593, 326, 5651], [84, 180, 830, 12, 95, 427, 75], [1112, 2119, 109, 53, 827, 5652, 159, 673, 738, 1354], [295, 5653, 604, 692, 166, 5654, 5655, 338, 64, 5656, 749, 55, 233], [355, 164, 112, 1515, 3, 1745], [71, 5657, 138, 47], [86, 36, 351, 5658, 194, 36, 236, 100, 11, 280, 1469], [2, 134, 385, 10, 1237, 283, 2, 4, 2, 97, 10, 536, 42, 309, 22, 134, 358, 1596, 142], [2240, 42, 5, 17], [491, 5659, 2618, 93, 150, 5660, 1136, 277, 138], [183, 111, 1536, 405, 117, 128], [184, 220, 1743, 599, 5661, 709, 1485, 902, 6, 608, 2619], [19, 6], [137, 67, 30, 162, 19, 174, 159, 1034, 127, 38, 5662, 375, 27], [233, 19, 12, 258], [172, 275], [308, 208, 584, 366, 100, 53, 227, 1885, 109, 1203, 36, 294, 384, 17], [36, 2, 720, 66], [2, 59, 271, 635, 244, 407, 185, 59, 189, 2560, 204, 168, 24, 152, 96, 269, 5663, 192, 271], [152, 1605, 7, 104, 385, 5664, 29, 160, 207, 5665], [70, 10, 519, 52, 5666, 689, 864, 420, 603, 112, 46, 33, 65, 28], [5667, 466], [5668, 60, 61, 431, 5669, 822], [532, 168, 1521, 98, 1088], [71, 688, 367, 71], [223, 526, 1209, 666, 403, 2, 38, 87, 281, 3, 1329, 256, 135, 5670, 327, 373, 203, 224, 40, 1357], [201, 591, 5671, 5672, 2, 5, 821, 23, 990, 357, 1232, 5673, 264, 821, 1254], [220, 1125, 171, 614, 204, 160], [2660, 72, 72, 322, 143, 150, 388, 2661, 762, 147, 143, 150, 2661, 105, 11, 615], [1093, 14, 5674, 668, 5675, 980], [933, 273], [285, 220, 154, 41, 522, 177, 279, 25, 41, 847, 17, 1790, 2587, 1494, 5676, 27, 60, 474, 170, 442, 13], [29, 64, 17, 430], [911, 42, 1808], [184, 39, 688, 42, 1757, 193, 51], [190, 87, 80, 78, 303, 80, 3, 164, 112, 1132, 191, 203, 28], [99, 455], [220, 152, 26, 96, 5677, 104, 56, 353, 205, 947, 677, 81, 740, 974], [15, 5678, 2050, 553, 5679, 14], [164, 117, 3], [59, 766, 209, 20, 141, 21, 893, 299, 2308, 22, 774, 231, 215, 141, 2, 43, 2654, 79, 76, 76], [83, 5680, 1050, 5681, 74, 67, 5682, 150], [754, 1735, 5683, 16, 1148, 605, 5684], [2573, 1491, 5685, 5686, 5687, 54, 587], [23, 11, 1155], [918, 41, 1032, 2620, 5688, 277, 573], [87, 80, 78, 3], [17, 140, 1313, 17], [38, 6, 143, 58, 42, 946], [115, 735, 2365, 353], [476, 95], [7, 38, 2386, 674, 2511, 1819, 1133], [15, 227, 196, 23, 653, 5689, 5690, 103, 175, 680, 106, 5691, 15, 506], [144, 2, 155, 52, 5692, 1790, 952], [57, 2265], [1315, 165, 25, 344, 606, 2163, 1196], [830, 12], [340, 393, 1058, 168, 2662, 2662, 296, 153, 247, 144, 550, 334], [636, 64, 23, 11], [636, 170, 478, 403], [1231, 441, 16, 267, 5693, 5694, 1231, 304, 133, 5695], [2, 3, 237], [246, 5696, 722, 2, 103, 355], [38, 1479, 1480, 247, 274, 6, 819, 5697, 23, 662, 389, 902, 2530, 2531, 522, 6, 1022, 662, 389, 902, 5698, 651, 1485, 902], [2, 81, 677, 6, 34, 113, 2, 24, 334, 2659, 350, 474, 92, 921], [5, 1739], [243, 14, 9, 8, 303, 833], [52, 2523, 47, 3], [52, 70, 47, 3], [5699, 1470, 275, 535, 500, 103], [490, 59, 332, 9, 8], [131, 40, 66, 301, 80, 190, 3, 347, 207, 78, 406, 208], [172, 1139, 789], [177, 247, 2], [220], [401, 60, 61, 11, 748, 18, 92, 58, 377, 108, 61, 11, 927], [2546, 1246, 1408, 398, 2548, 11, 1552, 35, 1401, 2, 1676, 4, 206, 575, 5, 401, 35, 36, 4, 5700], [57, 2, 183, 4], [276, 72, 101], [7, 7, 7, 524, 5, 27, 235], [73, 15, 319], [269, 269, 5701, 5702, 251, 2, 34, 96, 51, 2024, 494, 541, 2, 5703], [25, 143, 827, 1224], [16, 498, 198, 42, 117, 262, 1049, 16, 498, 5704, 22, 33, 164, 112], [1697, 245, 97, 87, 342, 32, 5705, 22, 203, 28, 11, 11, 5706, 365, 46, 644, 607], [16, 5707, 20, 27, 60, 16, 336, 1440, 409, 107, 82, 1809, 255, 844, 629], [18, 2316, 14, 36, 374], [506, 188], [5708, 2660], [99, 52, 136, 60, 16, 822], [131, 40, 301, 464, 546, 80, 263, 390, 110, 3, 135, 2450, 327, 527, 238], [288, 271, 144, 275, 614, 24, 68, 17, 26, 226, 350], [1223, 50, 24, 260, 317, 260, 374, 282, 44], [94, 280, 4, 67, 45, 45, 45, 45, 45], [205, 14, 795, 103, 410, 61, 196], [38, 133, 436, 728, 22, 1370, 9, 8, 54], [35, 613, 1363, 27, 267, 11], [68, 573, 5709, 51], [5710, 14], [65, 26, 17, 719, 5711, 59, 445, 2, 89, 94, 339, 2, 36, 578, 762, 511, 556, 1064, 2049, 1991], [5712, 574], [2301, 233, 5713, 240, 51, 275, 1778, 5714, 5715, 171, 10, 117, 1190], [17, 48, 90, 128], [415, 239, 1070, 3, 28, 186, 54, 1329, 624, 256, 135, 2290, 1330, 2291, 38], [131, 183, 110, 2, 27, 198, 124, 80, 190, 3, 347, 207, 78, 432, 256, 135, 43, 191], [496, 181, 1815], [60, 2401, 1582, 699], [1571, 5716, 5717], [336, 115, 4, 468, 402, 852, 796, 103], [889, 230, 154, 30, 169, 109], [576, 2, 78, 2008, 495, 616, 43, 2663, 1862, 5718, 2663, 264, 190, 3, 78, 961, 43, 91, 2567, 399, 203, 817], [640, 5719, 71, 71, 2, 26, 826, 277, 39, 4, 2629, 239, 678, 1239, 2, 26, 147, 71, 158, 634], [322, 189, 16, 5720, 1682, 5721, 1777, 378, 413, 7, 1691, 5722, 37, 1697], [16, 63, 25, 143], [176, 5723, 754, 2640, 5724, 5725, 5726, 1286, 70], [15, 5, 2664, 5727, 34, 15, 2664, 5728, 7, 185, 156, 59, 88, 133, 5, 1475, 175, 5729], [133, 12, 5730, 273, 1159, 1013, 596], [217, 5731, 5732, 1665], [5733, 9, 8, 5734, 120], [45, 1269, 5735], [98, 201, 1089, 1767, 57], [66, 2, 239], [5736, 788, 92, 274, 29, 1849, 274], [137, 67, 59, 50, 93, 738, 903, 2462, 17, 50, 611, 932], [308, 150, 731, 628, 1321, 140, 243, 9, 8, 424, 632, 93, 2644, 2645, 103, 64, 61, 203, 280, 316, 825, 2646, 272, 476, 243, 424, 140, 2647, 1107, 58, 1308, 140, 146, 47, 120, 101], [461, 24, 298, 268, 638, 49, 31, 1692, 645, 68, 184], [209, 1092, 1648, 5737, 5738, 2589, 5739, 2, 5740, 5741, 90, 2], [7, 171, 220, 25, 485, 1263, 5742], [33, 1441, 58], [14, 20, 1762], [94, 12, 237, 2571, 31, 12], [5743, 514, 417, 102, 200, 5744, 112, 465, 102, 5745, 28, 2, 23, 376, 751, 41, 201], [220, 5746, 5747, 5748, 726], [129, 58, 172, 2055, 5749, 377, 5750, 123, 1045, 268, 759, 5, 412, 1029, 1611, 5751], [45, 387, 5752, 2, 477, 192, 2631, 70, 59, 173, 507, 132, 2, 265, 408, 438, 341, 693, 5753], [21, 13, 30, 64, 16, 5754], [64, 5755, 1651, 363, 36, 1747, 278, 90, 552], [395, 708], [7, 1356, 5756, 335, 2, 804, 28], [35, 1062, 31], [167, 1968, 12, 2627, 338, 5757, 1655, 1503, 236], [2341, 12], [16, 463, 475, 529, 27, 199, 60, 16, 441, 5758, 785, 47, 1350], [69, 12, 21, 95, 302, 5759, 2066, 103, 170, 1037, 311, 4], [1507, 241, 241, 241, 13, 52, 1979, 415, 1698, 736, 4, 10, 851, 553, 109, 776, 132, 5, 696], [15, 1740, 188, 137, 67, 6, 586], [19, 1086, 1738], [163, 153, 516, 740], [1356, 66, 35, 180, 5760, 77, 81, 799], [673, 74, 67, 4, 214, 907], [973, 62], [5761, 44, 298, 613, 2298, 163, 5762], [5763, 1110, 1759, 1110, 1652], [506, 460, 945], [5764, 5765, 300, 451, 312, 56, 123, 1807, 119, 1618, 1807, 810, 357, 312, 501, 141, 5766, 1267], [5767, 5768, 53, 388, 1795, 88, 2364, 25, 5769], [5770, 26, 2, 973, 1159, 2, 35, 583, 25, 237], [98, 815, 82, 101, 445], [216, 13, 14, 9, 8, 563], [216, 18, 181], [5771, 822, 42, 126, 526], [82, 41, 13, 41], [38, 31, 170, 752, 19], [272, 675, 2446], [337, 1049, 9, 8, 31], [1341, 16, 5772, 5773, 40, 310], [582, 548, 160, 213], [173, 2, 2, 2, 55, 2637, 1805, 49, 21, 1762, 113, 5774, 967, 42, 126, 173, 2297], [483, 772, 14], [781, 115, 557, 699], [1752, 2451, 5775, 159, 62], [1632, 481, 437, 94, 481, 1387, 481, 1633, 2170, 481, 481, 833, 158, 5776], [1815, 520, 848, 591, 5777, 14, 9, 8, 54], [131, 355, 714, 896, 27, 639, 11, 111, 600, 897, 802, 665, 1047], [1017, 448, 221, 1580], [95, 24, 340, 2, 24], [216, 100, 320, 176, 17, 162], [89, 371, 64, 969, 19, 21, 85, 903, 1045, 726, 25, 1473, 2349, 5778, 590, 35, 5779, 336, 181], [54, 75, 38], [742, 1221, 6], [417, 37, 70, 26, 2, 545, 732, 71, 287, 68, 26, 5, 235], [276, 58, 114, 1629], [2038, 5780, 1789, 955, 447, 1789, 2658], [176, 41, 30], [2, 154, 2601, 30], [276, 258, 4, 75], [2250, 556, 5781], [220, 5782, 36, 468], [16, 122, 71, 5783, 61, 141, 2656, 11], [100, 245, 78, 5, 755, 957, 281, 18, 86, 656, 736, 210, 40, 43, 756, 1141, 32, 118, 33], [220, 34, 1048, 24, 226, 1048], [29, 15, 68, 121, 48, 2, 29, 21, 13], [7], [1522, 5784, 26, 2, 68, 26, 2, 5, 11, 69, 81, 2, 103, 712, 2, 312, 27, 158, 1335], [62, 1080, 149, 17, 2, 151, 1131, 138], [25, 344, 79], [84, 72, 172, 408, 100, 53, 159, 5785, 361, 116, 242], [340, 1817, 15, 450, 962, 1040, 27], [66], [839, 1408, 514, 90, 195, 357, 1033, 640, 212, 146, 69, 90, 753, 158, 5786], [12, 215, 35, 273], [1223, 7, 68, 195, 15, 1821, 88, 68], [96, 254, 5, 480, 75], [581, 142, 715, 24], [1269, 230, 25, 1263], [1284, 5787, 74, 67, 757], [2, 106, 2, 42, 700, 17], [173, 2, 3, 549, 2, 177, 1813, 711, 2506, 956, 2, 699, 21, 431, 5788, 208, 100, 269, 27, 1813], [1719, 108, 5789, 1719, 20, 187, 71], [22, 52, 66], [5790, 552, 769], [5791, 2253], [38, 38, 2179], [2345, 9, 8, 2395, 2306, 829, 508, 2665, 229, 5792, 6, 760, 508, 2665, 15, 5793], [1812, 53, 5794, 5795, 297, 1580, 201], [167], [5796, 5797]]\n"
     ]
    }
   ],
   "source": [
    "print(sequences_train_1)"
   ]
  },
  {
   "cell_type": "markdown",
   "metadata": {},
   "source": [
    "#### **Sem Word Embeddings Pré-treinado**"
   ]
  },
  {
   "cell_type": "markdown",
   "metadata": {},
   "source": [
    "O texto das avaliações foi convertido para inteiros, onde cada inteiro representa uma palavra específica no dicionário. \n",
    "\n",
    "As avaliações — os arrays de inteiros — devem ser convertidas em tensores (tensors) antes de alimentar a rede neural.\n",
    "\n",
    "Isso é como se parece a primeira revisão"
   ]
  },
  {
   "cell_type": "code",
   "execution_count": 633,
   "metadata": {},
   "outputs": [
    {
     "name": "stdout",
     "output_type": "stream",
     "text": [
      "Texto em Formato Númerico:  [36, 25, 2666, 13]\n",
      "Tamanho:  4\n"
     ]
    }
   ],
   "source": [
    "print('Texto em Formato Númerico: ', sequences_train_1[0])\n",
    "print('Tamanho: ', len(sequences_train_1[0]))"
   ]
  },
  {
   "cell_type": "markdown",
   "metadata": {},
   "source": [
    "As avaliações têm tamanhos diferentes. O código abaixo mostra o número de palavras da primeira e segunda avaliação. Sabendo que o número de entradas da rede neural tem que ser o mesmo, temos que resolver isto."
   ]
  },
  {
   "cell_type": "code",
   "execution_count": 634,
   "metadata": {},
   "outputs": [
    {
     "name": "stdout",
     "output_type": "stream",
     "text": [
      "Tamanho do Primeiro Texto: 4 \n",
      "Tamanho do Segundo Texto: 16\n"
     ]
    }
   ],
   "source": [
    "print(f\"Tamanho do Primeiro Texto: {len(sequences_train_1[0])} \\nTamanho do Segundo Texto: {len(sequences_train_1[1])}\")"
   ]
  },
  {
   "cell_type": "markdown",
   "metadata": {},
   "source": [
    "Como as mensagens (texto) no conjunto de dados são de tamanho variável, usaremos o preenchimento para fazer \n",
    "com que todas as mensagens tenham o mesmo tamanho. Podemos usar o comprimento máximo da sequência para preencher as mensagens. \n",
    "No entanto, também podemos dar uma olhada na distribuição \n",
    "dos comprimentos de sequência no conjunto de treino para encontrar o comprimento de preenchimento correto."
   ]
  },
  {
   "cell_type": "code",
   "execution_count": 635,
   "metadata": {},
   "outputs": [
    {
     "name": "stdout",
     "output_type": "stream",
     "text": [
      "Tamanho do Vocabulário:  5798\n",
      "Comprimento da maior sequência:  77\n"
     ]
    }
   ],
   "source": [
    "# Determina o tamanho do vocabulário\n",
    "print(\"Tamanho do Vocabulário: \", vocab_size_1)\n",
    "\n",
    "# Identificando o comprimento da maior sequência do conjunto de treinamento\n",
    "names = [len(n) for n in sequences_train_1]\n",
    "print(\"Comprimento da maior sequência: \", max(names))"
   ]
  },
  {
   "cell_type": "code",
   "execution_count": 636,
   "metadata": {},
   "outputs": [
    {
     "data": {
      "image/png": "[encoded data removed]",
      "text/plain": [
       "<Figure size 1000x200 with 1 Axes>"
      ]
     },
     "metadata": {},
     "output_type": "display_data"
    }
   ],
   "source": [
    "# Identificando a frêquencia dos comprimentos das sequência de treinamento\n",
    "plt.figure(figsize=(10,2))\n",
    "plt.hist(names, bins = 100)\n",
    "x_ticks = np.arange(0, 100, 5)\n",
    "plt.xticks(x_ticks)\n",
    "plt.show()"
   ]
  },
  {
   "cell_type": "markdown",
   "metadata": {},
   "source": [
    "Podemos ver claramente que a maioria das mensagens tem um comprimento de 25 palavras ou menos. \n",
    "\n",
    "Considerando que o comprimento máximo é 77. Portanto, se selecionarmos 77 como o comprimento de preenchimento, \n",
    "todas as sequências de entrada terão comprimento 77 e a maioria dos tokens nessas sequências serão tokens de preenchimento que \n",
    "não ajudarão o modelo a aprender nada útil e além disso, tornará o treinamento mais lento.\n",
    "\n",
    "Portanto, definiremos 25 como o comprimento do preenchimento."
   ]
  },
  {
   "cell_type": "markdown",
   "metadata": {},
   "source": [
    "#### **Padronização (ou Preenchimento de Sequências)**"
   ]
  },
  {
   "cell_type": "markdown",
   "metadata": {},
   "source": [
    "Já que as avaliações devem ter o mesmo tamanho, usaremos a função pad_sequences para padronizar os tamanhos."
   ]
  },
  {
   "cell_type": "code",
   "execution_count": 637,
   "metadata": {},
   "outputs": [],
   "source": [
    "max_length = 25\n",
    "\n",
    "padded_train_1 = pad_sequences(sequences_train_1, maxlen=max_length, padding='post', truncating='post')\n",
    "#padded_valid_1 = pad_sequences(sequences_valid_1, maxlen=max_length, padding='post', truncating='post')\n",
    "padded_test_1 = pad_sequences(sequences_test_1, maxlen=max_length, padding='post', truncating='post')\n",
    "\n",
    "padded_train_2 = pad_sequences(sequences_train_2, maxlen=max_length, padding='post', truncating='post')\n",
    "#padded_valid_2 = pad_sequences(sequences_valid_2, maxlen=max_length, padding='post', truncating='post')\n",
    "padded_test_2 = pad_sequences(sequences_test_2, maxlen=max_length, padding='post', truncating='post')\n",
    "\n",
    "padded_train_3 = pad_sequences(sequences_train_3, maxlen=max_length, padding='post', truncating='post')\n",
    "#padded_valid_3 = pad_sequences(sequences_valid_3, maxlen=max_length, padding='post', truncating='post')\n",
    "padded_test_3 = pad_sequences(sequences_test_3, maxlen=max_length, padding='post', truncating='post')\n",
    "\n",
    "padded_train_4 = pad_sequences(sequences_train_4, maxlen=max_length, padding='post', truncating='post')\n",
    "#padded_valid_4 = pad_sequences(sequences_valid_4, maxlen=max_length, padding='post', truncating='post')\n",
    "padded_test_4 = pad_sequences(sequences_test_4, maxlen=max_length, padding='post', truncating='post')"
   ]
  },
  {
   "cell_type": "code",
   "execution_count": 638,
   "metadata": {},
   "outputs": [
    {
     "data": {
      "text/plain": [
       "array([[  36,   25, 2666, ...,    0,    0,    0],\n",
       "       [  84,   15,  189, ...,    0,    0,    0],\n",
       "       [  45,  326,  854, ...,    0,    0,    0],\n",
       "       ...,\n",
       "       [1812,   53, 5794, ...,    0,    0,    0],\n",
       "       [ 167,    0,    0, ...,    0,    0,    0],\n",
       "       [5796, 5797,    0, ...,    0,    0,    0]])"
      ]
     },
     "execution_count": 638,
     "metadata": {},
     "output_type": "execute_result"
    }
   ],
   "source": [
    "padded_train_1"
   ]
  },
  {
   "cell_type": "markdown",
   "metadata": {},
   "source": [
    "#### **Métrica Balanced Accuracy Customizada com Keras/Tensorflow**"
   ]
  },
  {
   "cell_type": "code",
   "execution_count": 639,
   "metadata": {},
   "outputs": [],
   "source": [
    "# O Tensorflow 2 possui uma opção de configuração para executar funções \"avidamente\", o que permitirá obter valores do Tensor por meio do método .numpy(). \n",
    "# Para habilitar a execução antecipada, use o seguinte comando: tf.config.run_functions_eagerly(True)\n",
    "tf.config.run_functions_eagerly(True)\n",
    "tf.data.experimental.enable_debug_mode()"
   ]
  },
  {
   "cell_type": "code",
   "execution_count": 640,
   "metadata": {},
   "outputs": [],
   "source": [
    "# Aplicar limite de decisão para as probabilidades do modelo\n",
    "def to_labels(pos_probs, threshold):\n",
    "    return (pos_probs >= threshold).astype('int')\n",
    "\n",
    "class CustomBalancedAccuracyA(tf.keras.metrics.Metric):\n",
    "    def __init__(self, Threshold=0.5, name='CustomBalancedAccuracy', **kwargs):\n",
    "        super(CustomBalancedAccuracyA, self).__init__(name=name, **kwargs)\n",
    "        self.Threshold = Threshold\n",
    "        self.true_positives = self.add_weight(name='tp', initializer='zeros')\n",
    "        self.false_positives = self.add_weight(name='fp', initializer='zeros')\n",
    "        self.true_negatives = self.add_weight(name='tn', initializer='zeros')\n",
    "        self.false_negatives = self.add_weight(name='fn', initializer='zeros')\n",
    "    \n",
    "    def update_state(self, y_true, y_pred, sample_weight=None):\n",
    "        # O y_true é um array de 1 Dimensão com valores inteiros.\n",
    "        # O y_pred é um array de 2 Dimensões com valores flutuantes, ou seja, com probabilidades das classes. \n",
    "        # Precisamos transformar o y_pred em inteiros e converter o array para 1D\n",
    "        # Iremos usar as funçãoes do Tensorflow\n",
    "        # 1) Arrendondar os valores do array\n",
    "        # 2) Transformar o array de 2D para 1D\n",
    "        # 3) Converter o tipo do array para int32\n",
    "        if self.Threshold != 0.5:\n",
    "            y_pred = to_labels(tf.reshape(y_pred, -1).numpy(), self.Threshold)\n",
    "            y_pred= tf.cast(tf.convert_to_tensor(y_pred), dtype='int32')\n",
    "        else:\n",
    "            y_pred = tf.cast(tf.reshape(tf.round(y_pred), -1), dtype='int32')\n",
    "\n",
    "        # O y_pred é um tensor do tipo int32.\n",
    "        # Vamos converter o y_true para tensor do tipo int32\n",
    "        y_true = tf.cast(tf.convert_to_tensor(y_true), dtype='int32')\n",
    "\n",
    "        # Transforma o array em valores booleanos [0, 1, 0, 1] -> [False, True, False, True]\n",
    "        y_true = tf.keras.ops.cast(y_true, \"bool\")\n",
    "        y_pred = tf.keras.ops.cast(y_pred, \"bool\")\n",
    "\n",
    "        # Verifica a quantidade de VERDADEIROS POSITIVOS (TP)\n",
    "        # Usaremos a função lógica \"and\" para verifica a quantidade de valores verdadeiros e falsos\n",
    "        #  A    and    B       S\n",
    "        # True       True  = True\n",
    "        # False      False = False\n",
    "        # True       True  = False\n",
    "        # True       True  = False\n",
    "        values = tf.keras.ops.logical_and(tf.keras.ops.equal(y_true, True), tf.keras.ops.equal(y_pred, True))\n",
    "        values = tf.keras.ops.cast(values, dtype='int32')\n",
    "        tp = tf.reduce_sum(values)\n",
    "        \n",
    "        # Verifica a quantidade de VERDADEIROS NEGATIVOS (TN)\n",
    "        values = tf.keras.ops.logical_and(tf.keras.ops.equal(y_true, False), tf.keras.ops.equal(y_pred, False))\n",
    "        values = tf.keras.ops.cast(values, dtype='int32')\n",
    "        tn = tf.reduce_sum(values)\n",
    "        \n",
    "        # Verifica a quantidade de FALSO POSITIVO (FP)\n",
    "        values = tf.keras.ops.logical_and(tf.keras.ops.equal(y_true, False), tf.keras.ops.equal(y_pred, True))\n",
    "        values = tf.keras.ops.cast(values, dtype='int32')\n",
    "        fp = tf.reduce_sum(values)\n",
    "\n",
    "        # Verifica a quantidade de FALSO NEGATIVO (FN)\n",
    "        values = tf.keras.ops.logical_and(tf.keras.ops.equal(y_true, True), tf.keras.ops.equal(y_pred, False))\n",
    "        values = tf.keras.ops.cast(values, dtype='int32')\n",
    "        fn = tf.reduce_sum(values) \n",
    "\n",
    "        # assign_add e assign em TensorFlow são usadas para atualizar os valores de tensores que foram definidos como variáveis de estado dentro de uma classe\n",
    "        # assign_add\n",
    "        # Função: Incrementa o valor da variável pelo valor especificado.\n",
    "        # Uso: É útil quando você deseja somar um valor ao valor atual da variável.\n",
    "        # Exemplo: self.true_positives.assign_add(tn)\n",
    "        # Isso adiciona o número de verdadeiros positivos encontrados na batch atual ao total acumulado de verdadeiros positivos.\n",
    "        # Use assign_add quando você precisa acumular valores ao longo do tempo, como ao acumular contagens de verdadeiros positivos, falsos positivos, etc., durante várias iterações ou batches de treinamento.\n",
    "      \n",
    "        self.true_positives.assign_add(tp)\n",
    "        self.false_positives.assign_add(fp)\n",
    "        self.true_negatives.assign_add(tn)\n",
    "        self.false_negatives.assign_add(fn)\n",
    "    \n",
    "    def result(self):\n",
    "        recall = self.true_positives / (self.true_positives + self.false_negatives + tf.keras.backend.epsilon())\n",
    "        specificity = self.true_negatives / (self.true_negatives + self.false_positives + tf.keras.backend.epsilon())\n",
    "        balanced_accuracy = (recall + specificity) / 2\n",
    "        return balanced_accuracy\n",
    "    \n",
    "    def reset_states(self):\n",
    "        self.true_positives.assign(0.0)\n",
    "        self.false_positives.assign(0.0)\n",
    "        self.true_negatives.assign(0.0)\n",
    "        self.false_negatives.assign(0.0)"
   ]
  },
  {
   "cell_type": "markdown",
   "metadata": {},
   "source": [
    "#### **Construindo o modelo**"
   ]
  },
  {
   "cell_type": "code",
   "execution_count": 641,
   "metadata": {},
   "outputs": [
    {
     "data": {
      "text/plain": [
       "{0: 0.5722872508699779, 1: 3.9584245076586435}"
      ]
     },
     "execution_count": 641,
     "metadata": {},
     "output_type": "execute_result"
    }
   ],
   "source": [
    "# Estime os pesos das classes para conjuntos de dados não balanceados.\n",
    "\n",
    "classes = np.unique(y_train)\n",
    "class_weights = compute_class_weight(class_weight=\"balanced\", classes=classes, y=y_train)\n",
    "class_weights = dict(zip(classes, class_weights))\n",
    "class_weights"
   ]
  },
  {
   "cell_type": "code",
   "execution_count": 642,
   "metadata": {},
   "outputs": [],
   "source": [
    "def build(vocab_size, max_length):\n",
    "    #####################################################################################################\n",
    "    # Configurando a arquitetura do modelo  \n",
    "    model = tf.keras.Sequential()\n",
    "    \n",
    "    # --> Camada de Entrada\n",
    "    # Geralmente, todas as camadas no Keras precisam conhecer a forma de suas entradas para poder criar seus pesos\n",
    "    # Neste caso, você deve iniciar seu modelo passando um objeto Input para seu modelo, para que ele conheça sua forma de entrada desde o início\n",
    "    # Modelos construídos com um formato de entrada predefinido como esse sempre possuem pesos (mesmo antes de ver qualquer dado) e sempre possuem um formato de saída definido.\n",
    "    # Em geral, é uma prática recomendada sempre especificar antecipadamente o formato de entrada de um modelo Sequencial, se você souber o que é.\n",
    "    # Uma alternativa simples é apenas passar um argumento input_shape para sua primeira camada:\n",
    "    # Exemplo: model.add(tf.keras.layers.Embedding(input_dim=vocab_size, output_dim=max_length, input_shape=(max_length,)))\n",
    "    # No entanto, o exemplo acima gera um warning: UserWarning: Do not pass an `input_shape`/`input_dim` argument to a layer. When using Sequential models, prefer using an `Input(shape)` object as the first layer in the model instead.\n",
    "    # https://keras.io/guides/sequential_model/\n",
    "    # https://www.tensorflow.org/guide/keras/sequential_model?hl=pt-br\n",
    "    model.add(tf.keras.Input(shape=(max_length,)))\n",
    "\n",
    "    # Adicionando Camada de Incorporação - Transforma inteiros positivos (índices) em vetores densos de tamanho fixo.\n",
    "    model.add(tf.keras.layers.Embedding(input_dim=vocab_size, output_dim=max_length))\n",
    "\n",
    "    # --> Camadas Intermediárias\n",
    "    # Adicionando Camada de Convolução\n",
    "    model.add(tf.keras.layers.Conv1D(filters=128, kernel_size=5, activation='relu'))\n",
    "\n",
    "    # Adicionando Camada de Pooling\n",
    "    model.add(tf.keras.layers.GlobalMaxPooling1D())\n",
    "                              \n",
    "    # Adicionando Camada Totalmente Conectada\n",
    "    model.add(tf.keras.layers.Dense(units=64, activation='relu'))\n",
    "    model.add(tf.keras.layers.Dropout(rate=0.30))\n",
    "    model.add(tf.keras.layers.Dense(units=64, activation='relu'))\n",
    "    model.add(tf.keras.layers.Dropout(rate=0.30))\n",
    "\n",
    "    # --> Camada de Saída                 \n",
    "    model.add(tf.keras.layers.Dense(units=1, activation='sigmoid'))\n",
    "    #####################################################################################################\n",
    "\n",
    "    return model"
   ]
  },
  {
   "cell_type": "code",
   "execution_count": 643,
   "metadata": {},
   "outputs": [],
   "source": [
    "def cnn(vocab_size, max_length, padded_train, y_train):\n",
    "    #####################################################################################################\n",
    "    # Definição do modelo\n",
    "    model = build(vocab_size, max_length)\n",
    "\n",
    "    # Transforma modelos do Keras em estimadores do Scikit-Learn\n",
    "    # Essa transformação permite a utilização dos métodos de validação cruzada e otimização de hiperparâmetros do Scikit-Learn\n",
    "    clf = KerasClassifier(model=model, \n",
    "                          verbose=0, \n",
    "                          epochs=40, \n",
    "                          batch_size=512, \n",
    "                          class_weight=class_weights,\n",
    "                          #metrics=[tf.keras.metrics.BinaryAccuracy(name='binary_accuracy')], # Como vamos fazer validação cruzada, não precisamos definir aqui a métrica \n",
    "                          optimizer=tf.keras.optimizers.Adam(name='adam', learning_rate=0.001),\n",
    "                          loss=tf.keras.losses.BinaryCrossentropy(name='binary_crossentropy'),\n",
    "                          callbacks=[tf.keras.callbacks.EarlyStopping(monitor='loss', patience=5)]) \n",
    "    \n",
    "    # Instancia o Classificador para Definir o Limite de Decisão (Threshold)\n",
    "    # O TunedThresholdClassifierCV é um classificador que pós-ajusta o limite de decisão usando validação cruzada.\n",
    "    # Este estimador pós-ajusta o limite de decisão (ponto de corte) que é usado para converter estimativas de probabilidade posteriores (ou seja, saída de predict_proba) \n",
    "    # ou pontuações de decisão (ou seja, saída de decision_function) em um rótulo de classe. O ajuste é feito otimizando uma métrica binária, potencialmente restringida por outra métrica.\n",
    "    model_tuned = TunedThresholdClassifierCV(clf, scoring='balanced_accuracy') \n",
    "\n",
    "    # Validação Cruzada: Auxilia na comparação de diferentes modelos e hiperparâmetros de maneira justa, fornecendo uma estimativa mais robusta da performance do modelo.\n",
    "    cv = StratifiedKFold(n_splits=5, shuffle=True, random_state=42)\n",
    "    scores = cross_val_score(model_tuned, padded_train, y_train, cv=cv, scoring='balanced_accuracy', n_jobs=-1)\n",
    "    print(\"Média: {} Desvio Padrão: {}\".format(round(scores.mean(), 2), round(scores.std(),3)))\n",
    "\n",
    "    # Treina o Modelo e Ajusta o Limite de Decisão\n",
    "    model_tuned.fit(padded_train, y_train)\n",
    "    print(f'Threshold {model_tuned.best_threshold_:.3f}')\n",
    "\n",
    "    #####################################################################################################\n",
    "\n",
    "    return model_tuned"
   ]
  },
  {
   "cell_type": "code",
   "execution_count": 644,
   "metadata": {},
   "outputs": [
    {
     "name": "stdout",
     "output_type": "stream",
     "text": [
      "--> Lemm + stopword removal\n",
      "Média: 0.96 Desvio Padrão: 0.013\n",
      "Threshold 0.424\n",
      "\n",
      "--> Lemm + no stopword removal\n",
      "Média: 0.96 Desvio Padrão: 0.014\n",
      "Threshold 0.071\n",
      "\n",
      "--> Stem + stopword removal\n",
      "Média: 0.96 Desvio Padrão: 0.012\n",
      "Threshold 0.030\n",
      "\n",
      "--> Stem + no stopword removal\n",
      "Média: 0.96 Desvio Padrão: 0.014\n",
      "Threshold 0.030\n"
     ]
    }
   ],
   "source": [
    "#Lemm + stopword removal \n",
    "print(\"--> Lemm + stopword removal\") \n",
    "model_cnn_1 = cnn(vocab_size_1, max_length, padded_train_1, y_train_cnn)\n",
    "\n",
    "#Lemm + no stopword removal \n",
    "print(\"\\n--> Lemm + no stopword removal\") \n",
    "model_cnn_2 = cnn(vocab_size_2, max_length, padded_train_2, y_train_cnn)\n",
    "\n",
    "#Stem + stopword removal \n",
    "print(\"\\n--> Stem + stopword removal\") \n",
    "model_cnn_3 = cnn(vocab_size_3, max_length, padded_train_3, y_train_cnn)\n",
    "\n",
    "#Stem + no stopword removal \n",
    "print(\"\\n--> Stem + no stopword removal\") \n",
    "model_cnn_4 = cnn(vocab_size_4, max_length, padded_train_4, y_train_cnn)"
   ]
  },
  {
   "cell_type": "markdown",
   "metadata": {},
   "source": [
    "#### **Modelo Escolhido:** Stem + no stopword removal\n",
    "\n",
    "Escolhemos o modelo que obteve o melhor desempenho na validação cruzada, ou seja, a melhor média e menor desvio padrão.\n",
    "\n",
    "Um desvio padrão baixo indica que os dados estão próximos da média ou do valor esperado.\n",
    "\n",
    "O modelo que usa stemização, com remoção de palavras irrelevantes supera os demais modelos com uma pontuação média de balanced_accuracy de 0.96 e desvio padrão de 0.011. "
   ]
  },
  {
   "cell_type": "markdown",
   "metadata": {},
   "source": [
    "### **Resultado Final**"
   ]
  },
  {
   "cell_type": "markdown",
   "metadata": {},
   "source": [
    "A CNN obteve melhor desempenho na detecção de spam, apresentando resultados superiores quando comparados com o modelo Multinomial Naive Bayes.\n",
    "\n",
    "Naive Bayes:\n",
    "* Balanced_Accuracy: 96.0 %\n",
    "* F1-Score: 98.0 %\n",
    "\n",
    "CNN: \n",
    "* Balanced_Accuracy: 96.0 %\n",
    "* F1-Score: 97.0 %"
   ]
  },
  {
   "cell_type": "code",
   "execution_count": 653,
   "metadata": {},
   "outputs": [
    {
     "name": "stdout",
     "output_type": "stream",
     "text": [
      "--> AVALIAÇÃO NO TESTE: Lemm + stopword removal + CountVectorizer\n",
      "Balanced_Accuracy: 96.0% F1-Score: 98.0%\n"
     ]
    }
   ],
   "source": [
    "#Lemm + stopword removal \n",
    "print(\"--> AVALIAÇÃO NO TESTE: Lemm + stopword removal + CountVectorizer\") \n",
    "\n",
    "# Predição no Conjunto de Teste\n",
    "predictions_naive = model_count_1.predict(X_test_1_count)\n",
    "\n",
    "# Avaliação Final do Modelo\n",
    "evaluate_model(y_test, predictions_naive)"
   ]
  },
  {
   "cell_type": "code",
   "execution_count": 654,
   "metadata": {},
   "outputs": [
    {
     "name": "stdout",
     "output_type": "stream",
     "text": [
      "Epoch 1/40\n",
      "\u001b[1m7/7\u001b[0m \u001b[32m━━━━━━━━━━━━━━━━━━━━\u001b[0m\u001b[37m\u001b[0m \u001b[1m1s\u001b[0m 120ms/step - CustomBalancedAccuracy: 0.5000 - loss: 0.6830 - val_CustomBalancedAccuracy: 0.5000 - val_loss: 0.6919\n",
      "Epoch 2/40\n",
      "\u001b[1m7/7\u001b[0m \u001b[32m━━━━━━━━━━━━━━━━━━━━\u001b[0m\u001b[37m\u001b[0m \u001b[1m1s\u001b[0m 113ms/step - CustomBalancedAccuracy: 0.5000 - loss: 0.6664 - val_CustomBalancedAccuracy: 0.5000 - val_loss: 0.6935\n",
      "Epoch 3/40\n",
      "\u001b[1m7/7\u001b[0m \u001b[32m━━━━━━━━━━━━━━━━━━━━\u001b[0m\u001b[37m\u001b[0m \u001b[1m1s\u001b[0m 111ms/step - CustomBalancedAccuracy: 0.5000 - loss: 0.6352 - val_CustomBalancedAccuracy: 0.5000 - val_loss: 0.6693\n",
      "Epoch 4/40\n",
      "\u001b[1m7/7\u001b[0m \u001b[32m━━━━━━━━━━━━━━━━━━━━\u001b[0m\u001b[37m\u001b[0m \u001b[1m1s\u001b[0m 112ms/step - CustomBalancedAccuracy: 0.5000 - loss: 0.5985 - val_CustomBalancedAccuracy: 0.5000 - val_loss: 0.5744\n",
      "Epoch 5/40\n",
      "\u001b[1m7/7\u001b[0m \u001b[32m━━━━━━━━━━━━━━━━━━━━\u001b[0m\u001b[37m\u001b[0m \u001b[1m1s\u001b[0m 127ms/step - CustomBalancedAccuracy: 0.5000 - loss: 0.4777 - val_CustomBalancedAccuracy: 0.5000 - val_loss: 0.4370\n",
      "Epoch 6/40\n",
      "\u001b[1m7/7\u001b[0m \u001b[32m━━━━━━━━━━━━━━━━━━━━\u001b[0m\u001b[37m\u001b[0m \u001b[1m1s\u001b[0m 135ms/step - CustomBalancedAccuracy: 0.5000 - loss: 0.3355 - val_CustomBalancedAccuracy: 0.5000 - val_loss: 0.2656\n",
      "Epoch 7/40\n",
      "\u001b[1m7/7\u001b[0m \u001b[32m━━━━━━━━━━━━━━━━━━━━\u001b[0m\u001b[37m\u001b[0m \u001b[1m1s\u001b[0m 139ms/step - CustomBalancedAccuracy: 0.5035 - loss: 0.1901 - val_CustomBalancedAccuracy: 0.5000 - val_loss: 0.1395\n",
      "Epoch 8/40\n",
      "\u001b[1m7/7\u001b[0m \u001b[32m━━━━━━━━━━━━━━━━━━━━\u001b[0m\u001b[37m\u001b[0m \u001b[1m1s\u001b[0m 134ms/step - CustomBalancedAccuracy: 0.6343 - loss: 0.1267 - val_CustomBalancedAccuracy: 0.8887 - val_loss: 0.1149\n",
      "Epoch 9/40\n",
      "\u001b[1m7/7\u001b[0m \u001b[32m━━━━━━━━━━━━━━━━━━━━\u001b[0m\u001b[37m\u001b[0m \u001b[1m1s\u001b[0m 122ms/step - CustomBalancedAccuracy: 0.8090 - loss: 0.0844 - val_CustomBalancedAccuracy: 0.9223 - val_loss: 0.1036\n",
      "Epoch 10/40\n",
      "\u001b[1m7/7\u001b[0m \u001b[32m━━━━━━━━━━━━━━━━━━━━\u001b[0m\u001b[37m\u001b[0m \u001b[1m1s\u001b[0m 142ms/step - CustomBalancedAccuracy: 0.8758 - loss: 0.0660 - val_CustomBalancedAccuracy: 0.9329 - val_loss: 0.0921\n",
      "Epoch 11/40\n",
      "\u001b[1m7/7\u001b[0m \u001b[32m━━━━━━━━━━━━━━━━━━━━\u001b[0m\u001b[37m\u001b[0m \u001b[1m1s\u001b[0m 118ms/step - CustomBalancedAccuracy: 0.9112 - loss: 0.0401 - val_CustomBalancedAccuracy: 0.9360 - val_loss: 0.0845\n",
      "Epoch 12/40\n",
      "\u001b[1m7/7\u001b[0m \u001b[32m━━━━━━━━━━━━━━━━━━━━\u001b[0m\u001b[37m\u001b[0m \u001b[1m1s\u001b[0m 109ms/step - CustomBalancedAccuracy: 0.9280 - loss: 0.0355 - val_CustomBalancedAccuracy: 0.9363 - val_loss: 0.0812\n",
      "Epoch 13/40\n",
      "\u001b[1m7/7\u001b[0m \u001b[32m━━━━━━━━━━━━━━━━━━━━\u001b[0m\u001b[37m\u001b[0m \u001b[1m1s\u001b[0m 113ms/step - CustomBalancedAccuracy: 0.9291 - loss: 0.0271 - val_CustomBalancedAccuracy: 0.9405 - val_loss: 0.0793\n",
      "Epoch 14/40\n",
      "\u001b[1m7/7\u001b[0m \u001b[32m━━━━━━━━━━━━━━━━━━━━\u001b[0m\u001b[37m\u001b[0m \u001b[1m1s\u001b[0m 114ms/step - CustomBalancedAccuracy: 0.9577 - loss: 0.0123 - val_CustomBalancedAccuracy: 0.9463 - val_loss: 0.0835\n",
      "Epoch 15/40\n",
      "\u001b[1m7/7\u001b[0m \u001b[32m━━━━━━━━━━━━━━━━━━━━\u001b[0m\u001b[37m\u001b[0m \u001b[1m1s\u001b[0m 110ms/step - CustomBalancedAccuracy: 0.9812 - loss: 0.0114 - val_CustomBalancedAccuracy: 0.9484 - val_loss: 0.0844\n",
      "Epoch 16/40\n",
      "\u001b[1m7/7\u001b[0m \u001b[32m━━━━━━━━━━━━━━━━━━━━\u001b[0m\u001b[37m\u001b[0m \u001b[1m1s\u001b[0m 110ms/step - CustomBalancedAccuracy: 0.9815 - loss: 0.0094 - val_CustomBalancedAccuracy: 0.9379 - val_loss: 0.0833\n",
      "Epoch 17/40\n",
      "\u001b[1m7/7\u001b[0m \u001b[32m━━━━━━━━━━━━━━━━━━━━\u001b[0m\u001b[37m\u001b[0m \u001b[1m1s\u001b[0m 105ms/step - CustomBalancedAccuracy: 0.9756 - loss: 0.0088 - val_CustomBalancedAccuracy: 0.9463 - val_loss: 0.0870\n",
      "Epoch 18/40\n",
      "\u001b[1m7/7\u001b[0m \u001b[32m━━━━━━━━━━━━━━━━━━━━\u001b[0m\u001b[37m\u001b[0m \u001b[1m1s\u001b[0m 102ms/step - CustomBalancedAccuracy: 0.9874 - loss: 0.0052 - val_CustomBalancedAccuracy: 0.9527 - val_loss: 0.0921\n",
      "Epoch 19/40\n",
      "\u001b[1m7/7\u001b[0m \u001b[32m━━━━━━━━━━━━━━━━━━━━\u001b[0m\u001b[37m\u001b[0m \u001b[1m1s\u001b[0m 102ms/step - CustomBalancedAccuracy: 0.9924 - loss: 0.0044 - val_CustomBalancedAccuracy: 0.9537 - val_loss: 0.0945\n",
      "Epoch 20/40\n",
      "\u001b[1m7/7\u001b[0m \u001b[32m━━━━━━━━━━━━━━━━━━━━\u001b[0m\u001b[37m\u001b[0m \u001b[1m1s\u001b[0m 101ms/step - CustomBalancedAccuracy: 0.9948 - loss: 0.0042 - val_CustomBalancedAccuracy: 0.9537 - val_loss: 0.0953\n",
      "Epoch 21/40\n",
      "\u001b[1m7/7\u001b[0m \u001b[32m━━━━━━━━━━━━━━━━━━━━\u001b[0m\u001b[37m\u001b[0m \u001b[1m1s\u001b[0m 102ms/step - CustomBalancedAccuracy: 0.9949 - loss: 0.0026 - val_CustomBalancedAccuracy: 0.9548 - val_loss: 0.0997\n",
      "Epoch 22/40\n",
      "\u001b[1m7/7\u001b[0m \u001b[32m━━━━━━━━━━━━━━━━━━━━\u001b[0m\u001b[37m\u001b[0m \u001b[1m1s\u001b[0m 111ms/step - CustomBalancedAccuracy: 0.9959 - loss: 0.0027 - val_CustomBalancedAccuracy: 0.9537 - val_loss: 0.1009\n",
      "Epoch 23/40\n",
      "\u001b[1m7/7\u001b[0m \u001b[32m━━━━━━━━━━━━━━━━━━━━\u001b[0m\u001b[37m\u001b[0m \u001b[1m1s\u001b[0m 101ms/step - CustomBalancedAccuracy: 0.9945 - loss: 0.0036 - val_CustomBalancedAccuracy: 0.9537 - val_loss: 0.1033\n",
      "Epoch 24/40\n",
      "\u001b[1m7/7\u001b[0m \u001b[32m━━━━━━━━━━━━━━━━━━━━\u001b[0m\u001b[37m\u001b[0m \u001b[1m1s\u001b[0m 101ms/step - CustomBalancedAccuracy: 0.9962 - loss: 0.0018 - val_CustomBalancedAccuracy: 0.9548 - val_loss: 0.1060\n",
      "Epoch 25/40\n",
      "\u001b[1m7/7\u001b[0m \u001b[32m━━━━━━━━━━━━━━━━━━━━\u001b[0m\u001b[37m\u001b[0m \u001b[1m1s\u001b[0m 115ms/step - CustomBalancedAccuracy: 0.9969 - loss: 0.0016 - val_CustomBalancedAccuracy: 0.9548 - val_loss: 0.1070\n",
      "Epoch 26/40\n",
      "\u001b[1m7/7\u001b[0m \u001b[32m━━━━━━━━━━━━━━━━━━━━\u001b[0m\u001b[37m\u001b[0m \u001b[1m1s\u001b[0m 106ms/step - CustomBalancedAccuracy: 0.9970 - loss: 0.0010 - val_CustomBalancedAccuracy: 0.9558 - val_loss: 0.1092\n",
      "Epoch 27/40\n",
      "\u001b[1m7/7\u001b[0m \u001b[32m━━━━━━━━━━━━━━━━━━━━\u001b[0m\u001b[37m\u001b[0m \u001b[1m1s\u001b[0m 102ms/step - CustomBalancedAccuracy: 0.9983 - loss: 0.0020 - val_CustomBalancedAccuracy: 0.9558 - val_loss: 0.1109\n",
      "Epoch 28/40\n",
      "\u001b[1m7/7\u001b[0m \u001b[32m━━━━━━━━━━━━━━━━━━━━\u001b[0m\u001b[37m\u001b[0m \u001b[1m1s\u001b[0m 101ms/step - CustomBalancedAccuracy: 0.9976 - loss: 0.0011 - val_CustomBalancedAccuracy: 0.9558 - val_loss: 0.1135\n",
      "Epoch 29/40\n",
      "\u001b[1m7/7\u001b[0m \u001b[32m━━━━━━━━━━━━━━━━━━━━\u001b[0m\u001b[37m\u001b[0m \u001b[1m1s\u001b[0m 101ms/step - CustomBalancedAccuracy: 0.9987 - loss: 9.1543e-04 - val_CustomBalancedAccuracy: 0.9558 - val_loss: 0.1149\n",
      "Epoch 30/40\n",
      "\u001b[1m7/7\u001b[0m \u001b[32m━━━━━━━━━━━━━━━━━━━━\u001b[0m\u001b[37m\u001b[0m \u001b[1m1s\u001b[0m 101ms/step - CustomBalancedAccuracy: 0.9985 - loss: 8.3382e-04 - val_CustomBalancedAccuracy: 0.9558 - val_loss: 0.1163\n",
      "Epoch 31/40\n",
      "\u001b[1m7/7\u001b[0m \u001b[32m━━━━━━━━━━━━━━━━━━━━\u001b[0m\u001b[37m\u001b[0m \u001b[1m1s\u001b[0m 101ms/step - CustomBalancedAccuracy: 0.9982 - loss: 6.9635e-04 - val_CustomBalancedAccuracy: 0.9558 - val_loss: 0.1187\n",
      "Epoch 32/40\n",
      "\u001b[1m7/7\u001b[0m \u001b[32m━━━━━━━━━━━━━━━━━━━━\u001b[0m\u001b[37m\u001b[0m \u001b[1m1s\u001b[0m 104ms/step - CustomBalancedAccuracy: 0.9994 - loss: 4.6145e-04 - val_CustomBalancedAccuracy: 0.9558 - val_loss: 0.1193\n",
      "Epoch 33/40\n",
      "\u001b[1m7/7\u001b[0m \u001b[32m━━━━━━━━━━━━━━━━━━━━\u001b[0m\u001b[37m\u001b[0m \u001b[1m1s\u001b[0m 124ms/step - CustomBalancedAccuracy: 0.9984 - loss: 0.0012 - val_CustomBalancedAccuracy: 0.9548 - val_loss: 0.1160\n",
      "Epoch 34/40\n",
      "\u001b[1m7/7\u001b[0m \u001b[32m━━━━━━━━━━━━━━━━━━━━\u001b[0m\u001b[37m\u001b[0m \u001b[1m1s\u001b[0m 108ms/step - CustomBalancedAccuracy: 0.9980 - loss: 9.6963e-04 - val_CustomBalancedAccuracy: 0.9537 - val_loss: 0.1162\n",
      "Epoch 35/40\n",
      "\u001b[1m7/7\u001b[0m \u001b[32m━━━━━━━━━━━━━━━━━━━━\u001b[0m\u001b[37m\u001b[0m \u001b[1m1s\u001b[0m 106ms/step - CustomBalancedAccuracy: 0.9981 - loss: 9.0094e-04 - val_CustomBalancedAccuracy: 0.9569 - val_loss: 0.1216\n",
      "Epoch 36/40\n",
      "\u001b[1m7/7\u001b[0m \u001b[32m━━━━━━━━━━━━━━━━━━━━\u001b[0m\u001b[37m\u001b[0m \u001b[1m1s\u001b[0m 108ms/step - CustomBalancedAccuracy: 0.9986 - loss: 4.8436e-04 - val_CustomBalancedAccuracy: 0.9579 - val_loss: 0.1263\n",
      "Epoch 37/40\n",
      "\u001b[1m7/7\u001b[0m \u001b[32m━━━━━━━━━━━━━━━━━━━━\u001b[0m\u001b[37m\u001b[0m \u001b[1m1s\u001b[0m 107ms/step - CustomBalancedAccuracy: 0.9999 - loss: 4.5767e-04 - val_CustomBalancedAccuracy: 0.9579 - val_loss: 0.1275\n",
      "\u001b[1m114/114\u001b[0m \u001b[32m━━━━━━━━━━━━━━━━━━━━\u001b[0m\u001b[37m\u001b[0m \u001b[1m1s\u001b[0m 9ms/step\n",
      "\u001b[1m49/49\u001b[0m \u001b[32m━━━━━━━━━━━━━━━━━━━━\u001b[0m\u001b[37m\u001b[0m \u001b[1m0s\u001b[0m 9ms/step\n"
     ]
    },
    {
     "data": {
      "text/plain": [
       "array([[3.1334606e-05],\n",
       "       [9.9999958e-01],\n",
       "       [5.0625644e-05],\n",
       "       ...,\n",
       "       [1.5635807e-05],\n",
       "       [1.0547432e-05],\n",
       "       [2.8650831e-05]], dtype=float32)"
      ]
     },
     "execution_count": 654,
     "metadata": {},
     "output_type": "execute_result"
    }
   ],
   "source": [
    "# Iremos reinstanciar o modelo\n",
    "# 1) Usando Keras\n",
    "model = build(vocab_size_3, max_length)\n",
    "   \n",
    "# Configurando o modelo para treinamento\n",
    "model.compile(optimizer=tf.keras.optimizers.Adam(name='adam', learning_rate=0.001),   # O learning_rate padrão é 0.001 \n",
    "                # Já que é um problema de classificação binário e o modelo tem como saída uma probabilidade usaremos a função loss \"binary_crossentropy\". A binary_crossentropy é a melhor função de loss para tratar probabilidades— ela mede a \"distância\" entre as distribuições de probabilidade, ou, no nosso caso, sobre a distribuição real e as previsões.\n",
    "                loss=tf.keras.losses.BinaryCrossentropy(name='binary_crossentropy'), \n",
    "                # Usaremos como métrica a binary_accuracy. Essa métrica é utilizada especificamente em problemas de classificação binária e calcula com que frequência as previsões correspondem aos rótulos binários.\n",
    "                metrics=[CustomBalancedAccuracyA(model_cnn_3.best_threshold_)])\n",
    "\n",
    "# Resumo do modelo\n",
    "#model.summary()\n",
    "\n",
    "# Treinando o modelo\n",
    "history = model.fit(x=padded_train_3, \n",
    "                    y=y_train_cnn,\n",
    "                    epochs=40,\n",
    "                    batch_size=512,\n",
    "                    verbose=1,\n",
    "                    class_weight=class_weights,\n",
    "                    #validation_data=(padded_valid_3, y_valid_cnn),\n",
    "                    validation_split=0.15,\n",
    "                    callbacks=[tf.keras.callbacks.EarlyStopping(monitor='loss', patience=5)])\n",
    "\n",
    "# Fazendo as predições\n",
    "# O array do treino, validação e teste é um array de 1D com ZEROs e UMs [0, 1]\n",
    "# Faz a predição\n",
    "# Arredonda os valores da predição para 1 ou 0\n",
    "# Transforma o array em 1D\n",
    "# Transforma o tipo do array em INT\n",
    "ytrain = model.predict(padded_train_3)\n",
    "ytest = model.predict(padded_test_3)\n",
    "ytest\n"
   ]
  },
  {
   "cell_type": "code",
   "execution_count": 655,
   "metadata": {},
   "outputs": [
    {
     "data": {
      "text/plain": [
       "array([0, 1, 0, ..., 0, 0, 0])"
      ]
     },
     "execution_count": 655,
     "metadata": {},
     "output_type": "execute_result"
    }
   ],
   "source": [
    "y_test_cnn"
   ]
  },
  {
   "cell_type": "code",
   "execution_count": 656,
   "metadata": {},
   "outputs": [
    {
     "data": {
      "text/plain": [
       "array([3.1334606e-05, 9.9999958e-01, 5.0625644e-05, ..., 1.5635807e-05,\n",
       "       1.0547432e-05, 2.8650831e-05], dtype=float32)"
      ]
     },
     "execution_count": 656,
     "metadata": {},
     "output_type": "execute_result"
    }
   ],
   "source": [
    "np.reshape(ytest, -1)"
   ]
  },
  {
   "cell_type": "code",
   "execution_count": 661,
   "metadata": {},
   "outputs": [
    {
     "name": "stdout",
     "output_type": "stream",
     "text": [
      "Balanced Accuracy do Treino: 99.0 99.0\n",
      "Balanced Accuracy do Teste: 96.0 96.0\n",
      "F1-Score do Teste: 97.0\n"
     ]
    }
   ],
   "source": [
    "# Scikit-Learn\n",
    "bal_acc_test_sc = np.round(balanced_accuracy_score(y_test_cnn, to_labels(np.reshape(ytest, -1), model_cnn_3.best_threshold_)), 2)*100\n",
    "bal_acc_train_sc = np.round(balanced_accuracy_score(y_train_cnn, to_labels(np.reshape(ytrain, -1), model_cnn_3.best_threshold_)), 2)*100\n",
    "\n",
    "f1_test_sc = np.round(f1_score(y_test_cnn, to_labels(np.reshape(ytest, -1), model_cnn_3.best_threshold_), average='weighted'), 2)*100\n",
    "\n",
    "# Métrica Customizada\n",
    "m = CustomBalancedAccuracyA(model_cnn_3.best_threshold_)\n",
    "m.update_state(y_test_cnn, ytest)\n",
    "bal_acc_test_cm = tf.keras.ops.round(tf.convert_to_tensor(m.result().numpy(), dtype=tf.float64), 2)*100\n",
    "\n",
    "m = CustomBalancedAccuracyA(model_cnn_3.best_threshold_)\n",
    "m.update_state(y_train_cnn, ytrain)\n",
    "bal_acc_train_cm = tf.keras.ops.round(tf.convert_to_tensor(m.result().numpy(), dtype=tf.float64), 2)*100\n",
    "\n",
    "\n",
    "print(f\"Balanced Accuracy do Treino: {bal_acc_train_sc} {bal_acc_train_cm}\")\n",
    "print(f\"Balanced Accuracy do Teste: {bal_acc_test_sc} {bal_acc_test_cm}\")\n",
    "print(f\"F1-Score do Teste: {f1_test_sc}\")"
   ]
  },
  {
   "cell_type": "markdown",
   "metadata": {},
   "source": [
    "**Visualização das Métricas da CNN Durante o Treinamento**"
   ]
  },
  {
   "cell_type": "code",
   "execution_count": 658,
   "metadata": {},
   "outputs": [
    {
     "data": {
      "image/png": "[encoded data removed]",
      "text/plain": [
       "<Figure size 1000x400 with 2 Axes>"
      ]
     },
     "metadata": {},
     "output_type": "display_data"
    }
   ],
   "source": [
    "fig, ax = plt.subplots(1, 2, figsize=(10,4))\n",
    "\n",
    "acc = history.history['CustomBalancedAccuracy']\n",
    "val_acc = history.history['val_CustomBalancedAccuracy']\n",
    "loss = history.history['loss']\n",
    "val_loss = history.history['val_loss']\n",
    "\n",
    "epochs = range(1, len(acc) + 1)\n",
    "\n",
    "sns.lineplot(x=epochs, y=loss, ax=ax[1], label='loss')\n",
    "sns.lineplot(x=epochs, y=val_loss, ax=ax[1], label='val_loss')\n",
    "ax[1].set_title(\"Training and Validation Loss\", size=10)\n",
    "ax[1].set_xlabel('Epochs')\n",
    "ax[1].set_ylabel('Loss')\n",
    "\n",
    "\n",
    "sns.lineplot(x=epochs, y=acc, ax=ax[0], label='CustomBalancedAccuracy')\n",
    "sns.lineplot(x=epochs, y=val_acc, ax=ax[0], label='val_CustomBalancedAccuracy')\n",
    "ax[0].set_title(\"Training and Validation Binary_Accuracy\", size=10)\n",
    "ax[0].set_xlabel('Epochs')\n",
    "ax[0].set_ylabel('Binary_Accuracy')\n",
    "\n",
    "\n",
    "plt.show()"
   ]
  },
  {
   "cell_type": "markdown",
   "metadata": {},
   "source": [
    "**Visualização da Matriz de Classificação**"
   ]
  },
  {
   "cell_type": "code",
   "execution_count": 659,
   "metadata": {},
   "outputs": [
    {
     "data": {
      "image/png": "[encoded data removed]",
      "text/plain": [
       "<Figure size 640x480 with 2 Axes>"
      ]
     },
     "metadata": {},
     "output_type": "display_data"
    }
   ],
   "source": [
    "classes = data['classification'].unique()\n",
    "\n",
    "predictions_cnn = to_labels(np.reshape(ytest, -1), model_cnn_3.best_threshold_)\n",
    "\n",
    "cf_matrix = confusion_matrix(y_test_cnn, predictions_cnn)\n",
    "\n",
    "group_names = ['True Neg', 'False Pos', 'False Neg', 'True Pos']\n",
    "group_counts = ['{0:0.0f}'.format(value) for value in cf_matrix.flatten()]\n",
    "\n",
    "group_percentages = ['{0:.2%}'.format(value) for value in cf_matrix.flatten()/np.sum(cf_matrix)]\n",
    "labels = [f'{v1}\\n{v2}\\n{v3}' for v1, v2, v3 in zip(group_names,group_counts,group_percentages)]\n",
    "labels = np.asarray(labels).reshape(2,2)\n",
    "\n",
    "sns.heatmap(cf_matrix, cmap=\"crest\", annot=labels, linewidth=1, fmt='', xticklabels=classes, yticklabels=classes)\n",
    "plt.xlabel('Predição')\n",
    "plt.ylabel(\"Real\")\n",
    "plt.show()"
   ]
  },
  {
   "cell_type": "markdown",
   "metadata": {},
   "source": [
    "**Relatório das Principais Métricas de Classificação**"
   ]
  },
  {
   "cell_type": "code",
   "execution_count": 660,
   "metadata": {},
   "outputs": [
    {
     "name": "stdout",
     "output_type": "stream",
     "text": [
      "              precision    recall  f1-score   support\n",
      "\n",
      "         ham       0.99      0.97      0.98      1355\n",
      "        spam       0.84      0.94      0.89       196\n",
      "\n",
      "    accuracy                           0.97      1551\n",
      "   macro avg       0.92      0.96      0.94      1551\n",
      "weighted avg       0.97      0.97      0.97      1551\n",
      "\n"
     ]
    }
   ],
   "source": [
    "print(classification_report(y_test_cnn, predictions_cnn, target_names=classes))"
   ]
  }
 ],
 "metadata": {
  "kernelspec": {
   "display_name": "Python 3 (ipykernel)",
   "language": "python",
   "name": "python3"
  },
  "language_info": {
   "codemirror_mode": {
    "name": "ipython",
    "version": 3
   },
   "file_extension": ".py",
   "mimetype": "text/x-python",
   "name": "python",
   "nbconvert_exporter": "python",
   "pygments_lexer": "ipython3",
   "version": "3.12.3"
  }
 },
 "nbformat": 4,
 "nbformat_minor": 4
}
