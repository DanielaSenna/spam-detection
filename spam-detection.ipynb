{
 "cells": [
  {
   "cell_type": "markdown",
   "metadata": {},
   "source": [
    "# **Detecção de Spam de E-mail**\n",
    "\n",
    "Neste tutorial, usaremos um classificador Naive Bayes e uma Rede Neural Convolucional para concluir uma tarefa clássica de classificação de texto, a filtragem de spam.\n",
    "\n",
    "Usaremos um conjunto de dados de spam do [UCI Machine Learning Repository](https://archive.ics.uci.edu/dataset/228/sms+spam+collection) \n",
    "\n",
    "[Classifying data using the Multinomial Naive Bayes algorithm](https://developer.ibm.com/tutorials/awb-classifying-data-multinomial-naive-bayes-algorithm/)\n"
   ]
  },
  {
   "cell_type": "markdown",
   "metadata": {},
   "source": [
    "### **Importando Bibliotecas**"
   ]
  },
  {
   "cell_type": "code",
   "execution_count": 320,
   "metadata": {},
   "outputs": [
    {
     "name": "stderr",
     "output_type": "stream",
     "text": [
      "[nltk_data] Downloading package stopwords to C:\\Users\\Daniela\n",
      "[nltk_data]     Sena\\AppData\\Roaming\\nltk_data...\n",
      "[nltk_data]   Package stopwords is already up-to-date!\n",
      "[nltk_data] Downloading package punkt to C:\\Users\\Daniela\n",
      "[nltk_data]     Sena\\AppData\\Roaming\\nltk_data...\n",
      "[nltk_data]   Package punkt is already up-to-date!\n",
      "[nltk_data] Downloading package wordnet to C:\\Users\\Daniela\n",
      "[nltk_data]     Sena\\AppData\\Roaming\\nltk_data...\n",
      "[nltk_data]   Package wordnet is already up-to-date!\n"
     ]
    }
   ],
   "source": [
    "import pandas as pd\n",
    "import seaborn as sns\n",
    "import matplotlib.pyplot as plt\n",
    "import re\n",
    "import numpy as np\n",
    "\n",
    "# !pip install scikit-learn\n",
    "from sklearn.feature_extraction.text import CountVectorizer, TfidfVectorizer\n",
    "from sklearn.model_selection import cross_val_score, StratifiedKFold\n",
    "from sklearn.metrics import classification_report, confusion_matrix, accuracy_score, f1_score, recall_score, precision_score, balanced_accuracy_score\n",
    "from sklearn.naive_bayes import MultinomialNB\n",
    "from sklearn.model_selection import train_test_split\n",
    "from sklearn.model_selection import TunedThresholdClassifierCV\n",
    "from sklearn.utils.class_weight import compute_class_weight\n",
    "\n",
    "# !pip install scikeras\n",
    "from scikeras.wrappers import KerasClassifier\n",
    "\n",
    "\n",
    "# !pip install nltk\n",
    "import nltk\n",
    "from nltk.tokenize import word_tokenize\n",
    "from nltk.stem import WordNetLemmatizer\n",
    "from nltk.stem import PorterStemmer\n",
    "\n",
    "# !pip install tqdm\n",
    "from tqdm import tqdm\n",
    "\n",
    "# !pip install tensorflow\n",
    "import tensorflow as tf\n",
    "\n",
    "from tensorflow.keras.preprocessing.text import Tokenizer\n",
    "from tensorflow.keras.preprocessing.sequence import pad_sequences\n",
    "\n",
    "from sklearn.preprocessing import LabelEncoder\n",
    "\n",
    "# !pip install keras ou pip install --upgrade keras\n",
    "from keras import ops\n",
    "\n",
    "nltk.download('stopwords')\n",
    "nltk.download('punkt')\n",
    "nltk.download('wordnet')\n",
    "\n",
    "import warnings\n",
    "warnings.filterwarnings(\"ignore\")"
   ]
  },
  {
   "cell_type": "markdown",
   "metadata": {},
   "source": [
    "### **Lendo os Dados**\n",
    "\n",
    "Usaremos um conjunto de dados de spam do [UCI Machine Learning Repository](https://archive.ics.uci.edu/dataset/228/sms+spam+collection).\n",
    "\n",
    "1) Baixe os dados do repositório [UCI Machine Learning Repository](https://archive.ics.uci.edu/dataset/228/sms+spam+collection) .\n",
    "\n",
    "2) Descompacte o arquivo e reformate-o como um arquivo .csv.\n",
    "\n",
    "3) Carregue este arquivo .csv do seu sistema local para o seu notebook "
   ]
  },
  {
   "cell_type": "code",
   "execution_count": 321,
   "metadata": {},
   "outputs": [],
   "source": [
    "data = pd.read_csv(\"SMSSpamCollection.csv\", sep='\\t', header=None)"
   ]
  },
  {
   "cell_type": "markdown",
   "metadata": {},
   "source": [
    "### **Análise Exploratória de Dados**\n",
    "\n",
    "Antes do pré-processamento, é sempre bom organizar os dados e examiná-los em busca de problemas subjacentes, como dados ausentes ou duplicados. Traçar os dados também pode nos ajudar a ver se os dados estão equilibrados."
   ]
  },
  {
   "cell_type": "code",
   "execution_count": 322,
   "metadata": {},
   "outputs": [
    {
     "data": {
      "text/html": [
       "<div>\n",
       "<style scoped>\n",
       "    .dataframe tbody tr th:only-of-type {\n",
       "        vertical-align: middle;\n",
       "    }\n",
       "\n",
       "    .dataframe tbody tr th {\n",
       "        vertical-align: top;\n",
       "    }\n",
       "\n",
       "    .dataframe thead th {\n",
       "        text-align: right;\n",
       "    }\n",
       "</style>\n",
       "<table border=\"1\" class=\"dataframe\">\n",
       "  <thead>\n",
       "    <tr style=\"text-align: right;\">\n",
       "      <th></th>\n",
       "      <th>0</th>\n",
       "      <th>1</th>\n",
       "    </tr>\n",
       "  </thead>\n",
       "  <tbody>\n",
       "    <tr>\n",
       "      <th>0</th>\n",
       "      <td>ham</td>\n",
       "      <td>Go until jurong point, crazy.. Available only ...</td>\n",
       "    </tr>\n",
       "    <tr>\n",
       "      <th>1</th>\n",
       "      <td>ham</td>\n",
       "      <td>Ok lar... Joking wif u oni...</td>\n",
       "    </tr>\n",
       "    <tr>\n",
       "      <th>2</th>\n",
       "      <td>spam</td>\n",
       "      <td>Free entry in 2 a wkly comp to win FA Cup fina...</td>\n",
       "    </tr>\n",
       "    <tr>\n",
       "      <th>3</th>\n",
       "      <td>ham</td>\n",
       "      <td>U dun say so early hor... U c already then say...</td>\n",
       "    </tr>\n",
       "    <tr>\n",
       "      <th>4</th>\n",
       "      <td>ham</td>\n",
       "      <td>Nah I don't think he goes to usf, he lives aro...</td>\n",
       "    </tr>\n",
       "  </tbody>\n",
       "</table>\n",
       "</div>"
      ],
      "text/plain": [
       "      0                                                  1\n",
       "0   ham  Go until jurong point, crazy.. Available only ...\n",
       "1   ham                      Ok lar... Joking wif u oni...\n",
       "2  spam  Free entry in 2 a wkly comp to win FA Cup fina...\n",
       "3   ham  U dun say so early hor... U c already then say...\n",
       "4   ham  Nah I don't think he goes to usf, he lives aro..."
      ]
     },
     "execution_count": 322,
     "metadata": {},
     "output_type": "execute_result"
    }
   ],
   "source": [
    "data.head()"
   ]
  },
  {
   "cell_type": "code",
   "execution_count": 323,
   "metadata": {},
   "outputs": [],
   "source": [
    "# Renomear colunas\n",
    "data.rename(columns={0:'classification', 1:'text'}, inplace=True)"
   ]
  },
  {
   "cell_type": "code",
   "execution_count": 324,
   "metadata": {},
   "outputs": [
    {
     "data": {
      "text/plain": [
       "(5572, 2)"
      ]
     },
     "execution_count": 324,
     "metadata": {},
     "output_type": "execute_result"
    }
   ],
   "source": [
    "data.shape"
   ]
  },
  {
   "cell_type": "code",
   "execution_count": 325,
   "metadata": {},
   "outputs": [
    {
     "name": "stdout",
     "output_type": "stream",
     "text": [
      "<class 'pandas.core.frame.DataFrame'>\n",
      "RangeIndex: 5572 entries, 0 to 5571\n",
      "Data columns (total 2 columns):\n",
      " #   Column          Non-Null Count  Dtype \n",
      "---  ------          --------------  ----- \n",
      " 0   classification  5572 non-null   object\n",
      " 1   text            5572 non-null   object\n",
      "dtypes: object(2)\n",
      "memory usage: 87.2+ KB\n"
     ]
    }
   ],
   "source": [
    "data.info()"
   ]
  },
  {
   "cell_type": "code",
   "execution_count": 326,
   "metadata": {},
   "outputs": [
    {
     "data": {
      "text/plain": [
       "classification    0\n",
       "text              0\n",
       "dtype: int64"
      ]
     },
     "execution_count": 326,
     "metadata": {},
     "output_type": "execute_result"
    }
   ],
   "source": [
    "# Não há dados faltantes\n",
    "data.isnull().sum()"
   ]
  },
  {
   "cell_type": "code",
   "execution_count": 327,
   "metadata": {},
   "outputs": [
    {
     "data": {
      "text/plain": [
       "403"
      ]
     },
     "execution_count": 327,
     "metadata": {},
     "output_type": "execute_result"
    }
   ],
   "source": [
    "# Existem dados duplicados neste conjunto de dados\n",
    "data.duplicated().sum()"
   ]
  },
  {
   "cell_type": "code",
   "execution_count": 328,
   "metadata": {},
   "outputs": [
    {
     "data": {
      "text/html": [
       "<div>\n",
       "<style scoped>\n",
       "    .dataframe tbody tr th:only-of-type {\n",
       "        vertical-align: middle;\n",
       "    }\n",
       "\n",
       "    .dataframe tbody tr th {\n",
       "        vertical-align: top;\n",
       "    }\n",
       "\n",
       "    .dataframe thead th {\n",
       "        text-align: right;\n",
       "    }\n",
       "</style>\n",
       "<table border=\"1\" class=\"dataframe\">\n",
       "  <thead>\n",
       "    <tr style=\"text-align: right;\">\n",
       "      <th></th>\n",
       "      <th>classification</th>\n",
       "      <th>text</th>\n",
       "    </tr>\n",
       "  </thead>\n",
       "  <tbody>\n",
       "    <tr>\n",
       "      <th>0</th>\n",
       "      <td>ham</td>\n",
       "      <td>Go until jurong point, crazy.. Available only ...</td>\n",
       "    </tr>\n",
       "    <tr>\n",
       "      <th>1</th>\n",
       "      <td>ham</td>\n",
       "      <td>Ok lar... Joking wif u oni...</td>\n",
       "    </tr>\n",
       "    <tr>\n",
       "      <th>2</th>\n",
       "      <td>spam</td>\n",
       "      <td>Free entry in 2 a wkly comp to win FA Cup fina...</td>\n",
       "    </tr>\n",
       "    <tr>\n",
       "      <th>3</th>\n",
       "      <td>ham</td>\n",
       "      <td>U dun say so early hor... U c already then say...</td>\n",
       "    </tr>\n",
       "    <tr>\n",
       "      <th>4</th>\n",
       "      <td>ham</td>\n",
       "      <td>Nah I don't think he goes to usf, he lives aro...</td>\n",
       "    </tr>\n",
       "  </tbody>\n",
       "</table>\n",
       "</div>"
      ],
      "text/plain": [
       "  classification                                               text\n",
       "0            ham  Go until jurong point, crazy.. Available only ...\n",
       "1            ham                      Ok lar... Joking wif u oni...\n",
       "2           spam  Free entry in 2 a wkly comp to win FA Cup fina...\n",
       "3            ham  U dun say so early hor... U c already then say...\n",
       "4            ham  Nah I don't think he goes to usf, he lives aro..."
      ]
     },
     "execution_count": 328,
     "metadata": {},
     "output_type": "execute_result"
    }
   ],
   "source": [
    "data.head()"
   ]
  },
  {
   "cell_type": "code",
   "execution_count": 329,
   "metadata": {},
   "outputs": [
    {
     "data": {
      "image/png": "[encoded data removed]",
      "text/plain": [
       "<Figure size 400x300 with 1 Axes>"
      ]
     },
     "metadata": {},
     "output_type": "display_data"
    }
   ],
   "source": [
    "# Distribuição da variável alvo\n",
    "\n",
    "fig, ax = plt.subplots(1, 1, figsize=(4,3))\n",
    "\n",
    "g1 = sns.countplot(data, x=\"classification\", stat=\"percent\", ax=ax, color='#006400')\n",
    "g1.set_ylim(0,100)\n",
    "\n",
    "for p in g1.patches:\n",
    "   width = p.get_width()\n",
    "   height = p.get_height()\n",
    "   x ,y = p.get_xy()\n",
    "   g1.annotate('{:.0f}%'.format(height), (x + width/2, y + height), ha='center')\n",
    "\n",
    "ax.set_xlabel(\"Classificação\")\n",
    "ax.set_ylabel(\"Percentual\")\n",
    "                 \n",
    "plt.show()"
   ]
  },
  {
   "cell_type": "markdown",
   "metadata": {},
   "source": [
    "O gráfico indica que a distribuição das classes é desigual, com o spam representando apenas 13% dos dados. \n",
    "\n",
    "Portanto, temos um conjunto de dados **desequilibrado**, o que pode ser uma preocupação, pois pode levar ao overfitting. \n",
    "\n",
    "Embora isso não signifique que os dados de treinamento serão superajustados, é bom estar ciente disso antecipadamente caso precisemos usar técnicas de sobreamostragem (também conhecida como upsampling) ou subamostragem (também conhecida como downsampling). Com isso em mente, eliminaremos os dados duplicados e prosseguiremos primeiro com o treinamento de nosso modelo nessa distribuição desequilibrada.\n"
   ]
  },
  {
   "cell_type": "code",
   "execution_count": 330,
   "metadata": {},
   "outputs": [],
   "source": [
    "# Excluindo dados duplicados\n",
    "data = data.drop_duplicates()"
   ]
  },
  {
   "cell_type": "code",
   "execution_count": 331,
   "metadata": {},
   "outputs": [],
   "source": [
    "# Resetando os indices do dataset\n",
    "data = data.reset_index(drop=True)"
   ]
  },
  {
   "cell_type": "code",
   "execution_count": 332,
   "metadata": {},
   "outputs": [
    {
     "data": {
      "text/plain": [
       "(5169, 2)"
      ]
     },
     "execution_count": 332,
     "metadata": {},
     "output_type": "execute_result"
    }
   ],
   "source": [
    "data.shape"
   ]
  },
  {
   "cell_type": "code",
   "execution_count": 333,
   "metadata": {},
   "outputs": [
    {
     "data": {
      "text/html": [
       "<div>\n",
       "<style scoped>\n",
       "    .dataframe tbody tr th:only-of-type {\n",
       "        vertical-align: middle;\n",
       "    }\n",
       "\n",
       "    .dataframe tbody tr th {\n",
       "        vertical-align: top;\n",
       "    }\n",
       "\n",
       "    .dataframe thead th {\n",
       "        text-align: right;\n",
       "    }\n",
       "</style>\n",
       "<table border=\"1\" class=\"dataframe\">\n",
       "  <thead>\n",
       "    <tr style=\"text-align: right;\">\n",
       "      <th></th>\n",
       "      <th>classification</th>\n",
       "      <th>text</th>\n",
       "    </tr>\n",
       "  </thead>\n",
       "  <tbody>\n",
       "    <tr>\n",
       "      <th>0</th>\n",
       "      <td>ham</td>\n",
       "      <td>Go until jurong point, crazy.. Available only ...</td>\n",
       "    </tr>\n",
       "    <tr>\n",
       "      <th>1</th>\n",
       "      <td>ham</td>\n",
       "      <td>Ok lar... Joking wif u oni...</td>\n",
       "    </tr>\n",
       "    <tr>\n",
       "      <th>2</th>\n",
       "      <td>spam</td>\n",
       "      <td>Free entry in 2 a wkly comp to win FA Cup fina...</td>\n",
       "    </tr>\n",
       "    <tr>\n",
       "      <th>3</th>\n",
       "      <td>ham</td>\n",
       "      <td>U dun say so early hor... U c already then say...</td>\n",
       "    </tr>\n",
       "    <tr>\n",
       "      <th>4</th>\n",
       "      <td>ham</td>\n",
       "      <td>Nah I don't think he goes to usf, he lives aro...</td>\n",
       "    </tr>\n",
       "  </tbody>\n",
       "</table>\n",
       "</div>"
      ],
      "text/plain": [
       "  classification                                               text\n",
       "0            ham  Go until jurong point, crazy.. Available only ...\n",
       "1            ham                      Ok lar... Joking wif u oni...\n",
       "2           spam  Free entry in 2 a wkly comp to win FA Cup fina...\n",
       "3            ham  U dun say so early hor... U c already then say...\n",
       "4            ham  Nah I don't think he goes to usf, he lives aro..."
      ]
     },
     "execution_count": 333,
     "metadata": {},
     "output_type": "execute_result"
    }
   ],
   "source": [
    "data.head()"
   ]
  },
  {
   "cell_type": "markdown",
   "metadata": {},
   "source": [
    "### **Dividindo o Conjunto de Dados em Treino e Teste**\n",
    "\n",
    "* Dados de treinamento: usado para treinar o modelo.\n",
    "* Dados de validação: usado para comparar diferentes modelos e no ajuste de hiperparâmetros. Ao usar validação cruzada não é necessário um conjunto de validação, pois a função cross_val_score irá fazer o split no conjunto de treinamento separando os dados em treino e validação.\n",
    "* Dados de teste: usado para avaliação final do modelo. Não deve ser usado durante o treino e a validação.\n",
    "\n",
    "As seguintes proporções podem ser adotadas:\n",
    "\n",
    "* 1 Opção:\n",
    "    * 70% dos dados para treino\n",
    "    * 15% dos dados para teste\n",
    "    * 15% dos dados para validação\n",
    "\n",
    "* 2 Opção:\n",
    "    * 70% dos dados para treino\n",
    "    * 30% dos dados para teste\n",
    "\n",
    "\n",
    "**IREMOS ADOTAR A SEGUNDA OPÇÃO E FAREMOS VALIDAÇÃO CRUZADA**\n",
    "\n",
    "Ao avaliar diferentes configurações (“hiperparâmetros”) para estimadores, existe o risco de ajuste excessivo no conjunto de teste porque os parâmetros podem ser ajustados até que o estimador tenha um desempenho ideal. Dessa forma, o conhecimento sobre o conjunto de testes pode “vazar” para o modelo e as métricas de avaliação não informam mais sobre o desempenho da generalização. \n",
    "\n",
    "Para resolver este problema, ainda outra parte do conjunto de dados pode ser considerada o chamado “conjunto de validação”: o treinamento prossegue no conjunto de treinamento, após o qual a avaliação é feita no conjunto de validação, e quando o experimento parece ser bem-sucedido , a avaliação final pode ser feita no conjunto de testes.\n",
    "\n",
    "No entanto, ao particionar os dados disponíveis em três conjuntos, reduzimos drasticamente o número de amostras que podem ser usadas para aprender o modelo, e os resultados podem depender de uma escolha aleatória específica para o par de conjuntos (treinamento, validação).\n",
    "\n",
    "Uma solução para este problema é um procedimento denominado **validação cruzada** (abreviadamente CV). Um conjunto de teste ainda deve ser apresentado para avaliação final, mas o conjunto de validação não é mais necessário ao fazer o CV. Na abordagem básica, chamada k-fold CV, o conjunto de treinamento é dividido em k conjuntos menores. O seguinte procedimento é seguido para cada uma das k “dobras”:\n",
    "\n",
    "* Um modelo é treinado usando k-1 das dobras como dados de treinamento;\n",
    "* O modelo resultante é validado na parte restante dos dados (ou seja, é usado como um conjunto de testes para calcular uma medida de desempenho, como a precisão)\n",
    "\n",
    "Usaremos a função cross_val_score para realizar a validação cruzada\n",
    "\n",
    "Ao utilizar técnicas de balanceamento de dados não podemos utilizar a função cross_val_score, pois o balanceamento só pode ser realizado no split de dados de treinamento. O split que será utilizado para validação não pode ser balanceamento. \n",
    "\n",
    "Algumas alternativas:\n",
    "* **KFold** divide todas as amostras em grupos de amostras, chamados dobras de tamanhos iguais. A função de previsão é aprendida usando dobras, e a dobra deixada de fora é usada para validação.\n",
    "\n",
    "from sklearn.model_selection import KFold\n",
    "kf = KFold(n_splits=2)\n",
    "for train, valid in kf.split(X_train):\n",
    "    print(\"%s %s\" % (train, valid))\n",
    "\n",
    "* **StratifiedKFold** é uma variação de k-fold que retorna dobras estratificadas: cada conjunto contém aproximadamente a mesma porcentagem de amostras de cada classe alvo que o conjunto completo.\n",
    "\n",
    "from sklearn.model_selection import StratifiedKFold\n",
    "skf = StratifiedKFold(n_splits=3)\n",
    "for train, valid in skf.split(X_train, y_train):\n",
    "    print(\"%s %s\" % (train, valid))\n",
    "\n",
    "\n",
    "[Validação Cruzada](https://scikit-learn.org/stable/modules/cross_validation.html)"
   ]
  },
  {
   "cell_type": "code",
   "execution_count": 334,
   "metadata": {},
   "outputs": [],
   "source": [
    "X = data['text'].values\n",
    "y = data['classification'].values"
   ]
  },
  {
   "cell_type": "code",
   "execution_count": 335,
   "metadata": {},
   "outputs": [],
   "source": [
    "# Treino e Teste\n",
    "X_train, X_test, y_train, y_test = train_test_split(X, y, test_size=0.30, random_state=42, stratify=y)\n"
   ]
  },
  {
   "cell_type": "code",
   "execution_count": 336,
   "metadata": {},
   "outputs": [
    {
     "name": "stdout",
     "output_type": "stream",
     "text": [
      "(3618,) (3618,) (1551,) (1551,)\n"
     ]
    }
   ],
   "source": [
    "print(X_train.shape, y_train.shape, X_test.shape, y_test.shape)"
   ]
  },
  {
   "cell_type": "code",
   "execution_count": 337,
   "metadata": {},
   "outputs": [
    {
     "data": {
      "text/plain": [
       "array([\"I think we're going to finn's now, come\",\n",
       "       \"Yeah he got in at 2 and was v apologetic. n had fallen out and she was actin like spoilt child and he got caught up in that. Till 2! But we won't go there! Not doing too badly cheers. You? \",\n",
       "       'Hi baby ive just got back from work and i was wanting to see u allday! I hope i didnt piss u off on the phone today. If u are up give me a call xxx',\n",
       "       ...,\n",
       "       \"You will be receiving this week's Triple Echo ringtone shortly. Enjoy it!\",\n",
       "       \"We're done...\", 'Did you stitch his trouser'], dtype=object)"
      ]
     },
     "execution_count": 337,
     "metadata": {},
     "output_type": "execute_result"
    }
   ],
   "source": [
    "X_train"
   ]
  },
  {
   "cell_type": "code",
   "execution_count": 338,
   "metadata": {},
   "outputs": [
    {
     "data": {
      "text/plain": [
       "array(['ham', 'ham', 'ham', ..., 'spam', 'ham', 'ham'], dtype=object)"
      ]
     },
     "execution_count": 338,
     "metadata": {},
     "output_type": "execute_result"
    }
   ],
   "source": [
    "y_train"
   ]
  },
  {
   "cell_type": "markdown",
   "metadata": {},
   "source": [
    "#### **Codificando os Rótulos de Destino**"
   ]
  },
  {
   "cell_type": "code",
   "execution_count": 339,
   "metadata": {},
   "outputs": [],
   "source": [
    "# O LabelEncoder é usado para codificar rótulos de destino com valor entre 0 e n_classes-1.\n",
    "# Este transformador deve ser usado para codificar valores alvo, ou seja y, e não a entrada X.\n",
    "\n",
    "label = LabelEncoder()\n",
    "\n",
    "y_train = label.fit_transform(y_train)\n",
    "\n",
    "y_test = label.transform(y_test)"
   ]
  },
  {
   "cell_type": "code",
   "execution_count": 340,
   "metadata": {},
   "outputs": [
    {
     "data": {
      "text/plain": [
       "array([0, 0, 0, ..., 1, 0, 0])"
      ]
     },
     "execution_count": 340,
     "metadata": {},
     "output_type": "execute_result"
    }
   ],
   "source": [
    "y_train"
   ]
  },
  {
   "cell_type": "code",
   "execution_count": 341,
   "metadata": {},
   "outputs": [
    {
     "data": {
      "text/plain": [
       "array(['ham', 'ham', 'ham', ..., 'spam', 'ham', 'ham'], dtype=object)"
      ]
     },
     "execution_count": 341,
     "metadata": {},
     "output_type": "execute_result"
    }
   ],
   "source": [
    "label.inverse_transform(y_train)"
   ]
  },
  {
   "cell_type": "code",
   "execution_count": 342,
   "metadata": {},
   "outputs": [
    {
     "data": {
      "text/plain": [
       "array(['ham', 'spam'], dtype=object)"
      ]
     },
     "execution_count": 342,
     "metadata": {},
     "output_type": "execute_result"
    }
   ],
   "source": [
    "label.classes_"
   ]
  },
  {
   "cell_type": "code",
   "execution_count": 343,
   "metadata": {},
   "outputs": [
    {
     "data": {
      "text/plain": [
       "array([0, 1])"
      ]
     },
     "execution_count": 343,
     "metadata": {},
     "output_type": "execute_result"
    }
   ],
   "source": [
    "np.unique(y_train)"
   ]
  },
  {
   "cell_type": "code",
   "execution_count": 344,
   "metadata": {},
   "outputs": [
    {
     "data": {
      "text/plain": [
       "array(['ham', 'spam'], dtype=object)"
      ]
     },
     "execution_count": 344,
     "metadata": {},
     "output_type": "execute_result"
    }
   ],
   "source": [
    "label.inverse_transform(np.unique(y_train))"
   ]
  },
  {
   "cell_type": "markdown",
   "metadata": {},
   "source": [
    "### **Pré-processamento e Limpeza dos Dados**\n",
    "\n",
    "Depois de dividir os dados, podemos começar a pré-processá-los. Isso inclui tarefas de processamento de linguagem natural, como tokenização, remoção de palavras irrelevantes (stop words), stemização e lematização.\n",
    "\n",
    "Em seguida, usaremos uma técnica popular de incorporação de palavras, chamada bag-of-words , para extrair características do texto. Esta técnica calcula especificamente a frequência de palavras dentro de um determinado documento, o que pode nos ajudar a classificar documentos, assumindo que documentos semelhantes possuem conteúdo semelhante."
   ]
  },
  {
   "cell_type": "markdown",
   "metadata": {},
   "source": [
    "### **Limpeza de Texto, Tokenização, Remoção de Stopwords, Lematização e Stemização**"
   ]
  },
  {
   "cell_type": "code",
   "execution_count": 345,
   "metadata": {},
   "outputs": [],
   "source": [
    "# Função para remover Emojis\n",
    "def remove_emoji(string):\n",
    "    emoji_pattern = re.compile(\"[\"\n",
    "                               u\"\\U0001F600-\\U0001F64F\"  # emoticons\n",
    "                               u\"\\U0001F300-\\U0001F5FF\"  # symbols & pictographs\n",
    "                               u\"\\U0001F680-\\U0001F6FF\"  # transport & map symbols\n",
    "                               u\"\\U0001F1E0-\\U0001F1FF\"  # flags (iOS)\n",
    "                               u\"\\U00002500-\\U00002BEF\"  # chinese char\n",
    "                               u\"\\U00002702-\\U000027B0\"\n",
    "                               u\"\\U00002702-\\U000027B0\"\n",
    "                               u\"\\U000024C2-\\U0001F251\"\n",
    "                               u\"\\U0001f926-\\U0001f937\"\n",
    "                               u\"\\U00010000-\\U0010ffff\"\n",
    "                               u\"\\u2640-\\u2642\"\n",
    "                               u\"\\u2600-\\u2B55\"\n",
    "                               u\"\\u200d\"\n",
    "                               u\"\\u23cf\"\n",
    "                               u\"\\u23e9\"\n",
    "                               u\"\\u231a\"\n",
    "                               u\"\\ufe0f\"  # dingbats\n",
    "                               u\"\\u3030\"\n",
    "                               \"]+\", flags=re.UNICODE)\n",
    "    return emoji_pattern.sub(r'', string)"
   ]
  },
  {
   "cell_type": "code",
   "execution_count": 346,
   "metadata": {},
   "outputs": [],
   "source": [
    "def text_clean(text):\n",
    "    # Transforma o Texto em Minúsculas\n",
    "    texto = text.lower()\n",
    "\n",
    "    # Remove URLs do Texto\n",
    "    texto = re.sub(r'https?://\\S+', ' ', texto)\n",
    "\n",
    "    # Remove pontuação e caracteres especiais\n",
    "    texto = re.sub(r'[^\\w\\s]', ' ', texto)\n",
    "\n",
    "    # Remove notação ordinal\n",
    "    texto = texto.replace('ª', ' ').replace('º', ' ').replace('°', ' ').replace(\"'\", ' ')\n",
    "\n",
    "    # Remove dígitos\n",
    "    texto = re.sub(r'\\d', ' ', texto)\n",
    "\n",
    "    # Remove Tags HTML\n",
    "    texto = re.sub(r'<.*?>', '', texto)\n",
    "\n",
    "    return texto"
   ]
  },
  {
   "cell_type": "code",
   "execution_count": 347,
   "metadata": {},
   "outputs": [],
   "source": [
    "# Função para Tokenização\n",
    "def tokenizer(text):\n",
    "    tokens = word_tokenize(text)\n",
    "    \n",
    "    return tokens"
   ]
  },
  {
   "cell_type": "code",
   "execution_count": 348,
   "metadata": {},
   "outputs": [],
   "source": [
    "# Função para Remover Stop Words\n",
    "def stopwords(text):\n",
    "    stopwords_pt = nltk.corpus.stopwords.words('english') \n",
    "    remove_stopwords = []\n",
    "\n",
    "    for token in text:\n",
    "        if token not in stopwords_pt:\n",
    "            remove_stopwords.append(token)\n",
    "\n",
    "    return remove_stopwords"
   ]
  },
  {
   "cell_type": "code",
   "execution_count": 349,
   "metadata": {},
   "outputs": [],
   "source": [
    "# Função para Lematização\n",
    "def lemmatizacao(text):\n",
    "    lemmer = WordNetLemmatizer()\n",
    "    texto = [lemmer.lemmatize(token) for token in text]\n",
    "\n",
    "    return texto"
   ]
  },
  {
   "cell_type": "code",
   "execution_count": 350,
   "metadata": {},
   "outputs": [],
   "source": [
    "# Função para Stemização\n",
    "def stemizacao(text):\n",
    "    porter = PorterStemmer()\n",
    "    texto = [porter.stem(token) for token in text]\n",
    "\n",
    "    return texto"
   ]
  },
  {
   "cell_type": "code",
   "execution_count": 351,
   "metadata": {},
   "outputs": [],
   "source": [
    "# Função de Pré-processamento do Texto\n",
    "def text_processing(dc, rm_stop, method):\n",
    "    df = dc.copy()\n",
    "    i = 0\n",
    "    for text in tqdm(df):\n",
    "        # Remove Emojis\n",
    "        texto = remove_emoji(text)\n",
    "\n",
    "        # Remove Pontuações e Caracteres Especiais\n",
    "        texto = text_clean(texto)\n",
    "\n",
    "        # Faz a Tokenização\n",
    "        texto = tokenizer(texto)\n",
    "\n",
    "        # Remove palavras irrelevantes\n",
    "        if rm_stop == True:\n",
    "            texto = stopwords(texto)\n",
    "\n",
    "        # Lematização: normalmente preferida à lematização\n",
    "        if method == 'L':\n",
    "            texto = lemmatizacao(texto)\n",
    "            \n",
    "        # Stimização\n",
    "        if method == 'S':\n",
    "            texto = stemizacao(texto)\n",
    "        \n",
    "        df[i] = \" \".join(texto)\n",
    "        \n",
    "        i = i + 1\n",
    "\n",
    "    return df"
   ]
  },
  {
   "cell_type": "markdown",
   "metadata": {},
   "source": [
    "Como podemos processar os dados de diversas maneiras, devemos modelar diferentes versões de dados pré-processados ​​para entender qual variação de dados fornece os resultados ideais em nosso modelo. "
   ]
  },
  {
   "cell_type": "code",
   "execution_count": 352,
   "metadata": {},
   "outputs": [
    {
     "name": "stderr",
     "output_type": "stream",
     "text": [
      "100%|██████████| 3618/3618 [00:01<00:00, 2604.09it/s]\n",
      "100%|██████████| 1551/1551 [00:00<00:00, 2704.36it/s]\n",
      "100%|██████████| 3618/3618 [00:00<00:00, 7146.08it/s]\n",
      "100%|██████████| 1551/1551 [00:00<00:00, 6734.43it/s]\n",
      "100%|██████████| 3618/3618 [00:01<00:00, 2024.76it/s]\n",
      "100%|██████████| 1551/1551 [00:00<00:00, 2232.42it/s]\n",
      "100%|██████████| 3618/3618 [00:01<00:00, 3537.73it/s]\n",
      "100%|██████████| 1551/1551 [00:00<00:00, 3776.97it/s]\n"
     ]
    }
   ],
   "source": [
    "#preprocessed data: Lemm + stopword removal \n",
    "X_train_1 = text_processing(X_train, True, 'L')\n",
    "X_test_1 = text_processing(X_test, True, 'L') \n",
    "\n",
    "#preprocessed data: Lemm + no stopword removal \n",
    "X_train_2 = text_processing(X_train, False, 'L')\n",
    "X_test_2 = text_processing(X_test, False, 'L') \n",
    "\n",
    "#preprocessed data: Stem + stopword removal \n",
    "X_train_3 = text_processing(X_train, True, 'S')\n",
    "X_test_3 = text_processing(X_test, True, 'S') \n",
    "\n",
    "#preprocessed data: Stem + no stopword removal \n",
    "X_train_4 = text_processing(X_train, False, 'S')\n",
    "X_test_4 = text_processing(X_test, False, 'S') "
   ]
  },
  {
   "cell_type": "code",
   "execution_count": 353,
   "metadata": {},
   "outputs": [
    {
     "data": {
      "text/plain": [
       "array(['think going finn come',\n",
       "       'yeah got v apologetic n fallen actin like spoilt child got caught till go badly cheer',\n",
       "       'hi baby ive got back work wanting see u allday hope didnt piss u phone today u give call xxx',\n",
       "       ..., 'receiving week triple echo ringtone shortly enjoy', 'done',\n",
       "       'stitch trouser'], dtype=object)"
      ]
     },
     "execution_count": 353,
     "metadata": {},
     "output_type": "execute_result"
    }
   ],
   "source": [
    "X_train_1"
   ]
  },
  {
   "cell_type": "code",
   "execution_count": 354,
   "metadata": {},
   "outputs": [
    {
     "data": {
      "text/plain": [
       "array(['i think we re going to finn s now come',\n",
       "       'yeah he got in at and wa v apologetic n had fallen out and she wa actin like spoilt child and he got caught up in that till but we won t go there not doing too badly cheer you',\n",
       "       'hi baby ive just got back from work and i wa wanting to see u allday i hope i didnt piss u off on the phone today if u are up give me a call xxx',\n",
       "       ...,\n",
       "       'you will be receiving this week s triple echo ringtone shortly enjoy it',\n",
       "       'we re done', 'did you stitch his trouser'], dtype=object)"
      ]
     },
     "execution_count": 354,
     "metadata": {},
     "output_type": "execute_result"
    }
   ],
   "source": [
    "X_train_2"
   ]
  },
  {
   "cell_type": "code",
   "execution_count": 355,
   "metadata": {},
   "outputs": [
    {
     "data": {
      "text/plain": [
       "array(['think go finn come',\n",
       "       'yeah got v apologet n fallen actin like spoilt child got caught till go badli cheer',\n",
       "       'hi babi ive got back work want see u allday hope didnt piss u phone today u give call xxx',\n",
       "       ..., 'receiv week tripl echo rington shortli enjoy', 'done',\n",
       "       'stitch trouser'], dtype=object)"
      ]
     },
     "execution_count": 355,
     "metadata": {},
     "output_type": "execute_result"
    }
   ],
   "source": [
    "X_train_3"
   ]
  },
  {
   "cell_type": "code",
   "execution_count": 356,
   "metadata": {},
   "outputs": [
    {
     "data": {
      "text/plain": [
       "array(['i think we re go to finn s now come',\n",
       "       'yeah he got in at and wa v apologet n had fallen out and she wa actin like spoilt child and he got caught up in that till but we won t go there not do too badli cheer you',\n",
       "       'hi babi ive just got back from work and i wa want to see u allday i hope i didnt piss u off on the phone today if u are up give me a call xxx',\n",
       "       ...,\n",
       "       'you will be receiv thi week s tripl echo rington shortli enjoy it',\n",
       "       'we re done', 'did you stitch hi trouser'], dtype=object)"
      ]
     },
     "execution_count": 356,
     "metadata": {},
     "output_type": "execute_result"
    }
   ],
   "source": [
    "X_train_4"
   ]
  },
  {
   "cell_type": "markdown",
   "metadata": {},
   "source": [
    "### **Multinomial Naive Bayes**\n",
    "\n",
    "O classificador Naive Bayes é um algoritmo de aprendizado de máquina supervisionado , comumente aplicado em casos de uso que envolvem sistemas de recomendação, classificação de texto e análise de sentimento . Por ter um bom desempenho com conjuntos de dados com alta dimensionalidade, é um classificador preferido para classificação de texto em particular.\n",
    "\n",
    "Naive Bayes (NB) também é um algoritmo de aprendizagem generativo, o que significa que modela a distribuição de pontos de dados para uma determinada classe ou categoria. Este classificador probabilístico é baseado no Teorema de Bayes , o que significa que este classificador bayesiano usa probabilidades condicionais e probabilidades anteriores para calcular as probabilidades posteriores.\n",
    "\n",
    "Os classificadores Naive Bayes funcionam de maneira diferente, pois operam sob algumas suposições principais, ganhando o título de ingênuos . Ele assume que os preditores em um modelo Naive Bayes são condicionalmente independentes ou não relacionados a qualquer outro recurso do modelo. Também pressupõe que todos os recursos contribuem igualmente para o resultado.\n",
    "\n",
    "Embora essas suposições sejam frequentemente violadas em cenários do mundo real (por exemplo, uma palavra subsequente em um e-mail depende da palavra que a precede), elas simplificam um problema de classificação, tornando-o mais tratável computacionalmente. Ou seja, agora será necessária apenas uma única probabilidade para cada variável, o que, por sua vez, facilita o cálculo do modelo. Apesar desta suposição de independência irrealista, **o algoritmo de classificação funciona bem, especialmente com amostras pequenas**.\n",
    "\n",
    "Neste tutorial, usaremos o scikit-learn para percorrer diferentes tipos de algoritmos Naive Bayes, focando principalmente em uma tarefa popular de classificação de texto (filtragem de spam) usando Multinomial Naive Bayes.\n",
    "\n",
    "**Tipos de classificadores Naïve Bayes**\n",
    "\n",
    "Não existe apenas um tipo de classificador Naïve Bayes. Os tipos mais populares diferem com base nas distribuições dos valores dos recursos. Alguns deles incluem: \n",
    "\n",
    "* Gaussian Naïve Bayes (GaussianNB) : Esta é uma variante do classificador Naïve Bayes, que é usado com distribuições gaussianas - ou seja, distribuições normais - e variáveis ​​contínuas. Este modelo é ajustado encontrando a média e o desvio padrão de cada classe. \n",
    "* Multinomial Naïve Bayes (MultinomialNB) : Este tipo de classificador Naïve Bayes assume que os recursos são de distribuições multinomiais. Essa variante é útil ao usar dados discretos, como contagens de frequência, e normalmente é aplicada em casos de uso de processamento de linguagem natural, como classificação de spam. \n",
    "* Bernoulli Naïve Bayes (BernoulliNB) : Esta é outra variante do classificador Naïve Bayes, que é usado com variáveis ​​booleanas - ou seja, variáveis ​​com dois valores, como True e False ou 1 e 0. \n",
    "\n",
    "\n",
    "[Classifying data using the Multinomial Naive Bayes algorithm](https://developer.ibm.com/tutorials/awb-classifying-data-multinomial-naive-bayes-algorithm/)\n",
    "\n",
    "[What are Naïve Bayes classifiers?](https://www.ibm.com/topics/naive-bayes)"
   ]
  },
  {
   "cell_type": "markdown",
   "metadata": {},
   "source": [
    "### **Bag-of-Words**\n",
    "\n",
    "O modelo bag-of-words é comumente usado para gera uma contagem de frequência de cada palavra de um determinado texto.\n",
    "\n",
    "O modelo bag-of-words é uma forma de representar dados de texto para algoritmos de aprendizado de máquina. Algoritmos de aprendizado de máquina não podem trabalhar diretamente com texto bruto; o texto deve ser convertido em números (vetoriais) de comprimento fixo bem definidos.\n",
    "\n",
    "O modelo bag-of-words envolve duas coisas:\n",
    "* Um vocabulário de palavras conhecidas.\n",
    "* Uma medida da presença de palavras conhecidas.\n",
    "\n",
    "É chamado de bag-of-words, porque qualquer informação sobre a ordem ou estrutura das palavras no documento é descartada. O modelo se preocupa apenas em saber se as palavras conhecidas ocorrem no documento, e não em que parte do documento. A complexidade vem tanto na decisão de como projetar o vocabulário de palavras conhecidas (ou tokens) e como pontuar a presença de palavras conhecidas.\n",
    "\n",
    "**CountVectorizer**: é uma classe do scikit-learn que transforma uma coleção de documentos de texto em uma matriz numérica de contagens de palavras ou tokens. Esta implementação produz uma representação esparsa das contagens. \n",
    "\n",
    "Esta classe possui vários parâmetros que também podem auxiliar em tarefas de pré-processamento de texto, como:\n",
    "* remoção de stop word\n",
    "* limites de contagem de palavras (ou seja, máximos e mínimos)\n",
    "* limites de vocabulário\n",
    "* criação de n-gramas e muito mais.\n",
    "\n",
    "**TfidfVectorizer**: converte uma coleção de documentos brutos em uma matriz de recursos do TF-IDF.\n",
    "\n",
    "[Using CountVectorizer for NLP feature extraction](https://www.ibm.com/reference/python/countvectorizer#:~:text=CountVectorizer%20is%20a%20class%20in,of%20word%20or%20token%20counts.)"
   ]
  },
  {
   "cell_type": "code",
   "execution_count": 357,
   "metadata": {},
   "outputs": [],
   "source": [
    "# O CountVectorizer \n",
    "# Converte uma coleção de documentos de texto em uma matriz de contagens de tokens. Por padrão, ele converterá seu texto para letras minúsculas e usará a codificação utf-8.\n",
    "# Produz uma matriz esparsa das contagens a partir do conjunto de dados.\n",
    "# Se você não fornecer um dicionário a priori e não usar um analisador que faça algum tipo de seleção de recursos, o número de recursos será igual ao tamanho do vocabulário encontrado na análise dos dados.\n",
    "\n",
    "vectorizer = CountVectorizer()\n",
    "\n",
    "X_train_1_count = vectorizer.fit_transform(X_train_1)\n",
    "X_test_1_count = vectorizer.transform(X_test_1)\n",
    "\n",
    "X_train_2_count = vectorizer.fit_transform(X_train_2)\n",
    "X_test_2_count = vectorizer.transform(X_test_2)\n",
    "\n",
    "X_train_3_count = vectorizer.fit_transform(X_train_3)\n",
    "X_test_3_count = vectorizer.transform(X_test_3)\n",
    "\n",
    "X_train_4_count = vectorizer.fit_transform(X_train_4)\n",
    "X_test_4_count = vectorizer.transform(X_test_4)"
   ]
  },
  {
   "cell_type": "code",
   "execution_count": 358,
   "metadata": {},
   "outputs": [],
   "source": [
    "tfidf = TfidfVectorizer() \n",
    "\n",
    "X_train_1_tfidf = tfidf.fit_transform(X_train_1)\n",
    "X_test_1_tfidf= tfidf.transform(X_test_1)\n",
    "\n",
    "X_train_2_tfidf = tfidf.fit_transform(X_train_2)\n",
    "X_test_2_tfidf= tfidf.transform(X_test_2)\n",
    "\n",
    "X_train_3_tfidf = tfidf.fit_transform(X_train_3)\n",
    "X_test_3_tfidf= tfidf.transform(X_test_3)\n",
    "\n",
    "X_train_4_tfidf = tfidf.fit_transform(X_train_4)\n",
    "X_test_4_tfidf= tfidf.transform(X_test_4)"
   ]
  },
  {
   "cell_type": "code",
   "execution_count": 359,
   "metadata": {},
   "outputs": [
    {
     "data": {
      "text/html": [
       "<div>\n",
       "<style scoped>\n",
       "    .dataframe tbody tr th:only-of-type {\n",
       "        vertical-align: middle;\n",
       "    }\n",
       "\n",
       "    .dataframe tbody tr th {\n",
       "        vertical-align: top;\n",
       "    }\n",
       "\n",
       "    .dataframe thead th {\n",
       "        text-align: right;\n",
       "    }\n",
       "</style>\n",
       "<table border=\"1\" class=\"dataframe\">\n",
       "  <thead>\n",
       "    <tr style=\"text-align: right;\">\n",
       "      <th></th>\n",
       "      <th>aa</th>\n",
       "      <th>aah</th>\n",
       "      <th>aaooooright</th>\n",
       "      <th>aathi</th>\n",
       "      <th>abdomen</th>\n",
       "      <th>abeg</th>\n",
       "      <th>aberdeen</th>\n",
       "      <th>abi</th>\n",
       "      <th>abil</th>\n",
       "      <th>abiola</th>\n",
       "      <th>...</th>\n",
       "      <th>zero</th>\n",
       "      <th>zf</th>\n",
       "      <th>zhong</th>\n",
       "      <th>zindgi</th>\n",
       "      <th>zoe</th>\n",
       "      <th>zogtoriu</th>\n",
       "      <th>zoom</th>\n",
       "      <th>zouk</th>\n",
       "      <th>zyada</th>\n",
       "      <th>èn</th>\n",
       "    </tr>\n",
       "  </thead>\n",
       "  <tbody>\n",
       "    <tr>\n",
       "      <th>0</th>\n",
       "      <td>0</td>\n",
       "      <td>0</td>\n",
       "      <td>0</td>\n",
       "      <td>0</td>\n",
       "      <td>0</td>\n",
       "      <td>0</td>\n",
       "      <td>0</td>\n",
       "      <td>0</td>\n",
       "      <td>0</td>\n",
       "      <td>0</td>\n",
       "      <td>...</td>\n",
       "      <td>0</td>\n",
       "      <td>0</td>\n",
       "      <td>0</td>\n",
       "      <td>0</td>\n",
       "      <td>0</td>\n",
       "      <td>0</td>\n",
       "      <td>0</td>\n",
       "      <td>0</td>\n",
       "      <td>0</td>\n",
       "      <td>0</td>\n",
       "    </tr>\n",
       "    <tr>\n",
       "      <th>1</th>\n",
       "      <td>0</td>\n",
       "      <td>0</td>\n",
       "      <td>0</td>\n",
       "      <td>0</td>\n",
       "      <td>0</td>\n",
       "      <td>0</td>\n",
       "      <td>0</td>\n",
       "      <td>0</td>\n",
       "      <td>0</td>\n",
       "      <td>0</td>\n",
       "      <td>...</td>\n",
       "      <td>0</td>\n",
       "      <td>0</td>\n",
       "      <td>0</td>\n",
       "      <td>0</td>\n",
       "      <td>0</td>\n",
       "      <td>0</td>\n",
       "      <td>0</td>\n",
       "      <td>0</td>\n",
       "      <td>0</td>\n",
       "      <td>0</td>\n",
       "    </tr>\n",
       "    <tr>\n",
       "      <th>2</th>\n",
       "      <td>0</td>\n",
       "      <td>0</td>\n",
       "      <td>0</td>\n",
       "      <td>0</td>\n",
       "      <td>0</td>\n",
       "      <td>0</td>\n",
       "      <td>0</td>\n",
       "      <td>0</td>\n",
       "      <td>0</td>\n",
       "      <td>0</td>\n",
       "      <td>...</td>\n",
       "      <td>0</td>\n",
       "      <td>0</td>\n",
       "      <td>0</td>\n",
       "      <td>0</td>\n",
       "      <td>0</td>\n",
       "      <td>0</td>\n",
       "      <td>0</td>\n",
       "      <td>0</td>\n",
       "      <td>0</td>\n",
       "      <td>0</td>\n",
       "    </tr>\n",
       "    <tr>\n",
       "      <th>3</th>\n",
       "      <td>0</td>\n",
       "      <td>0</td>\n",
       "      <td>0</td>\n",
       "      <td>0</td>\n",
       "      <td>0</td>\n",
       "      <td>0</td>\n",
       "      <td>0</td>\n",
       "      <td>0</td>\n",
       "      <td>0</td>\n",
       "      <td>0</td>\n",
       "      <td>...</td>\n",
       "      <td>0</td>\n",
       "      <td>0</td>\n",
       "      <td>0</td>\n",
       "      <td>0</td>\n",
       "      <td>0</td>\n",
       "      <td>0</td>\n",
       "      <td>0</td>\n",
       "      <td>0</td>\n",
       "      <td>0</td>\n",
       "      <td>0</td>\n",
       "    </tr>\n",
       "    <tr>\n",
       "      <th>4</th>\n",
       "      <td>0</td>\n",
       "      <td>0</td>\n",
       "      <td>0</td>\n",
       "      <td>0</td>\n",
       "      <td>0</td>\n",
       "      <td>0</td>\n",
       "      <td>0</td>\n",
       "      <td>0</td>\n",
       "      <td>0</td>\n",
       "      <td>0</td>\n",
       "      <td>...</td>\n",
       "      <td>0</td>\n",
       "      <td>0</td>\n",
       "      <td>0</td>\n",
       "      <td>0</td>\n",
       "      <td>0</td>\n",
       "      <td>0</td>\n",
       "      <td>0</td>\n",
       "      <td>0</td>\n",
       "      <td>0</td>\n",
       "      <td>0</td>\n",
       "    </tr>\n",
       "    <tr>\n",
       "      <th>...</th>\n",
       "      <td>...</td>\n",
       "      <td>...</td>\n",
       "      <td>...</td>\n",
       "      <td>...</td>\n",
       "      <td>...</td>\n",
       "      <td>...</td>\n",
       "      <td>...</td>\n",
       "      <td>...</td>\n",
       "      <td>...</td>\n",
       "      <td>...</td>\n",
       "      <td>...</td>\n",
       "      <td>...</td>\n",
       "      <td>...</td>\n",
       "      <td>...</td>\n",
       "      <td>...</td>\n",
       "      <td>...</td>\n",
       "      <td>...</td>\n",
       "      <td>...</td>\n",
       "      <td>...</td>\n",
       "      <td>...</td>\n",
       "      <td>...</td>\n",
       "    </tr>\n",
       "    <tr>\n",
       "      <th>3613</th>\n",
       "      <td>0</td>\n",
       "      <td>0</td>\n",
       "      <td>0</td>\n",
       "      <td>0</td>\n",
       "      <td>0</td>\n",
       "      <td>0</td>\n",
       "      <td>0</td>\n",
       "      <td>0</td>\n",
       "      <td>0</td>\n",
       "      <td>0</td>\n",
       "      <td>...</td>\n",
       "      <td>0</td>\n",
       "      <td>0</td>\n",
       "      <td>0</td>\n",
       "      <td>0</td>\n",
       "      <td>0</td>\n",
       "      <td>0</td>\n",
       "      <td>0</td>\n",
       "      <td>0</td>\n",
       "      <td>0</td>\n",
       "      <td>0</td>\n",
       "    </tr>\n",
       "    <tr>\n",
       "      <th>3614</th>\n",
       "      <td>0</td>\n",
       "      <td>0</td>\n",
       "      <td>0</td>\n",
       "      <td>0</td>\n",
       "      <td>0</td>\n",
       "      <td>0</td>\n",
       "      <td>0</td>\n",
       "      <td>0</td>\n",
       "      <td>0</td>\n",
       "      <td>0</td>\n",
       "      <td>...</td>\n",
       "      <td>0</td>\n",
       "      <td>0</td>\n",
       "      <td>0</td>\n",
       "      <td>0</td>\n",
       "      <td>0</td>\n",
       "      <td>0</td>\n",
       "      <td>0</td>\n",
       "      <td>0</td>\n",
       "      <td>0</td>\n",
       "      <td>0</td>\n",
       "    </tr>\n",
       "    <tr>\n",
       "      <th>3615</th>\n",
       "      <td>0</td>\n",
       "      <td>0</td>\n",
       "      <td>0</td>\n",
       "      <td>0</td>\n",
       "      <td>0</td>\n",
       "      <td>0</td>\n",
       "      <td>0</td>\n",
       "      <td>0</td>\n",
       "      <td>0</td>\n",
       "      <td>0</td>\n",
       "      <td>...</td>\n",
       "      <td>0</td>\n",
       "      <td>0</td>\n",
       "      <td>0</td>\n",
       "      <td>0</td>\n",
       "      <td>0</td>\n",
       "      <td>0</td>\n",
       "      <td>0</td>\n",
       "      <td>0</td>\n",
       "      <td>0</td>\n",
       "      <td>0</td>\n",
       "    </tr>\n",
       "    <tr>\n",
       "      <th>3616</th>\n",
       "      <td>0</td>\n",
       "      <td>0</td>\n",
       "      <td>0</td>\n",
       "      <td>0</td>\n",
       "      <td>0</td>\n",
       "      <td>0</td>\n",
       "      <td>0</td>\n",
       "      <td>0</td>\n",
       "      <td>0</td>\n",
       "      <td>0</td>\n",
       "      <td>...</td>\n",
       "      <td>0</td>\n",
       "      <td>0</td>\n",
       "      <td>0</td>\n",
       "      <td>0</td>\n",
       "      <td>0</td>\n",
       "      <td>0</td>\n",
       "      <td>0</td>\n",
       "      <td>0</td>\n",
       "      <td>0</td>\n",
       "      <td>0</td>\n",
       "    </tr>\n",
       "    <tr>\n",
       "      <th>3617</th>\n",
       "      <td>0</td>\n",
       "      <td>0</td>\n",
       "      <td>0</td>\n",
       "      <td>0</td>\n",
       "      <td>0</td>\n",
       "      <td>0</td>\n",
       "      <td>0</td>\n",
       "      <td>0</td>\n",
       "      <td>0</td>\n",
       "      <td>0</td>\n",
       "      <td>...</td>\n",
       "      <td>0</td>\n",
       "      <td>0</td>\n",
       "      <td>0</td>\n",
       "      <td>0</td>\n",
       "      <td>0</td>\n",
       "      <td>0</td>\n",
       "      <td>0</td>\n",
       "      <td>0</td>\n",
       "      <td>0</td>\n",
       "      <td>0</td>\n",
       "    </tr>\n",
       "  </tbody>\n",
       "</table>\n",
       "<p>3618 rows × 5243 columns</p>\n",
       "</div>"
      ],
      "text/plain": [
       "      aa  aah  aaooooright  aathi  abdomen  abeg  aberdeen  abi  abil  abiola  \\\n",
       "0      0    0            0      0        0     0         0    0     0       0   \n",
       "1      0    0            0      0        0     0         0    0     0       0   \n",
       "2      0    0            0      0        0     0         0    0     0       0   \n",
       "3      0    0            0      0        0     0         0    0     0       0   \n",
       "4      0    0            0      0        0     0         0    0     0       0   \n",
       "...   ..  ...          ...    ...      ...   ...       ...  ...   ...     ...   \n",
       "3613   0    0            0      0        0     0         0    0     0       0   \n",
       "3614   0    0            0      0        0     0         0    0     0       0   \n",
       "3615   0    0            0      0        0     0         0    0     0       0   \n",
       "3616   0    0            0      0        0     0         0    0     0       0   \n",
       "3617   0    0            0      0        0     0         0    0     0       0   \n",
       "\n",
       "      ...  zero  zf  zhong  zindgi  zoe  zogtoriu  zoom  zouk  zyada  èn  \n",
       "0     ...     0   0      0       0    0         0     0     0      0   0  \n",
       "1     ...     0   0      0       0    0         0     0     0      0   0  \n",
       "2     ...     0   0      0       0    0         0     0     0      0   0  \n",
       "3     ...     0   0      0       0    0         0     0     0      0   0  \n",
       "4     ...     0   0      0       0    0         0     0     0      0   0  \n",
       "...   ...   ...  ..    ...     ...  ...       ...   ...   ...    ...  ..  \n",
       "3613  ...     0   0      0       0    0         0     0     0      0   0  \n",
       "3614  ...     0   0      0       0    0         0     0     0      0   0  \n",
       "3615  ...     0   0      0       0    0         0     0     0      0   0  \n",
       "3616  ...     0   0      0       0    0         0     0     0      0   0  \n",
       "3617  ...     0   0      0       0    0         0     0     0      0   0  \n",
       "\n",
       "[3618 rows x 5243 columns]"
      ]
     },
     "execution_count": 359,
     "metadata": {},
     "output_type": "execute_result"
    }
   ],
   "source": [
    "pd.DataFrame(data=X_train_4_count.toarray(), columns=vectorizer.get_feature_names_out())"
   ]
  },
  {
   "cell_type": "code",
   "execution_count": 360,
   "metadata": {},
   "outputs": [
    {
     "data": {
      "text/html": [
       "<div>\n",
       "<style scoped>\n",
       "    .dataframe tbody tr th:only-of-type {\n",
       "        vertical-align: middle;\n",
       "    }\n",
       "\n",
       "    .dataframe tbody tr th {\n",
       "        vertical-align: top;\n",
       "    }\n",
       "\n",
       "    .dataframe thead th {\n",
       "        text-align: right;\n",
       "    }\n",
       "</style>\n",
       "<table border=\"1\" class=\"dataframe\">\n",
       "  <thead>\n",
       "    <tr style=\"text-align: right;\">\n",
       "      <th></th>\n",
       "      <th>aa</th>\n",
       "      <th>aah</th>\n",
       "      <th>aaooooright</th>\n",
       "      <th>aathi</th>\n",
       "      <th>abdomen</th>\n",
       "      <th>abeg</th>\n",
       "      <th>aberdeen</th>\n",
       "      <th>abi</th>\n",
       "      <th>abil</th>\n",
       "      <th>abiola</th>\n",
       "      <th>...</th>\n",
       "      <th>zero</th>\n",
       "      <th>zf</th>\n",
       "      <th>zhong</th>\n",
       "      <th>zindgi</th>\n",
       "      <th>zoe</th>\n",
       "      <th>zogtoriu</th>\n",
       "      <th>zoom</th>\n",
       "      <th>zouk</th>\n",
       "      <th>zyada</th>\n",
       "      <th>èn</th>\n",
       "    </tr>\n",
       "  </thead>\n",
       "  <tbody>\n",
       "    <tr>\n",
       "      <th>0</th>\n",
       "      <td>0.0</td>\n",
       "      <td>0.0</td>\n",
       "      <td>0.0</td>\n",
       "      <td>0.0</td>\n",
       "      <td>0.0</td>\n",
       "      <td>0.0</td>\n",
       "      <td>0.0</td>\n",
       "      <td>0.0</td>\n",
       "      <td>0.0</td>\n",
       "      <td>0.0</td>\n",
       "      <td>...</td>\n",
       "      <td>0.0</td>\n",
       "      <td>0.0</td>\n",
       "      <td>0.0</td>\n",
       "      <td>0.0</td>\n",
       "      <td>0.0</td>\n",
       "      <td>0.0</td>\n",
       "      <td>0.0</td>\n",
       "      <td>0.0</td>\n",
       "      <td>0.0</td>\n",
       "      <td>0.0</td>\n",
       "    </tr>\n",
       "    <tr>\n",
       "      <th>1</th>\n",
       "      <td>0.0</td>\n",
       "      <td>0.0</td>\n",
       "      <td>0.0</td>\n",
       "      <td>0.0</td>\n",
       "      <td>0.0</td>\n",
       "      <td>0.0</td>\n",
       "      <td>0.0</td>\n",
       "      <td>0.0</td>\n",
       "      <td>0.0</td>\n",
       "      <td>0.0</td>\n",
       "      <td>...</td>\n",
       "      <td>0.0</td>\n",
       "      <td>0.0</td>\n",
       "      <td>0.0</td>\n",
       "      <td>0.0</td>\n",
       "      <td>0.0</td>\n",
       "      <td>0.0</td>\n",
       "      <td>0.0</td>\n",
       "      <td>0.0</td>\n",
       "      <td>0.0</td>\n",
       "      <td>0.0</td>\n",
       "    </tr>\n",
       "    <tr>\n",
       "      <th>2</th>\n",
       "      <td>0.0</td>\n",
       "      <td>0.0</td>\n",
       "      <td>0.0</td>\n",
       "      <td>0.0</td>\n",
       "      <td>0.0</td>\n",
       "      <td>0.0</td>\n",
       "      <td>0.0</td>\n",
       "      <td>0.0</td>\n",
       "      <td>0.0</td>\n",
       "      <td>0.0</td>\n",
       "      <td>...</td>\n",
       "      <td>0.0</td>\n",
       "      <td>0.0</td>\n",
       "      <td>0.0</td>\n",
       "      <td>0.0</td>\n",
       "      <td>0.0</td>\n",
       "      <td>0.0</td>\n",
       "      <td>0.0</td>\n",
       "      <td>0.0</td>\n",
       "      <td>0.0</td>\n",
       "      <td>0.0</td>\n",
       "    </tr>\n",
       "    <tr>\n",
       "      <th>3</th>\n",
       "      <td>0.0</td>\n",
       "      <td>0.0</td>\n",
       "      <td>0.0</td>\n",
       "      <td>0.0</td>\n",
       "      <td>0.0</td>\n",
       "      <td>0.0</td>\n",
       "      <td>0.0</td>\n",
       "      <td>0.0</td>\n",
       "      <td>0.0</td>\n",
       "      <td>0.0</td>\n",
       "      <td>...</td>\n",
       "      <td>0.0</td>\n",
       "      <td>0.0</td>\n",
       "      <td>0.0</td>\n",
       "      <td>0.0</td>\n",
       "      <td>0.0</td>\n",
       "      <td>0.0</td>\n",
       "      <td>0.0</td>\n",
       "      <td>0.0</td>\n",
       "      <td>0.0</td>\n",
       "      <td>0.0</td>\n",
       "    </tr>\n",
       "    <tr>\n",
       "      <th>4</th>\n",
       "      <td>0.0</td>\n",
       "      <td>0.0</td>\n",
       "      <td>0.0</td>\n",
       "      <td>0.0</td>\n",
       "      <td>0.0</td>\n",
       "      <td>0.0</td>\n",
       "      <td>0.0</td>\n",
       "      <td>0.0</td>\n",
       "      <td>0.0</td>\n",
       "      <td>0.0</td>\n",
       "      <td>...</td>\n",
       "      <td>0.0</td>\n",
       "      <td>0.0</td>\n",
       "      <td>0.0</td>\n",
       "      <td>0.0</td>\n",
       "      <td>0.0</td>\n",
       "      <td>0.0</td>\n",
       "      <td>0.0</td>\n",
       "      <td>0.0</td>\n",
       "      <td>0.0</td>\n",
       "      <td>0.0</td>\n",
       "    </tr>\n",
       "    <tr>\n",
       "      <th>...</th>\n",
       "      <td>...</td>\n",
       "      <td>...</td>\n",
       "      <td>...</td>\n",
       "      <td>...</td>\n",
       "      <td>...</td>\n",
       "      <td>...</td>\n",
       "      <td>...</td>\n",
       "      <td>...</td>\n",
       "      <td>...</td>\n",
       "      <td>...</td>\n",
       "      <td>...</td>\n",
       "      <td>...</td>\n",
       "      <td>...</td>\n",
       "      <td>...</td>\n",
       "      <td>...</td>\n",
       "      <td>...</td>\n",
       "      <td>...</td>\n",
       "      <td>...</td>\n",
       "      <td>...</td>\n",
       "      <td>...</td>\n",
       "      <td>...</td>\n",
       "    </tr>\n",
       "    <tr>\n",
       "      <th>3613</th>\n",
       "      <td>0.0</td>\n",
       "      <td>0.0</td>\n",
       "      <td>0.0</td>\n",
       "      <td>0.0</td>\n",
       "      <td>0.0</td>\n",
       "      <td>0.0</td>\n",
       "      <td>0.0</td>\n",
       "      <td>0.0</td>\n",
       "      <td>0.0</td>\n",
       "      <td>0.0</td>\n",
       "      <td>...</td>\n",
       "      <td>0.0</td>\n",
       "      <td>0.0</td>\n",
       "      <td>0.0</td>\n",
       "      <td>0.0</td>\n",
       "      <td>0.0</td>\n",
       "      <td>0.0</td>\n",
       "      <td>0.0</td>\n",
       "      <td>0.0</td>\n",
       "      <td>0.0</td>\n",
       "      <td>0.0</td>\n",
       "    </tr>\n",
       "    <tr>\n",
       "      <th>3614</th>\n",
       "      <td>0.0</td>\n",
       "      <td>0.0</td>\n",
       "      <td>0.0</td>\n",
       "      <td>0.0</td>\n",
       "      <td>0.0</td>\n",
       "      <td>0.0</td>\n",
       "      <td>0.0</td>\n",
       "      <td>0.0</td>\n",
       "      <td>0.0</td>\n",
       "      <td>0.0</td>\n",
       "      <td>...</td>\n",
       "      <td>0.0</td>\n",
       "      <td>0.0</td>\n",
       "      <td>0.0</td>\n",
       "      <td>0.0</td>\n",
       "      <td>0.0</td>\n",
       "      <td>0.0</td>\n",
       "      <td>0.0</td>\n",
       "      <td>0.0</td>\n",
       "      <td>0.0</td>\n",
       "      <td>0.0</td>\n",
       "    </tr>\n",
       "    <tr>\n",
       "      <th>3615</th>\n",
       "      <td>0.0</td>\n",
       "      <td>0.0</td>\n",
       "      <td>0.0</td>\n",
       "      <td>0.0</td>\n",
       "      <td>0.0</td>\n",
       "      <td>0.0</td>\n",
       "      <td>0.0</td>\n",
       "      <td>0.0</td>\n",
       "      <td>0.0</td>\n",
       "      <td>0.0</td>\n",
       "      <td>...</td>\n",
       "      <td>0.0</td>\n",
       "      <td>0.0</td>\n",
       "      <td>0.0</td>\n",
       "      <td>0.0</td>\n",
       "      <td>0.0</td>\n",
       "      <td>0.0</td>\n",
       "      <td>0.0</td>\n",
       "      <td>0.0</td>\n",
       "      <td>0.0</td>\n",
       "      <td>0.0</td>\n",
       "    </tr>\n",
       "    <tr>\n",
       "      <th>3616</th>\n",
       "      <td>0.0</td>\n",
       "      <td>0.0</td>\n",
       "      <td>0.0</td>\n",
       "      <td>0.0</td>\n",
       "      <td>0.0</td>\n",
       "      <td>0.0</td>\n",
       "      <td>0.0</td>\n",
       "      <td>0.0</td>\n",
       "      <td>0.0</td>\n",
       "      <td>0.0</td>\n",
       "      <td>...</td>\n",
       "      <td>0.0</td>\n",
       "      <td>0.0</td>\n",
       "      <td>0.0</td>\n",
       "      <td>0.0</td>\n",
       "      <td>0.0</td>\n",
       "      <td>0.0</td>\n",
       "      <td>0.0</td>\n",
       "      <td>0.0</td>\n",
       "      <td>0.0</td>\n",
       "      <td>0.0</td>\n",
       "    </tr>\n",
       "    <tr>\n",
       "      <th>3617</th>\n",
       "      <td>0.0</td>\n",
       "      <td>0.0</td>\n",
       "      <td>0.0</td>\n",
       "      <td>0.0</td>\n",
       "      <td>0.0</td>\n",
       "      <td>0.0</td>\n",
       "      <td>0.0</td>\n",
       "      <td>0.0</td>\n",
       "      <td>0.0</td>\n",
       "      <td>0.0</td>\n",
       "      <td>...</td>\n",
       "      <td>0.0</td>\n",
       "      <td>0.0</td>\n",
       "      <td>0.0</td>\n",
       "      <td>0.0</td>\n",
       "      <td>0.0</td>\n",
       "      <td>0.0</td>\n",
       "      <td>0.0</td>\n",
       "      <td>0.0</td>\n",
       "      <td>0.0</td>\n",
       "      <td>0.0</td>\n",
       "    </tr>\n",
       "  </tbody>\n",
       "</table>\n",
       "<p>3618 rows × 5243 columns</p>\n",
       "</div>"
      ],
      "text/plain": [
       "       aa  aah  aaooooright  aathi  abdomen  abeg  aberdeen  abi  abil  \\\n",
       "0     0.0  0.0          0.0    0.0      0.0   0.0       0.0  0.0   0.0   \n",
       "1     0.0  0.0          0.0    0.0      0.0   0.0       0.0  0.0   0.0   \n",
       "2     0.0  0.0          0.0    0.0      0.0   0.0       0.0  0.0   0.0   \n",
       "3     0.0  0.0          0.0    0.0      0.0   0.0       0.0  0.0   0.0   \n",
       "4     0.0  0.0          0.0    0.0      0.0   0.0       0.0  0.0   0.0   \n",
       "...   ...  ...          ...    ...      ...   ...       ...  ...   ...   \n",
       "3613  0.0  0.0          0.0    0.0      0.0   0.0       0.0  0.0   0.0   \n",
       "3614  0.0  0.0          0.0    0.0      0.0   0.0       0.0  0.0   0.0   \n",
       "3615  0.0  0.0          0.0    0.0      0.0   0.0       0.0  0.0   0.0   \n",
       "3616  0.0  0.0          0.0    0.0      0.0   0.0       0.0  0.0   0.0   \n",
       "3617  0.0  0.0          0.0    0.0      0.0   0.0       0.0  0.0   0.0   \n",
       "\n",
       "      abiola  ...  zero   zf  zhong  zindgi  zoe  zogtoriu  zoom  zouk  zyada  \\\n",
       "0        0.0  ...   0.0  0.0    0.0     0.0  0.0       0.0   0.0   0.0    0.0   \n",
       "1        0.0  ...   0.0  0.0    0.0     0.0  0.0       0.0   0.0   0.0    0.0   \n",
       "2        0.0  ...   0.0  0.0    0.0     0.0  0.0       0.0   0.0   0.0    0.0   \n",
       "3        0.0  ...   0.0  0.0    0.0     0.0  0.0       0.0   0.0   0.0    0.0   \n",
       "4        0.0  ...   0.0  0.0    0.0     0.0  0.0       0.0   0.0   0.0    0.0   \n",
       "...      ...  ...   ...  ...    ...     ...  ...       ...   ...   ...    ...   \n",
       "3613     0.0  ...   0.0  0.0    0.0     0.0  0.0       0.0   0.0   0.0    0.0   \n",
       "3614     0.0  ...   0.0  0.0    0.0     0.0  0.0       0.0   0.0   0.0    0.0   \n",
       "3615     0.0  ...   0.0  0.0    0.0     0.0  0.0       0.0   0.0   0.0    0.0   \n",
       "3616     0.0  ...   0.0  0.0    0.0     0.0  0.0       0.0   0.0   0.0    0.0   \n",
       "3617     0.0  ...   0.0  0.0    0.0     0.0  0.0       0.0   0.0   0.0    0.0   \n",
       "\n",
       "       èn  \n",
       "0     0.0  \n",
       "1     0.0  \n",
       "2     0.0  \n",
       "3     0.0  \n",
       "4     0.0  \n",
       "...   ...  \n",
       "3613  0.0  \n",
       "3614  0.0  \n",
       "3615  0.0  \n",
       "3616  0.0  \n",
       "3617  0.0  \n",
       "\n",
       "[3618 rows x 5243 columns]"
      ]
     },
     "execution_count": 360,
     "metadata": {},
     "output_type": "execute_result"
    }
   ],
   "source": [
    "pd.DataFrame(data=X_train_4_tfidf.toarray(), columns=tfidf.get_feature_names_out())"
   ]
  },
  {
   "cell_type": "markdown",
   "metadata": {},
   "source": [
    "#### **Métricas de Avaliação**\n",
    "\n",
    "\n",
    "* **Balanced_Accuracy**: Mede a proporção de previsões corretas feitas pelo modelo. É uma métrica para lidar com conjuntos de dados desbalanceados. Faz o cálculo da acurácia de forma balanceada. \n",
    "\n",
    "* **Precision**: Mede a proporção de previsões positivas feitas pelo modelo que estão corretas. Essa métrica ajudará a minimizar o número de falsos positivos (ou seja, o número de textos não-spam que acabam em spam).\n",
    "\n",
    "* **Recall (Sensibilidade)**: Mede a proporção de exemplos positivos que foram corretamente identificados pelo modelo. Essa métrica ajudará a minimizar o número de falsos negativos (ou seja, o número de textos spam que acabam em não-spam).\n",
    "\n",
    "* **F1-Score**: É a média harmônica entre a Precisão e o Recall e fornece um equilíbrio entre essas duas métricas. Ele é útil quando você deseja levar em consideração tanto os falsos positivos quanto os falsos negativos.\n",
    "\n",
    "verdadeiro positivo: quando o paciente tem uma doença e o teste classifica como doente\n",
    "                     uma pessoa realmente grávida (positivo) e classificada como grávida (positivo)\n",
    "\n",
    "verdadeiro negativo: quando o paciente não tem a doença e o teste classifica como não doente\n",
    "                     uma pessoa que realmente não está grávida (negativo) e é classificada como não grávida (negativo).\n",
    "\n",
    "falsos positivos:    quando o paciente não tem a doença mas o teste acusa que tem\n",
    "                     uma pessoa que realmente não está grávida (negativo) e é classificada como grávida (positivo)\n",
    "\n",
    "falsos negativos:    quando o paciente tem a doença mas o resultado acusa que não tem.\n",
    "                     uma pessoa realmente grávida (positivo) e é classificada como não grávida (negativo)"
   ]
  },
  {
   "cell_type": "code",
   "execution_count": 361,
   "metadata": {},
   "outputs": [],
   "source": [
    "# Levando em conta que os dados estão desbalanceados, as duas métricas escolhidas foram a balanced_accuracy_score e f1_score\n",
    "# balanced_accuracy_score é uma métrica de acurácia para lidar com dados desbalanceados\n",
    "# f1_score com average igual a \"macro\", pois simplesmente calcula a média das métricas binárias, dando peso igual a cada classe.\n",
    "\n",
    "def evaluate_model(real, predictions):\n",
    "    accuracy = balanced_accuracy_score(real, predictions)\n",
    "    f1score = f1_score(real, predictions, average=\"macro\") \n",
    "\n",
    "    print(f\"Balanced_Accuracy: {round(accuracy,2)*100}% F1-Score: {round(f1score,2)*100}%\")"
   ]
  },
  {
   "cell_type": "markdown",
   "metadata": {},
   "source": [
    "#### **Modelo**"
   ]
  },
  {
   "cell_type": "code",
   "execution_count": 362,
   "metadata": {},
   "outputs": [],
   "source": [
    "def model(X_train, y_train):\n",
    "    kf = StratifiedKFold(n_splits=5)\n",
    "\n",
    "    # Definição do Modelo\n",
    "    base_model = MultinomialNB()\n",
    "\n",
    "    # Definindo o Limite de Decisão\n",
    "    # O TunedThresholdClassifierCV é um classificador que pós-ajusta o limite de decisão usando validação cruzada.\n",
    "    # Este estimador pós-ajusta o limite de decisão (ponto de corte) que é usado para converter estimativas de probabilidade posteriores (ou seja, saída de predict_proba) \n",
    "    # ou pontuações de decisão (ou seja, saída de decision_function) em um rótulo de classe. O ajuste é feito otimizando uma métrica binária, potencialmente restringida por outra métrica.\n",
    "    model = TunedThresholdClassifierCV(base_model, scoring='balanced_accuracy') \n",
    "    \n",
    "    # Validação Cruzada\n",
    "    scores = cross_val_score(model, X_train, y_train, cv=kf, scoring='balanced_accuracy', n_jobs=-1)   \n",
    "    print(\"Média: {} Desvio Padrão: {}\".format(round(scores.mean(), 2), round(scores.std(),3)))\n",
    "    \n",
    "    # Treinamento do Modelo\n",
    "    model.fit(X_train, y_train)\n",
    "    print(f\"thresholds {model.best_threshold_:.3f}\")\n",
    "\n",
    "    return model"
   ]
  },
  {
   "cell_type": "code",
   "execution_count": 363,
   "metadata": {},
   "outputs": [
    {
     "name": "stdout",
     "output_type": "stream",
     "text": [
      "--> Lemm + stopword removal + CountVectorizer\n",
      "Média: 0.95 Desvio Padrão: 0.01\n",
      "thresholds 0.354\n",
      "\n",
      "--> Lemm + no stopword removal + CountVectorizer\n",
      "Média: 0.95 Desvio Padrão: 0.012\n",
      "thresholds 0.545\n",
      "\n",
      "--> Stem + stopword removal + CountVectorizer\n",
      "Média: 0.95 Desvio Padrão: 0.011\n",
      "thresholds 0.434\n",
      "\n",
      "--> Stem + no stopword removal + CountVectorizer\n",
      "Média: 0.95 Desvio Padrão: 0.014\n",
      "thresholds 0.414\n"
     ]
    }
   ],
   "source": [
    "#Lemm + stopword removal \n",
    "print(\"--> Lemm + stopword removal + CountVectorizer\") \n",
    "model_count_1 = model(X_train_1_count, y_train)\n",
    "\n",
    "#Lemm + no stopword removal \n",
    "print(\"\\n--> Lemm + no stopword removal + CountVectorizer\") \n",
    "model_count_2 = model(X_train_2_count, y_train)\n",
    "\n",
    "#Stem + stopword removal \n",
    "print(\"\\n--> Stem + stopword removal + CountVectorizer\") \n",
    "model_count_3 = model(X_train_3_count, y_train)\n",
    "\n",
    "#Stem + no stopword removal \n",
    "print(\"\\n--> Stem + no stopword removal + CountVectorizer\") \n",
    "model_count_4 = model(X_train_4_count, y_train)"
   ]
  },
  {
   "cell_type": "code",
   "execution_count": 364,
   "metadata": {},
   "outputs": [
    {
     "name": "stdout",
     "output_type": "stream",
     "text": [
      "--> Lemm + stopword removal + TfidfVectorizer\n",
      "Média: 0.93 Desvio Padrão: 0.019\n",
      "thresholds 0.171\n",
      "\n",
      "--> Lemm + no stopword removal + TfidfVectorizer\n",
      "Média: 0.92 Desvio Padrão: 0.013\n",
      "thresholds 0.110\n",
      "\n",
      "--> Stem + stopword removal + TfidfVectorizer\n",
      "Média: 0.93 Desvio Padrão: 0.016\n",
      "thresholds 0.161\n",
      "\n",
      "--> Stem + no stopword removal + TfidfVectorizer\n",
      "Média: 0.92 Desvio Padrão: 0.011\n",
      "thresholds 0.110\n"
     ]
    }
   ],
   "source": [
    "#Lemm + stopword removal \n",
    "print(\"--> Lemm + stopword removal + TfidfVectorizer\") \n",
    "model_tfidf_1 = model(X_train_1_tfidf, y_train)\n",
    "\n",
    "#Lemm + no stopword removal \n",
    "print(\"\\n--> Lemm + no stopword removal + TfidfVectorizer\") \n",
    "model_tfidf_2 = model(X_train_2_tfidf, y_train)\n",
    "\n",
    "#Stem + stopword removal \n",
    "print(\"\\n--> Stem + stopword removal + TfidfVectorizer\") \n",
    "model_tfidf_3 = model(X_train_3_tfidf, y_train)\n",
    "\n",
    "#Stem + no stopword removal \n",
    "print(\"\\n--> Stem + no stopword removal + TfidfVectorizer\") \n",
    "model_tfidf_4 = model(X_train_4_tfidf, y_train)"
   ]
  },
  {
   "cell_type": "markdown",
   "metadata": {},
   "source": [
    "#### **Modelo Escolhido:** Lemm + stopword removal + CountVectorizer\n",
    "\n",
    "Escolhemos o modelo que obteve o melhor desempenho na validação cruzada, ou seja, média de balanced accuracy alto e desvio padrão baixo.\n",
    "\n",
    "Em nossas diferentes variações de modelo, descobrimos que o modelo que usa lematização, com remoção de palavras irrelevantes e CountVectorizer supera os demais modelos com uma pontuação de media de Balanced Accuracy de 95% e Desvio Padrão igual a 0.01.\n",
    "\n",
    "Depois de aplicarmos o modelo Multinomial Naive Bayes às nossas diferentes variantes com os dados de treinamento, podemos avaliar o desempenho do estimador usando os dados de teste."
   ]
  },
  {
   "cell_type": "code",
   "execution_count": 365,
   "metadata": {},
   "outputs": [
    {
     "name": "stdout",
     "output_type": "stream",
     "text": [
      "--> AVALIAÇÃO NO TESTE: Lemm + stopword removal + CountVectorizer\n",
      "Balanced_Accuracy: 96.0% F1-Score: 95.0%\n"
     ]
    }
   ],
   "source": [
    "#Lemm + stopword removal \n",
    "print(\"--> AVALIAÇÃO NO TESTE: Lemm + stopword removal + CountVectorizer\") \n",
    "\n",
    "# Predição no Conjunto de Teste\n",
    "predictions_naive = model_count_1.predict(X_test_1_count)\n",
    "\n",
    "# Avaliação Final do Modelo\n",
    "evaluate_model(y_test, predictions_naive)"
   ]
  },
  {
   "cell_type": "markdown",
   "metadata": {},
   "source": [
    "**Visualização da Matriz de Classificação**"
   ]
  },
  {
   "cell_type": "code",
   "execution_count": 366,
   "metadata": {},
   "outputs": [
    {
     "data": {
      "image/png": "[encoded data removed]",
      "text/plain": [
       "<Figure size 640x480 with 2 Axes>"
      ]
     },
     "metadata": {},
     "output_type": "display_data"
    }
   ],
   "source": [
    "classes = data['classification'].unique()\n",
    "\n",
    "cf_matrix = confusion_matrix(y_test, predictions_naive)\n",
    "\n",
    "group_names = ['True Neg', 'False Pos', 'False Neg', 'True Pos']\n",
    "group_counts = ['{0:0.0f}'.format(value) for value in cf_matrix.flatten()]\n",
    "\n",
    "group_percentages = ['{0:.2%}'.format(value) for value in cf_matrix.flatten()/np.sum(cf_matrix)]\n",
    "labels = [f'{v1}\\n{v2}\\n{v3}' for v1, v2, v3 in zip(group_names,group_counts,group_percentages)]\n",
    "labels = np.asarray(labels).reshape(2,2)\n",
    "\n",
    "sns.heatmap(cf_matrix, cmap=\"crest\", annot=labels, linewidth=1, fmt='', xticklabels=classes, yticklabels=classes)\n",
    "plt.xlabel('Predição')\n",
    "plt.ylabel(\"Real\")\n",
    "plt.show()"
   ]
  },
  {
   "cell_type": "markdown",
   "metadata": {},
   "source": [
    "**Relatório das Principais Métricas de Classificação**"
   ]
  },
  {
   "cell_type": "code",
   "execution_count": 367,
   "metadata": {},
   "outputs": [
    {
     "name": "stdout",
     "output_type": "stream",
     "text": [
      "              precision    recall  f1-score   support\n",
      "\n",
      "         ham       0.99      0.98      0.99      1355\n",
      "        spam       0.89      0.93      0.91       196\n",
      "\n",
      "    accuracy                           0.98      1551\n",
      "   macro avg       0.94      0.96      0.95      1551\n",
      "weighted avg       0.98      0.98      0.98      1551\n",
      "\n"
     ]
    }
   ],
   "source": [
    "print(classification_report(y_test, predictions_naive, target_names=classes)) "
   ]
  },
  {
   "cell_type": "markdown",
   "metadata": {},
   "source": [
    "### **Redes Neurais Convolucionais – CNN (Convolutional Neural Networks)**"
   ]
  },
  {
   "cell_type": "markdown",
   "metadata": {},
   "source": [
    "**Dividindo o Conjunto de Dados em Treino, Validação e Teste**"
   ]
  },
  {
   "cell_type": "code",
   "execution_count": 368,
   "metadata": {},
   "outputs": [],
   "source": [
    "# Treino e Teste\n",
    "X_train_cnn, X_test_cnn, y_train_cnn, y_test_cnn = train_test_split(X, y, test_size=0.15, random_state=42, stratify=y)"
   ]
  },
  {
   "cell_type": "code",
   "execution_count": 369,
   "metadata": {},
   "outputs": [],
   "source": [
    "label = LabelEncoder()\n",
    "\n",
    "y_train_cnn = label.fit_transform(y_train_cnn)\n",
    "\n",
    "y_test_cnn = label.transform(y_test_cnn)"
   ]
  },
  {
   "cell_type": "code",
   "execution_count": 370,
   "metadata": {},
   "outputs": [
    {
     "data": {
      "text/plain": [
       "array([0, 0, 0, ..., 0, 0, 0])"
      ]
     },
     "execution_count": 370,
     "metadata": {},
     "output_type": "execute_result"
    }
   ],
   "source": [
    "y_train_cnn"
   ]
  },
  {
   "cell_type": "code",
   "execution_count": 371,
   "metadata": {},
   "outputs": [
    {
     "data": {
      "text/plain": [
       "array(['ham', 'ham', 'ham', ..., 'ham', 'ham', 'ham'], dtype=object)"
      ]
     },
     "execution_count": 371,
     "metadata": {},
     "output_type": "execute_result"
    }
   ],
   "source": [
    "label.inverse_transform(y_train_cnn)"
   ]
  },
  {
   "cell_type": "code",
   "execution_count": 372,
   "metadata": {},
   "outputs": [],
   "source": [
    "# Treino e Validação\n",
    "X_train_cnn, X_valid_cnn, y_train_cnn, y_valid_cnn = train_test_split(X_train_cnn, y_train_cnn, test_size=0.15, random_state=42, stratify=y_train_cnn)"
   ]
  },
  {
   "cell_type": "code",
   "execution_count": 373,
   "metadata": {},
   "outputs": [
    {
     "name": "stderr",
     "output_type": "stream",
     "text": [
      "100%|██████████| 3734/3734 [00:01<00:00, 2771.01it/s]\n",
      "100%|██████████| 776/776 [00:00<00:00, 2905.78it/s]\n",
      "100%|██████████| 659/659 [00:00<00:00, 3022.29it/s]\n",
      "100%|██████████| 3734/3734 [00:00<00:00, 7435.02it/s]\n",
      "100%|██████████| 776/776 [00:00<00:00, 8058.68it/s]\n",
      "100%|██████████| 659/659 [00:00<00:00, 7394.99it/s]\n",
      "100%|██████████| 3734/3734 [00:01<00:00, 2179.47it/s]\n",
      "100%|██████████| 776/776 [00:00<00:00, 2124.12it/s]\n",
      "100%|██████████| 659/659 [00:00<00:00, 2199.61it/s]\n",
      "100%|██████████| 3734/3734 [00:01<00:00, 2812.61it/s]\n",
      "100%|██████████| 776/776 [00:00<00:00, 1589.07it/s]\n",
      "100%|██████████| 659/659 [00:00<00:00, 1599.34it/s]\n"
     ]
    }
   ],
   "source": [
    "#preprocessed data: Lemm + stopword removal \n",
    "X_train_1_cnn = text_processing(X_train_cnn, True, 'L')\n",
    "X_test_1_cnn = text_processing(X_test_cnn, True, 'L') \n",
    "X_valid_1_cnn = text_processing(X_valid_cnn, True, 'L') \n",
    "\n",
    "#preprocessed data: Lemm + no stopword removal \n",
    "X_train_2_cnn = text_processing(X_train_cnn, False, 'L')\n",
    "X_test_2_cnn = text_processing(X_test_cnn, False, 'L') \n",
    "X_valid_2_cnn = text_processing(X_valid_cnn, False, 'L') \n",
    "\n",
    "#preprocessed data: Stem + stopword removal \n",
    "X_train_3_cnn = text_processing(X_train_cnn, True, 'S')\n",
    "X_test_3_cnn = text_processing(X_test_cnn, True, 'S') \n",
    "X_valid_3_cnn = text_processing(X_valid_cnn, True, 'S')\n",
    "\n",
    "#preprocessed data: Stem + no stopword removal \n",
    "X_train_4_cnn = text_processing(X_train_cnn, False, 'S')\n",
    "X_test_4_cnn = text_processing(X_test_cnn, False, 'S') \n",
    "X_valid_4_cnn = text_processing(X_valid_cnn, False, 'S') "
   ]
  },
  {
   "cell_type": "markdown",
   "metadata": {},
   "source": [
    "**Tokenização - convertendo dados textuais em uma representação numérica**"
   ]
  },
  {
   "cell_type": "code",
   "execution_count": 374,
   "metadata": {},
   "outputs": [],
   "source": [
    "def tokenizer(X_train, X_valid, X_test):\n",
    "    tokenizer = Tokenizer(oov_token=\"<OOV>\")\n",
    "    tokenizer.fit_on_texts(X_train)\n",
    "\n",
    "    sequences_train = tokenizer.texts_to_sequences(X_train)\n",
    "    sequences_valid = tokenizer.texts_to_sequences(X_valid)\n",
    "    sequences_test = tokenizer.texts_to_sequences(X_test)\n",
    "\n",
    "    word_index = tokenizer.word_index\n",
    "    vocab_size = len(word_index) + 1\n",
    "\n",
    "    return sequences_train, sequences_valid, sequences_test, vocab_size, word_index"
   ]
  },
  {
   "cell_type": "code",
   "execution_count": 375,
   "metadata": {},
   "outputs": [],
   "source": [
    "sequences_train_1, sequences_valid_1, sequences_test_1, vocab_size_1, word_index_1 = tokenizer(X_train_1_cnn, X_valid_1_cnn, X_test_1_cnn)\n",
    "sequences_train_2, sequences_valid_2, sequences_test_2, vocab_size_2, word_index_2 = tokenizer(X_train_2_cnn, X_valid_2_cnn, X_test_2_cnn)\n",
    "sequences_train_3, sequences_valid_3, sequences_test_3, vocab_size_3, word_index_3 = tokenizer(X_train_3_cnn, X_valid_3_cnn, X_test_3_cnn)\n",
    "sequences_train_4, sequences_valid_4, sequences_test_4, vocab_size_4, word_index_4 = tokenizer(X_train_4_cnn, X_valid_4_cnn, X_test_4_cnn)"
   ]
  },
  {
   "cell_type": "code",
   "execution_count": 376,
   "metadata": {},
   "outputs": [
    {
     "name": "stdout",
     "output_type": "stream",
     "text": [
      "[[78, 872, 421], [2754, 2755, 2756, 1430, 1011, 478, 2757, 710, 157, 107, 711, 422, 1431], [336, 2, 590, 105, 2758, 1432, 145, 33, 145, 591], [43, 509, 19, 76, 19, 106, 2, 194, 421, 2759, 19, 784, 2, 43, 2760, 2, 873, 2, 11, 2761, 642, 2, 1012], [318, 2762, 36, 116, 372, 2763, 6, 2764, 319, 2765, 1189, 56, 643, 2766, 2767, 2768, 157, 337], [220, 20, 1871], [82, 320, 1872, 97, 510, 1873, 202, 31, 202, 1874], [24, 195, 70, 5, 712, 1013, 301, 20, 90, 713, 785, 195, 47, 34, 786, 1014, 41, 124], [190, 714, 1875, 1433, 1015, 2, 203, 11, 1434, 10, 5, 2769, 2770, 29, 1190, 2771, 41, 1435, 137, 338, 153, 41, 153, 1875], [21, 4], [78, 1191, 2, 592, 1016, 479, 339, 109, 2, 32, 138, 27, 1192, 480, 321, 481, 137, 373, 511, 874, 263], [9], [644, 196, 26, 2772, 204, 149, 2, 18, 16, 2773, 2774, 374], [11, 875, 1436, 1437, 645, 154, 1438, 1436, 93, 1193, 2775, 39, 302, 2776, 1439, 2777, 2778, 59, 1436, 715, 1440, 1017, 2779, 2780, 227, 10, 876, 28], [90, 22, 1194, 303, 50, 44, 14, 2781, 276], [877, 878, 878, 879, 879, 248, 248, 2, 2, 23, 1876, 5, 73, 1195, 2, 14, 2, 4, 37, 2, 29, 716, 1196, 2, 21, 545, 2, 29, 512, 164, 2782, 2, 1877, 277, 1441, 2, 155], [264, 97, 340, 92], [145, 717, 787, 1878, 39, 116], [304, 880, 110, 593, 1018, 1197, 228, 1198, 71, 139, 2783, 34], [2784, 482, 788], [1879, 172, 351, 1879, 1199, 718, 3, 111, 351, 881, 79], [66, 1019, 19, 44, 205, 719, 1442, 133, 1880, 278, 18, 21, 646], [58, 1881, 1882, 647], [48, 336, 1200, 29, 2, 40, 882, 2785, 2, 24], [94, 25, 2, 789], [447, 790, 1883, 720, 46, 375, 94, 305], [118, 154, 1884, 2786, 786, 17, 513, 2787], [19, 352, 30], [1201, 718, 83, 19, 118, 229], [2788, 265, 1443], [1885, 221, 1020, 46, 1021, 4, 25], [883, 791, 341, 4, 319], [99, 11, 2789, 287, 84, 1202, 79, 1444, 423, 1445, 514, 648, 4], [2790, 228], [29, 38, 222, 249, 149], [12, 112, 266, 117, 49, 115], [1886, 106, 22, 25, 176, 884, 424, 89, 146, 44, 2, 515, 89], [2791, 1887, 376, 40, 2792, 2793, 107, 45, 209, 1022, 15], [78, 13, 85, 377, 1888, 48, 48, 48], [184, 425], [2794, 6, 397, 250, 2795], [241, 8, 7, 52], [721, 1889, 2796, 86, 197, 140, 251, 140, 722, 516, 1203, 1023], [103, 2, 251, 6, 1024, 165, 9, 1890, 306, 1025, 426, 1891, 1892, 594, 885, 36, 448], [1446, 67, 10, 305], [398, 109, 41, 195, 206, 46, 449, 279, 52, 198, 353, 230, 546, 450, 41, 3], [399, 78, 44], [33, 38, 427], [547, 55, 51, 51], [44, 280, 185, 53, 231, 595, 146], [66, 2797, 6, 1893, 649, 9, 14, 1204, 252, 38, 1447, 2798], [90, 510, 14, 186, 421, 483, 400, 354, 451, 401], [792, 14], [548, 202, 1205], [62, 166, 793, 11, 452, 1448, 187, 14, 177, 98, 11, 2, 29, 452, 277, 19], [1449, 2799, 794, 1206, 199, 650, 15, 2800, 119, 119, 886, 1207, 15, 12, 112, 110, 484], [887, 402, 68, 1450, 30, 549, 35, 172, 41, 378, 379, 517, 232, 14, 1026, 122, 29, 35], [888, 39, 1208], [9], [428, 337, 889], [355, 158, 12, 2801, 1451, 2802, 1209, 288, 397, 9, 1894, 2803, 31, 1452], [83, 42, 17, 5, 2804, 289, 1210, 372, 380, 1027, 2, 253, 2805], [63, 222, 3, 65], [57, 33, 33, 39, 453], [890, 429, 228, 25, 2, 267, 403, 137, 74], [400, 651], [380, 891, 550, 551], [516, 2806, 24], [356, 795, 11], [30, 105], [723, 2, 2807, 2808, 2, 2809, 80, 2810, 1028, 29, 2811, 210, 264, 404, 2812, 1895, 430, 290, 373, 110, 2813, 2814, 1896, 1897], [405, 154, 176, 549, 164, 711], [877, 21, 652, 1211, 21, 357, 2815, 21, 2816, 46, 21, 5, 190, 21, 5, 596, 1453, 796], [178, 2817, 22], [597, 4, 454, 358, 43, 11], [724, 2818, 43, 211, 94, 1454, 9], [9, 89, 342, 87, 359, 2, 77, 2819, 378], [2820, 1029, 797, 1455, 892, 2821], [1898, 598, 360, 484, 798, 1030, 85, 484, 599, 150, 145, 1212], [80, 151], [455, 2822, 2823], [281, 4, 94, 40], [406, 725, 799, 159], [33, 33, 268, 595], [15], [83, 21, 1031], [76, 11, 726], [125, 72, 60, 63, 93, 727, 1032, 1899, 15, 63, 599, 1213], [15, 160, 1214, 15], [90, 50, 1900], [1456, 456, 400], [80, 653, 407, 1457, 94, 14, 186, 600, 64], [63, 291], [2824, 289, 46, 30, 379, 5, 85, 58, 12, 62, 179], [1458, 227, 2825], [2826, 2, 1029, 58, 5, 9, 485, 2, 10, 19, 36, 100, 39, 116], [2827, 100, 2828, 6, 728, 151], [20, 4, 729, 1033, 212, 88, 32, 126, 338, 454, 32, 53, 113], [80, 4, 1034, 336, 21, 357, 454, 1459, 457, 8, 7, 233, 654, 552], [134, 47, 234, 486, 487, 81, 322, 339, 235, 3, 893, 135, 36, 1460, 236], [35, 59, 15, 361], [2, 140, 77, 2, 140, 14, 84, 197, 68, 2, 38, 1215], [11, 199, 601, 278, 90], [485, 2, 510, 53, 553, 60, 2, 16, 269, 655, 161, 68, 254, 147, 1461, 2829, 205, 1035, 408], [430, 1438, 2830, 1036, 1901, 409, 1902, 1037], [2831, 34, 156, 518], [173, 2, 11, 407, 894, 120, 109, 154, 241, 3, 1903, 323, 554, 1904, 27], [2832, 266], [69, 292], [2833, 381, 172], [64, 207, 92, 99], [173, 2, 11, 407, 894, 120, 109, 154, 241, 3, 1903, 242, 135, 1462], [1449, 1463, 2834, 2835, 1464, 2836, 123, 1464, 1038, 1216, 2837, 1217, 264, 1464, 156, 232, 1465, 137, 270, 884, 1029, 2838, 1465, 358, 281, 730, 103, 270, 884, 213, 141, 157, 2839, 1463], [2, 29, 64, 555, 248, 2, 6, 382, 2840, 602, 324], [214, 255, 1905, 1906, 2841, 94, 2842], [43, 64, 2843, 151], [164, 488, 44, 1907], [731, 50, 431, 2844, 1908, 2845, 383], [82, 362, 40], [13, 212, 4, 2846, 2847, 13, 212, 1218, 223, 4, 5, 212, 1909, 41, 478, 732, 2848, 895, 1039, 1218, 2849], [154, 110, 519, 199, 101, 282, 1910, 353, 71, 44, 18, 86, 122, 64, 1219, 282], [520, 44, 22, 656, 48, 48, 48], [1466, 140, 896, 2, 256, 176, 2, 139, 515, 5, 2850, 16], [49, 1911, 138, 1040, 142, 5, 556, 27, 13, 325, 509, 1467, 1912, 126, 32, 22, 150, 2851, 28, 2852], [22, 733, 2853, 159], [159, 1207, 139, 1220, 15, 384], [1913, 293, 484, 293, 1022, 293, 1914, 293, 2854, 293, 2855, 293, 1221, 293, 1041, 293, 2856, 293, 8, 7, 2857, 293], [235, 30, 3], [728, 1468, 40, 16, 734], [897, 74, 79, 4, 74, 202, 104, 2, 2858], [385, 352, 24, 77, 72, 138, 54, 9, 521, 20, 13, 376, 800, 431, 58, 55, 2859, 2860, 363], [117, 386, 203, 5, 387, 16, 318], [522, 271, 489, 143, 1469, 486, 257, 70, 3, 557, 326, 523], [253, 2, 1915, 64, 2, 657, 191, 2, 29, 431, 2, 1470, 253, 2, 234], [2861, 180, 73, 56, 603, 119, 1916, 108, 59, 92, 277], [12, 112, 78, 2862, 62, 123, 1917, 10], [1471, 61, 138, 2863, 13, 1918, 120, 20, 6, 2, 4, 228, 2, 458, 243, 1919, 263, 279, 155], [1030, 48, 1920, 1921, 190, 1222, 85, 524, 50, 3, 37, 1922, 85, 524], [1472, 357, 891], [2864, 397, 64, 289], [307, 89, 735, 898], [12, 355, 292, 58, 161, 10, 327, 380, 1042, 172, 801, 736, 1223, 160, 282, 8, 7, 364, 802, 93, 1923, 1924, 108, 59, 62, 224, 281, 283, 803, 1925, 213, 365, 282, 364, 160, 1926, 1224, 55, 1043, 160, 153, 50, 129, 272, 304], [522, 271, 489, 143, 1469, 486, 257, 70, 3, 557, 326, 523], [2865, 718, 1225, 2, 1226, 2866, 294, 1225, 37, 2, 4, 2, 29, 899, 2, 29, 2867, 2, 29, 525, 883, 199, 1227, 2], [75, 882, 2868, 2869, 490, 273, 1228], [78, 292, 2870, 2871, 1927, 1229, 222, 24, 900, 459, 1473, 23, 109, 69, 901, 737, 804, 71, 732, 69, 1928, 1474], [48, 30, 1929], [11, 199, 38, 295], [805, 37, 1930, 1230], [20, 4, 3, 46, 159], [738, 82, 4, 258, 1231, 46, 604, 6, 460, 1232, 39, 196, 1044, 21, 83, 646, 31], [558, 1931, 1233, 87, 61, 1932, 320, 87, 1461, 2872, 1933, 491], [2873, 2874, 410, 1934, 1935, 902, 92, 903, 2875, 2876, 20, 130], [13, 223, 45, 343, 1234, 265, 95, 1235, 904, 91, 102, 210, 32, 1936, 739, 34, 88, 1234, 460, 740], [99, 178, 2877], [1937, 56, 149, 18, 136, 341, 79], [166, 793, 1236, 1475, 84, 2878, 1938], [80, 1045, 142, 295, 1476, 199, 121, 11], [14, 270, 1237, 1939, 73, 188, 22, 15, 605], [82, 5, 30], [99, 1046, 905, 797], [1477, 2879], [9, 103, 17, 1940, 1478, 2880, 906, 36, 526, 21, 1047], [2881, 741, 2882, 2883, 907, 1238, 1048, 1210, 1457, 1239, 1479, 8, 7, 3, 1941, 2884, 8, 7, 2885, 1942, 806, 2886, 126], [23, 1033, 5, 807, 150, 908, 248, 32, 19, 150, 150, 2887, 658, 19, 2888, 559, 1240, 323, 137, 659, 2889, 909, 27], [388, 742, 14], [308, 344, 35, 789, 25, 342, 1241, 1049, 485, 1480, 26, 36, 61], [199, 1242, 167, 1050, 54, 131, 1943, 1243], [213, 67, 181, 743, 202, 9], [3, 31, 788, 405], [9, 152, 21, 89], [274, 215, 168, 37, 492, 231, 249, 26, 37, 910, 15, 1481, 1944, 1482, 2890, 24, 58, 461, 164, 560, 16], [289, 2891, 2, 77, 6, 1945, 205, 2], [33, 1483, 60, 125, 72, 121, 121, 8, 7], [1946, 741], [911], [190, 120, 1244, 20, 383, 71, 1051, 88, 1052, 460, 1245, 1947, 527, 28, 593, 364, 129, 1052, 1246, 1948], [244, 309, 18, 380, 2892, 2893], [1247, 601, 606, 4, 2894, 1484, 2895, 212, 49, 2896, 660, 2897, 2898, 2899, 2900, 1485, 13], [22, 728, 1949, 188], [353, 70, 3], [1053, 912, 389], [92, 462, 145, 591], [48, 51, 5, 525, 51, 2901, 592, 1016, 113, 2902, 138, 32, 138, 27, 1192, 480, 321, 481, 137, 373, 511, 874, 263], [2903, 2, 29, 291, 2904, 555, 2, 913, 493, 1950, 494, 1951, 310, 913, 732, 1196, 358, 1952, 1054, 1953, 1196, 145, 1954], [31, 231, 603, 914, 282], [1486, 6, 607, 79, 372, 16, 172, 808], [9, 35, 1487, 127], [56, 309, 259, 432], [42, 38, 188], [6, 809, 61, 320, 2905, 1248, 1249, 2906, 561, 895, 8, 7, 1955, 1047, 5, 561, 1488], [522, 271, 489, 1956, 143, 661, 744, 257, 3, 557, 326, 523], [24, 1055, 10, 2, 1055, 456, 495, 807, 78, 177, 2907, 2908, 2909, 2910, 2911, 1957, 2912, 2913, 810, 227, 1489], [31, 595], [74, 811, 1056, 264, 154, 267, 662, 256, 10, 2, 13], [114, 8, 7, 186, 812, 1958, 252], [200, 400, 562, 1959], [220, 16, 14, 8, 7, 528], [271, 1960, 143, 1469, 257, 70, 3, 557, 326, 1897, 523], [1961, 91, 146], [463, 10, 191, 95, 663, 39, 1057, 433, 1490, 23, 6, 27, 61, 915, 740], [43, 18, 296, 94], [21, 122, 184, 211, 2914, 2915], [35, 608, 1058, 2, 549], [1962, 61, 72, 2916, 2917, 2918, 150, 2919, 2920, 2921, 2922, 2923, 2924, 2925, 1962, 150, 8, 7, 2926, 2927, 2928, 114, 664, 2929, 2930, 12, 496, 2931, 2932, 2933, 2934, 2935, 2936, 2937, 2938, 2939, 8, 7, 318, 2940], [328, 16, 1193, 15], [42, 1022, 1963], [233, 327, 44, 665, 1964, 172], [1491, 122, 666, 53, 745, 1250], [2941, 2942, 297, 1251, 805, 2943, 227, 67, 1492, 1965, 12, 813, 45], [225, 52, 205], [157, 563, 1493, 1059, 916, 106, 1966, 14, 160, 44, 284, 122, 666, 564, 57], [311, 79, 141, 65, 149, 108, 26], [336, 17, 2944, 2945], [1967, 51, 80, 101, 54, 74], [1494, 345, 12, 260, 2946, 2947, 1494, 270, 136, 2948], [2949, 896, 2, 1060, 1968], [49, 1911, 138, 1040, 142, 5, 556, 27, 13, 325, 509, 1467, 1912, 126, 32, 22, 150], [667, 667, 667, 12, 668, 180, 917, 2950], [178, 1240, 1969, 23, 85, 4, 203, 23, 47, 1248, 1970, 4, 41], [746, 114, 45, 59, 464, 1971], [48, 1252, 9, 1972, 1495, 210, 12, 1973, 37, 747, 2951], [329, 2952, 38, 40, 68, 53, 17, 346], [162, 3], [1061, 2953, 2954, 1973, 2955], [1974, 2956, 16, 2957, 2958, 49, 2959, 62, 2960, 47, 122, 918, 4, 2961, 39, 1975], [16, 4, 67, 280, 1496, 241, 411], [35, 140, 77, 268, 1497, 1253], [134, 50, 3, 412, 814, 2962, 1498, 919, 1499, 261, 91, 529, 465, 236, 530, 34, 1500, 604, 1963], [2963, 75, 748, 1501, 1502, 749, 360, 2964, 519, 902, 748, 22, 42, 2965, 2966, 2967], [259, 565, 73, 84, 742, 352, 179], [815, 1062, 28, 106, 1063, 566, 330, 1063, 566], [43, 11, 545, 750, 2968, 1064, 42, 27, 245, 2969], [202, 652, 1976, 1503, 2970, 2971, 2972, 1504, 2973, 1505, 2974], [99, 93, 390, 93, 1506, 44, 483, 400, 660, 1495], [67, 2975, 67, 2976, 117, 816, 138, 120, 817, 1507, 3, 27, 52, 28, 20, 3], [90, 174], [176, 25, 308, 4, 609, 68, 2], [132, 89, 565, 132, 4, 1508, 305, 1935], [118, 9, 249], [43, 128, 3, 108, 347, 44, 2977], [63, 40, 1977, 643], [920, 30, 669, 16, 2978], [312, 2, 77, 72, 2979], [2980, 220, 227, 2981, 921, 2982], [38, 556, 1978, 225, 155, 16, 37, 127], [2983, 1979, 2], [9, 1508, 2984, 342, 2, 922, 27], [63, 1065, 1509, 16, 166, 1254, 111], [161, 10, 24, 19, 1510], [1255, 1511, 1980, 158, 2985, 1980, 1066, 455, 1981, 2986, 751, 2987, 59, 1511, 1255, 2988, 52], [818, 18, 39, 719, 24, 1256, 1067, 923, 46, 1256, 1067], [175, 549], [567, 62, 1982, 434, 1257, 1983, 8, 7, 157, 186], [426, 1258], [92, 924, 38, 644, 94, 152, 192, 752, 2989, 155, 65, 62, 1031, 92, 58, 1984, 38], [24, 1259, 69, 819, 107, 1512, 2990, 435, 2991, 391, 69, 524, 50, 3, 70, 391], [2992, 65, 1985, 234], [272, 64, 1986, 493, 1987, 1513, 281, 4, 1229, 488, 58, 12, 1514, 1988, 57, 1989, 1990, 214, 85, 131, 10, 600], [54, 925, 338], [62, 1991, 250, 603, 4, 216], [356, 128, 568, 149], [461, 2993, 36, 34, 25], [312, 884, 1013, 2, 4, 366], [2994, 58, 62, 497, 1992, 926], [2995, 2996, 2997, 2998, 927], [127, 244, 54, 266, 56, 1260], [1261, 182, 1473, 2999, 1262, 3000, 1515, 436, 313, 486, 81, 3], [314, 113, 3001, 820, 120, 2, 753, 273, 928, 1993, 1516, 32, 343, 591, 1263, 1517, 61, 27], [134, 47, 69, 486, 487, 81, 322, 339, 235, 3, 893, 135, 36, 1460, 236], [40, 12, 12, 408, 1264], [57, 278, 3002, 276, 3003, 1976, 912, 594, 115, 392, 3004, 1518, 2, 40, 1502, 554, 29, 234], [57, 1519, 167, 670, 3005, 1994], [9, 25, 315, 176, 154, 4, 609, 53, 14, 280, 172, 84, 2, 77, 6, 205, 5, 754, 553, 246], [1520, 1265, 821, 3006, 126, 189, 821, 46, 929], [62, 1521, 3007, 457, 3008, 1522], [4, 13, 47, 206, 408, 13, 359, 422, 20, 6, 13, 593, 595, 1995, 34, 367, 263], [55, 458, 328, 671], [13, 393, 46, 1996, 160, 1266, 1267, 52, 353, 32, 3009, 672, 105, 3010, 3, 3, 437, 373, 3011], [89, 266], [82, 23, 3012, 209, 452], [3013, 43, 288], [8, 7, 62, 1982, 434, 1257, 1983, 466, 1268, 31, 1523], [1068, 1524, 108, 518], [42, 438, 106, 262, 1269, 1270, 111, 3014], [33, 16, 3015, 175], [118, 3016, 1997], [2, 1998, 3017, 822, 1271, 3018, 3019, 569, 1999], [80, 74, 174, 401, 107, 45, 209, 3020, 331, 142, 290], [30], [132, 229, 133, 114], [498, 1272, 3021], [33, 20, 82], [98, 650, 173, 1490, 203, 3022, 610, 886, 173, 86, 19, 227, 98], [228, 17, 61, 755, 822, 2000], [1525, 97, 130, 272, 3023, 611, 213, 39, 129, 3024, 3025, 611, 452, 1526, 15], [38, 1273, 40], [12, 3026, 19, 24, 58, 12, 406, 1942, 354, 100, 83, 1527, 229, 756, 570], [1274, 1528, 2, 3027, 270, 643, 2, 233, 298, 2001, 50, 930, 3028, 1275, 749, 67, 3029, 29, 63, 3030], [173, 115, 8, 7, 3031, 3032, 14, 531, 3033, 3034, 8, 7, 33, 823, 21, 11, 64, 673, 1276, 2002, 127, 3035, 673, 931, 37], [11, 312, 199, 1529, 932, 3036, 3037, 3038, 11, 29, 3039], [250, 456, 86, 3040, 3041, 612, 1277, 3042], [3043, 1530, 571, 52, 824, 368, 1531, 332, 933, 1278, 144, 1279, 13, 3, 674, 3, 437, 3044], [215, 934, 467, 68, 2, 86, 675, 34, 87, 61, 131, 1069], [57, 411, 55, 75, 177, 413, 731, 147, 45, 2003, 752, 45], [348, 23, 1532, 316, 414], [78, 447, 27], [825, 79], [2004, 49, 69, 372, 2, 189, 22, 513], [136, 394, 153, 676, 3045, 3046, 4, 57], [43, 1280, 790, 74, 421, 44, 106, 94, 247], [93, 14, 31, 234, 237, 410, 2005, 3047, 113], [104, 3048], [2, 11, 3049, 141, 18, 6, 749, 935, 520, 897, 1281, 2006, 749, 1281, 2006], [655, 2007, 11, 1282, 458, 31, 613, 110, 2008, 3050, 427, 217, 2009, 229], [936, 1533, 2010, 21], [22, 10, 825], [372, 235], [3051, 43, 133, 1283, 1534, 3052, 467, 22, 355, 452, 200, 2, 76, 98, 937, 3, 449], [2, 38, 424, 17, 938, 3053, 197], [114, 160, 4, 1479, 3, 5, 1070, 279, 364, 1284, 3, 34, 3054, 460, 223, 677, 323, 1285, 224, 52, 3055], [490, 26, 3056, 84], [27, 2011, 1071, 645, 21, 572, 5, 436, 44, 5, 32, 96, 939, 2012, 614, 939, 1072, 1286, 1535, 939], [31, 3057], [197, 55, 2013, 54, 826, 167, 73, 406, 678, 54, 84, 743, 592, 432, 203, 16, 53, 119], [58, 62, 10], [3058, 3059, 275, 727], [3060, 382, 927, 757], [181, 615, 1932, 31, 573, 616, 199, 45, 103, 4, 384, 562, 369], [12, 389, 1019, 6, 10, 574, 16, 82, 42, 2014, 23, 19, 756, 570, 56, 217, 117], [107, 265, 70, 5, 712, 1013, 301, 24, 20, 459, 713, 195, 47, 34, 713, 323, 1285, 786], [2015, 3061, 3062, 97], [2, 18, 16, 37, 499, 2016, 3063, 248, 194, 59, 448, 3064, 31, 22, 59, 43, 3, 136, 394, 16], [2017, 19, 64, 1287, 136, 115, 937, 102, 439, 39, 2018, 757, 117, 49, 115, 19], [39, 116, 3065, 159, 129], [39, 108, 328, 730, 803, 757, 114, 226, 31, 679], [8, 440, 7, 1288, 188, 207, 122, 1536, 3066, 106, 617, 1289, 931], [27, 169, 52, 3, 1537, 358, 230, 27, 169, 52, 262, 3067, 126, 454, 34, 20, 28, 827], [1273, 3068, 521, 209], [57, 277, 117, 31, 85, 10], [9, 59, 165, 42, 31, 1290, 3069, 2019, 498, 483, 15], [3070, 758, 212, 7, 2020, 46, 99], [87, 177, 5, 468, 329], [93, 12, 46, 532, 3071, 348, 3072, 108], [86, 166, 1456, 121], [42, 3073, 940, 4, 22, 3074], [30, 255, 285, 25], [1538, 115, 2021, 392, 680, 1539, 121, 3075], [77, 72, 1291], [340, 167, 3076], [26, 314, 79], [1073, 213, 245, 148, 360, 2022], [228, 670, 119, 3077, 271, 469, 1047, 1292, 238, 173, 1540, 8, 7, 271, 8, 7, 1293, 17, 2023, 469, 2024, 364, 105, 2024, 101, 941, 1541, 187, 563, 271, 375, 53], [39, 8, 7, 52], [2025, 303, 76, 11, 395, 167, 62, 10, 23, 3078, 3079, 69, 225, 828, 552], [495, 17, 3080, 1542, 1543, 40], [280, 11, 38, 4, 642, 564, 1074, 128, 470, 208, 31, 471], [9, 34, 118], [1075, 390, 333, 250, 672, 1544, 3081, 2026, 2027, 3082], [404, 62, 75, 26, 170, 12, 51], [18, 49, 144, 500, 46, 1545, 13, 165, 47, 13, 20, 13, 450, 41, 3], [50, 3, 182, 120, 942, 2028, 208, 193, 91, 81], [9, 274, 575, 273, 35], [76, 11, 357, 114, 226, 141, 3083, 243, 2029, 803, 2030, 1546, 76, 11, 226], [3084, 56, 1535, 157, 943, 4, 3085, 114, 1451], [759, 156, 84], [78, 235], [3086, 89, 2, 681, 104], [90, 174, 19, 552], [311, 16, 1294, 175, 121, 8, 7, 97], [1522, 168, 239, 1295], [552, 433, 916, 163, 651, 127, 488, 1547, 610], [9, 34, 2], [71, 23, 3087, 316, 801, 64], [944, 288, 189, 760, 1548, 3088, 1076, 105, 39, 1549], [21, 16, 30, 59, 12, 3089], [33, 39, 116], [211, 2031, 184, 3090], [19, 157, 3091, 133, 21, 102, 15, 121, 148, 54, 16, 167, 93, 157, 10, 153, 102, 15, 387, 19, 102, 2032, 150, 98, 399, 121, 98, 2033, 93, 1077, 59, 651, 39, 2034, 216, 913, 564, 19, 3092, 54, 19, 3093, 564, 180, 499, 680, 483, 3094, 178, 2035, 3095, 19, 157, 333, 2036, 2037, 153, 3096, 3097, 98, 499, 4, 102, 112, 272, 277, 10, 93, 14, 60, 139, 44, 65], [156, 168, 1078], [1046, 82, 390, 333, 3098, 2038, 3099], [250, 456, 1222, 829, 435, 2, 33, 91, 301, 3, 1079, 242, 135, 3100, 358, 412, 224, 236, 47, 1296], [1080, 3101, 1550, 451, 328, 715, 302, 162, 390, 380, 715, 726, 618, 125, 72, 155, 65], [99, 403], [173, 3102, 894, 120, 1551, 46, 682, 106, 3, 412, 323, 36, 2039], [11, 71, 568, 37], [14, 3103], [683, 1081, 435, 325, 91, 391, 283, 201, 684, 70, 3, 208, 224, 27], [308, 344, 675, 60], [272, 266, 18, 31, 161, 1501, 1552], [44, 533], [92, 415, 292, 452, 58, 1553, 3104, 3105], [11, 1025, 24], [35, 6, 122, 246, 104, 35, 65], [47, 560, 466, 13, 368, 332, 500, 393, 47, 685, 179, 3, 3, 47, 3106, 2040, 1297], [830, 3107], [2, 29, 683, 2, 945, 1081, 435, 325, 91, 261, 1298, 946, 283, 201, 684, 70, 27, 52], [3108, 947, 3109, 3110], [761, 14, 8, 7, 439], [3111, 1299, 2, 29, 3112, 3113, 1554, 1555, 2, 358, 19, 1299, 2041, 3114, 1554, 123, 3115, 1555, 1555], [66, 264, 26, 1082, 948, 3116], [144, 4, 95, 13, 762, 39, 370, 23, 144, 949, 480, 321, 481, 137, 1556], [13, 343, 430, 81, 831, 832, 265, 95, 332, 144, 3117, 91, 102, 210, 32, 62, 2042, 88, 430, 81, 126], [63, 316], [724, 407, 3, 1557], [348, 4, 3118], [298, 1558, 17, 1063, 91, 38, 8, 7, 528], [57, 80, 576, 62, 15, 3119, 23, 2043, 205, 180, 75, 597, 2, 11, 75, 3120, 470, 363], [398, 109, 41, 195, 52, 3121, 49, 206, 46, 3, 41, 13, 501, 79], [161, 471, 950, 3122, 36, 3123, 950, 1559, 1560], [147, 282, 736, 6, 469, 3124, 1561], [315, 26, 269, 53, 441, 175, 146, 140, 896, 2, 256], [66, 29, 255, 359, 149, 534, 67, 30, 239], [277, 1068, 1199, 3125, 3126, 2044, 3127, 2, 3128, 3129, 73, 2], [71, 89, 1562, 64, 1083, 666, 951, 53, 379, 49, 22, 8, 7, 1293], [80, 6, 376, 3130, 3131, 1563, 46, 431, 58, 1564, 521, 319, 1565], [2045, 3132, 3133, 2046, 2047, 545, 3134, 1084, 2045, 1300, 114, 952], [284, 37, 1566], [2, 4, 237, 61, 46], [619, 318, 64, 143, 123, 3135, 19, 173, 64, 291, 152, 4, 3136, 3137, 355], [499, 79, 233, 16, 16, 84, 24, 3138, 499, 79, 1022, 452, 24, 535], [466, 1530, 560, 198, 353, 368, 230, 546, 52, 3, 674, 3, 437, 373, 1301], [833, 3139, 4, 119, 37], [3140, 1291, 734], [183, 43, 763, 39, 1567, 244, 54], [52, 6, 184], [29, 2, 472, 351, 2048, 53, 282, 3141], [428, 151], [102, 764, 1077, 309, 102, 62, 1568, 1270, 3142, 2, 29, 24, 2, 372, 235, 3143, 145, 717], [1569, 1569, 1569, 100, 148, 2049], [502, 202], [50, 59, 2, 1570, 24, 8, 440, 7, 3144, 952], [16, 199], [3145, 56, 829, 1571], [85, 347, 834, 765, 24, 525, 10, 106, 747, 1085, 835, 836, 1086], [33, 33, 2050, 33, 12, 359], [17, 2051, 170, 935, 1302, 102, 186, 31, 1572, 327, 16, 288, 1197], [352, 1573, 545, 907, 1238], [398, 109, 195, 49, 206, 46, 449, 279, 52, 198, 353, 546, 450, 3, 41, 501, 953], [95, 1574, 1303, 2052, 351, 2053, 366, 41, 1303, 503, 338, 265, 148, 1575, 2054], [604, 2, 307, 1576, 150, 90, 158, 1087, 56, 158, 1260], [1916, 240, 617, 1577], [577, 162, 536, 954], [203, 3, 65, 71], [496, 3146, 4, 566, 45, 3147, 119, 3148], [171, 29, 2, 75, 376, 3149, 167, 414, 4, 376, 285, 44, 108, 1578, 578, 94], [143, 5, 500, 1088, 195, 4, 837, 1579, 1304, 96, 5, 46, 955, 1262, 120, 85, 454], [33, 191], [1087, 286, 167, 207, 956, 956, 36, 956, 1580, 427, 173, 36, 748, 291, 291, 36, 291, 145, 591], [2055, 64, 331, 59, 271, 3150, 79, 1305], [416, 370, 47, 2056, 415, 20, 189, 803, 163, 4, 824, 23, 32, 34, 88, 32, 126, 27], [537, 313, 13, 3151, 2057, 393, 41, 3152, 422, 81, 3153, 827, 28, 27, 210, 1089, 3154, 1566], [12, 112, 504, 1581, 2058, 306, 1090, 42, 646, 21], [68, 578, 3155, 54], [9, 25, 274, 35, 287], [93, 86, 828, 3, 21, 173, 204], [577, 194, 174, 240, 2059, 432], [119, 29, 525, 683, 70, 81, 20, 119, 1582, 59, 382, 3156, 124, 727, 20, 238, 135, 137, 3157], [3158, 908, 137, 3159, 24, 17, 196], [63, 3160], [31, 2060, 80], [66, 345, 18, 410, 234, 237, 131, 686, 5, 46, 32, 2061, 226, 13, 27, 169, 10, 28, 20, 3161, 3162, 957, 36, 363], [259, 82, 132, 128, 108, 149], [66, 152, 766, 136, 89, 2062, 44], [336, 75, 752, 3163, 75, 3164], [3165, 50, 107, 54, 21, 2063, 98, 2064], [567, 14, 1484, 3166, 432], [596, 1934, 297, 3167], [3168, 120, 4, 2065, 306, 83, 3169, 1583, 46, 6, 958], [2062, 520, 766, 152, 3170, 1061, 152, 82, 3, 2066, 2067, 226, 2068], [95, 91, 81, 81, 712], [29, 2, 222, 40, 1091, 273, 329], [64, 1306, 3171], [68, 172, 38, 239, 579, 402, 6, 249, 25, 1584, 308], [78, 26, 3172, 111], [9, 534, 39, 5, 15], [27, 2011, 1071, 645, 21, 572, 5, 436, 44, 5, 32, 96, 939, 2012, 614, 939, 1072, 1286, 1535, 939], [131, 538, 533, 3173, 97], [395, 3, 451, 2069, 3174, 100, 2, 136, 2, 16, 30, 1585, 24], [134, 181, 109, 2, 24, 218, 143, 81, 193, 3, 321, 230, 70, 442, 226], [40, 548, 200], [63, 129], [292, 535, 13, 3], [2070, 53, 113, 4, 139, 91, 179, 88, 2070, 53, 113, 78, 539, 179, 17, 1586, 177, 334, 91, 59, 382], [254, 426, 37, 580, 184, 246, 441, 2, 267], [60, 399], [299], [2, 3175, 1587], [21, 221, 6, 2071, 53, 441, 1291, 24], [3176, 20], [558, 87, 3177, 3178], [9, 370, 79], [825, 3179, 143, 2072, 1238, 1265, 3180, 3181], [3182, 303, 2073, 728, 2074, 2075, 472, 48], [266, 14, 56, 19, 8, 7, 15, 169, 51, 58, 194, 159], [63, 462, 923, 17, 159, 1432, 620, 365, 41, 2, 61, 2], [3183, 61, 505, 2, 1588, 3184, 2, 60, 171, 2, 590, 1589, 244, 1590, 171, 150, 180, 90, 2, 590, 232, 180, 3185, 171, 2076, 687, 3186, 3187, 3188, 2077, 22, 4, 150, 187, 358, 2076, 219, 36, 219, 1092], [21, 60, 94, 11, 3189], [834, 2078, 3190, 3191, 2069, 167, 289, 890, 276, 1575, 2079, 426, 103, 26, 17, 30, 151, 50, 155, 3192, 56, 18, 621, 617], [101, 2080, 281, 128], [471], [2081, 462, 3193, 3194, 61, 3195, 900, 767], [158, 161, 2082, 2083, 1307, 1093, 3196, 67, 622, 2084, 3197, 114, 3198, 403, 3199], [3200, 191, 8, 7, 2085, 898, 11, 838, 149], [8, 7, 528, 165, 165, 600, 1591], [131, 5, 538, 414, 127], [16, 3201, 6, 36, 44, 2, 156], [9, 5, 3202, 41], [959, 56, 1592, 3203, 3204, 4, 12, 209], [292, 58, 10, 26, 3205, 86, 2086, 213, 960, 952, 1593, 160, 593, 91, 11, 3206, 15, 105, 76, 11], [110, 552, 21, 100, 84, 3207, 540, 31, 244, 98], [404, 575, 183, 1594, 2, 1595, 1596, 618, 256], [15, 16, 79], [3, 15, 196, 24, 9, 872, 89, 2087], [44, 2, 1597, 18, 189, 186, 961, 15], [488, 12, 3208, 3209, 335, 86, 161], [73, 18, 423, 839, 3210, 311, 39], [3211, 737, 768, 3212, 71, 3, 134], [310, 840, 254, 379, 5, 316, 688, 3213, 424, 131, 2, 947, 310, 947], [1598, 1250, 158, 689], [200, 146], [58, 1553, 49, 473, 20, 28, 527, 129, 27, 1599, 96, 53, 113], [71, 1055, 22, 10, 2088, 357, 69], [252, 86, 3214, 1565, 154, 1094, 439, 1600, 51, 2, 42, 830, 132, 3215, 51, 732, 3216], [2089, 1308, 3217, 416, 185], [962, 49, 47], [2090, 181, 109, 107, 179, 218, 143, 81, 193, 3, 70, 326, 33, 442, 226, 236], [1444, 3218, 3219, 925], [16, 247, 257, 3220, 200, 179], [3221, 105, 1507, 572], [22, 1309, 3222, 2, 841, 218, 219, 67, 349, 301, 918, 841, 527, 20, 28], [683, 2, 1081, 435, 325, 261, 1298, 946, 283, 201, 684, 70, 27, 52], [522, 271, 489], [214, 1601, 3223, 2091, 396, 383, 49, 3224, 1033, 3225, 4, 290, 1601, 53, 113, 129, 3], [57, 3226, 260, 1095, 62, 1310, 805, 245, 2092, 59, 1602, 52, 3227], [690, 1587, 623, 73, 185, 317, 1096, 598, 233, 153, 76, 73, 796, 145, 3228], [241, 471, 75, 75, 117, 1311, 3229, 374, 472], [1049, 46, 1509, 141, 11, 80, 14, 207], [227, 902, 397], [3230, 22], [2050, 2093, 408], [57, 1045, 2094, 595, 616], [154, 467, 103, 164, 54, 112, 86, 327, 60, 12, 112, 19, 499, 112, 31, 1097, 65], [17, 624, 119, 265, 1603, 18, 6, 2095, 2096, 2097], [205, 1604, 2098, 688, 963, 366, 2055, 3231, 1604, 2098, 1605, 366], [24, 927, 2099, 4, 216, 55, 105, 842, 55], [75, 3232, 64, 93, 60, 843, 23, 2, 2043, 3233, 3234, 64, 265, 3235, 3236, 3237, 3238, 1098, 253, 3239], [1099, 499, 10, 610, 3240, 141, 54, 110, 484, 214], [15, 45, 2100], [44, 275, 328, 388], [171, 274, 416, 3, 17, 196, 157, 746], [233, 467, 298, 17, 1606, 691], [1065, 531, 3241, 625, 2026, 3242], [2101, 1928], [38, 182, 111], [15, 42, 21, 11, 950, 1100], [95, 115, 1607, 550, 626, 5, 1608, 712, 841, 417, 218, 32, 443, 739, 34, 88, 964, 126, 786, 95, 1101], [39, 382, 119, 288], [272, 474, 385, 60, 117, 3243, 3244, 174, 1609, 690, 844, 187, 104, 901, 1610, 1312, 737, 768, 3245, 3246, 908, 3247, 3248], [1611, 2102, 139, 3249, 107, 769, 2103], [1020, 2104, 25, 87, 498, 1612, 60, 541, 581, 60, 205, 3250, 2, 3251, 105, 308, 68, 2105], [43, 11, 1482, 132, 89, 2106], [3252, 3253, 1613, 2107, 3254, 3255, 1614, 1313, 13, 877, 680, 454], [62, 552, 433, 43, 1899, 3256], [245, 137, 829, 1615, 2108, 2, 25], [571, 52, 824, 368, 353, 1996, 933, 1278, 67, 3257, 13, 144, 13, 3, 674, 437, 2109], [57, 90, 286, 880, 418, 3258, 30], [222, 2, 74, 922, 348, 74, 79], [965, 17, 513, 423, 37, 2110, 692, 1616, 1617], [726, 49, 1211, 1618, 13, 1255, 496, 5, 47, 32, 5, 396, 150, 658, 3259], [57, 80, 2111, 3260, 1619], [8, 7, 2112, 1441, 807, 3261, 576, 145, 3262, 232, 3263, 159, 131, 310, 2, 2, 372, 4, 145, 496, 766, 187, 14, 79, 177, 10, 98, 43, 497, 1620, 497, 3264, 23, 8, 7, 693, 8, 7, 52, 2113, 2, 794], [3265, 2114, 1532, 1280, 627, 1532, 3266], [134, 47, 313, 486, 487, 81, 322, 339, 109, 3, 135, 1621], [13, 59, 1102, 2115, 3267, 3268, 3269, 3270], [12, 42, 132, 23, 966, 93, 19, 31, 517, 1431], [5, 265, 95, 831, 269, 1103, 32, 459, 34, 88, 32, 459, 126, 740, 124, 27, 210], [2, 516, 225, 178, 67, 2, 3271, 291, 2, 233, 770, 2, 802, 3272, 3273, 3274, 44, 3275, 3276, 2], [140, 771, 665, 267, 2, 140, 14, 197, 2116, 280, 491], [2117, 3277, 3278, 830, 4, 3279, 3280, 2118, 69], [385, 89, 35, 628, 845, 40, 967, 344, 35, 18, 809, 628, 928], [80, 254, 411], [92, 350, 351, 1622, 69, 33, 47, 772, 96, 1314, 50, 3, 182, 120], [48, 47, 8, 7, 1300, 109, 1104, 88, 1623, 126, 62, 111, 23, 13, 190, 199, 773, 1623, 126], [44, 56, 286, 3281, 1315, 3282, 694, 330, 3283, 330, 64, 3284, 160, 1624, 16], [895, 3285, 40], [176, 35, 17, 513, 6, 30, 938, 53, 67, 26, 269, 754, 967], [547, 260, 496, 3286, 629, 2119, 3287, 1251, 289, 2120], [968, 1906, 37, 285, 6, 1625, 3288, 1625, 3289, 245, 33, 387, 969, 3290, 157, 664, 3291, 1625, 827], [292, 162, 316], [134, 3, 412, 814, 1626, 261, 91, 529, 465, 530, 34, 242, 135, 1105, 1627, 236], [9, 246, 53, 14, 155, 49, 54, 1106, 2, 140, 14, 579, 53, 2, 103, 3292], [761, 155, 615, 64, 119, 540, 624, 1628, 759, 181, 615, 566, 1083], [9, 255, 285], [681, 200, 433, 3293], [134, 47, 486, 487, 81, 322, 339, 235, 3, 893, 135, 36, 1460, 236], [57, 3294, 381, 1629, 294, 322, 6, 294, 3295, 2121, 2122, 582, 25, 2, 3, 216], [846, 86, 116, 630, 4, 336, 278, 66, 119, 18], [1062, 1107, 39, 116, 122, 333, 101, 826, 3296, 71, 2123, 204, 664], [29, 2, 38, 352], [182, 120, 3297, 970, 398, 56, 501, 1316, 50, 3, 1630, 1622], [2117, 167, 1098, 2124, 300, 3298], [68, 56, 2, 176, 873, 298, 176, 280, 3299, 873, 525, 284, 30, 89, 16, 36, 1058, 84], [237, 50, 23], [171, 499, 29, 2, 9, 649, 909, 481, 971, 2125, 471, 327, 51, 971, 2, 100, 2], [2, 972, 1478, 893, 9, 39, 116], [308, 344, 240, 67, 973, 246, 754, 35, 77, 211, 136, 35, 221], [47, 160, 2, 29, 1631, 466, 332, 500, 47, 393, 13, 3, 47, 466, 53, 13], [171, 169, 710, 8, 7, 29, 1540], [38, 212], [3300, 69, 563, 20, 392, 69, 974, 644, 115, 177, 2126, 17, 69, 2127, 73], [171, 12, 45, 682, 419, 108, 65], [2128, 317, 331, 2, 475, 95, 631, 358, 3301, 555, 2, 3302, 2, 631, 2, 631, 2, 95, 2, 38, 631], [695, 1632], [954, 39, 12, 116], [48, 83, 3303, 29, 2, 2129, 664, 51, 62, 179, 2, 337, 1089, 3304, 126, 20, 28, 28, 27, 20], [565, 444, 152, 165], [3, 1537, 1633, 169, 165, 3, 847, 230, 806, 1108, 69, 2130, 686, 1108], [151, 8, 7, 3305], [18, 6], [86, 12, 3306, 632], [3307, 12, 3308, 680, 2, 132, 67, 2131, 3309, 314, 113, 2132, 2133, 975, 396, 41, 3310, 3311, 28, 41, 28, 61, 915], [47, 69, 71, 190, 5, 316, 414, 1634, 1474, 3312, 3313, 737, 901], [495, 26, 3314, 40], [2, 1635, 583, 3315], [48, 3316, 6, 418, 133, 6, 532, 251], [48, 178, 425, 1240, 93, 14, 138, 3317], [68, 40, 976, 947, 5, 46], [360, 1317, 1109, 53, 22, 85, 283, 127], [13, 223, 45, 144, 96, 5, 436, 102, 45, 32, 144, 4, 848, 44, 5, 413, 1286, 323, 137, 659, 1110, 27, 96], [99, 270, 200, 49, 115], [71, 23, 488, 150, 3318, 3319], [2134, 12, 112, 1597, 564], [164, 10, 476], [71, 21, 232, 977, 1440], [183, 340, 24, 179, 267], [4, 758], [722, 37, 3320], [1111, 13, 114, 179], [1318, 426, 3321, 40], [225, 3, 355, 225, 694], [1636, 8, 7, 1637, 2113, 978, 478, 2135, 261, 3322, 6, 580, 478, 2135, 17, 3323], [6, 3324, 257, 660, 584, 887, 36, 62, 317, 692, 87, 2136, 1319, 17, 3325, 68], [356, 225, 4, 1320, 573, 165], [171, 3326, 1321, 3327, 63, 3328, 3329, 56, 3330, 3331, 3332, 3333, 36, 3334, 3335, 290, 3336, 124, 3337, 1191], [347, 834, 368, 765, 1191, 24, 525, 10, 106, 747, 1085, 835, 836, 1086], [68, 35], [66, 662, 948, 1112, 346, 84, 183], [292, 226, 433, 297, 107, 45, 258, 2137, 114, 1078, 42, 240, 423, 15], [611, 319, 141, 2138, 249, 146], [2139, 5, 790, 9], [914, 2140, 3338, 2141, 539, 3339, 3340, 38, 129, 3, 13, 20, 37, 129], [259, 255, 359, 3341], [17, 370, 3342, 226, 1638, 12, 54, 19, 303, 64, 3343, 66, 979], [99, 90, 846, 3344, 10], [283, 3345, 47, 159, 621, 2142, 621, 907, 3, 65], [317, 3346, 139, 2143, 260, 199, 2144, 12, 199, 145, 51], [63, 908, 3347, 199, 43, 110, 585, 227, 62, 672, 73, 15, 141, 62, 1113, 224, 62, 45], [1102, 370, 15, 196, 72, 1639], [1322, 1640], [3348, 477, 2, 583, 364, 2145, 3349, 505, 2, 3350, 3351, 909, 161, 1252, 75, 101, 2, 1641, 3352, 34, 2, 1027, 253, 3353], [156, 69, 1642], [2146], [3354, 2147, 1591, 3355, 3356, 247, 108], [214, 612, 3357, 3358, 2, 5, 849, 22, 784, 317, 1323, 3359, 349, 849, 1643], [235, 362, 121, 8, 440, 7, 123, 47, 159, 2142, 4, 907, 3, 3360, 13], [3361, 54, 1644, 668, 213, 3362, 1491, 334], [2148, 187, 696], [99, 57, 83, 213, 3363, 111, 881, 92, 3364], [445, 35, 3365, 40, 3366, 3367, 35, 38, 536], [405, 618, 232, 227, 2, 424, 428, 2149], [134, 3, 412, 814, 1645, 261, 91, 529, 465, 530, 34, 135, 1324, 2150, 236], [66, 13, 3], [4, 3368, 216, 774, 13, 1325, 774, 3369, 3370, 712, 3371, 664, 28, 6, 3372, 53, 113], [3373, 237, 1583, 46, 31, 166, 1260, 1326, 363, 20, 237, 32, 224, 27, 2151, 219, 2152, 234], [193, 91, 81, 70, 263, 81, 3, 182, 120, 942], [13, 96, 58, 1553, 49, 473, 20, 28, 527, 129, 27, 1599, 96, 53, 113], [671, 297, 1604, 1646, 56, 900, 1215, 390, 289, 249, 133, 19], [66, 44, 2153, 533, 565, 327, 104, 17, 516, 1647, 46], [197, 3374, 205, 14, 225, 534, 23, 697, 4, 847, 1327, 3375, 159], [311, 18, 128], [66, 172, 3376, 21, 419, 900, 767], [15, 168], [174, 17, 302, 1648, 107, 51, 630], [393, 280, 12, 2154, 3377, 3378, 2057, 3379, 596, 261, 552, 58, 576, 12, 1972, 117, 49, 115, 31, 573, 45], [9, 402, 325], [43, 76, 1111, 2063, 554, 29], [9, 44, 324, 80, 1114, 3380, 54, 3381, 160], [125, 72, 431, 179, 312], [185, 15, 307, 24], [156, 3382, 633, 318], [86, 3383, 3384, 653, 4, 3385, 1564, 3386, 252, 1115, 102, 1328, 165], [217, 1229, 217, 328, 217, 980, 3387, 14, 1116, 217, 1329, 291, 2, 217, 1636, 173, 38, 19, 31, 2, 484], [1649, 2155], [3388, 83, 2, 9], [380, 30, 3389], [43, 11, 166, 85], [649, 148, 22, 4, 2156, 1650, 283, 532], [220, 20, 216], [2, 95, 443, 349, 301, 102, 45, 1032, 32, 130, 218, 1117, 88, 3390, 126, 2157, 2158, 243, 2159], [38, 3391], [298, 278, 374, 106, 1118, 775, 257, 1119, 319], [63, 233, 296, 850, 366, 22, 649, 668, 3392, 86, 299, 3393, 1330, 180, 22, 230, 64, 393, 108, 14, 3394, 205], [1120, 566, 3395, 14, 1651, 10], [13, 20, 61, 20, 9, 383, 271], [101, 851, 143, 278, 7], [18, 49, 144, 500, 46, 1545, 13, 165, 47, 13, 20, 13, 450, 41, 3], [42, 2, 17, 42, 189, 17, 12, 717], [24, 1331, 69, 819, 435, 325, 1121, 524, 50, 3, 1332, 70, 326, 1070, 238, 367], [356, 74, 92], [92, 958, 350, 113, 47, 772, 160, 50, 633, 918, 90, 41, 772], [4, 1333, 49, 47, 46, 3396, 436, 409, 603, 3397, 454, 20, 3398], [502, 146, 9, 25, 6, 1577, 36, 211, 2, 176], [3399, 408], [1334, 25, 305], [11, 3400, 3401, 3402, 375, 370, 793], [10, 407, 3403, 69], [3404, 269, 497, 169, 187, 3, 773, 88, 3405, 3406, 113], [17, 8, 7], [1065, 2160, 83], [144, 96, 5, 436, 102, 45, 32, 3407, 223, 96, 13, 4, 2161, 44, 5, 73, 27, 96, 41, 511, 454], [17, 17, 500, 25, 22, 500, 280, 1067, 36, 87, 3408, 25, 298, 175, 3409, 498], [410, 201, 968, 3, 27, 169, 52, 1079, 634, 242, 135, 1652, 1122, 1653, 506, 238, 3], [241, 3410, 474, 2, 108, 347], [86, 336, 73, 1230], [2162, 67, 3411, 123, 3412], [46, 3413, 2163, 981], [10, 1088, 3414, 2, 935, 1123, 332, 496, 776, 1335, 527, 23, 4, 1088, 28], [4, 1597, 181, 615, 2, 941, 1654, 611], [1655, 219, 3415, 315, 54, 307, 1656, 3416, 3417, 159, 13, 111, 1336], [3, 14, 8, 7, 15, 57, 59, 2, 3418, 57], [134, 181, 109, 107, 179, 218, 143, 81, 193, 3, 70, 326, 33, 442, 186], [298, 447, 38, 240, 2, 3, 37, 20, 430, 632, 441, 23, 2, 20, 505, 354], [80, 2164, 1124, 179], [683, 1081, 435, 325, 91, 391, 283, 201, 684, 70, 3, 208, 224, 27], [175], [2165, 1337, 26, 37, 170], [5, 265, 95, 91, 102, 210, 32, 1657, 34, 88, 2166, 285, 740, 124, 27, 210], [12, 355, 1338], [3419, 1125, 982, 3420, 982, 1017, 3421, 105], [1594, 525, 303, 732, 119, 852], [9, 105, 77, 268, 87, 208, 143], [175], [266, 3422, 3423, 2167], [371, 248], [2, 381, 273], [159], [33, 56, 1126, 1290, 565, 769, 142, 125, 72, 330, 6, 128, 439, 2168, 4, 624], [101, 1658], [80, 99, 3424, 3425, 1127, 14], [9, 21, 44, 94, 26, 170, 12, 51], [92, 110, 251], [122, 898, 3426, 807, 3427, 2, 4, 128], [954, 2169, 2169, 299, 2, 2, 77, 44, 2, 3428, 68], [66, 548, 200, 264], [63, 3, 65, 222], [29, 2170, 593, 45, 37, 114, 953, 3429, 179, 48, 34, 2, 127], [33, 59, 3430, 1128, 375], [12, 974, 213, 60, 48, 484, 2171, 185, 2172], [98, 3431, 3432, 3433, 2173, 2174, 3434], [888, 26, 218, 1339, 164, 115, 983, 3435, 3436], [984, 1129, 79, 776, 24, 177, 967, 214, 984], [3437, 687, 1130, 73, 41, 90, 31, 88, 190, 714, 2, 1340, 28, 23, 28, 512], [48, 67, 429, 718, 214, 36, 1201, 124, 2175], [145, 717, 78, 3438, 55, 39, 116, 787, 387, 3439], [171, 496, 196, 333, 136, 3440, 45, 80, 75, 3441, 3442, 2176, 38, 30], [9, 25, 295, 344], [217, 97, 6, 317, 853, 484, 42, 660, 110, 382, 613], [582], [2177, 1581, 83, 161, 2178, 3443], [1632, 58, 1341, 3444, 3445, 39, 116, 201, 387], [434, 49, 115, 559, 609, 745, 396, 10, 394, 208, 1056, 698, 264, 51, 45, 2179, 618], [799, 3446, 2180, 93, 172, 3447, 854, 296, 130], [477, 985, 153, 1097, 361], [1659, 4, 420, 13, 3, 383, 375, 62, 195, 71, 41, 20, 442, 150, 202, 1467], [560, 198, 353, 368, 230, 546, 332, 393, 46, 13, 46, 560, 3, 2181, 13, 466, 1297], [576, 542, 920, 3, 1316, 1660, 2], [457, 111, 635, 364, 3448, 82, 3449, 2182, 80, 17, 247, 22], [28, 2183, 55], [826, 56, 1126, 39, 850, 13, 21, 11, 3450, 126], [278, 83, 578, 16, 233, 426, 37], [699, 426, 972, 3451], [777, 115, 191, 1560, 751, 3, 34, 3452, 158, 3453, 3454, 800, 13, 1661, 1662, 208, 43, 100], [742, 2, 590, 620, 203, 5, 693, 3455], [134, 181, 109, 2, 24, 218, 143, 81, 193, 3, 321, 230, 70, 442, 226], [1074, 2, 44, 1011, 75, 2184, 67, 192, 554, 53, 297, 576, 125, 1223, 53, 464, 75, 38, 1563, 731, 124], [513, 196, 584, 76, 11, 50, 53, 86, 21, 157, 352], [215, 66, 22, 10, 698, 89, 3456, 3457, 39, 152, 6, 3458], [22, 177, 3459, 899, 3460, 505, 558, 43, 16, 950, 1107, 784, 561, 203, 16, 3461, 5, 1663, 15, 145, 717], [415, 26, 30], [882, 63, 2185, 69, 2186, 29, 2, 50], [200, 1124, 51, 2060, 37, 341, 172], [101, 56, 101, 11, 3462, 146], [2187, 276, 3463, 2188, 507], [5, 720, 24, 87, 2189, 515], [1664, 110, 472, 476, 1665, 110, 3464, 397, 2190, 158, 1666, 669, 64, 252, 672, 1131, 986, 384, 4, 1300], [175, 2191, 1667, 464, 1342, 146], [142, 3465, 3466], [11, 2192, 131, 119, 146, 131, 20, 960, 563, 43, 3467, 94, 3468, 94, 148, 111, 2193], [272, 2], [451, 392, 201, 1015], [80, 155, 2194, 108], [535, 447, 2152], [17, 1668, 151, 125, 72, 6, 607], [161, 230, 103, 2195, 248, 602, 636, 15, 2196, 3469, 941, 2, 12], [3470, 74], [376, 2087, 894, 155, 2197, 32, 2197, 14, 839, 32, 3471, 4, 49, 3472, 138, 323, 137, 659, 27, 61, 3473], [1132, 192, 3474, 3475, 35, 445, 1106, 140, 1343, 558, 852, 1669, 207, 1641, 549, 267], [2198, 111, 204, 1670], [185, 4, 41, 3476, 3477, 341, 114, 926], [3478, 2199, 292, 421, 190, 14, 3479, 3480, 3481, 586, 3482, 156, 24, 275, 43, 643], [94, 25, 402, 2, 25], [284, 147, 549], [66, 531, 26, 570, 3483, 573, 816, 227, 212, 59, 3484, 118, 231], [110, 5, 159, 5, 248, 67, 494, 700, 913, 2, 2, 123, 2, 913, 5, 1017, 123, 95, 2200, 3485, 219, 2110, 1492, 80, 59, 3, 17, 165, 1492, 48, 83, 3486, 3487, 252, 3488, 806, 3489, 3490, 3491, 3492, 1505, 3493, 3494, 2201, 3495, 315, 554, 3, 2], [130, 3496, 3497, 16, 3498, 3499, 3500, 3501, 227, 764, 1133, 535, 12, 10], [2, 307, 392, 2202], [41, 95, 417, 3502, 317, 1134, 3503, 23, 28, 153, 120], [2, 95, 443, 349, 301, 102, 45, 1032, 32, 130, 218, 1117, 88, 964, 126, 2157, 2158, 243, 2159], [2203, 85, 1671, 136, 367, 984, 2203, 126], [12, 29, 2, 352], [33, 33, 154, 16, 509, 196], [254, 1435, 221, 2, 445, 65], [2204, 1344, 86, 181, 44, 1294, 106], [3504, 60, 8, 7, 87, 3505, 223, 2205, 219, 3506, 8, 7, 8, 15, 7, 571, 262, 20, 79], [], [3, 1316, 1135, 76, 104, 3507, 842], [987, 567, 101, 3508], [64, 1059, 1541], [194, 220, 2206, 656, 2207, 2208], [4, 3509, 67, 3510, 916], [12, 309], [190, 762, 144, 4, 95, 13, 762, 39, 370, 23, 144, 949, 480, 321, 481, 137, 1556], [1466, 2, 716, 54, 59, 2, 545, 33, 1968, 42, 2], [356, 68, 791, 757], [42, 3511, 2209, 101], [3512, 24, 3513, 71, 110, 1877, 204, 65], [22], [3514, 3515, 108, 142, 11], [68, 2], [78, 2210, 479, 1042, 422, 1645, 261, 91, 391, 3, 412, 701, 530, 135, 3516, 2211, 236], [73, 17, 60, 3517, 351, 1254, 17, 8, 7, 4], [2212, 3518], [551, 44, 18, 21, 646, 19, 371, 3519, 3520, 2017, 1581], [57, 9, 534], [166, 585, 3521, 162, 488, 32, 37, 150, 243, 827, 214, 1672, 27, 190], [875, 173, 12, 587], [410, 201, 968, 3, 27, 169, 52, 1079, 634, 242, 135, 1652, 1122, 1653, 33], [203, 67, 3522, 3523, 478], [161, 519, 50, 43, 551, 966, 18, 31], [76, 189, 114, 45, 266], [2213, 3524, 162, 1257], [3525, 211, 2214, 86, 689, 432, 1136, 897, 166, 793, 11, 961, 637, 898, 99], [66, 306, 1090, 156, 2215, 1019, 58, 307, 272, 495, 988, 3526, 613, 19, 83], [300, 2216], [3, 2217, 2218], [185, 476, 2219, 266], [185, 39, 4], [66, 413, 477, 2, 924, 2, 945, 12, 261, 3527, 388, 6, 124], [987, 3528, 75, 3529, 3530, 356], [78, 17, 297, 1673, 1929], [1674, 13, 10, 3531, 953, 698, 378, 35, 89, 855, 25], [856, 6, 3532, 3533, 760], [63, 13], [38, 121, 299, 128, 65], [48, 83, 2, 29, 1605, 276, 75, 63, 149, 86, 77, 72, 31, 2, 79, 3, 19, 234], [449, 25], [295, 158, 347], [33, 3, 197], [176, 1675, 67, 118, 681, 6, 346, 183, 6, 22, 483, 3534], [311, 518, 1137, 42], [18, 951, 666, 1059], [22, 10, 2220, 151, 97], [83, 6, 10, 2221, 2222, 42, 19, 23, 229, 756, 570], [9, 125, 72, 397, 635, 14, 1602, 165], [66, 531, 548, 150, 952, 3535, 366, 22, 1907, 130], [3536, 702, 3537, 3538], [18, 16, 425], [57, 407, 290, 183, 39, 116, 35], [18, 49, 206, 46, 449, 279, 52, 198, 353, 230, 546, 13, 20, 160, 41, 3, 13, 501], [125, 72, 82, 2223], [5, 265, 95, 91, 102, 210, 32, 245, 34, 88, 443, 3539, 460, 740, 124, 27, 210], [2224, 2225, 3540], [3, 1537, 1633, 169, 165, 3, 847, 230, 806, 1108, 69, 2130, 686, 1108, 88, 3541, 53, 113], [33, 1345, 124, 1346, 239, 79, 112, 3542, 111, 149], [26, 184, 246, 400, 515, 232, 6, 1676, 703, 25], [55, 1611, 15, 56, 3], [85, 62, 679, 888, 419, 3543, 3544, 3545, 1075, 3546, 243], [50, 3, 182, 120, 942, 208, 193, 91, 81], [584, 14, 97, 121, 3547, 123, 8, 7, 300], [33, 6, 170, 55, 39, 813], [291, 2007, 56, 1077, 153, 98, 558, 602, 110, 22, 877, 3548, 60, 1138, 100, 2, 161, 10, 1012], [14, 310, 3549, 580, 3550, 2226, 84, 1677], [398, 3, 41, 190, 206, 47, 52, 685, 20, 13, 450, 41, 3], [6, 1649, 247, 341, 2227, 377, 3551], [14], [537, 24, 10, 216, 1040, 201, 295, 19, 753, 290, 212, 1678, 634, 27, 169, 61, 41, 28, 153], [213, 585, 3552], [306, 306, 636, 20, 75, 1260, 1018, 216, 2061, 2, 290, 61, 13, 2228, 61, 27, 946, 3553, 833, 20, 28], [99, 57, 17, 73, 857], [191], [161, 161, 352], [134, 322, 339, 109, 2, 81, 415, 38, 1086, 465, 70, 3, 3554, 208], [18, 152, 1131, 324, 3555, 2128, 1679, 3556], [446, 31, 192], [110, 3557, 3558, 704], [90, 107, 1567], [33, 33, 3559], [33, 33, 1347, 117, 1680], [3560, 3561, 2229], [19, 921, 3562, 680], [1139, 61, 40, 2115, 1095], [142, 3563, 3564, 14, 792, 982, 108, 305, 114, 45, 778, 2, 13], [430, 49, 120, 201, 753, 206, 138, 436, 31, 3565, 3566, 180, 201, 5, 46, 375, 20, 1040, 833, 23, 28], [174, 2230, 65], [215, 35, 445, 267], [240, 3567, 55, 75], [2, 38, 3568, 2231, 3569, 132, 2139], [2, 1598, 1348, 2, 770, 232, 26, 246, 1349, 36, 2, 38, 16, 36, 89], [334, 1681], [205, 14, 2, 372, 67, 166, 3570, 75, 502, 470, 528, 2, 29, 2232, 488, 132, 397, 518, 381, 104, 3571], [434, 195, 332, 933, 1278, 144, 13, 1279, 1350, 571, 52, 32, 368, 3, 674, 3, 437, 3572], [34, 359, 402, 107, 165, 1140, 579, 402, 268, 221, 485, 35, 792], [853, 46, 1065, 147, 1133, 44, 19, 83], [4, 151, 3573, 14, 8, 7, 165, 11, 3574], [779, 311, 168, 30, 179, 114], [430, 31, 85, 29, 2, 502, 777, 78, 287, 68, 29, 5, 200], [57, 33, 17, 196, 548], [103, 20, 22, 15], [57, 2, 458, 1251, 244, 463, 269, 148], [342, 333, 237, 3575], [90, 104, 295, 53, 6, 3576, 30, 132, 20, 297, 28, 288, 428, 676, 528], [33, 33, 105, 174, 989, 655], [510, 1036, 397, 2233, 619, 632, 627], [16], [2, 563, 30, 148, 9, 25, 216, 146], [611, 166, 127, 20, 112, 76, 11, 270, 9], [383, 3577, 3578, 1682, 3579], [753, 5, 47, 13, 306, 237, 2234, 20, 83, 102, 210, 4, 306, 2235, 2236, 53, 113, 237, 210], [1207, 49, 115, 456, 400, 76, 200, 104, 114, 45, 216, 2237], [898, 2, 18], [33, 33, 375, 18, 2238, 1128, 302], [128, 208, 6, 1606, 38, 18, 16], [577, 1455, 204, 60, 56, 1351], [2, 961, 38, 6, 269], [42, 3580, 428, 80, 257], [519, 194, 388, 213], [219, 137, 29], [3581, 193, 332, 144, 46, 1235, 904, 1035, 408, 81, 32, 130, 422, 2239, 1683, 1092, 27, 2240], [225, 8, 7, 9], [743, 326, 1128, 469, 3582, 41, 633, 131, 97, 187], [2, 125, 72, 4, 2241, 768], [1132, 50, 35, 17, 15, 721], [66, 578, 2, 1635, 5, 923, 483, 10, 1684, 12, 2, 116, 59, 3, 79], [2, 168, 128], [154, 128, 46, 97, 71, 23, 85], [507, 26, 2242, 3583, 346, 3584, 1347, 183, 68, 15, 2, 26], [33, 16, 3585, 2, 1226, 16, 105, 922, 1352, 16, 166, 13, 15], [183, 154, 329, 3586, 183], [638, 969, 1083, 584, 107, 122, 1264, 408, 2243, 238], [75, 172, 3587, 75, 82], [90, 1914, 290], [577, 38, 2244], [505, 5, 1041, 3588, 763, 594, 2, 944, 39, 1353, 494, 763, 2245, 36, 318, 82, 1341, 842, 2246, 116, 36, 253, 3589, 3590, 161, 10, 40], [90, 401, 23, 710, 56, 328, 426, 37, 37, 276, 571, 1141, 3591, 17, 513, 91, 3592], [3593, 71, 3594, 71, 1634, 386, 163, 2247, 71, 944, 551, 24, 386, 3595], [2248, 1685, 2, 3596, 858], [859, 147, 55, 16, 889, 15, 3597, 6, 74], [13, 350, 162, 2249, 1282, 20, 1265, 2250, 1919, 4, 3598, 3599, 1686, 242, 135, 1687, 1092, 3600], [57, 9], [77, 95, 104, 1351, 3601, 2, 695, 1242, 3602, 3603, 3604, 20, 224, 27, 1142, 20], [180, 164, 1275, 2, 29, 1688, 29, 216, 2251, 5, 102, 3605, 21, 2, 2251, 20, 899, 27], [639, 181, 628, 2, 211, 84, 424], [3606, 741, 940, 128, 2, 1354], [872, 60, 94], [66, 18, 646, 100, 21, 19, 1287, 3607, 978, 2252], [33, 502, 127, 286], [90, 2242, 3608], [582], [667, 667, 2253, 3609, 3610, 3611, 2224, 462, 2, 2254, 164, 54, 493, 438, 156, 1107, 141, 3612, 130, 342, 2, 5, 3613, 64, 44, 860, 602, 861, 15, 43, 189, 130, 9, 462, 67], [416, 198, 10, 152, 3614, 55], [9, 26, 170, 58, 104], [235, 5, 30, 8, 7, 165], [57, 33, 33, 250, 3615, 315, 12], [80, 311], [42, 22, 472, 2255, 9, 152, 21, 89, 6, 16], [298, 640, 689, 289, 146, 158], [461, 3616, 840, 3617, 126], [35, 38, 17, 346, 35, 536], [117, 83, 3618, 3619, 457, 336], [80, 1603, 216], [133, 531, 244, 463, 259, 463, 141, 432, 2, 1908, 245], [352, 3620, 2, 54, 483, 3621, 1458, 3622, 3623, 498, 427, 2], [345, 172, 30, 1021, 1143, 1453], [2256, 790, 1646, 3624, 3625, 3626, 3627, 3628], [320, 457, 10, 45, 654, 3629, 42, 21, 218, 2257, 3630, 11, 1918], [17, 5, 316, 3631, 272, 3632, 205, 862, 139, 545, 617, 109, 307, 22, 3633, 3634, 79, 172, 348, 155, 16, 394, 808, 78], [2039, 27], [2, 295, 543], [23, 538, 251, 8, 7, 15, 169, 51], [1355, 2, 3635, 1023, 274], [23, 5, 73, 325, 108, 5, 907, 1961, 3636, 2245, 1087, 3637, 3638, 2258, 3639, 1221, 3640, 3641, 1144, 8, 7, 1677, 8, 7, 1041, 41], [1689, 302, 106, 300, 2259, 88, 3642, 53, 113], [94, 2260, 917, 148, 166, 439, 3643], [117, 386, 78, 139, 19, 737, 3644], [190, 120, 1244, 20, 383, 71, 3645, 88, 1052, 460, 1245, 1947, 527, 28, 593, 364, 129, 1052, 1246, 1948], [467, 2261, 599, 102, 10, 11, 177, 4, 83, 6, 728, 151, 881], [220, 107, 286, 166, 15, 127], [118, 520, 342, 822, 1690], [691, 42, 1288, 39, 37, 5, 1691, 850, 2, 3646], [9, 221, 1356, 246, 2, 1692], [12, 179], [4, 349, 115, 281, 4, 94, 260], [171, 2262, 1693, 82, 75, 12, 369, 142, 690, 3647, 438, 104, 127, 477, 540, 305], [2, 423, 25], [147, 5, 1685, 2263, 22], [660, 1357, 2264, 35, 14, 575, 299, 142, 754, 14, 60, 3648, 1241, 2265, 140, 176, 515, 507, 526, 534, 6], [35, 445, 1480, 26], [586, 275, 16], [723, 85, 3649, 2266, 46, 243, 2267, 1358, 20], [26, 12, 159, 38, 21, 286, 1359, 657, 1694, 182, 907], [159, 204, 65], [215, 61, 891, 840, 485, 1695, 413, 53, 222, 24, 579, 1224, 35, 502, 518, 68, 579, 53, 526, 35, 461, 361, 158, 438], [669, 912, 55, 1223, 51], [58, 20, 104, 484, 76, 20, 59, 638, 217, 499, 10], [90, 362, 40], [78, 920, 2268, 399], [12, 112, 78, 62, 123, 1917, 10], [580, 3650, 14, 3651, 1360, 319, 158, 29, 1360, 158, 29, 620, 365, 690, 2269, 158, 104, 3652, 439, 358, 158, 2270, 324, 3653, 145], [13, 343, 417, 832, 23, 130, 95, 34, 88, 2271, 53, 113], [12, 389, 19, 6, 10, 170, 58, 55, 504, 42], [274, 15, 886, 2003, 1361, 3654, 5, 309, 18, 2, 2272], [2, 519, 470, 239, 112, 542, 990], [691, 233, 1696, 1697, 3655, 167, 962, 476, 177, 132, 178, 1698, 117, 3656, 63, 59, 63, 3657, 63, 247, 3658], [2226, 3659, 1549, 2, 3660, 3661, 5, 750], [68, 29, 2], [71, 43, 551, 654], [3662, 1127, 14, 2273, 1699, 860, 601], [13], [134, 347, 834, 765, 24, 525, 10, 106, 747, 1085, 835, 836, 1086], [780, 2274, 257], [93, 1939, 129, 2, 74, 769, 15], [78, 301, 1362, 114, 2275, 2, 189, 1262, 606, 929, 214, 3663, 1359], [66, 859, 2, 29, 207, 296, 2, 3664, 938, 3665, 1363, 12, 29, 208, 3666, 49, 115, 34, 2, 3667, 1618], [2276, 2, 26, 679, 3668, 4, 192, 2277, 4, 5, 498, 2278, 194], [48, 2279, 3669, 9, 327, 138, 494, 1447, 1700, 2, 185, 15, 58, 5, 838, 991, 12, 3670, 373, 19, 118, 124], [220, 15, 42, 4], [340, 25, 38, 76, 2, 6, 197, 494, 11, 65, 521, 845, 135, 97], [119, 992, 2280, 92, 2281, 1681, 56, 101, 43, 1274, 92], [100, 3, 100, 3, 3671, 3672, 3673, 100, 3, 3674, 3675, 194, 1364, 22, 62, 46, 1365, 1220, 95], [490, 60, 77, 6, 6, 3676, 3677, 268, 40, 3678, 3679], [1354], [18, 49, 206, 1145, 15, 279, 52, 685, 20, 450, 41, 3, 919, 264], [568, 3680, 3681, 603, 320, 409, 928, 765, 150, 111, 143, 360, 69, 3682, 69, 69, 128, 69, 1682, 1884, 340], [3683, 74, 3684, 307, 133, 14, 99], [9, 3685, 429, 2, 77, 122, 94, 6, 5, 202], [689, 122, 335, 12, 344, 490, 36, 1366, 140, 77, 402, 122, 286, 192], [445, 40, 188, 65, 34, 221, 1701, 665], [12, 112, 3686, 459, 638, 186], [190, 714, 2282, 49, 3687, 3688, 2283, 878, 3689, 245, 760, 2284, 981, 3690, 153, 41, 153, 2282], [68, 15, 29, 35, 26, 2285, 1258], [11, 3691, 252, 94, 60, 89, 108, 3692, 18, 3693, 20, 374, 1367, 3694], [75, 3695, 3696, 65], [544, 92, 12, 73, 2, 434, 81, 70, 331, 3, 27, 169, 165, 358, 506, 238], [182, 111, 372, 1135, 2, 292], [215, 176, 1319, 207, 53, 21, 6, 2119, 579], [434, 2286, 5, 313, 475, 550, 349, 301, 13, 343, 29, 417, 218, 32, 443, 2287, 88, 964, 126, 95, 1101, 243, 958], [35, 140, 21, 128, 5, 2288], [1048, 163, 384, 97], [2289, 207, 2290, 6, 1146, 36, 1593], [90, 266, 18, 56, 117], [390, 18, 11], [90, 1368, 316, 26, 1702, 362, 65, 409, 469, 65, 105, 1078], [86, 140, 3697, 267, 2, 170, 239, 273], [57, 364, 393], [993, 993, 993, 83], [3698, 25, 68, 15, 2, 77, 16, 36, 205, 2], [57, 19, 3699, 12, 296, 959, 395, 64, 24, 63, 159, 3700, 272, 3701], [724, 15, 43, 14, 290], [50, 59, 128, 1213, 355, 9], [60, 977, 277, 19, 123, 21, 823, 248, 879, 23, 863, 191, 199, 123, 2, 34, 1703, 79, 71, 71], [2, 21, 3702, 178, 3703, 2, 154, 1704, 19, 3704, 3705, 3706, 3707, 3708, 3709, 3710, 1705, 3711, 1705, 19, 17, 43, 1704], [1198, 14, 3712, 3713], [388, 599, 425, 459, 407], [991, 1706, 2291, 3714, 5, 69, 67], [3715, 1074, 26, 208, 17, 82, 109], [78, 2, 592, 1016, 479, 339, 109, 2, 32, 138], [49, 85, 50, 3], [468, 1147, 4, 1707, 87, 864, 1137, 25], [26, 703, 3716, 781, 127, 2, 781], [1135, 292, 222], [144, 46, 3717], [139, 3718, 54, 26, 994, 39, 331, 58, 2, 133, 207, 127, 99], [288, 428, 676, 528], [356, 55, 110, 1123], [220, 76, 11, 726, 121, 8, 7, 10], [3719, 1148, 1708, 382, 107, 51, 865, 400], [26, 595, 10, 40, 208, 63, 40], [66, 114, 492, 1709, 1112, 655, 887, 6, 948, 1082, 114, 264, 44, 15, 29, 13], [39, 1710, 1127, 1672, 3720, 632, 2292], [1887, 3721, 97, 679, 103, 275], [9, 25, 35, 781, 85], [49, 188, 202, 581, 49, 196, 561], [1365, 45, 3722, 3723, 350, 1369, 214], [64, 260, 2293, 14], [167, 320, 37, 135], [228, 334, 331, 299, 638, 39, 2294, 98, 19], [193, 391, 141, 3724, 70, 5, 391, 3, 13, 28, 3725, 3726, 3727, 3728], [3729, 3730, 13, 144, 13, 933, 13, 3731, 3732, 368, 1098, 3, 674, 3, 437], [2295, 3733, 42, 105, 347, 106, 173, 1711, 11, 111, 55, 1712, 2296, 105, 1370, 129, 3734, 141, 54, 14, 3735, 46, 200, 3736, 3737, 2297, 89, 903, 180], [241, 856, 11, 3738, 682, 77, 72, 106, 59, 2, 3, 412, 3739, 3740, 3741, 27, 52], [92, 1209, 989, 2298, 3742], [71, 44, 3743, 666, 752, 608, 119, 1713, 1371, 168], [9, 220, 31, 118], [881, 3744], [308, 254, 60, 6, 1714, 15], [446, 56, 101, 188, 37, 149], [26, 39, 705, 225, 111, 1039, 1619], [777, 47, 219, 2299, 29, 3, 2300, 594, 413, 245, 2301, 212, 2302, 3745, 443, 2303, 2304], [3, 8, 7, 52, 194, 9], [48, 83, 75, 30, 77, 72, 108, 363], [451, 3746, 99], [71, 3, 40, 399], [308, 267, 154, 307, 526, 25, 68, 15, 29, 222, 329], [691, 3747, 392, 1715, 1149, 25, 154, 176, 94, 305, 67, 1716, 857, 65], [3748, 1684, 1717, 453, 260, 2305, 961], [638, 1700, 115, 1372, 62, 45, 177, 702], [5, 91, 641, 695, 420, 1150, 5, 91, 23, 6, 27, 61, 995, 242, 135, 2306, 137], [9, 44, 198, 226, 67, 2, 16, 21, 1477], [66, 2, 38, 607], [2, 866, 1373, 299, 56, 109, 2, 106, 29, 1374, 42, 5, 191, 3], [1718, 320, 54, 3749, 108, 14, 996], [3750, 108, 9, 406, 192, 3751], [57, 23, 533], [159, 309, 12, 15, 204, 421, 289, 85], [1719, 5, 491, 1719, 5, 3752, 3753, 75, 3754, 3755, 2, 77, 72, 60, 254, 361, 594, 286, 123, 611, 380, 37, 5, 217], [134, 47, 313, 486, 487, 81, 479, 339, 109, 2, 3], [537, 1151, 3756, 203, 1631, 420, 2307, 70, 13, 41, 90, 61, 827, 20, 28], [91, 81, 70, 3], [1058, 1366, 2, 1058], [90, 42, 362, 3757, 247, 42, 194, 107, 10, 281, 1571], [129, 3758, 26, 37, 79], [9, 2206, 656, 2207, 2208], [9, 12, 333, 119], [89, 121, 139, 677, 2308], [5, 350, 120, 997, 13, 383, 6, 396, 47, 126, 623, 473, 28, 32, 396, 28, 27, 210, 396, 242, 135, 1687, 1589], [1720, 3759], [90, 1271, 1053, 155, 71, 43, 44, 22, 33], [260, 180, 38, 307], [1152, 663, 831, 1301, 95, 517, 1375, 1350, 408, 2, 11, 1376, 3760, 32, 3761, 1089, 3762], [183, 605, 240, 21, 39, 838, 149], [366, 346, 61, 3, 74, 3763, 26, 4, 3764, 1721, 2309], [57, 277, 125, 72, 1269, 3765, 2310], [337, 865, 3766, 1312], [9, 9, 9, 548, 5, 24, 200], [58, 776, 3767, 1722, 418, 157, 742, 3768, 606, 110, 1723, 568, 177, 1724], [131, 8, 7, 998], [3769, 3770, 3771, 2, 20, 2311, 3772], [16, 30, 18, 2, 2312], [727], [66, 542, 385, 117, 67, 10, 83, 19, 118], [44, 260, 1377, 2, 944, 1226, 155, 357, 8, 7, 846, 891, 49, 115, 3773, 162, 5, 41, 3774, 12, 112], [61, 3775, 16], [9, 225, 44, 488], [5, 641, 5, 114, 338, 3776, 3777, 180, 503, 32, 5, 503, 12, 574], [43, 3778, 11, 439, 15, 3779, 14, 110, 3780, 211, 10, 94, 997, 10, 101, 228], [1725, 3781, 3782, 83, 3783, 3784, 3785, 1028, 3786, 19, 1726, 234, 3787, 3788, 3789, 50], [55, 11, 3790, 39, 116, 288], [113, 497, 3791, 677, 1727, 367, 70, 3792, 70, 69], [2090, 181, 109, 107, 179, 218, 143, 81, 193, 3, 70, 326, 33, 442, 226, 236], [3793, 54, 18, 307, 65], [80, 1193], [12, 51, 78, 3794, 123, 39, 116], [357, 1619, 3795, 404], [284, 327, 204, 1728, 17, 172, 157, 1378], [97, 42], [92, 204, 664, 78, 3796, 456, 1127, 976], [3, 69, 584, 1379, 89, 1660, 3, 2066, 2067], [80, 365, 20, 216, 104], [62, 49, 195, 571, 52, 571, 32, 177, 368, 1531, 4, 332, 393, 46, 13, 3, 674, 13, 1297, 34], [185, 1321, 4, 14, 165, 10], [18, 2257, 3797, 1013, 57], [80, 152, 406, 528], [100, 118, 21, 118, 18, 118, 19, 118], [171, 26, 1153, 471, 475, 16, 1729, 9], [54, 29, 12, 274, 17, 702, 676, 1380, 175, 2313, 1730, 38, 3798, 1380, 17, 513, 3799, 2176, 192, 793, 124], [292, 162, 3, 13, 50, 3], [588, 25, 110, 1147, 3800, 28, 2, 77, 6, 1577], [3801, 264, 482, 528, 5, 539, 16], [624, 1137, 14, 1974, 382, 202, 423, 97, 476, 3802, 153, 3803, 39, 3804], [57, 17, 164, 1666], [1139, 40, 12, 3805, 3806], [131, 1066, 3807, 3808, 2314, 287, 42, 507, 3809, 1656, 224, 105, 109, 668, 3810, 287, 22, 617, 1289, 22], [516, 420, 476, 1080, 773, 107, 45, 2315, 2315, 125, 72, 1446, 3811, 293], [47, 69, 70, 3, 2, 37, 431, 70, 410, 230], [101, 181, 56, 2316, 330, 18, 330, 156, 330, 64], [99, 9, 3812, 3813], [2317, 3814, 12, 354, 130, 112, 19, 2318, 278, 19, 1304, 2009, 229, 756, 570], [43, 11, 89, 456, 228, 159, 54, 156], [700, 789, 211, 284, 18, 1381], [161, 136, 1084, 97, 125, 72, 282, 609, 118, 11], [1099, 452, 45], [565, 165, 38, 21, 122], [76, 514, 76, 514, 418, 880, 704, 1011, 384, 598, 2319], [3, 2028], [6, 9, 72], [89, 2, 222, 40, 1091, 329, 273], [48, 63, 395, 3, 71, 3, 37], [147, 3815, 2320, 459], [3816, 241, 1664, 3817, 3818], [33, 1233, 109], [12, 170, 2321, 187, 3819, 2321, 1107, 2322, 189, 18, 11], [1519, 99, 245, 758, 3820, 259], [4, 1304, 837, 96, 41, 2323, 1731, 2324, 614, 6, 88, 729, 53, 113, 1382, 36, 177, 96, 508, 279, 684, 238, 367], [1020, 2, 26, 25], [222, 35, 411, 6, 30, 25, 35, 140, 133, 14, 608, 9], [2325, 1066, 250, 1732, 562, 3821], [3822, 3823], [92, 350, 351, 1383, 772, 508, 169, 45, 527, 449, 474, 182, 120], [274, 2, 706, 75, 220, 274, 1384, 419, 273, 1470, 39, 116, 34, 2, 127, 234], [134, 50, 3, 3824, 814, 2326, 261, 91, 529, 465, 530, 34, 135, 242, 3825, 236], [71, 129, 44, 3826, 154, 106, 69, 57], [3827, 386, 24, 163, 4, 3828], [90, 876, 1733, 3829, 105, 3830, 1022], [77, 72, 797, 155, 3831, 138, 47, 3832, 848, 130, 138, 23, 1246, 242, 135, 1154, 137, 3833, 27, 61, 915], [596, 51, 234], [148, 3834, 8, 7, 2327, 476, 444, 439, 175, 879, 1243, 453, 9, 879, 3835, 1155, 727, 3836, 288], [2, 89, 553, 6, 36, 128, 2, 25, 378, 3837, 329, 461, 104, 1734], [39, 702, 676], [980, 151, 6, 55, 1037, 3838, 22, 1713, 482, 532, 31, 2328, 15, 111], [905, 93, 23, 85, 736, 1037, 43, 302, 3839, 876, 597, 914, 21, 905, 132, 641, 8, 7, 82, 132, 4, 394, 1214, 676, 58, 282, 37], [3840, 3841, 1148, 1708, 382, 107, 51, 865, 400], [3842, 597, 1735, 2329], [148, 503, 338], [544, 92, 12, 73, 2, 434, 81, 70, 331, 3, 27, 169, 165, 358, 506, 238], [220, 51, 795, 11, 121], [183, 73, 1736, 2330, 407, 132, 4, 1737], [76, 2331, 119, 384, 122, 3843, 3844, 609, 95, 4, 8, 7, 2, 4, 8, 7, 672], [125, 72, 2153, 51, 240, 365, 4, 286, 239], [9, 934, 67, 763, 61, 2, 515, 16, 30, 149], [3845, 3846], [35, 282, 148, 221, 40, 1156, 608], [1927, 542, 8, 7, 115, 392, 1738, 119, 999, 648, 672, 209, 3847, 209, 44], [28, 803, 2332, 324, 173, 365, 59, 3848, 102, 3849], [11, 173, 11, 682, 3, 106, 323, 554, 1904, 27], [38, 121, 132, 189, 198, 300], [197, 31, 3850, 76, 11, 312, 1385, 428, 333], [80, 812, 16, 451, 759, 18, 587], [18, 31, 541, 1322], [2333, 93, 4, 37, 406, 24, 156, 686, 606, 2, 166, 188, 1386, 425, 1387, 1739, 4, 771, 2, 2334, 2, 3851, 119, 1739, 39, 116, 813, 2, 1740, 67, 1017, 3852, 127, 944, 288], [19, 750, 214, 1741, 1388], [1136, 6, 2, 498, 13, 97], [66, 262, 40, 3853, 40], [134, 47, 313, 486, 487, 81, 322, 339, 109, 3, 135, 1621], [19, 22, 988, 56, 117, 187, 19, 82, 598, 22, 988, 233, 56, 5, 73, 133, 543, 1742, 145, 51], [272, 64, 3854, 19, 889], [1198, 119, 2243], [2335, 574, 95, 250, 1157, 95], [732, 119, 1592, 3855, 88, 3856, 3857, 53, 113, 623, 3858, 1325, 506, 501, 1743, 3859], [975, 178, 21, 499, 1722, 1448, 427, 3860, 3861, 448, 988, 3862, 22, 448], [207, 38, 671, 76, 89, 673, 8, 7], [315, 164, 12, 355, 2], [272, 309, 154, 136, 2336, 244, 54], [3863, 1158, 307, 597, 495, 108], [80, 101, 59, 573, 165, 1315, 3864], [2337, 82, 475], [707, 943, 2338, 3865], [63, 275, 43, 590, 1693, 275], [35, 3866, 40, 586, 329, 411], [11, 421], [3867, 1025, 2339], [36, 1144], [277, 407, 3868, 286, 645, 778, 596, 41, 452, 3869, 1257, 59, 291, 1959, 12, 51], [215], [605, 125, 72, 127, 65, 149], [850, 917, 6, 3870, 93, 3871], [3872, 764, 2340, 206, 396, 21, 129, 454, 2341, 53, 113, 3, 458, 396, 383, 3873, 88, 2341, 53, 113, 214], [670, 60, 154, 136, 31, 2, 166, 376, 3874, 3875], [38, 149], [78, 301, 1362, 70, 223, 151, 1715, 1744, 3876, 943, 261, 301, 3, 1745, 2342, 223, 151, 124], [48, 3877, 3878], [182, 120, 3879, 49, 115, 501, 162, 50, 3, 1387, 501], [57, 46, 2343, 3880], [2344, 139, 15, 903, 476, 1694, 1746, 14, 165, 185, 28, 2035], [90, 541, 680, 14, 782], [202, 1747, 1748, 494, 303, 1749, 8, 7, 300, 1119, 2345, 261, 2346, 2347, 1202, 1195, 478, 362], [103, 205, 541, 246, 185, 498, 68, 176, 2019, 280, 665, 267], [539, 3881, 120, 1300, 2348, 3, 1081, 3882, 3883, 13, 47, 3884], [5, 1750], [2124, 3885, 303, 56, 541, 309, 384], [71, 59, 3886, 3887, 2349, 8, 7, 52, 65, 3888], [398, 109, 41, 195, 206, 1145, 449, 279, 52, 685, 20, 450, 41, 3], [521, 3889], [9, 534, 16, 184], [11, 277, 1389, 1000, 1310, 22, 270, 16, 123, 1209, 1000, 1390, 561, 19], [284, 125, 72, 3, 4, 74, 89, 660, 338], [98, 233, 64, 290, 62, 426, 270, 1643, 191, 551, 214, 22, 508, 190], [48, 19, 6, 10, 278, 112, 725, 2350, 923, 82, 3890, 1001, 446, 3891, 100], [3892, 189, 3893, 78], [38, 2351, 2352, 1933, 35, 39, 796, 16, 37], [151, 931, 65], [1247, 262, 1574, 1325, 473, 212, 96, 1502, 83, 1159, 110, 47, 1506, 3894, 20, 821], [24, 1002, 1002, 261, 74], [163, 1390, 3895, 333, 31, 347, 64, 227, 64, 21, 98], [308, 68, 4], [57, 277, 542, 30], [60, 48, 3896], [68, 15, 35, 77, 24], [848, 468], [973, 184], [193, 91, 81, 70, 263, 81, 3, 182, 120, 942, 208, 224, 27], [12, 112, 266], [3, 565, 46, 3897, 2353, 240, 296, 20], [12, 574, 218, 39, 111, 300, 1160, 12, 574, 2354, 23, 28, 182, 120], [3898, 613, 854, 750, 854, 2355, 854, 1751, 110, 46, 3899, 133, 3900], [308, 344, 14, 140, 461], [171, 1937, 718, 54, 42, 640, 110, 1035, 826, 74], [164, 54, 3901, 622, 2355, 3902, 3903, 2356, 141, 2357, 2356], [105, 11, 184, 2358, 40, 11], [38, 166, 12], [178, 141, 3904, 4, 666, 127, 181, 101, 21], [9, 225, 23, 8, 440, 7, 9], [43, 11, 57], [289, 84, 703], [1752, 1444, 3905], [537, 160, 685, 13, 3, 1284, 3906, 32, 3, 3907, 508, 210, 685, 3, 129, 28, 32, 28, 3908], [15, 534], [537, 2359, 649, 3909, 58, 2, 14, 110, 488, 1472, 17, 1363, 1391, 77, 72, 34, 237, 32, 41, 369, 61, 27, 1471, 2360, 28], [924, 2361, 892, 306, 1090, 1243, 3910, 1019, 100, 504, 3911, 750, 6, 607], [1473, 1528, 2314, 3912, 3913, 3914, 2362, 3915, 399, 1155, 10], [220, 8, 7, 1445, 185, 58, 14, 250], [9, 2, 44, 68, 15, 2, 168, 65, 25], [15, 875, 381], [14, 1113, 3916], [169, 710, 2363, 2363, 2173, 3917, 3918, 3919, 562, 1392, 487, 895, 1109, 73, 1392], [55, 125, 72, 231, 705, 12, 174, 51], [3920, 2364, 260, 387, 2, 432, 43, 14, 2, 97, 281, 11, 94, 1753, 51, 241, 75], [3921, 3922], [453, 518, 828, 3, 79], [426, 1258], [99, 55, 1220, 1371, 260, 1371, 3923], [903, 476, 204, 1393, 1113, 489, 99, 3924, 997, 1696, 103, 1754, 60, 1393], [842, 1161, 100, 86, 1755, 597, 460, 1232, 146, 4, 100], [777, 62, 327, 44, 44, 1066, 53, 240, 56, 1437, 3925, 92, 3926], [2, 866, 1373, 299, 56, 109, 2, 106, 29, 1374, 42, 5, 191, 3, 2365], [101, 262, 1240, 538, 131, 817, 415], [193, 332, 144, 46, 1235, 904, 1035, 408, 81, 32, 130, 422, 2239, 1683, 1092, 27, 2240], [18, 3927, 541, 1552], [336, 379, 1871, 188, 3928, 2366, 2367], [1639, 2134, 6, 22, 251], [3929, 32, 180, 1756, 5, 150, 243, 658, 180, 2368, 314, 4, 1757], [1308, 455, 427, 105, 455, 2369, 455, 1443, 2370, 455, 455, 769, 145, 3930], [194, 220, 962, 817, 306], [94, 25, 2371, 2372, 17, 111, 361, 721], [65, 241, 3931, 2126, 654], [1136, 17, 1129, 259, 463, 259, 463], [3932, 406, 3933, 1758, 1582], [2], [28, 474, 540, 472, 240, 1075, 1894, 291, 204, 1647, 3934, 3, 4, 22, 3, 3935, 746], [350, 396, 430, 49, 1072, 686, 47, 102, 45], [71, 6, 1043, 3936, 327, 101, 62, 179, 1162], [1394, 3937, 1317, 59, 1590, 3938, 1306, 247, 3939, 1071, 3940, 1163, 31, 2373, 776, 1323, 76, 3941, 1148, 988, 1194, 3942, 3943, 409, 360, 2156, 409, 22, 1394], [422, 463, 179, 1313, 946, 1298, 910, 81, 193, 20, 1313, 88, 3944, 3945, 126], [73, 189, 3], [274, 10, 2, 29, 3946, 42, 5, 411, 3947, 3948, 2, 3949, 19, 2, 3950], [2199, 1135, 3951, 3952, 3953, 52, 642], [278, 3954, 1039, 278, 16, 315, 432], [168, 30, 249], [274, 563, 30], [29, 35, 26, 24, 222], [1759, 2374, 3955, 2375, 3956, 3957, 3958, 929], [675, 3959, 491, 25, 852, 122, 329, 25, 515, 184, 38, 1760, 184, 329, 675, 296, 580, 344, 35, 17, 139, 74, 1357], [48, 3960, 182, 1164, 195, 49, 144, 47, 1395, 32, 130, 157, 4], [57, 86, 3961, 809, 720, 6, 359, 30, 881, 405], [699, 578, 1217, 3962, 1205, 1396, 2376, 3963, 3964, 2, 419, 423], [38, 2377, 617, 2, 16, 1470, 2378], [48, 310, 840, 93, 117, 74, 246, 35, 3965], [205, 37, 1568, 2379, 18, 4, 961, 1120, 30, 1529, 2379, 607], [298, 47, 464, 61, 74, 425, 21, 23, 8, 7, 131, 61, 372, 1670, 2, 65], [68, 78, 447, 197], [1353, 1576, 150], [1761, 486, 191, 420, 3966, 1761, 301, 503, 331, 338, 245, 23, 1761, 454, 88, 2209, 244, 126], [76, 56, 664, 746, 169, 3967], [398, 109, 1367, 195, 49, 144, 583, 450, 601, 41, 3, 501], [74, 45], [272, 14, 55], [87, 177, 5, 702, 65], [134, 45, 13, 1721, 81, 3968, 32, 130, 70, 34, 88, 3969, 460, 3970, 323, 1683, 3971], [151, 4, 20], [3972, 125, 72, 431], [605, 31, 192], [11, 776], [4, 3973, 361, 1266, 771, 867, 97, 757, 8, 7, 985, 867, 637, 148, 97], [340, 26, 170, 65], [652, 3974, 2380, 3975, 3976], [3977, 11], [9, 76, 2, 445, 152, 202], [507, 3978, 5, 878, 2381, 36, 783, 3979, 732, 3980, 3981, 805], [44, 73, 16, 994, 341, 14, 8, 7, 528], [625, 3982, 129, 2382, 188], [1650, 2383, 1115], [405, 707, 485, 2, 235, 185, 600, 256, 2, 10, 267], [94, 221, 35, 26, 30, 249], [183, 58, 35, 296, 1524, 404, 575, 574], [12, 389, 19, 6, 10, 725, 239, 425, 162, 589, 1762, 345, 425, 31, 613], [80, 568, 138, 955, 73, 1104, 56, 1104, 331, 1746], [974, 860, 444], [213, 68, 493, 142], [56, 180, 117, 769, 56, 180, 117, 2, 21, 73, 3983, 807, 3984, 8, 7, 12, 3985, 8, 7, 3986, 8, 7, 12, 2384, 8, 7, 823, 8, 7, 3987, 8, 7, 3988, 8, 7, 1018, 8, 7, 3989, 8, 7, 3990, 8, 7, 318, 8, 7, 3991, 8, 7, 1722, 8, 7, 3992, 8, 7, 3993, 3994, 8, 7, 3995, 8, 7, 3996, 8, 7, 3997, 8, 7, 2385, 3998, 3999, 4000], [90, 266, 4001], [178, 472, 1752], [4002, 567, 46, 11, 22, 1763, 53, 194, 244, 130], [644, 94, 1647, 20, 2386, 2387, 103, 4003, 835], [491, 4004, 4005], [13, 85, 92, 943, 762, 958, 120, 27, 4006, 1872, 762, 32, 527, 32, 28, 4007], [4008, 11], [14, 910, 4009, 212, 42, 2388, 4010, 556, 54], [19, 1140, 569, 132, 789, 19, 98, 93, 64, 4011, 617, 2389], [347, 4012, 4013, 868, 302, 4014], [4, 1764, 837, 614, 350, 500, 1579, 4015, 47, 149, 212, 20, 96, 1579, 437, 32, 4016, 28, 135, 137, 2211], [104, 1097], [306, 782, 162, 20, 243, 1397, 2390, 4017, 687, 87, 219, 687, 816, 975, 20, 243, 1397, 219, 87, 219, 219], [1125, 4018, 453, 59, 1114, 338, 453, 4019], [1658, 1398, 64, 4020, 4021, 211, 207, 631, 1203], [48, 512, 177, 82, 2293, 4022, 493, 2391, 22], [71, 56, 4023, 4024, 105, 106, 287, 564, 305, 4025, 857, 1572, 202, 76, 11, 65], [66, 117, 386], [12, 15, 161, 108, 192, 616, 179, 357, 31, 118, 127], [55, 11, 227, 1084], [401, 1525, 4, 196, 10, 62, 2392, 1765], [348, 16, 4, 4026], [1975, 11], [936, 39, 237, 23], [1705, 4027, 882, 755, 248, 4028], [11, 255, 595, 829], [2393, 96, 5, 436, 102, 45, 32, 4029, 223, 96, 13, 4, 2161, 44, 5, 73, 27, 96, 41, 511, 454], [9, 194, 220, 475, 4030, 1149, 2394, 1149, 1505, 4031, 1766, 4032, 431, 5, 4033, 31, 1213], [49, 115, 559, 9, 147, 457, 2384, 441, 66], [4034, 102, 610, 650, 384], [477, 1767, 187, 24, 29, 2, 855, 619, 170, 107, 273, 2005, 4035, 2], [186, 147, 498, 771], [447, 1768], [1449, 57, 252, 917, 142, 1237, 253, 1317, 1348, 873, 456, 397, 4036, 816], [4037, 391, 4038, 102, 360, 160, 1769, 22, 160, 1770], [1898, 598, 360, 484, 798, 1030, 85, 484, 599, 150, 145, 1212, 4039], [2395, 110, 966, 4040, 272], [2396, 130, 167, 117, 2397, 54, 1385, 2397, 2353, 117, 4041, 328, 906], [723, 2398, 83, 4042, 4043, 4044, 4045, 2, 375, 65, 4046, 138, 2399, 124], [763, 399, 78], [118, 26, 1978], [733, 159, 762, 4047, 742, 2400], [1069, 2401, 1399, 967, 2402, 268], [311, 542, 624, 4, 91, 79], [2, 435, 324, 517, 4048, 910, 228, 261, 1261, 2403, 70, 506, 238, 3, 1661, 2404, 2405], [2406, 738, 128, 495, 1715, 355, 42, 26, 155, 6, 22, 300], [475, 82, 74, 8, 7, 115, 392, 58, 826, 960], [2, 17, 187, 696], [87, 2407, 1568, 240, 67, 2408, 518, 3, 2, 781], [340, 2409, 387, 12, 114], [262, 247, 2410, 4049], [66, 26, 2411, 346, 607], [759, 4050, 44, 124, 1268, 799, 4051, 283], [166, 4052, 745, 2412, 4053, 4054, 2413, 1764, 85], [308, 284, 103, 168, 30, 380, 2, 184, 215, 6, 137, 2, 25, 3, 2, 235, 287, 25], [2414, 10, 679, 4055, 1054, 10, 1075, 4056, 10, 902, 1134, 2415, 10, 2357, 4057, 4058, 4059, 10, 4060, 4061, 300, 2, 116], [241, 148, 15, 1389, 1771, 711, 88, 4062, 126, 794, 2416, 162, 1093, 18, 73], [4, 1304, 837, 96, 41, 2323, 1731, 2324, 614, 6, 88, 729, 53, 113, 1382, 36, 177, 96, 508, 279, 684, 238, 367], [17, 139, 498, 1612, 580, 1536], [163, 42, 125, 72, 514, 64, 4063, 1062, 4, 2417, 601, 1766, 2344, 514, 476, 8, 7, 141, 2001], [77, 72, 607, 4064], [185, 4065, 25, 4066, 2, 249], [90, 86, 62, 4067, 156, 1073, 177, 4068, 2273, 317, 1114, 4], [627, 382, 755, 2, 361, 977, 123, 2418, 2, 116, 302, 28], [252, 1755, 147, 886, 355, 4069, 142, 690, 295, 4070, 121, 192, 76, 278], [1559, 1153, 34, 4071, 4072, 4073, 1252, 1559, 1153, 4, 13, 715, 2419, 143, 61, 609, 2420, 442, 34, 34, 2420, 41, 1375, 4074, 595, 195], [4075, 17, 4076, 4077, 2421, 4078, 885, 4079, 4080, 475, 211, 963, 294, 6, 1232, 36, 2108, 6, 2422, 1400], [59, 4081, 1772, 312, 42, 1718, 251, 73, 482], [446, 1378, 17, 513, 357, 351, 198, 300], [13, 223, 45, 144, 96, 5, 436, 102, 45, 32, 144, 4, 848, 44, 5, 413, 88, 1003, 53, 113, 323, 137, 659, 1110, 27, 96], [374, 18, 11, 1364, 204, 518, 45, 157, 791, 1341, 1666, 146, 102, 45, 4082, 1364, 82, 82, 374, 669, 4083, 1401, 102, 45, 8, 7, 359, 826, 4084, 4085, 38, 166], [2423, 47, 560, 1631, 466, 332, 500, 393, 47, 13, 3, 47, 466, 4086, 13], [2424, 1573, 545, 4087], [9, 6, 357, 105], [77, 239, 344, 510, 934, 67, 30, 239, 675, 251], [90, 16, 1754, 4088, 181, 4089], [1030, 13, 343, 417, 832, 23, 130, 841, 34, 88, 2425, 126], [174, 2426, 46, 74, 482, 71, 23, 258, 73, 710], [1001, 14, 1773, 1095, 51, 219, 18, 16, 330, 10, 4090, 4091, 178, 168, 333, 540, 330], [4092, 4, 47, 473, 88, 4093, 126, 3, 614, 318, 966, 729, 212, 1452, 1774], [167, 764, 1204, 54], [35, 158, 1775], [1525, 12, 4094, 1461, 47, 275], [92, 4095, 452, 272, 62, 45], [547, 507, 25], [16, 121, 8, 440, 7, 208, 1352, 2377, 1318, 843, 16, 822, 15], [255, 202, 4096, 166, 483, 4097, 4098, 54, 141, 2427, 2337, 903, 2427], [288, 101, 4], [57, 16, 197], [13, 61, 1776, 47, 69, 643, 4099, 50, 3, 364, 4100, 3, 13, 358, 412], [11, 1165, 227, 97], [240, 18, 1874, 688, 200, 1207, 64, 1463, 1236, 1475, 119, 1702], [751, 310, 5, 109, 36, 31, 68, 2, 4, 878, 253, 594, 2, 708, 2, 320, 217, 293, 4101, 2, 29, 882, 410, 1484, 2, 29, 787, 368, 1064, 4102, 2, 2381, 882, 681, 6, 594, 2, 4103, 2428, 2, 2429, 783, 1758, 2, 4104, 100, 1318, 602, 1518, 22, 4105], [31, 4106, 50], [536, 675, 251, 2, 211, 223, 25], [68, 56, 199, 4107, 388, 651, 232, 2, 133, 2, 104, 388, 328, 2, 133, 2, 100, 1950], [941, 141], [171, 2, 3, 505, 2, 231, 1777, 682, 1760, 971, 2, 647, 21, 497, 4108, 226, 107, 273, 24, 1777], [4109, 687, 1130, 73, 41, 90, 31, 88, 190, 714, 2, 4110, 28, 23, 28, 512], [2, 1402, 514], [175, 34, 35], [1465, 59, 160, 153], [2430, 436, 4111, 465, 1033, 237, 85, 409, 13, 1778, 96, 32, 845, 2430, 1286, 27, 169, 1033, 237], [134, 181, 109, 107, 179, 218, 143, 81, 193, 3, 70, 326, 442, 226], [57, 183, 294, 1675, 147, 24, 1023, 1558, 692, 4112, 140, 251, 381, 1504, 378, 1106, 4113, 568, 154, 671], [2, 474, 97, 3, 561, 46], [9, 16, 30, 869, 161, 104, 158, 138], [588, 25, 77, 6, 34, 4114, 2020, 24, 579, 211, 518, 25, 1779, 2036, 2421, 2], [551, 319, 19, 361, 4115, 255, 986, 248, 1018], [1129, 146, 26, 314, 488, 1637, 11, 399], [13, 10, 306, 223, 4116, 10, 237, 2234, 32, 237, 43, 100, 102, 210, 4117, 2235, 237, 34, 2236, 53, 113, 210], [57, 90, 283, 32, 2, 547, 2, 4, 538], [287, 36, 40, 2263, 209, 59, 3, 35, 29, 175], [584, 2107, 1780, 1149], [2147, 318, 150], [89, 219, 2431, 156, 696, 14, 863, 15, 84], [30, 36, 216], [1781, 4118, 760, 1686], [259, 4119, 4120, 151, 77, 72, 39, 1125, 60, 4121, 151, 464], [48, 82, 2, 10, 727, 82, 244, 5, 1689, 58, 11, 2, 813, 4122, 58, 2, 106, 312, 516], [348, 3, 78, 335], [62, 296, 4123, 55, 4124, 493, 2333], [2432, 22, 156, 415], [42, 360, 38, 21, 4, 91, 1600, 216], [9, 407, 119, 438], [80, 2248, 107, 51, 1763, 2433, 283, 127], [444, 531, 4125, 1403], [1539, 2278, 165, 1457, 4126, 240, 4127, 4128, 2434], [55, 4129, 4130, 4131, 2, 77, 72, 3, 30, 216, 2435], [466, 293, 366, 4132, 4133], [4134, 944, 201, 8, 7, 4135, 1246, 4136, 36, 1064, 616], [38, 406, 152, 383, 845, 4, 624, 4, 37, 14, 156], [57, 4137, 227, 23, 99], [4138, 748, 464, 240, 149], [9, 324, 51, 2316, 447, 790, 166, 669], [9, 10, 333, 249, 647, 592], [63, 3, 65, 222], [63, 34, 5, 61, 588, 25, 716, 54, 22, 51, 329, 2, 1333, 49, 247, 170], [940, 776, 195], [29, 26, 8, 7, 297], [4139, 4140, 370, 549, 35, 4, 580], [35, 3, 56, 101, 232, 2364], [9, 33, 4141, 590, 2436, 891, 1038], [215, 176, 29, 87, 4142, 103, 56, 293, 205, 752, 553, 89, 771, 665], [4, 79, 23], [136, 52, 1096, 297, 28], [288, 331, 4143], [43, 23, 409, 1248], [1166, 75, 381, 4144, 373, 312, 470, 2], [80, 17, 158, 4145, 36, 4146, 4147, 14, 4148, 645, 17, 1707, 394, 6, 4149, 723], [43, 18, 296, 94], [738, 4150, 8, 7], [4151, 148, 15, 2, 103, 2, 395, 377, 742, 395, 2, 148, 19], [689, 816, 142, 569, 689, 3, 27, 52, 28, 20, 3, 27, 52], [588, 25, 298, 280, 618, 53, 40, 1091, 707, 68, 183], [14, 8, 7, 338], [589, 164, 408, 435], [23, 20, 1404, 65], [987, 2437, 804, 858, 567, 4152, 12, 4153, 477, 470, 2, 4154, 731, 363], [43, 18, 296, 2438, 60, 399], [63, 876, 385, 1782, 839, 994, 45, 38], [345, 371, 130, 289, 112, 1161, 6, 10, 19, 157, 1111], [272, 683, 4155, 190, 12, 574, 984, 4156, 41, 28, 182, 120], [13, 223, 45, 343, 1234, 265, 95, 1235, 904, 91, 102, 210, 32, 4157, 739, 34, 88, 1234, 460, 740], [94], [616, 1388], [35, 35, 77, 16, 16, 25, 1026, 34, 4158, 4159], [1783, 23, 22, 1292, 8, 440, 7, 24], [246, 982, 4160, 221], [2439, 696, 180, 162], [12, 112, 75, 4161, 4162, 4163, 365, 16, 362, 24], [1355, 5, 4164, 2440, 4165, 315, 174, 402, 1784, 973, 64, 36, 2441, 1203, 183, 2442, 191, 578], [44, 103, 211, 252], [1345, 416, 925, 612, 4166, 14, 8, 7, 52], [4167, 352, 174, 992, 4168, 105, 4169, 38, 2443, 4170, 2444, 16, 121, 1360], [2, 404, 14, 4171, 4172, 345, 4173, 14, 4174, 40, 297, 30, 312, 2, 4175, 4176, 310, 559], [4177, 56, 133, 207, 4178, 4179, 2256, 4180, 4181, 133, 260, 141, 1326, 22], [168, 374, 18], [35, 216, 3], [490, 89, 35, 122, 335, 30], [83, 103, 186, 542, 1167], [152, 121, 1512, 9], [458, 1216, 121, 136, 774, 10, 1446, 2389, 1168, 317, 2445, 1330, 4182, 76, 514], [1053, 585], [513, 4183, 30, 83, 38], [192, 5, 217, 4184, 521, 5, 1663, 2034, 370, 5, 248, 98, 248, 14, 482, 372, 116, 2, 2446, 4185], [4186, 47, 245, 1764, 4187, 2447, 303, 212, 5, 47, 97, 20, 2447, 212, 23, 2, 13, 1611, 1485], [99, 4188, 163, 2448, 192, 752], [1785, 258, 1762, 22, 24, 4189, 2434], [522, 271, 489, 143, 661, 744, 257, 3, 557, 326, 523], [42, 26, 4190, 16], [6, 36, 122, 402, 122, 4, 221], [], [2177, 194, 207, 17, 1997, 67, 207, 419, 12, 804], [4191, 2449], [1073, 213, 2103, 322, 2329], [12, 21, 587], [4, 850, 142, 18, 16, 15, 2450], [4192, 926, 39, 116, 456], [577, 1786, 675, 4193, 40, 817, 344], [428, 74, 146], [168, 37, 1967, 1295, 125, 72, 9, 4, 119, 723, 57, 80, 304, 446, 477, 287, 3, 74], [231, 84, 588, 110, 472, 4194, 4195, 9], [90, 2008, 573, 237, 1320, 38, 514, 510, 1302], [48, 2451, 4196, 1405, 1148, 309, 4197], [4198, 4199, 22, 2, 883, 2, 458, 804, 1406, 22, 76, 883, 152, 699, 1787, 1406, 22, 28, 883, 56, 2452], [2453, 98, 114, 439, 2454, 2021, 866, 163, 102, 439, 452, 5, 98, 145, 36], [567, 541, 4200], [722, 788, 405, 99], [4201, 4202, 842, 4203, 1161, 4204, 799, 19, 64, 1131, 1096], [66, 86, 541, 172, 18, 6, 346, 148, 314, 781, 4205, 864], [368, 704, 729, 15, 2455, 2456, 13, 601, 45, 6, 729, 237, 821, 28, 1365, 4206, 41, 28], [102, 10, 189, 170, 8, 7], [66, 282, 1239, 388, 8, 7], [2457, 255, 322, 22, 276, 371, 387, 100, 2], [749, 40, 1169, 30, 355], [9, 2, 39, 269, 2, 4, 1170], [2458, 4207], [83, 6, 10, 100, 84, 19, 427, 229, 58, 304, 6, 55], [4208, 10, 105, 1739, 488, 39, 1618, 82, 4209, 39, 45, 4, 2459, 203, 4210, 4211, 4, 209], [4212, 103, 4213, 317, 277, 4214, 123, 103, 136, 2, 4215, 690, 187, 798, 61, 2077, 141, 277, 4216, 668, 4217, 1407, 1091, 1407], [492, 197, 176, 526, 140, 2442, 176, 366, 87, 346, 87, 948, 703, 864, 2, 445, 2460], [4218, 368, 182, 203, 70, 13, 393, 46, 2461, 1164, 3, 195, 153, 300, 2216, 34, 367, 827, 584], [547, 192, 1548, 99, 1161], [9, 534], [83, 516, 155, 4219], [619, 201, 138, 27, 52, 623, 180, 1660, 201, 3, 963, 138, 113, 1586, 201, 120, 4220, 1788, 957, 36, 363], [64, 1493, 951, 916], [105, 307, 4221, 16, 334], [49, 2241, 768, 212, 608, 239, 114, 263], [181, 235, 377, 4222], [1498, 919, 1499, 261, 529, 465, 3, 2462, 530, 701, 323, 2463, 1105, 2464, 224, 208, 870, 52], [66, 17, 316], [13, 223, 45, 144, 96, 5, 436, 102, 45, 32, 144, 4, 848, 44, 5, 413, 88, 1003, 53, 113, 323, 137, 659, 1110, 27, 96], [71, 43, 245, 860, 98], [12, 73, 116, 555, 73, 657, 318, 73, 324, 796, 1644, 130, 1644, 15, 145, 717], [54, 357, 2440, 18, 2465, 4223, 2466, 75, 502], [66, 142, 11, 4224, 4225, 4, 1648, 315, 365, 4, 198, 1315, 635, 149], [136, 38, 2467, 101, 4226, 124, 18, 201, 2], [4227, 4228, 4229, 275], [17, 8, 7, 82, 132, 128], [], [374, 4230, 374, 18], [8, 7, 219, 379, 10, 600, 142, 18, 673, 4231, 8, 7, 219, 8, 7, 4232], [48, 61, 362], [18, 4233, 108, 205, 635, 4234, 423, 4235, 985, 4236, 139], [62, 23, 271, 69], [63, 328, 9, 104, 258, 51, 886, 172, 389, 4237, 227, 175, 209, 1228, 4238, 15, 1459, 63], [2468, 80, 309, 55, 404, 347, 657, 706, 59, 431, 65, 583, 19, 709, 124], [22, 519], [205, 1789, 15, 278, 42], [1408, 26, 4239, 1592], [561, 46, 138, 493, 2], [16], [92, 299, 86, 828], [582, 35, 77, 104, 1409, 53, 1409, 468, 24], [385, 39, 115, 612, 63, 46, 1133, 146], [356, 20, 37, 761, 1342, 21, 856, 4, 758], [13, 343, 831, 832, 95, 2469, 1134, 479, 2470, 223, 203, 20, 2469, 325, 343, 338, 1142, 32, 238, 34, 367], [90, 1513, 492, 285, 99], [83, 516], [779, 2, 801, 119, 271, 92, 17, 4240, 836, 1273, 641, 2, 34, 4, 489, 1128], [4241, 65], [9, 421, 390, 1171, 290], [648, 354, 7], [12, 389, 19, 6, 10, 58, 406, 17, 1208, 196, 42, 504, 23, 1527, 229, 756, 570], [74, 1095], [936, 11, 55], [168, 30, 249], [605, 20, 4242], [446, 12, 51], [1069, 60, 357, 1945, 4243, 2, 445, 29, 2], [1271, 728], [360, 969, 162, 408], [20, 2471, 14, 42, 385], [21, 375, 425, 196], [33, 68, 822, 1690], [2472, 4244], [23, 49, 69], [4245, 1882, 61, 398, 3, 41, 190, 13, 144, 47, 13, 450, 50, 3, 501, 79], [38, 168, 149], [134, 50, 3, 412, 91, 2473, 2474, 1036, 261, 529, 465, 34, 530, 391, 4246, 236], [2, 106, 15, 297, 494, 21, 743, 209], [48, 40, 24, 151], [1991, 1080, 162, 247], [371, 203, 203, 6, 2, 104, 565, 4247, 2475, 2476], [189, 1790, 1791, 1376], [940, 43, 385, 16, 178, 585], [2477, 2478, 4248, 538, 131, 258, 2168, 2014], [18, 49, 144, 500, 46, 1545, 13, 165, 47, 13, 20, 13, 450, 41, 3], [650, 10, 162, 2479, 2480, 4249, 1873, 2, 551, 2480, 270, 1450, 162, 808], [99, 770, 379, 1293, 626], [29, 2, 4250], [33, 33, 79, 2481, 401, 197], [49, 4251, 1401, 95, 917, 4252, 187, 43, 2482, 5, 73, 726, 123, 60, 178, 981], [2483, 1339, 4253, 12], [538, 4254, 4255, 4256, 4257, 2160, 224, 4258, 4259, 621, 538, 3], [92, 596, 4260, 632], [286, 715, 60, 39, 102, 186, 328, 37, 444, 258, 58, 558], [15, 972, 4261, 1172, 4, 876, 1496, 130, 6, 615], [4262, 681, 104, 264, 35, 2484, 264], [86, 4263, 4264, 1050], [402, 424, 725, 192, 2485, 2485, 284, 147, 256, 154, 636, 378], [2253, 4265, 4266, 1173], [259, 142, 334, 615, 64, 21, 1628, 759, 181, 615, 64, 4267, 650, 566], [9, 93, 67, 596, 2, 29, 101, 42, 312, 2, 18, 4268, 4269, 973, 1560, 2, 312], [12, 209], [311, 125, 72, 1342, 2486, 192], [640, 199, 116, 209, 1792, 1448, 209, 4270], [104, 35, 1020, 35, 77, 25], [12, 389, 504, 569, 24, 207, 58, 12, 345, 4271, 818, 50, 1408], [11, 21, 4, 910, 17, 4272, 2193, 2487, 371, 16, 1210, 1756, 4273], [1946, 86, 12, 4274, 139, 459, 4275, 1174, 4276, 12], [86, 21, 252, 79, 11, 1402, 14], [4277, 485, 2, 60, 38, 140, 467], [48, 2488, 38, 69], [416, 1236, 123, 1475, 1793, 37, 15, 175, 152, 4278, 4279, 20, 4280, 216], [423, 794, 21, 809], [66, 709, 58, 5, 9, 59, 2, 4281, 4282, 6, 4283, 4284, 295, 1074, 6, 4285, 192, 1011, 4286, 4287, 19, 4288], [294, 68, 87, 1630, 67, 4289, 492], [599, 395, 3, 78, 456, 430, 10], [422, 5, 697], [134, 50, 3, 412, 91, 2473, 2474, 1036, 261, 529, 465, 34, 530, 242, 135, 639, 236], [64, 93, 224, 4290, 4291], [33, 33, 64, 224], [78, 12, 112, 569, 78], [78, 301, 1362, 70, 45, 195, 929, 50, 6, 739, 34, 367], [91, 81, 70, 3, 34, 4292, 2404, 2405, 236], [111, 18, 40], [9, 869, 2, 11, 17, 4293, 4294], [781, 30, 52], [227, 4, 758], [63, 40, 24, 213, 16, 245, 468, 4295], [48, 1573, 545, 4296, 4297, 2, 182, 3, 538], [2489, 1600, 108, 264, 17, 2490, 10, 4298, 1514, 282, 4299, 74, 4300, 270, 4301, 4302, 4303, 253], [1126, 1410, 2491], [17, 434, 1557, 15, 4], [48, 309, 1380, 17, 37, 74, 1326, 31, 2, 4304, 58, 281, 2492, 2, 46, 24, 2, 59, 3, 234], [259, 259, 259, 4305, 4306], [1330, 4307, 1794, 626], [156, 2493, 1795, 114, 45, 42, 125, 72, 558, 156, 262, 228, 793, 621], [55, 175, 253, 118], [657, 1439, 2494, 74, 287], [88, 4308, 126, 4309, 27, 61, 870, 160, 4310, 1771, 243, 28, 32, 28], [2470, 1088, 1134, 479, 91, 422, 3, 67, 323, 236], [43, 1076, 122, 626, 14, 4311, 458, 1076, 335, 1076, 4312, 108, 1541, 100], [655, 1654, 22, 10, 22, 4313, 22, 160, 231], [483, 188, 2182, 107, 360, 284, 1270, 798, 4314, 1401, 2432, 54, 26, 9, 27], [987, 171, 54, 280, 6, 200, 4315, 977, 30, 1397, 4316, 2495, 1456], [368, 182, 203, 70, 13, 393, 46, 2461, 1164, 3, 195, 153, 4317, 34, 367, 827, 4318], [86, 86, 2496, 57, 1411, 733, 141, 8, 7], [57, 531, 2082, 77, 72, 245, 212, 340, 1173, 2497, 59, 1276, 59, 22], [637, 73, 1124, 483, 143, 37, 341, 8, 7, 133, 13, 6, 1043, 330, 8, 7, 712], [100], [17, 205, 4319, 954, 18, 211, 51, 185], [118, 156, 742, 1796, 2498], [22, 45, 152, 320, 11, 15], [9, 1038, 2, 590, 822], [1594, 582, 582, 1175, 56, 189, 87, 685, 183], [4320, 2352], [75, 12, 507], [1172, 248, 4321, 173, 64, 4322, 173, 127, 784, 248, 14, 540, 962, 22, 1609, 4323, 1012], [1412, 309, 127, 416, 8, 7, 1445, 842, 906, 4324, 1322], [598, 212, 245, 130, 60, 157, 676, 153, 203, 79, 415, 24, 87], [], [340, 722, 128, 766], [16, 1742, 207, 981, 12, 299, 615], [49, 96, 45, 1797, 4325, 4326, 4327, 4328, 2499, 4329, 1635, 351, 1993, 1516, 114, 85], [118, 922, 1796, 5, 159], [1093, 4330, 4331, 1041, 1413, 4332, 1377, 4333, 2277, 455, 71, 41], [14, 2237], [219, 60, 233, 503, 20, 633, 4334], [180, 324, 276, 180, 21, 2328, 15, 414, 1580, 751, 290, 4335, 276], [136, 61, 8, 7, 52], [12, 112, 4336, 1746, 99, 58, 354, 2], [612, 309], [48, 58, 2, 29, 9, 103, 93, 20, 2, 722, 76, 1955, 50], [235, 429, 52, 9], [228, 166, 61, 310, 150, 493, 616], [48, 83, 92, 168, 141, 319, 281, 6, 55, 327, 276, 58, 31, 127, 19, 229, 234], [23, 4337], [1372, 6, 607, 374, 19, 217, 58, 9, 12, 10, 83, 100, 64, 84], [8, 7, 137, 4338, 945, 385], [33, 33, 191, 24], [168, 766, 152, 1680, 4, 496, 74, 111], [1152, 2500, 70, 5, 715, 261, 23, 4339, 1017, 533, 1798, 419, 2, 113, 242, 135, 4340, 4341, 4342, 663, 157, 664, 1014, 28], [92, 85, 86, 828, 2501, 101, 1238, 686, 282, 106, 82, 37, 453, 79, 151, 452, 10], [228, 4343, 2, 36, 639, 25, 63, 25, 40, 142, 675, 34, 2, 187, 743, 11, 2, 25, 2, 77, 104, 639, 89, 380, 2, 2092, 114, 222], [281, 989, 1971, 57], [164, 1403, 39, 4, 1671, 4344, 1782], [4345, 46, 298, 541, 2502, 186, 4346], [4, 439, 198, 85], [262, 316, 4347, 4348, 935, 1109, 1799, 1721, 39, 116, 1610, 1312], [2289, 53, 36, 441, 17, 184, 24, 284, 147, 308, 1358, 211, 536, 68], [359, 3, 68], [464, 4349, 275, 4350, 4351, 275], [75, 4352, 433, 974, 815, 4, 540, 384, 2410, 6, 104, 1351, 418, 1253, 723], [80, 2503, 15, 114, 45, 4, 382, 390, 123, 4], [177, 230, 103, 19, 136, 394, 10, 551, 2, 10, 2, 1538, 2, 551, 1407], [2, 3], [25], [4353, 922, 158, 1447, 175, 4354], [1800, 568], [1290, 1799, 86, 155, 31, 564, 305, 300, 142, 4355, 1034, 336], [37, 4356, 92, 1004, 2, 986, 2, 117, 31, 127], [449], [215, 4357, 42, 366], [4358, 328, 4359, 207, 16], [218, 4360, 43, 42], [118, 4361, 207, 4362, 432], [599], [151, 186, 63], [779, 107, 51, 1087, 2401, 4363, 286, 216, 269, 432, 418, 15, 77, 72, 104], [444, 1549, 2504, 112], [11, 4364, 392, 199, 390, 14, 207, 4365, 178, 22, 245, 668], [578, 4366], [446, 92, 1031, 214, 51, 155, 4, 170], [62, 27, 4367, 2080, 16, 4368, 102, 112], [3, 4, 265, 602, 8], [40, 188, 629], [544, 4369, 858, 4370, 1355, 214, 163, 164, 117, 610, 4371, 1801, 6], [111, 303], [235, 30, 552, 36, 404, 256], [1309, 4372, 4373, 747, 4374, 126, 841, 2505, 8, 7, 633, 2506, 4375, 1547, 4376, 2505, 564], [22, 992, 2507, 340, 514, 4377], [405, 105, 164, 643], [16, 30, 22, 107, 15, 213, 94, 941], [1702, 4378], [33, 33, 59, 656], [99, 567, 415, 84, 17, 4379, 258, 4380, 890], [307, 291, 10, 4381, 4382, 21, 282, 353, 203, 4383, 110, 26, 2, 103, 865, 4, 251, 4], [167, 132, 6, 249, 656, 2508, 9], [512, 4384, 98, 1094, 938, 4385, 512, 1200, 2, 133, 5, 4386, 68, 2, 4387, 5, 923, 68, 342, 2509, 1064, 342, 1451, 4388, 2510, 395, 123, 4389, 2, 4390, 78, 427, 693, 4391, 2, 154, 201, 1472, 4392, 535], [4393, 1264, 4394], [539, 50, 41, 243, 2390, 937, 87, 219], [4395, 168, 607, 1486, 808], [1508, 69, 38, 167, 4396, 82, 89, 735], [312, 2, 2, 4397], [697, 39], [1468, 151, 4398, 4399], [568, 758], [691, 19, 4400, 64, 11, 1131, 1096, 853, 10, 6, 55, 19, 42, 100], [839, 4401, 2511, 2375, 62, 15, 4402, 491, 4403, 304, 1526], [1943, 1327, 407], [5, 4404, 958, 4405, 772, 623, 1072, 160, 88, 4406, 53, 113, 4407, 61], [156, 44, 1138, 296, 213, 44, 94, 284, 421, 456, 1700], [640, 146, 604], [207, 270, 766, 4408, 14, 1311, 415, 133, 2512, 630, 4409, 328, 418, 2512], [2513, 4410, 2514, 8, 7, 4411], [37, 795, 11, 216], [50, 20, 1060, 228, 305, 60], [808, 170, 55, 40, 50, 39, 116, 275, 50], [414, 4412, 2498, 166, 4413], [424, 344, 114, 811], [35, 789, 1802, 53, 441, 26, 30, 256], [1378, 37, 775, 2351, 4414, 296, 578], [55, 268, 4415, 67], [44, 78, 399, 519, 14, 4416], [21, 767, 627, 532, 467, 15, 45, 84], [18, 49, 206, 46, 449, 279, 52, 20, 1328, 420, 169, 45, 3, 41, 501, 79], [254, 231, 255, 285, 2], [29, 2, 101, 657, 921, 12, 694, 4417], [1913, 197, 4418, 159], [13, 24, 461, 128, 581, 647], [29, 35, 608, 37, 249], [64, 4419, 470], [50, 89, 1494, 3, 1021], [356, 63, 39, 863, 115, 612, 200], [4420, 2515, 26, 268, 4421, 165], [66, 2516, 394, 1053, 104, 141, 782, 15, 379, 917, 2516], [57, 198, 186, 64, 752, 4422, 2074, 604, 691, 458, 4, 64, 74, 175, 10, 2, 593, 15, 613], [2517, 1274, 4423, 240, 325, 1383, 262, 4424, 4425, 1783, 1123, 2311, 737, 1787], [255, 201], [43, 551, 111, 164, 13, 710, 4426, 53, 113, 163, 834, 3], [4427, 180, 317], [405, 344], [37, 74, 2518, 198, 677, 2, 34, 273, 306, 4428, 67, 6, 37, 138, 253, 4429, 3, 4430, 1324, 2519], [884, 2478, 1572, 338, 2520, 8, 7, 8, 7, 8, 7, 44, 503, 2, 29, 1803, 54, 17, 4431], [136, 11, 4432, 295, 1804, 1063, 587], [215, 424, 18, 6, 1112, 3, 366], [2, 575, 25, 6, 269, 17, 209, 2, 77, 268, 1497, 1253, 16, 221], [78, 348, 316, 647, 403, 985, 348, 466, 647, 54, 299, 9, 4433, 4434, 4435, 4436, 12, 22, 244, 1126], [1073, 4437, 322, 453], [1132, 346, 239, 38, 2521, 183, 582, 2, 6, 30, 256, 294, 633, 137, 25], [673, 2065, 1141, 673, 1141, 173, 1398, 4438, 4439, 119, 37, 98, 4440], [55, 859, 106, 1268, 4441, 99], [215, 38, 767, 246, 754, 1176, 2522, 59, 1588], [94, 25], [142, 4, 622, 2523, 1538], [50, 43, 60, 14, 48, 48, 48], [21, 300, 1100, 2524, 132, 128, 186, 360], [558, 18, 2, 209], [2525], [495, 988, 58, 62, 160, 472, 66, 1162], [60, 856, 2033, 775], [372, 8, 7, 165, 17, 1805], [274], [90, 736, 1289, 82, 732], [345, 270, 290, 24, 9, 159, 131, 22, 85, 290], [1295, 207, 156, 180, 475], [357, 1320, 4442, 4443, 4444], [174, 59, 3, 11, 18, 338], [981, 74, 24], [2492, 519, 173, 2526, 2, 257, 794, 4445], [4446, 504], [48, 1665, 471, 93, 62, 34, 2, 2, 1074, 16], [57, 80, 385, 2, 39, 269], [1806, 206, 4447, 13, 1005, 1006, 1269, 509], [2459, 491, 370, 110, 585, 92, 1404], [335], [43, 11, 4448, 2075], [220, 20, 397], [48, 17, 119, 40], [292, 21, 4449, 469, 271, 469, 533], [4450, 453, 4451, 1385, 1807, 4452, 377, 4453, 248, 1407, 701], [444, 4454, 361, 4455, 1808, 4456, 4457, 4458, 304, 2448, 30, 31, 79], [1026, 44, 2, 254], [101, 227, 4, 270, 642, 566], [298, 162, 45, 157, 1004, 909], [62, 4459, 1809], [35, 227, 2164, 485, 402, 60, 1692, 9], [161, 10, 78], [193, 391, 406, 141, 91, 70, 5, 391, 3, 13, 4460, 4461, 69, 68, 2, 42], [66, 41, 275], [85, 1743, 4462, 634, 4463], [171, 2, 2, 2, 67, 2102, 1292, 53, 21, 1387, 128, 4464, 800, 39, 116, 171, 2527], [71, 213, 2528, 277, 2204], [4465, 456, 71, 23, 69, 1404], [16, 818, 26, 4466, 4467, 2529, 333, 4468], [1227, 637, 290, 269, 433, 4469, 10, 304, 93, 205, 202], [142], [2530, 852, 1750, 4470, 1414, 1414], [730, 1550], [48, 1783, 59, 2, 37, 4471, 4472, 914, 4473], [29, 2, 146, 1701, 708, 932, 36, 783, 4474], [702, 1624, 163, 62, 10], [129, 2, 2531, 780, 2, 1801, 5, 1177, 29, 222, 2, 18], [80, 374, 99], [388, 299, 12], [9, 221, 571, 262, 246, 40, 498, 1612, 84, 103, 934, 771, 158, 665, 103, 771, 205, 161], [17, 863, 998, 759, 4475], [1104, 1966], [66, 763, 41, 2493], [11, 180, 178, 552, 2201, 11, 17, 275, 272, 12, 51], [94, 2223, 1474, 4476, 1664, 278], [68, 15, 35, 231], [282, 14, 8, 7, 263, 769], [33, 1345, 37, 581, 111, 983, 775, 240, 21, 672, 830, 305], [48, 413, 4477, 2, 576, 161, 2532, 85, 60, 171, 494, 131, 2, 243, 401, 468, 324, 867, 4478], [588, 485, 2, 770, 310, 93, 399, 185, 600, 84], [59, 409, 103, 4479, 1351, 851, 283], [9, 40, 84, 1129, 372, 128], [2, 270, 1379], [4480, 67, 1301, 626, 98, 4481, 368, 4482, 426, 407, 327, 4483, 17, 148, 4484], [19, 562, 2533, 2534, 4485, 2535, 250, 4486, 2535, 4487], [153, 240, 38, 1440, 340, 304, 16], [2374, 44, 2536, 2417, 2537, 50, 361, 2537, 784, 18, 1439, 371, 73], [23, 2225, 4488, 40], [57, 86, 56, 1307, 1765], [28, 974, 691, 334, 26, 28, 1007, 4489, 1007, 851, 18, 482, 797], [12, 12, 4490, 413, 597, 4491, 214, 2538], [16, 98, 1743, 492, 4492, 4493, 248, 1004, 2539, 217, 293, 333, 133, 849, 2510], [579, 67, 128, 79], [624, 1137, 6], [1520, 1411, 1495, 282, 94, 394, 160, 1487, 287], [4494, 71, 302, 400, 4495, 410, 492, 2457, 111, 638, 4496, 26, 592, 298, 4497, 6, 136, 1198, 4498], [90, 266, 18, 50, 102, 51, 163, 4499], [205, 14, 738, 108, 330, 62, 196], [883, 4500, 4501, 4502, 4503], [83, 519, 42, 12, 345, 337, 19], [171, 892, 24, 93, 19, 138, 43, 44, 205, 14, 306], [4504, 4505, 105, 15, 82], [1044, 100, 84, 11, 42, 278, 136, 394, 114, 115, 384, 427, 229], [128, 5, 583, 2, 2523], [1655, 278, 700, 295], [4506, 288, 472, 94, 1060, 14, 103, 107, 51, 374, 18, 4507], [156, 304, 28, 43, 76, 4, 4508], [110, 599, 1773, 252, 2540, 4509, 4510, 298, 2502, 57], [161, 10, 4511, 4512, 147, 30, 239, 133, 174, 1178, 307], [637, 4513, 19, 1704, 46, 2000, 1902], [723, 845, 15, 115, 84], [502, 202], [1405, 142, 649, 2541, 22, 73, 792, 780, 8, 7, 712, 149, 1271], [2542, 1810, 154, 467, 385, 4514, 531, 225, 59, 2, 4515, 2326, 937], [40, 2094, 26, 204, 4516, 285], [2, 2543, 87, 1516, 68, 87, 867, 150, 5, 202], [131, 2378, 119, 415, 57], [18, 229, 133, 114], [429, 14, 232, 25], [33, 33, 1811], [1366, 982, 287, 17, 195, 409], [2544, 953, 8, 7, 1179], [22, 792, 203, 1811, 200], [978, 1180, 36, 87, 4517, 6, 678, 1181, 978, 388, 1401, 29, 1181, 4518, 4519, 960, 576, 6, 274, 363], [2, 2545, 177, 47, 473, 120, 113, 169, 10, 23, 28, 2546], [2317, 849, 1302, 130, 112, 100, 19, 58, 10, 6, 55, 117, 136, 2, 384], [132, 74, 235, 4520, 114, 222], [779, 4521, 312, 2, 75, 64, 4522, 30, 610, 4523, 1227, 141, 2, 312, 1810, 2004, 175, 213, 2, 44, 20, 2429, 50, 253, 4524], [71, 23, 981, 150, 40], [5, 91, 641, 695, 420, 1150, 5, 91, 23, 6, 27, 4525, 995, 949, 480, 321, 481, 137, 373, 511], [311, 38, 26, 209], [625, 2127, 163, 142, 62, 926], [1768, 425, 626, 195, 18, 122, 54], [678, 46, 46, 503, 22, 1534, 199, 55], [50, 3, 1008, 134, 85, 162], [82, 26, 37], [48, 706, 231, 2, 128, 104, 20, 37, 69, 253, 709, 234], [43, 189, 1165], [55, 194, 161, 260, 154, 211], [9, 16, 36, 128, 2, 2071], [18, 699, 184, 24], [2547, 46, 390, 520, 540, 1075, 495, 28, 474, 291, 204, 320, 31, 2, 2, 4, 30, 19, 2], [134, 5, 193, 391, 38, 4526, 3, 4527, 4528, 4529, 4530, 4531, 554, 2150], [255, 4532, 595, 197], [80, 17, 1104, 2, 4533, 569, 86, 2548, 1277], [220, 16, 424, 4534, 4535], [76, 1654, 12], [605, 200, 4, 15, 14, 8, 7, 20, 375, 2486, 192], [171, 19, 147, 10, 446, 42, 371, 23, 2178, 248, 1812, 19, 296, 2219, 756, 570, 317, 296, 1287, 978, 2252, 849, 4536, 4537, 1527, 229], [103, 97, 4538, 379, 2, 93, 4539, 148, 187, 558, 4540, 42, 64, 132], [85, 13, 539, 49, 4541, 753, 820, 396, 527, 120, 41, 28, 61, 27], [912, 15], [767, 885, 241], [104, 4542, 223, 510, 1000, 31, 251, 352], [51, 620, 1124, 4543, 1182, 256, 768], [429, 14, 232, 25, 402, 104, 864, 1137, 35, 140, 461, 16], [2258, 572, 4544], [281, 74, 57, 9, 808, 972, 216, 15, 354, 1510, 395, 12, 51, 170], [535, 4545, 4546, 152, 24], [2549, 19, 130, 1813, 10], [445, 692, 2, 681, 4547, 1250, 378, 411, 33, 25, 10, 294], [9, 213, 3, 896, 22, 11, 2529, 4548], [4549, 549, 662, 2550, 179, 256], [42, 6, 4550, 867, 3, 469, 79, 1114, 1140, 56, 2, 62, 199], [2058, 4551, 4552], [1166, 42, 6, 635, 98, 121, 319], [535, 24, 172, 8, 440, 7, 52], [97, 4553, 31, 65], [3, 65, 279, 1814, 190], [1519, 4554, 4555, 188], [1144, 653, 700, 728, 4556, 4557, 2046, 4558, 4559, 4560, 4561, 728, 1200, 623, 448, 2167, 2047, 996], [19, 2, 83, 29, 2, 101, 304, 991, 2551, 32, 1415, 4562], [405, 17, 346, 344, 36, 875, 26, 536, 518, 36, 485, 4563, 2552, 2553], [2494, 97, 448, 43, 2554, 181, 4564, 76, 31], [284, 60, 1120, 1810], [15, 168, 65], [69], [56, 1077, 209, 996, 517, 304, 305, 2555, 1964, 4565, 1189, 1077, 63, 63, 98], [1815, 2556, 55], [2361, 58, 418, 10, 22, 603, 638, 217, 2338], [227, 1624, 1416, 166, 111, 324, 4566, 37, 4567, 2137, 1211, 476, 495, 1665, 382, 4568], [2, 866, 1373, 299, 56, 109, 2, 106, 29, 1374, 42, 5, 191, 3, 2365, 236], [161, 49, 932, 54, 1529, 4569, 4570, 761], [57, 80, 2255, 1181], [853, 53, 140, 1343, 599, 2557, 188, 176, 379, 783, 22], [48, 706, 58, 161, 51, 163, 16, 154, 136, 31, 19, 1730, 27, 18, 1306, 4571, 753, 18, 303, 1603, 2558], [2, 1361, 313, 245, 4572, 91, 3, 70, 102, 300, 408, 95, 52, 437], [4573, 122, 4574, 453, 2559, 23, 213, 4, 341, 14, 676, 23, 4575, 533, 2, 446, 340], [215, 4576, 4577, 4578, 992], [2560, 1738, 297], [1119, 2131, 745, 410, 816, 138, 1396, 3, 506, 238, 27, 52, 963, 27, 52, 4579, 28, 20, 3, 27, 52], [23, 173, 305], [194, 220, 18, 50], [567, 1236, 202, 31, 1002, 8], [270, 10, 62, 10], [2561, 741, 38, 1413], [93, 2, 1789, 467, 281, 11, 1056, 4580, 662, 2468, 21, 67, 4581], [2, 60, 267, 655, 228, 399, 221, 60, 158, 1221, 254, 192, 25, 176, 87, 273, 4582, 161, 267], [3, 60, 168, 24, 9, 44, 2562, 14, 9], [1795, 8, 15, 7, 1181, 2, 621, 156, 2, 1206], [544, 5, 313, 475, 263, 1607, 550, 1688, 1151, 2477, 349, 193, 3, 739, 34, 88, 2563, 460, 208, 4583, 52], [4584, 4585, 4586, 925, 4587], [250, 4588, 1288, 4589], [57, 4590, 233, 833, 267, 183], [308, 232, 68, 156, 9, 25], [12, 359, 9, 152, 4591], [490, 4592], [94, 191], [148, 2452, 878, 22, 1177, 4593, 937, 4594, 4595, 4596, 467, 1199, 4597, 2319, 1034], [1004, 216, 8, 15, 7], [90, 285, 178, 584, 74, 111], [5, 313, 1174, 497, 132, 95, 774, 269, 1103, 102, 210, 32, 626, 1816, 1117, 1817, 243, 1818], [1601, 4, 13, 1485, 20, 248, 34, 367, 21, 129, 3], [1336, 4598, 6, 37, 746, 1136], [90, 4599, 98, 39, 139, 637, 1216, 155, 642, 4600], [2, 4601, 4602, 4603, 1350, 4604, 1386, 773, 190, 714, 4605, 153, 1386, 4606, 41, 153], [55, 38, 192, 289, 142, 18, 149], [662, 609, 1680], [2064, 302, 94, 26], [80, 311, 101, 4607, 76, 2, 11, 4608, 4609, 960, 5, 381, 1819, 55], [200], [1353, 44, 2212, 130, 97], [275, 44, 147, 705], [779, 63, 576, 4610, 722, 644, 4611, 4612, 320, 688, 4, 743, 1225, 2564], [4613, 69, 5, 313, 1174, 497, 132, 95, 774, 269, 1103, 102, 210, 32, 626, 1816, 1117, 1817, 243, 1818], [589, 176, 101, 17, 15, 1183, 429, 118, 6, 13, 342, 1175, 3, 2, 1979, 256], [2565, 474, 93, 286, 22, 14, 3, 2565, 434, 559, 3, 366, 15], [362, 3, 8, 7, 52], [26, 228, 62, 1414], [33, 33, 495, 999], [95, 134, 47, 69, 313, 81, 193, 3, 321, 230, 70, 442, 226, 236], [2458, 4614, 108], [55, 2408, 4615, 151, 208, 4616, 892, 58, 10, 9, 767, 2566, 12, 324, 172, 79, 15, 111, 178], [66, 1348, 2, 77, 72, 104, 249, 4617], [505, 4, 4618, 842, 62], [4619, 941, 503, 71], [2396, 1113, 167, 178, 155, 110, 1294, 117, 15, 700, 4620, 543], [9, 1026, 4, 5, 61], [4621, 2163, 1820, 108, 14, 4622, 867, 962], [22, 12, 2334, 26, 39, 1208], [35, 60, 14, 232, 140, 122, 4623, 378, 549, 221], [33, 33, 275, 184, 1179], [105, 138, 605, 56, 1544, 850, 31, 187], [48, 4624, 398, 474, 2, 1316, 235, 2, 4625, 59, 395, 1135, 2, 34, 4626, 61, 4627], [11, 232, 2359, 731, 2567, 4, 839, 2568, 111, 2568, 15, 526], [3, 224, 241, 1684, 260, 100, 118, 21, 118, 18, 118, 19, 118], [2569, 4628, 192, 2570, 209], [152, 246, 221, 35, 77, 1720, 721, 1454, 40, 947, 4629, 35], [485, 2, 235, 256, 103, 932], [182, 111, 3], [162, 285, 143, 157, 25, 2, 267, 38, 403, 5, 930], [171, 286, 457, 4630, 167, 854, 73, 613, 2571, 849, 23, 1087, 4631, 229], [139, 622, 22, 83, 976, 129, 4632, 380, 524], [134, 181, 109, 2, 24, 218, 143, 81, 193, 3, 321, 230, 70, 373, 242, 135, 34, 208], [166, 37, 30], [16, 36, 128, 35, 16, 1008, 515, 5, 346], [347, 85, 479, 109, 339, 347, 85, 162, 182, 70, 4633, 523, 3], [32, 3, 70, 1121, 186, 204, 15, 189, 46, 1821, 508, 2572, 946, 226, 28, 2573, 88, 4634, 285], [2, 354, 84, 68, 2, 2, 780, 2, 65, 411, 416, 4635, 781, 429, 628, 14, 232, 2, 262, 87, 4636, 15, 34, 118, 127], [4637, 30, 4638, 284], [93, 38, 4639, 2574, 107, 51, 700, 147, 287, 74, 304, 1202], [142, 815, 168], [404, 14, 132, 139, 15, 886, 4640, 4641, 345, 613, 39, 4642, 14, 12, 857, 26, 1744, 161, 185, 705], [4643, 67, 9, 25, 274], [1048, 216, 1180, 1822, 4644], [3, 602, 69, 143, 4645, 556, 1814, 3, 4646, 123, 235, 1360, 3, 602], [33, 1417, 105, 18, 1737, 258, 73, 203, 105, 18, 200, 1418, 593, 44, 11, 101], [2, 445, 68, 15, 87, 111, 232, 673, 555], [204, 860, 311, 16, 239, 79], [565, 416, 371, 15, 1045, 76, 11, 2475, 175, 18, 330, 44, 4647, 750], [19, 180, 362, 203, 853, 484, 1617], [78, 2456, 502, 901, 647, 4648, 2575, 71, 110, 585, 8, 538, 7, 1787], [2, 354, 84, 274, 87, 4649, 1985, 4650, 280, 161], [99, 613, 83, 92, 507], [2576, 189, 383, 955, 821, 606, 114, 32, 85, 955, 2576, 126, 36, 4651], [62, 266, 507], [53, 553, 60, 35, 2577, 579, 89, 35], [9, 1823, 20, 423], [1452, 265, 95, 91, 420, 32, 4652, 23, 224, 27, 10, 10, 4653, 367, 41, 511, 454], [174, 4654, 174], [48, 706, 75, 1824, 2, 58, 12, 15, 2, 37, 15, 2, 59, 3, 30, 1825, 363], [71, 283, 182, 1486], [63, 154, 39, 3, 97, 996, 29, 2578, 68, 18, 16, 225, 4, 871, 844, 365, 1184, 1709, 116, 695, 269, 97, 871, 844, 59, 341, 766, 112, 194, 31, 1710, 187, 1419, 97, 844], [8, 7, 52, 28, 830, 148], [42, 741, 55, 2579], [1308, 455, 427, 105, 455, 2369, 455, 1443, 2370, 455, 455, 769], [155, 219, 640, 397], [106, 131, 4655, 85, 11, 4656], [80, 152, 573, 165, 123, 76, 11, 4, 761], [2170, 980, 1587, 379, 2210, 10, 2580, 38, 1756, 2, 2184, 4, 180, 531, 5, 490, 38, 42, 4, 4657], [314, 8, 7, 297], [537, 66, 4658, 19, 2581, 975, 30, 543, 569, 2582, 41, 34, 966, 4659, 129, 27, 61, 23, 28, 28, 824], [633, 1215, 1334], [356, 92, 608], [259, 212, 542, 18, 6, 1793, 127], [15, 44, 73, 121], [69, 4660], [921, 4661, 4662], [145, 145, 33, 462, 4663, 116, 170, 55, 145, 591], [33, 128, 258, 300, 175], [58, 62, 49, 926, 163, 177, 270, 4664], [48, 12, 4665, 4666, 163, 2], [66, 83, 2, 838, 312, 2, 273, 19, 2583, 124], [906, 362, 38, 4667, 1733, 11, 152], [665, 899, 12, 187, 43, 155, 2584, 145, 990], [35, 4668, 68, 15, 35, 231, 982], [266, 1804, 1809, 2409], [1689, 765, 414, 2354, 23, 28, 182, 120], [6, 87, 727, 948, 1082], [43, 143, 438, 320, 49, 719, 788], [24, 855, 13, 378, 1023, 1889, 2, 855, 5, 1176, 459], [64, 2490, 4669], [331, 197, 1826, 17, 435, 227, 12], [2585, 1100], [345, 19, 2, 1420, 4670, 345, 2091, 1620, 4671, 1420, 2586, 345, 2016, 4672, 1420, 2586, 345, 4673, 4674, 4675, 4676, 1420, 19, 2, 1827], [292, 172, 801, 736, 1223, 160, 282, 8, 7, 364, 802, 93, 1923, 1924, 108, 59, 62, 224, 281, 283, 803, 1925, 213, 365, 282, 364, 160, 1926, 1224, 55, 1043, 160, 153, 50, 129, 92], [512, 402, 130, 4677, 4678, 1413, 611, 60, 4679, 1719, 2446, 4680, 78], [25, 118, 6, 249, 384], [4681, 1557, 143], [18, 449, 279, 52, 20, 49, 206, 46, 1328, 420, 169, 45, 3, 41, 501, 79], [62], [235, 863, 112], [33, 180, 162, 4682, 197], [992, 97, 225, 972, 79], [1883, 4683, 2587], [105, 176, 618, 639, 2332, 22, 2, 140, 77, 9, 26, 1116, 267, 17, 575], [401, 43, 28, 865, 12, 694, 94, 31, 129, 142, 862, 606], [134, 181, 109, 2, 24, 218, 143, 81, 193, 3, 321, 230, 70, 442, 226], [57, 9, 281, 11, 670, 567, 309, 4684], [53, 18, 54], [49, 1275, 369, 556, 139, 49, 199, 1309, 556, 41, 369, 157, 88, 4685, 2, 41], [26, 809, 4686, 702, 45], [522, 271, 489, 143, 661, 744, 257, 3, 557, 326, 523], [379, 85, 33, 40], [676, 819, 216, 3, 101, 159, 2588, 233, 989, 438, 74, 680], [4687, 923, 1133, 168, 2, 207, 1828, 305, 348, 16, 37], [30, 1080, 778, 328, 715, 60, 304, 174], [48, 78, 3, 1814, 11, 548, 159, 18, 74, 159, 630, 44, 4688, 41], [4689, 200, 6, 4690, 2078, 377, 116, 317, 201, 2079, 258, 10], [781, 258, 28], [2, 461, 110, 403], [468, 825], [44, 399, 43, 2589, 14, 9, 21, 60], [71, 16, 925, 154, 4691], [1201, 718, 2, 2583], [231, 222, 3], [724, 4692, 101, 4693, 20, 66, 979, 179], [99, 97, 2111, 2073, 2590, 315, 670, 4694], [2, 38, 2149, 5, 1829], [215, 114, 28], [118, 9, 1352, 869, 34, 4695, 8, 7, 52, 843, 41, 2], [16, 37, 775, 4696], [164, 199, 1001, 191, 148, 1168, 1830, 191, 394, 107, 1168, 2591, 394, 98, 153, 39, 1122, 40], [50, 44, 191, 1156, 519], [200, 2592], [152, 388, 157, 1477, 114], [446, 101, 76, 11, 502], [1390], [78, 4697, 4698, 26, 200, 153], [26, 276, 4699], [44, 920], [2, 140, 60, 239, 2460, 2, 34, 84, 60], [84, 4700, 49, 82, 1450], [259, 581, 748, 91, 12, 496, 1068, 4701], [53, 269, 246, 553, 254, 36, 421, 89, 68, 967, 77, 25, 401, 2386, 246, 36, 699, 4702, 553, 25], [222, 553], [9, 25, 61, 67, 2, 3], [134, 50, 3, 412, 91, 261, 529, 465, 34, 530, 242, 135, 639], [30, 429, 68, 15, 2, 235], [133, 14, 181, 2593, 158], [17, 85, 4703, 90, 269], [254, 428, 2594, 4704], [1831, 89, 574, 2570, 188], [177, 268, 60, 451, 4, 1832, 4705], [11, 61, 970], [2, 77, 16, 249, 149], [4706, 55, 2595, 1256, 239, 112], [163, 62, 926], [993, 993, 993, 132, 558, 4707, 11, 4708, 4709, 1410, 21], [854, 66, 19, 42, 58, 10, 6, 55, 170, 100, 83, 185, 610, 384, 427, 217], [197, 716, 309, 58, 4710, 4711, 253, 4712, 4713, 74, 66, 6, 1823, 2596, 2, 4714, 139, 4715, 234], [132, 794, 19, 4716], [1434], [55, 1752, 743, 4717, 1167, 54], [215, 4718, 424, 640, 1358, 771, 146, 852], [9, 159, 215, 26, 536, 1343, 4719], [271, 4720, 2362, 4721, 8, 440, 7, 4722, 4723, 271, 641, 29, 8, 440, 7, 2597, 414, 4724, 8, 7], [1049, 490, 4725, 192, 438, 37, 532, 31, 127, 124], [48, 709, 355, 58, 31, 79, 192, 2542, 4726, 32, 37, 2, 234], [147, 2598, 258, 360, 994, 24, 38, 235, 30], [1466, 619, 1006, 2, 65, 13, 44, 3, 36, 4727, 36, 44, 2], [84, 22, 142, 427], [577, 42, 6, 746, 63, 1368, 172], [779, 477, 26, 1833, 4728, 58, 2, 29, 4729, 12, 15, 59, 250, 392, 2557, 37, 250, 229], [1042, 14, 299, 252, 4730, 2305, 2547, 97, 1691], [211, 4731, 175, 378, 515, 5, 1734, 68, 35, 17, 1734, 411], [101, 911, 791, 121, 556], [348, 366, 4732, 4733, 198, 2599, 9], [290, 653, 2600, 93, 42, 1344, 93, 4734, 4735, 4736, 252, 2577, 64, 330, 4, 2601, 14, 601], [619, 467, 54, 14, 60, 1323, 42, 1206, 472, 94], [1831, 1138, 213, 44, 94, 296, 213, 204], [35, 6, 30, 256, 89, 284, 128], [694, 241, 74, 186, 648, 152, 476, 1045, 700, 2476, 4737, 252, 107, 439], [1885, 1692, 221, 35, 403, 934, 896, 35], [29, 2, 2602, 249], [174, 812, 4, 419, 1400, 18, 16, 106], [535, 24, 172, 8, 7, 52], [542, 31, 2, 1834], [105, 1418, 2603, 4738], [60, 951, 1059, 65, 22, 1059, 951], [4739, 17, 125, 72, 157, 4740, 2041, 4741, 953, 2, 18, 314, 1232], [405, 172, 580, 249], [2520, 4742, 345, 407, 180, 44, 1032, 677, 310, 503, 294, 2592, 139, 4743, 36, 1641, 121, 2604, 103, 4744, 4745, 4746], [37, 123, 4747, 188, 76, 11, 247], [4748, 4749, 187, 452, 217, 56, 141, 1489, 133, 2605, 1489, 671, 317, 217, 535, 123, 4750, 1002], [16, 4751, 297, 28, 8, 440, 7], [648, 56, 38, 295, 319], [49, 533, 2414, 4752, 4753], [55, 286, 15, 54, 12, 15, 1043], [1005, 164, 729, 2, 14, 4754, 623, 2, 141, 23, 263, 4755, 32, 292], [403, 181, 231, 49, 115, 299, 862, 699, 222], [2600, 156, 2, 232, 4756, 293, 268, 86, 14, 87, 268, 2, 778, 53, 580, 2, 274, 304, 232, 2, 175, 24, 2044], [1261, 1259, 182, 829, 1068, 95, 81, 422, 331, 3], [2, 445, 23, 1280, 829], [63, 292, 3, 79, 2217, 2218], [19, 58, 94, 4757, 1831, 673, 929, 46], [604, 2, 23, 4758, 221], [62, 2606, 931, 4], [299, 862, 753, 2607, 360, 170], [188, 186, 198, 26, 4759], [63, 147, 276, 239, 4760], [51, 371, 170, 55, 31, 4761, 4762, 877, 203, 233, 170, 1225, 2564], [709, 4763, 2608, 1671, 528, 97], [17, 2483, 4764, 1324, 4765, 17, 139, 976, 60], [589, 241, 6, 1835, 36, 1143, 1112, 183, 308, 4766, 1143, 1112, 4767, 176, 17, 2411, 378, 385, 256], [1836, 38, 1147], [168, 30, 151, 97, 21, 74, 612], [1098, 47, 4768, 332, 933, 144, 800, 13, 571, 52, 20, 368, 1531, 20, 90, 4769, 1047, 1151], [12, 76, 272, 277, 50, 989, 587, 139, 652, 499, 10], [181, 106, 1381, 335, 111, 121], [43, 288, 241, 403], [59, 1834, 42, 42], [215, 35, 608], [57, 63, 50], [522, 271, 489, 143, 661, 744, 257, 3, 557, 326, 363, 523], [117, 16, 990], [1837, 1837, 68, 1837, 99], [298, 23, 1659, 24, 452, 179], [62, 496, 3, 2040, 70, 193, 91, 349, 283, 201, 684], [550, 2, 544, 5, 313, 550, 349, 301, 349, 193, 4770, 831, 218, 4771, 443, 1838, 88, 964, 126, 95, 1101, 243], [33, 33, 26, 4772, 45, 31, 625, 84, 650, 1411, 416, 2320, 18, 119, 59, 1160], [76, 6, 952, 4773], [9, 168, 30], [4774, 21, 28, 2521, 1185], [182, 1164, 195, 49, 144, 47, 1395, 32, 130, 157, 4, 2609, 701, 27, 1421], [39, 14, 990], [134, 347, 834, 765, 24, 525, 10, 106, 747, 1085, 835, 836, 1086], [362, 40], [78, 1025, 154, 423, 456, 423], [17, 316, 4775, 4776], [17, 258, 196, 22, 749, 4777, 4778, 108, 157, 746, 101, 4779, 17, 428], [134, 47, 313, 486, 487, 81, 322, 339, 109, 3, 135, 1621, 358, 506, 238], [274, 24, 4780, 161, 671, 945, 106, 15, 1189, 57, 55, 39, 116, 34, 2, 127, 34], [18, 44, 260, 133, 2503, 15, 20, 4781, 21, 587], [17, 14, 8, 7, 4, 65, 319, 4, 374, 133, 14], [589, 59, 22, 10], [92, 780, 4782], [2188, 2298, 4783, 4784, 4785, 2, 53, 4786, 11, 4787, 29, 838, 4788, 153, 4789, 2, 243, 431, 5, 4790, 264, 19, 373, 234], [178, 299, 1118, 1174], [45, 713, 785, 195, 4791, 3, 375, 713, 323, 692, 1462, 45, 713, 195, 47], [340, 55, 92, 4792], [611, 39, 12, 116, 266, 627, 50, 23, 237, 4, 265, 1724], [4793, 4794, 4795, 4796, 4797, 4798, 4799, 4800], [196, 4801, 1001, 14, 4802], [278, 83, 100, 84, 11, 76, 23, 119, 2233, 460, 21, 18, 646], [349, 181, 4, 1237, 2310, 108], [19, 296, 158, 31, 4803], [1391, 471, 663, 95, 1015, 985, 81, 2, 11, 49, 2610, 2611, 32, 148, 150, 1014, 28, 1089, 4804], [4805, 71, 4806, 71, 1634, 386, 163, 2247, 71, 24, 386], [33], [9, 25, 2, 77, 6, 205, 2], [888, 95, 4807, 1339, 227, 1151], [63, 289, 46, 2612, 9, 240, 4808, 93, 1177, 22, 1808, 2531, 369], [1001, 4809, 4810], [515, 231, 184, 6, 1676, 25, 429, 628, 25, 2, 231, 5, 184, 84], [783, 932, 36, 708, 4811, 176, 34, 35], [2162, 123, 4812, 390, 188, 629, 185, 696], [66, 662, 346, 492, 256], [122], [3, 189, 5, 52, 3, 4813, 27, 52, 436, 1296, 120, 1599, 2613, 508, 160, 2613, 135, 987, 2, 28, 243], [13, 4814, 20, 106, 19, 98, 155, 13, 20, 265, 13, 61], [63, 1065, 1509, 80], [544, 45, 1354, 218, 2, 81, 70, 3, 67, 34, 28, 190, 236], [589, 38, 43, 4815], [183, 526, 2, 411, 2, 11, 55, 40, 569, 962, 173, 575, 25, 2, 1802, 6, 106, 22, 1348, 1695, 2261, 256], [48, 1338, 4816], [50, 152, 2614, 63, 520], [2615, 970, 2616, 179], [77, 72, 268, 359], [140, 67, 491, 140, 176, 342, 84, 2465, 5, 720, 33], [26, 4817, 761, 24, 175], [49, 396, 43, 4818, 690, 146, 67, 430, 34, 2, 50, 152, 61, 10, 971, 5, 556, 41, 4819, 4820, 124, 3, 4821, 4822, 1324, 2519], [4823, 3, 262, 98, 937, 901, 71, 865, 619], [70, 269, 1103, 3, 4824, 236], [82], [3, 621, 4825, 1306, 201, 138, 26, 362, 97, 1806, 2617, 22, 11, 4826, 1839, 27, 52, 1035], [311, 119, 288, 54, 168, 1037, 2618, 1735, 4827, 74, 360, 1651, 160, 600], [216, 250, 10, 79], [2400, 4828, 2200, 2558, 4829], [101, 468, 235, 4830, 127], [694, 127, 4, 4831, 201], [327, 163, 117, 49, 115, 327, 204, 2619, 1031, 1840, 4832, 187, 56, 433, 1841, 58, 304, 12, 83, 19, 118], [43, 288, 10, 250, 4833, 4834, 869, 16, 341, 214, 4835, 457], [48, 75, 4836, 15, 334, 4, 102, 10, 457, 12, 51, 4, 30, 79, 528], [14, 204, 275, 365, 43, 11], [83, 4837, 21, 646, 1044, 491, 377, 83, 19], [4838, 75, 1487, 758], [588, 280, 4839, 515, 164, 241, 25, 17, 89, 380, 176, 553, 1219, 6, 1584, 176, 1241, 38, 4840, 68], [425, 2597], [98, 228, 505, 158, 4, 304, 98, 304, 505, 158, 100, 108, 244, 1422, 199, 372, 1696, 4841, 145, 1009], [340, 127, 177], [48, 4842, 180, 162, 20, 20, 62, 51, 1757, 23, 28, 28, 120], [4843, 14], [228, 254, 485, 2, 93, 89, 53, 2, 4844, 4845, 147, 2620, 4846, 1349, 1349, 254, 147, 84, 579, 24, 26, 254, 3, 25], [146, 462, 26, 247, 1318, 297], [492, 154, 16, 1385, 23, 253, 1842, 4847, 154, 16, 4848, 23, 253, 1116, 154, 16, 104, 2, 23, 116, 61, 2, 145, 1212], [522, 271, 489, 143, 661, 744, 257, 3, 557, 326, 523], [4849, 6, 749, 388, 43, 76, 4850], [1740, 233, 251, 2, 43, 100, 2, 43, 21, 2, 372, 86, 291, 505, 2, 21, 123, 2, 43, 44, 39, 116], [369, 1002], [667, 667, 2366, 4851, 171, 4852, 171], [255, 4853, 1839, 443, 123, 559, 6, 4854, 123, 2606, 2], [164, 4855], [281, 509, 425, 76, 11], [18, 49, 206, 46, 449, 279, 52, 1244, 206, 3, 1774, 169, 45, 13, 4856, 3, 41], [43, 348, 122, 22, 78], [78, 4857, 247], [1099, 400, 1201, 124, 2175, 117, 49, 115, 1347], [1227, 3, 281, 1055, 141, 782, 3, 482, 141, 2180], [133, 14, 2621, 110, 447, 20, 788, 85, 1185, 295], [811, 582, 25, 183, 177, 963, 36, 575, 335, 692, 768, 378, 582, 1020, 1358, 681, 211, 4858, 1381, 335, 294, 2, 1674], [156, 1843, 351], [13, 20, 85, 442, 2423], [492, 2548, 170, 2622], [31, 770, 868, 497, 15, 4859, 1208, 178, 1326, 100, 4860, 125, 72, 4861, 341, 22, 881, 359, 125, 72, 4, 341, 21, 16, 30, 21, 4862, 94, 21, 67, 4863, 1723, 825], [193, 91, 81, 70, 263, 81, 3, 182, 120, 942, 208, 224, 27], [55, 75, 4864, 15, 56, 1794, 2623], [434, 81, 218, 181, 109, 2, 24, 218, 143, 81, 193, 3, 321, 230, 442, 226], [66, 156, 150, 1642, 197], [1302, 389, 1185], [11, 2624, 1418, 119, 287, 1844, 282, 736, 209, 14, 194, 21, 129, 73, 21], [574, 671, 320], [204, 219, 124], [2625, 1196, 2, 4865, 310, 317, 54, 2626, 4866, 2627, 4867, 4868, 36, 139, 2010, 569], [311, 8, 7], [167, 4, 268, 53, 194, 418, 54, 2, 4, 300, 19, 64], [106, 82, 1797, 375], [49, 2628, 50, 3], [63, 1026, 4869, 4870], [4871, 232, 371, 42, 108, 161, 15, 149, 225, 311, 32, 2, 65, 53, 75, 1585, 234], [59, 22, 100, 69, 50], [48, 210, 9, 2500, 90, 192, 627, 385, 4872, 1379, 1512, 21, 4, 30, 36, 612, 4873, 451, 534, 2], [48, 1825, 43, 11, 74, 3, 2, 75, 30, 559, 234], [33, 101, 2629, 30, 190, 388, 71], [4874, 322, 339, 109, 2, 2, 3, 67, 2630, 957, 36, 363, 2631, 236, 2632, 870], [35, 67, 26, 1334, 580, 30], [1132, 2, 178, 34, 768, 22, 308, 342, 2633, 41, 148, 15, 2, 41, 618, 525, 855, 405, 17, 4875, 5, 4876, 197, 1023], [4877, 147, 1533, 652], [1254, 1062, 627, 14, 8, 7, 198, 4878, 4879, 319, 4, 542, 483, 439, 1254, 8, 7], [57, 174, 149], [855, 4, 196], [220, 14, 1900, 2331, 4880, 202], [80, 507], [604, 5, 697, 17, 1156, 344, 60, 811, 1175, 16, 39, 205, 34, 17], [2, 334, 4, 572, 4881, 397, 638, 6, 382, 341, 2, 621, 14, 15], [2634, 92, 1845, 206, 4882, 2634, 772, 27, 42, 207, 23, 206, 4883], [60, 48, 4, 750, 37, 983, 775, 1712, 4884], [265, 95, 13, 1279, 4885, 1282, 41, 37, 4886], [1053, 16, 2], [4887, 4888, 53, 113, 212, 4889, 78, 1846, 4890, 13, 212, 62, 4891], [4892, 4893, 4894, 4895, 4896, 4897], [466, 1530, 434, 195, 332, 933, 1278, 144, 13, 1279, 571, 52, 32, 368, 3, 674, 3, 437, 687, 1301], [142, 555], [2368, 601, 75, 799, 4898, 843, 4899, 155, 4900, 636, 1613, 253, 2, 1582, 4901], [297, 1054, 8, 7], [605, 795, 11, 851, 121], [8, 7, 2155, 2068], [322, 339, 1098, 2, 45, 517, 81, 475, 91, 81, 3], [2, 325, 61], [139, 578, 133, 1952, 4902, 1521, 4903, 352, 139, 1846, 858], [535, 24, 172, 8, 440, 7, 52], [63, 1417, 444, 796, 9, 16], [2626, 4904, 4905, 2514], [547, 80, 4906, 75, 299, 862, 420, 191], [56, 4907, 2635], [1049, 76, 11, 1417, 175], [17, 1063, 624, 119, 18, 6, 2095, 2096, 2097, 2603, 286, 192], [4908, 2472], [2330, 276, 14, 8, 7, 186], [1247, 259, 259, 259, 16, 49, 1325, 410, 1774, 785, 4, 13, 955, 568, 114, 606, 131, 5, 583], [35, 973, 65, 973, 246, 754, 344, 35, 26, 30, 148], [801, 4909], [2636, 40, 401, 362, 3], [407, 1826, 16, 741, 509, 196], [2637, 189, 419, 652, 1335], [2, 539, 1707, 2, 943, 2195, 1210], [56, 101, 735, 11, 386, 1602, 165, 438, 4910], [899, 167, 598, 2638, 1547, 102, 866, 5, 555, 512, 2625, 2, 2254, 318], [18, 8, 7, 29, 40], [288, 319, 657, 347, 320, 111, 4911, 167, 4912, 293, 1938, 54, 334, 578, 4913, 125, 72, 6, 2418], [1409, 344, 485, 35, 60, 4914], [1346, 4915, 4916, 164, 4917, 4918, 121, 15, 51], [9, 790], [255, 359, 84, 639, 18, 459, 269, 137], [13, 206, 393, 46, 198, 353, 230, 546, 560, 1266, 1267, 52, 824, 3, 674, 3, 437], [859, 519], [265, 240, 4919, 127, 2639, 2617, 4920, 46, 69, 4921, 4922, 220, 50, 109, 930, 1886], [132, 722, 2185, 293], [588, 25, 136, 490, 231, 536, 184, 25, 483, 112, 324, 30, 823, 247, 247, 280, 823, 852], [965, 185, 10, 2574, 18, 1847, 39, 2059], [582, 1106, 2, 60, 902, 2, 140, 77, 84], [787, 167, 4923, 4, 669, 286, 54, 1041, 187, 494, 1951, 286, 54, 2640, 1586, 370, 248, 145, 717], [78, 12, 112], [4924, 700, 648, 11], [52, 65, 33], [55, 880, 2487, 62, 4925, 62, 21, 188, 730, 4926, 4927, 4928, 62, 111, 491, 370, 337, 30], [146, 118, 4929, 1423, 4930, 10, 4931, 4932, 464, 1281, 4933, 783, 4934], [48, 2641, 840, 222, 208, 4935, 149], [], [18, 4936, 5, 583, 417, 49, 96, 41, 96, 2, 20, 88, 729, 53, 113, 1382, 36, 177, 96, 508, 279, 684, 238, 367], [1845, 209, 24, 316, 242, 135, 69], [639, 26, 87, 184], [625, 219, 911, 1992, 160], [66, 4937, 441, 405], [359, 697], [344], [48, 706, 74, 2, 4, 980, 4938, 4939, 490, 112, 86, 12, 15, 107, 51, 75, 381, 127, 3, 2], [364, 2238, 364, 4940, 4941, 14], [18, 49, 144, 500, 46, 4942, 79, 13, 165, 47, 13, 20, 13, 450, 41, 3], [610, 10, 1422, 112, 704, 58, 389, 704, 4943, 355, 704, 253, 51, 704, 813, 163, 2, 106, 24, 12, 112], [213, 94, 388], [2, 18, 434, 13, 20, 85, 49, 206, 46, 198, 353, 230, 546, 3, 13, 106], [724, 89, 16, 302], [731, 46, 38, 4944, 734, 4945], [308, 555, 549, 35, 158, 1775], [5, 91, 641, 695, 420, 1150, 5, 91, 23, 91, 27, 61, 995, 949, 480, 321, 481, 137, 373, 511], [99, 2, 16, 694], [78, 11, 8, 7, 300, 8, 7, 300, 386, 427, 4946, 815, 59, 733, 349, 10, 14, 4947, 539, 50, 109, 2407, 969, 375], [154, 136, 31, 817, 4948], [85, 335], [406, 4949, 2642, 629, 1153, 111, 950, 202], [105, 4950, 4951, 573, 15, 970, 414, 1580, 20, 708, 299, 566], [4952, 96, 1155, 114, 226, 677, 1727, 50, 31, 1434, 2, 4953, 4954], [73, 129, 2, 159, 59, 1138, 2339, 321, 2, 258, 159, 129, 2, 4955, 1848, 159], [2, 184, 543, 376], [2643, 4956, 2507], [463, 405, 2644, 1320, 711, 965, 859, 86, 268, 4957, 143, 4958], [1650, 1847, 93, 2645, 21, 139, 900, 2038, 418, 4959], [959, 132, 514, 647], [1965, 12, 82, 59, 2, 609, 264, 559, 283, 124], [227, 2, 132, 110, 5, 130], [2428, 122, 4960, 188, 4961, 2646, 134, 2109, 4962, 8, 7, 1849, 2647, 4963, 310, 4964, 8, 7, 1849, 194, 534], [735, 11, 142, 673, 2308, 983, 775, 42, 132, 562, 14], [9], [125, 72, 30, 127, 18, 204, 209, 1060, 149, 33, 4965, 302, 24], [66, 38, 18, 6, 1629, 494, 153, 1319, 6, 1146, 576, 2648, 705], [1172, 320, 1829, 121, 248, 552, 166, 291, 106, 116, 302, 497, 1829, 123, 4, 2018, 4966], [912, 4967, 15, 8, 7, 208, 4968], [779, 608, 4969, 223, 45, 1416, 617, 17, 4970, 49, 263, 559, 4971, 1832, 2, 1415, 734, 146, 74, 4972, 4973, 705], [86, 12, 31, 10, 4974, 337], [55, 152, 151, 83, 233, 426, 37, 58, 161, 170, 19], [11, 136, 262], [48, 58, 12, 10, 207, 51], [698, 197, 582, 25, 381, 1786, 294, 6, 4975, 1784], [428, 1215, 17, 2, 4976, 4977, 15], [2587, 55, 160], [134, 181, 109, 2, 24, 218, 143, 81, 193, 3, 321, 230, 70, 34, 442, 226], [2, 239], [1830, 4978, 4979, 453, 4980], [655, 56, 4981], [4982, 1143, 1607], [49, 2628, 50, 3], [1424, 429, 1424, 813, 429, 630, 1424, 353, 1424, 2120], [87, 61, 254, 2, 103, 92, 349], [804, 29, 716, 888, 716, 1376, 60, 22, 2649, 469, 4983, 60, 8, 7, 1849, 2650, 804, 119, 4984, 2649, 469, 622, 4985, 1083, 8, 7, 263, 59, 8, 7, 2650, 196, 804, 1153, 2561, 4986, 867, 796, 13, 1143, 4987, 8, 7, 1277, 586, 102, 2296, 4, 1520, 8, 7, 8, 7, 263, 21, 317, 469, 123, 4988, 914, 42, 119, 4989, 1813, 2651, 464, 97, 4990, 2651, 4991, 862, 4992, 4993, 4994, 888, 4995, 219], [4996, 1291, 151, 1398, 92, 319, 694, 15, 16, 79], [86, 1491], [12, 12, 196, 14, 4997], [148, 15, 2335, 632], [198, 115, 395, 598], [48, 1850, 4998, 158, 14, 11, 4999, 1359, 41, 5000, 13, 90], [66, 83, 438, 5001, 2596, 40, 858, 1133, 40, 5002, 447, 40, 1050, 10, 220, 5003, 5004, 5005, 1685, 3, 5006, 75, 5007, 5008, 373, 124], [76, 11, 21, 94, 305, 5009, 2380, 108, 164, 1205, 348, 4], [1337, 4, 760, 1272, 6, 37], [431, 16, 142, 2652, 349, 984, 5010, 1851, 1851], [60, 8, 7, 115, 392, 303, 119, 107, 8, 7, 38, 162, 262], [152], [424, 17, 40, 2614, 146, 411], [178, 138, 653, 21, 119, 1276], [173, 330, 102, 15, 5011, 107, 360, 45, 474, 1084, 327, 330], [43, 59, 1772, 312, 42, 1718, 251, 73, 482, 170, 971, 1740, 5012], [154, 2, 155, 49, 5013, 1481, 1356], [5014, 525, 298, 1402, 990], [38, 1905, 1642], [117, 463, 10, 11, 239, 1732, 5015, 2453, 163, 167, 231, 1423, 625, 223], [2653, 1039, 5016], [42, 40, 372], [207, 666, 213, 189, 448, 679], [99, 125, 72, 107, 160, 5017, 289, 8, 7, 688, 2105, 45, 451, 5018, 5019], [356, 79, 121, 8, 7], [86, 21, 229, 2, 100, 2, 309, 5, 309, 5020], [11, 5021, 5022, 415, 106, 8, 2654, 7], [401, 5023], [1338, 311, 26, 1343], [183, 119, 267, 65, 17, 6, 1639, 183, 299, 1186, 2550, 468, 346], [48, 706, 75, 1846, 583, 75, 125, 72, 67, 5024, 273, 50, 16, 1717, 19, 709], [13, 206, 393, 46, 198, 353, 230, 546, 560, 1266, 1267, 52, 824, 3, 674, 3, 437], [669, 191], [201, 114, 8, 7, 52], [83, 37, 16, 37], [78, 5025, 130, 50], [12, 10, 482, 86, 403, 64, 79, 51], [102, 746, 861, 45, 869, 5026], [61, 47, 473, 351, 5027, 1848, 339, 2116, 1037, 279, 2655, 5028, 5029, 5030, 113, 126], [3, 44, 2196, 3], [92, 58, 12, 10, 24], [1166, 129, 233, 5031], [128], [11, 5032, 336, 5033], [2497, 533], [255, 285, 25], [55, 175, 1498, 919, 1499, 261, 529, 465, 3, 2462, 530, 701, 323, 2463, 1105, 2464, 224, 208, 870, 52], [33, 21, 1245, 94], [29, 222], [1699], [66, 172, 197, 104], [9, 1381, 335, 82, 4, 902, 801, 5034], [107, 54, 334, 327, 291, 42, 93, 797, 1697, 2656, 5035, 110, 26, 438, 770, 141, 653, 141, 802, 14, 93, 291, 143, 86, 11, 5036, 1078, 260, 159, 15, 823, 623, 1404, 39, 719, 170, 18, 6, 251, 54, 56, 276, 1237, 2657, 517, 73, 202, 1697, 2658, 5037, 5038, 276, 5039, 2659, 108, 305, 622, 12, 630, 333, 276], [44, 1711, 158, 5040, 2267, 4], [28, 396, 96, 918, 28, 2250, 31, 96, 126, 214, 5041, 677, 396, 96, 224, 508, 45, 5042, 242, 135, 1687, 1589], [292, 162, 1317], [16, 871, 734, 208, 862, 40], [5, 357, 40, 930, 250, 53, 84, 270, 357, 40, 1848, 930], [90, 1757], [171, 19, 6, 10, 163, 55, 174, 83, 58, 106, 196, 5043, 100, 504, 1425, 229], [227, 478, 2416, 14, 164, 15, 5044, 209, 76, 1216, 569, 15, 763, 289, 601, 23, 28, 1273, 46, 17, 188, 103, 170, 376, 15, 823, 5045, 2657, 800, 630, 56, 276], [6, 44, 73, 101, 18, 201, 330, 64, 650, 186, 2088, 16, 330], [], [171, 21, 5046, 1177, 5047, 765, 5048, 5049, 5050, 320, 21, 533, 5051, 893, 513, 29], [2030, 2482, 178, 656, 14, 786, 14, 233, 1785, 1812, 2638], [57, 33, 42, 5052, 5053, 408, 1264], [55, 139, 54, 791, 5054, 49, 115, 1161, 5055, 1841, 708, 5056, 108, 26], [356, 555, 38, 121, 735, 111], [183, 4, 622, 468, 635, 303, 11, 139, 5057], [5058, 96, 27, 41, 614, 1731, 658, 614, 1725, 1725, 2660, 80, 707, 5059, 5060, 16, 28, 96, 32], [23, 414, 1265], [213, 4, 5061, 78, 11, 251, 304], [90, 255, 5062, 793, 26, 5063, 5064, 5065], [13, 223, 45, 144, 96, 5, 47, 102, 45, 32, 144, 4, 848, 44, 5, 413, 88, 1003, 53, 113, 323, 137, 659, 1110, 27, 96], [241, 132, 12, 1118, 99], [5, 91, 641, 695, 420, 1150, 5, 91, 23, 91, 27, 61, 995, 242, 135, 2306, 137], [5066, 908, 825, 401, 24], [1403, 102, 521, 216, 189, 5067, 55], [156, 26, 17, 1832], [189, 1790, 1791, 1376, 12, 1750], [19, 1847, 18, 642, 1190, 1115, 97], [33, 33, 544], [2, 18, 104, 2518], [57, 979, 148, 15, 2, 189, 1006, 130], [240, 6, 536, 588, 87, 5068, 158, 1178], [5069, 5070, 15, 115], [1852, 5071, 1753, 1852, 285, 2661], [4], [125, 72, 128, 1853, 82, 30, 141, 730, 328, 5072], [136, 2, 25, 21, 133, 260, 221], [302, 980, 447], [75, 63, 470, 107, 273, 5, 1181, 5073, 5074, 2662, 2, 59, 42, 2, 5075], [2, 89, 114, 264, 56, 9, 25], [78, 2, 592, 1016, 479, 339, 109, 2, 32, 138, 27, 1192, 480, 321, 481, 137, 373, 511, 874, 263], [48, 2663, 115, 392, 74, 5076, 19, 753, 20, 201, 1024, 20, 2663, 2151, 219, 40, 5077], [2], [271, 2664, 13, 20, 85, 1284, 32, 130, 383, 34, 88, 1010], [544, 5, 313, 550, 301, 349, 193, 13, 343, 831, 218, 32, 443], [167, 31], [66, 586, 401, 1179, 40], [745, 1511, 5078, 12, 1727, 571, 5079], [17, 721], [241, 17, 5080], [122, 22, 1646, 40, 50], [5081, 482, 5082, 1292, 200], [2, 6, 37, 938, 25], [58, 54, 147, 55, 679, 5083, 38, 21, 6, 2, 34, 286, 54, 289, 1744], [194, 220, 1172, 707, 1412, 5084, 5085, 619], [1132, 2, 716, 54, 2, 140, 77, 211, 2, 1146, 84], [214, 938, 329], [1045, 1426, 174, 117, 123, 55], [105, 44, 103, 117, 386], [240, 5086, 5087, 830, 5088, 1149, 1901, 730, 5089, 602, 5090, 123, 288], [477, 5091, 502, 5092], [99, 996, 2665, 324, 2665], [33, 240, 16, 149, 151, 76, 239], [259, 11, 564, 8, 7, 1102, 365, 122, 5093, 142, 2387, 97, 4, 642, 856, 5094, 51], [404, 62, 30], [39, 478, 16, 458, 20, 117, 798, 22, 971, 171, 2527, 153, 1767, 2383], [31, 198, 186], [537, 682, 956, 41, 369, 314, 113, 2132, 2133, 47, 894, 120, 61, 915, 27, 437, 32, 28, 41, 369], [1409, 221, 5095, 21, 122, 239, 53, 122, 17, 513, 629, 188], [5096, 5097, 146], [1994, 83, 381, 1777, 133, 225, 2145, 273, 5098, 84, 1249, 5099], [356, 76, 11, 125, 72, 121, 635], [55, 175, 5100, 5101, 80, 649, 307, 312, 547], [9, 25, 68, 15, 35, 231], [17, 5, 2666, 5102, 36, 17, 2666, 5103, 9, 221, 140, 60, 84, 136, 5, 1658, 157, 5104], [5105, 343, 417, 832, 265, 95, 904, 32, 1936, 4, 343, 1142, 32, 238, 34, 367, 375], [5106, 126, 76, 23, 13, 5107, 5108, 85, 75, 563, 85, 31, 2392, 5109], [1558, 39, 5, 15], [2], [441, 441, 42, 225, 6, 56, 1794, 2623], [167, 2660, 302], [5110, 2285, 40, 2667], [262, 17, 5111, 85], [13, 350, 41, 244], [71, 59, 335, 1712, 2027, 977, 603, 1243, 39, 186, 59, 652, 977], [105, 40, 133, 415, 51, 136, 341, 10, 51, 78], [270, 5112, 1606, 1129, 58, 38, 5113, 12, 31, 363], [80, 97, 380, 2231, 2084, 698], [50, 16, 5114, 295, 5115, 5116, 5117, 29, 5118, 5119, 50, 5120, 5121, 5122, 2, 5123, 5124, 347, 5125, 1228], [35, 89, 284, 128, 35, 221, 35, 77, 324, 721], [283, 133, 130, 207, 2144, 145, 1009], [348, 157, 296], [185, 1789, 5126], [57, 309, 202, 16, 43, 49, 719, 788], [347, 834, 368, 765, 1956, 24, 5, 525, 10, 106, 747, 1085, 835, 5127], [315, 931, 851, 121, 21, 1118, 6, 2525, 199, 2668], [167, 470, 419, 5128, 5129, 2669, 471, 624, 223, 5130, 223, 5131, 9], [544, 92, 12, 73, 2, 434, 81, 70, 331, 3, 27, 169, 165, 358, 506, 238], [1759, 2670, 825, 5132, 734], [259, 3, 4, 265, 73, 482, 327, 89, 250, 351], [57, 194, 172, 55, 12, 51, 59, 2, 3, 79, 1426, 26, 6, 170, 51, 51], [1769, 335, 543, 105], [13, 3, 275], [5133, 1005, 5134, 1758], [5135, 58, 195, 119, 21, 903, 153, 160, 5136, 291, 1111, 1372, 430, 179], [1394, 2342, 1172, 98, 769, 789, 548, 678, 1323, 704, 217, 2671, 704, 1663], [272, 64, 1986, 493, 1987, 1513, 281, 4, 1229, 488, 58, 12, 1514, 1988, 57, 1989, 1990, 214], [2, 3, 184], [33, 2544, 168, 151], [146, 14, 110, 585, 5137, 82, 5138, 82, 1693, 202], [5139, 57, 78, 2, 38, 225, 802, 252, 112, 42, 5140, 258, 51, 152, 264], [87, 1095, 6, 137, 2, 25], [124, 655, 263, 85, 1969, 1226, 29, 563], [914, 2140, 141, 260, 383, 2141, 539, 3, 5141, 126], [136, 16, 8, 7, 52], [175, 1167, 1570, 158, 707, 23, 155, 65, 148, 54, 532], [280, 25, 140, 44, 136, 4, 5142], [478, 554, 29, 151], [55, 26, 1423], [670, 5143, 8, 7, 5144, 8, 7, 287, 86, 1289, 401, 5145, 5146, 347, 640, 115, 5147, 287, 5148, 702], [56, 98, 5149, 178, 106, 15, 797, 203, 846, 115, 98, 940, 846, 98, 5, 115, 145, 717, 787, 387], [653, 2672, 143, 11, 1283, 5150, 1679, 18, 21], [10, 726, 1088, 2, 935, 369, 332, 496, 776, 1335, 2023, 23, 4, 32, 28], [1515, 110, 835, 144, 36, 5151, 212, 5152, 396, 144, 6, 88, 5153, 126, 5154, 527, 1222, 41, 130], [1427, 473, 206, 1369], [24, 26, 734, 365, 5155, 151], [42, 92, 31, 532], [11, 348, 283, 8, 7, 165], [2454, 5156, 986, 2172], [404, 14, 164, 1765, 93, 14, 6, 249, 369, 114, 45], [63, 75, 166, 133, 86, 260, 1268, 5157, 649, 54], [2, 16, 36, 509, 891, 2673, 5158], [50, 1826, 418, 1031, 50, 16, 155], [254, 231, 1716], [90, 107, 45, 416, 201, 3], [2674, 1130, 73, 41, 90, 31, 88, 190, 714, 2, 2674, 28, 23, 28, 512], [51, 1854, 258, 10, 112, 16, 191, 82, 203, 217, 14, 1833, 1842, 1054, 288, 708, 708, 2675, 145, 1009], [21, 1190, 1115], [105, 1548], [2676, 361, 1638, 10], [577, 67, 26, 536, 698, 280, 239, 25, 53, 5159, 441, 17, 720, 40, 2189], [748, 5160, 1949, 832], [80, 101, 152, 52], [604, 294, 264, 2, 366, 87, 1835, 256, 405], [5161, 139, 111, 749, 871, 111, 552], [248, 1186, 377, 19, 251, 1186, 377, 1940, 1163, 29, 1186, 377, 387, 123, 98, 1186, 377, 693, 2270, 585, 12, 51, 123, 371, 387], [9], [228], [13, 61, 782, 106, 1057, 556, 244, 199, 162, 138, 23, 138, 5162, 23, 5163, 169, 61], [18, 514, 1781, 5164], [40, 297, 26, 30], [2, 122, 5165, 84], [404, 14, 108, 173, 5166, 93, 5167], [58, 5168, 1158, 414, 93, 86, 14, 31, 79, 19, 5169], [13, 517, 350, 786, 417, 350, 4, 223, 45, 13, 23, 2677, 169, 45, 28, 190], [1659, 2114, 473, 84, 1170, 1051, 5170, 285, 422, 473], [29, 35, 26, 23], [175, 2191, 11, 2154, 459, 5171, 1855, 1667, 194], [71, 283, 213, 89, 94, 598], [169, 710, 5172, 5173, 562, 1392, 487, 895, 1109, 73, 1392], [215, 36, 1176, 25, 222, 1176], [66, 909, 2616, 273, 5174, 377, 118, 5175, 2, 1178, 5176, 274, 2, 136, 341, 861, 15, 843, 945, 118], [33, 59, 37, 92], [5177], [3, 44, 2, 3, 70, 81, 2, 841, 5, 47, 1113, 375, 5178, 1823], [22, 10, 1856, 1539, 570, 2560, 2678, 426, 36, 1857, 1858, 1856, 1856, 407, 512, 29, 2, 2382, 499, 1858, 2678, 1368, 5179, 1262, 5, 1858, 671, 194, 1857, 5180, 233, 76, 2, 5181, 145, 591], [99, 446, 875, 183], [356, 20, 37], [171, 5182, 885, 5183, 2645], [66, 548, 2, 447, 112], [2679, 54, 1488, 12, 386, 2, 5184, 861, 401, 1305, 24], [13, 61, 350, 2680, 126, 2681, 2682, 414, 67, 5185, 5186, 148, 318, 5187], [85, 5188, 5189], [174, 100, 64], [11, 2, 227, 764, 1895, 383, 381, 276, 51, 51, 371, 170], [55, 584, 5190, 5191, 107, 51, 89, 5192, 5193, 1171], [3, 23, 180, 5194, 5195, 27, 52, 28, 20, 3, 1340, 238], [252, 83, 5196, 192, 5197, 2489, 5198, 2, 5199, 11, 2683, 5200, 2, 1228, 505, 75, 1187], [20, 104, 173, 306, 24, 2, 106, 369, 141, 956, 2, 314, 27, 41, 150, 243, 658, 1706, 61, 2228, 5201, 1633], [5202, 272, 78, 1888, 737], [2, 4, 85], [66, 5203, 24, 222, 38], [56, 278, 2684, 124], [9, 25], [63, 2, 527, 146, 436, 195, 1815, 52, 677, 45, 71, 5204, 710, 5205, 41, 1247, 129, 454], [57, 57, 294, 1175, 357, 200, 256, 6, 37, 1595, 1596], [548, 168, 1204, 5206, 58, 62, 10, 54, 29, 26, 174, 403, 319], [162, 87, 188, 490, 25, 2, 267, 235, 30, 84], [516, 129], [57, 277, 1251, 1478, 5207], [5208, 2051, 5209], [66, 43, 6, 268, 124, 975, 184, 183], [9, 101, 15, 432, 101, 4, 1097, 151, 155, 31, 257, 12, 559], [586, 137, 754, 25], [5210, 354, 371, 112, 539, 214, 10, 464, 1428, 145, 1009], [19, 18, 5211, 541, 1322, 636], [1736, 166, 300, 152, 185, 4, 14, 186], [55, 5212, 451, 5213, 5214, 14, 2685, 5215], [5216, 2559, 1776, 27, 1678, 634, 242, 135, 5217, 5218], [936, 161], [5219, 83, 56, 1040, 637, 32, 968, 83, 75, 410, 2686, 21, 41, 224, 833, 23, 28], [1910, 28, 875, 5220, 50, 89, 1562, 338], [220, 1736, 39, 125, 72, 122, 521, 111, 65, 149, 1806, 351, 5221, 17, 302], [5222, 354, 100, 646, 21], [635, 241, 240, 55, 39, 188], [158, 5223, 5224, 554, 5225, 87, 5226, 36, 5227, 5228, 5229, 36, 5230, 87, 5231, 117, 463, 10, 1347], [560, 198, 353, 368, 230, 546, 332, 393, 46, 13, 46, 560, 3, 2181, 13, 466, 1297, 34], [986, 382, 14], [62, 266, 19, 868, 1365, 5232, 1741, 1388, 2265, 5233, 214, 333, 19, 8, 7, 15, 169, 51], [544, 5, 313, 475, 550, 349, 301, 13, 343, 417, 218, 32, 443, 1838, 88, 964, 126, 95, 1101, 243], [2312, 44, 2, 757, 2687, 2451, 2688, 5234, 5235, 5236, 2165, 148, 160, 170, 107, 51], [780, 2274, 257, 26, 5237, 5238, 586, 186, 2, 39, 30, 870, 331], [140, 21, 189, 2403, 402, 568, 40, 5239, 36, 5240], [12, 54, 166, 1570, 5241], [535, 24, 172, 226], [9, 61, 2, 67, 152, 202], [410, 201, 968, 3, 27, 169, 52, 1079, 634, 242, 135, 1652, 1122, 1653, 506, 238, 3], [28, 696, 156, 1843, 472, 351], [163, 2, 133, 543], [31, 5242, 4, 239, 1522, 1295], [5243, 701, 1567, 26], [928, 5244, 157, 472, 250, 54, 298, 157, 2689, 733, 54, 161, 355, 1012], [134, 3, 412, 814, 1626, 261, 91, 529, 465, 530, 34, 242, 135, 1105, 1627, 236], [117, 49, 115, 2, 5, 400, 203, 49, 115, 380, 651, 5245, 5246, 5, 5247, 5248, 98], [5249, 5250, 5251], [57, 118, 118, 307, 40], [534, 23, 538], [2101, 1859, 175, 4, 37, 319, 5252], [856, 562, 1860, 245, 642, 839, 943, 559, 425, 5253], [48, 5254, 563, 13, 46, 69, 573, 10, 59, 1108, 1427, 457], [92, 5255, 369, 46, 327, 60], [215, 94, 25, 2, 140, 77, 9], [5256, 431, 1169, 764, 626, 41, 2690, 1780, 265, 95, 2690, 5257, 550, 5258, 41, 28, 153, 824], [5259, 5260, 2691, 233, 128, 46], [441, 2433, 87, 143, 87, 389, 255, 137, 34, 2, 77, 268, 24, 329, 25], [60, 12, 928, 55, 11, 1315, 1151, 798, 1194], [80, 1131, 302, 247, 360, 2, 124, 164, 799, 5261, 63, 303, 31, 65], [98, 227, 139, 19, 98, 19, 199, 98, 317, 3, 73, 3, 317, 1091], [57, 252, 167, 433, 5262, 56, 64, 1126, 613, 1050, 1383, 170, 5263, 606, 131, 147, 433, 57, 83, 6, 1667, 736], [71, 71, 23, 316, 11, 2629, 168, 1184, 11, 224, 2294, 2348, 94, 305, 92], [33, 397, 52, 31], [13, 343, 417, 1354, 20, 130, 95, 34, 88, 2271, 53, 113], [1384, 244, 1416], [155, 4, 516, 653, 2530, 852], [80, 17, 22, 5264, 2], [683, 193, 487, 81, 479, 339, 109, 70, 3, 5265, 5266, 5267], [1334, 35, 251, 868, 1588, 53, 17, 188, 24], [544, 2, 70, 5268, 481, 609, 34, 2692, 2538, 5269, 2692, 349, 193, 3, 70, 739, 34, 88, 2563, 460, 224, 870], [63, 980, 2, 122, 284, 250, 733, 264, 36, 492, 274], [33, 399, 149], [5270, 1610, 1312, 5271, 5272, 5273, 5274, 5275, 5276, 1590], [5277, 584, 128, 521, 758, 1182], [303, 297, 707, 42, 125, 72, 4], [254, 58, 318, 1824, 53, 86, 1824, 175, 94, 133, 2605, 146], [2618, 292], [1046, 54, 37, 30, 286, 376, 84], [9, 221, 2, 170, 239, 273], [639, 5, 188, 2, 780], [1345, 635, 1342, 247, 851], [5278], [66, 83, 26, 334, 615, 26, 49, 115], [334, 1042, 468, 564, 26, 5279, 2551, 540, 468, 1802, 5280], [63, 413, 46, 281, 809, 19, 709], [311, 211, 24, 42, 125, 72, 1782, 179, 2, 100], [8, 7, 241, 331, 302], [1778, 144, 96, 2, 810, 96, 1157, 658, 96, 2693, 1157, 2694, 2695, 2696, 2697, 2698, 88, 1003, 53, 113, 323, 137, 659, 27], [21, 494, 233, 6], [5281, 73, 1698, 1855, 73], [936, 290], [1166, 5282, 5283], [105, 278, 400, 26, 5284, 1036, 1801, 278, 502, 543, 45, 49, 5285, 7], [548, 1759, 150, 416, 151, 2], [128, 5286, 5287], [166, 37, 15, 127], [194, 220, 636], [1327, 5288, 77, 72, 654], [55, 97, 125, 72, 4, 262, 24, 2648, 745, 1881, 20, 18, 16, 4], [469, 5289, 992, 1190, 122, 5290, 128, 785, 5291, 5292, 5293, 169], [94, 25, 6, 6, 25], [5294, 5295], [725, 5296, 172, 873, 1187, 341, 8, 7], [1551, 2699, 275, 103, 117, 67, 10, 1173, 802, 191, 1038, 184, 184, 592, 1728, 147], [43, 204, 334, 9, 130], [911, 86, 100, 599, 5297, 62, 160], [13, 517, 2393, 96, 3, 506, 238, 4, 5298, 5299, 131, 102, 45, 20, 2677, 169, 2174, 1014], [122, 1805, 5300, 265, 95, 5301, 1218, 212, 5302, 895, 212, 1218, 1142, 821, 364, 31, 53, 113, 212, 677, 1909, 1845], [2, 13, 264, 411, 2, 77, 268, 1497, 1253, 246, 36, 553, 36, 526, 639], [41, 95, 417, 5303, 1159, 5304, 5305, 245, 23, 28, 153, 120], [308, 76, 6, 2322, 948], [724, 82, 2268], [601, 730], [920, 30, 699], [125, 72, 5306, 5307], [63, 388, 147, 459], [193, 91, 81, 70, 263, 81, 3, 182, 120, 942, 208], [131, 1006, 335, 14], [255, 285, 25, 161, 22, 14, 25], [103, 93, 725], [54, 5308, 2, 913, 2700, 110, 108, 165, 2, 76, 6, 194], [2, 77, 461, 184, 40, 5309], [1152, 663, 95, 1139, 1375, 1350, 5310, 5311, 2588, 5312, 20, 5313, 67], [18, 204], [75, 174, 83, 1371, 64, 432, 379, 1565, 359, 1349, 280, 1144, 18, 1027, 389, 295, 2701, 2662, 363], [259, 121, 17, 188, 37], [589, 1094, 16, 30, 5314, 1410, 56, 249, 129, 4, 216, 369, 101, 216, 418, 98], [16, 97, 1287], [2, 637, 2702, 2702, 562, 8, 7, 5315], [5316, 2, 1029, 1170, 5317, 156, 2, 93, 3], [1294, 290, 355, 100], [892, 495, 287, 5318, 2676, 136, 1770, 5319, 39, 116], [11, 5320, 947, 5321, 1673, 6, 5322, 5323, 322, 367], [12, 389, 1152, 5324, 10, 5325, 117, 1742, 2281, 1307, 217, 42, 19, 178], [2471, 660], [406, 132, 4, 366, 532, 1169, 1008, 108], [154, 4, 40, 697, 5326, 845, 246, 35, 344], [18, 5327, 1213, 122, 2275, 5328, 897], [2436, 1258, 1179], [287, 1032, 324, 880, 14, 335, 1277, 545, 927, 14, 73, 287, 54, 347], [171, 504, 1044, 337, 24, 14, 23, 1007, 1812, 507, 849, 427, 229], [92, 350, 351, 1383, 69, 124, 47, 772, 96, 1314, 50, 3, 182, 120], [189, 1790, 1791, 374, 23], [688, 241, 31, 1100, 5329], [2, 205, 40, 2667, 17, 209, 424, 231, 146], [9, 78, 3, 2106], [171, 807, 6, 49, 196, 117, 42, 354, 818, 23, 1425, 229, 756, 570], [3, 9, 103, 3], [620, 1356, 1353, 156], [392, 703, 950, 5330], [9, 462, 1767, 572], [433, 9, 280, 5331, 25, 1305, 157, 24, 9, 53, 416, 2703, 254, 5332, 479, 263, 586], [5333, 1165, 1741, 1165, 1699], [356, 278, 4, 65], [63, 26, 30, 148, 954, 16, 1058, 35, 65], [403, 16, 257, 615, 79], [111, 4, 247, 963], [18, 49, 206, 1145, 449, 279, 52, 198, 353, 230, 546, 450, 41, 3, 501, 79], [5334, 5335, 5336, 10, 600, 5337, 5338], [168, 10, 151], [104, 127, 266, 1724], [754, 6, 25, 543, 246, 490, 36, 441, 25], [5339, 336, 2, 142, 273], [724, 872, 89, 2704, 105, 16, 44, 245, 65, 384], [1769, 5340, 1386, 5341, 762, 23, 182, 116], [9, 297, 16, 127, 16, 1102, 79], [55, 12, 112, 531, 477, 1154, 5342, 118, 5343], [233, 5344, 10, 5, 98, 12, 10, 59, 2, 651, 260, 10, 59, 2, 1359, 2685, 98, 277, 1526, 12, 112], [632, 263, 5345, 4, 2439, 595, 234, 237, 263, 46, 810, 5346, 5347, 634, 87, 5348, 27, 169, 10, 28, 833], [8, 7, 998, 469, 1844, 847, 207, 3, 469, 106], [172, 21, 6, 36, 4, 40, 697], [1861, 466, 566, 2705, 565, 147, 2190, 151, 5349], [134, 47, 313, 486, 487, 81, 479, 155, 109, 2, 3, 412, 135, 5350, 34, 236], [5, 574, 19, 173, 5, 5351, 19, 22, 19, 2, 1703, 19, 187, 19, 564, 1061, 2, 145, 591], [66, 63, 5352, 118, 5353, 1028, 5354, 1819, 6, 5355, 554, 5356, 5357, 2620, 603, 253, 5358], [446, 380, 31, 14, 8, 7, 52], [99, 11, 605, 46, 132, 955, 2656, 97, 18], [194, 192, 1773, 141, 648, 791, 12, 694, 101, 471], [50, 2598, 46], [171, 171, 48, 5359, 63, 444, 185, 41, 289, 47, 73, 5360, 17, 1415, 2683, 75, 63, 56, 5, 67, 10, 2262], [428, 74, 146, 108], [87, 187, 87, 190, 2056], [5361, 225, 59, 168, 1515], [90, 103], [9, 129, 89, 352, 329], [92, 563, 5362, 5363, 338], [42, 132, 28, 14, 186, 1417, 299, 1156, 433], [81, 6, 258, 182, 34, 88, 34, 1010, 27, 52, 2706, 634, 480, 1154, 137, 373, 511, 50, 3, 37, 403], [59, 2, 37, 414, 2644, 8, 7, 29, 213, 5364, 74, 16, 30, 1155, 10], [407, 2624, 284, 1250], [172], [11, 54, 678, 5365, 1189, 5366, 157, 381, 470, 2540, 12, 302], [12, 21, 1524, 55, 175, 90, 50, 44, 69, 132, 431], [33, 33, 12, 26], [880], [17, 2707, 5367, 252, 8, 15, 7, 208], [405, 239, 35, 249, 510, 1836], [4, 30], [17, 2708, 99], [80, 101, 54, 413, 5368, 17, 209, 2580, 75, 26, 404, 315, 5369, 2198, 82, 43, 11, 69, 668], [18, 4, 1862, 149, 18, 244, 820, 1188, 131, 686, 5, 436, 314, 113, 1863, 820, 279, 848, 1180, 591, 1263, 27, 61, 27], [99, 5370, 390, 416, 796, 5371, 5372, 14, 165, 382, 965], [959, 18, 1822, 5373, 516, 1203, 5374], [105, 5375, 5376, 5377, 2524, 93, 6, 5378, 1125, 282, 453, 776, 131], [1046, 83, 2, 2437, 5379, 2, 1698, 67, 748, 55, 1028, 58, 2709, 9, 39, 116, 5380, 2, 5381, 1896, 2272], [131, 448, 20, 122, 44, 1437, 6, 4, 1252], [871, 5382, 916], [1094, 699, 4, 5383, 705, 320, 5384, 406, 141, 211, 289, 105, 1094, 133, 5385, 1751, 5386, 705, 652, 2571, 178, 5387, 214, 5388], [24, 1331, 69, 819, 435, 325, 391, 524, 50, 3, 1332, 70, 326, 1070, 238, 1231], [134, 3, 412, 5389, 1645, 261, 91, 529, 465, 530, 34, 242, 135, 1355, 2309, 236, 2710, 2532, 195], [9, 75, 101, 15, 231, 79, 77, 72, 650, 355, 53, 93, 2711, 2711, 5390, 19, 234], [446, 397, 165, 20, 104], [461, 2, 738, 133, 1138, 40, 158, 1363, 352], [5391, 10, 890, 2266, 1501, 898, 211, 715, 5392, 98], [63, 222, 3, 65], [777, 144, 206, 393, 46, 3, 3, 224, 236, 945, 3, 52, 1296, 47, 555, 478, 1788, 874, 957, 36, 363], [905, 4, 382, 5393, 38, 295, 149], [104, 184, 692], [68, 29, 2], [12, 1309, 1792], [9, 65, 1341, 121, 18, 2712, 419, 2566, 1674, 650, 119, 5394, 251, 861, 210], [1630, 114, 45, 295, 179], [228, 64, 1864, 30, 1139, 2049, 200], [66, 395, 1007, 107, 51, 46, 364, 217, 222, 73, 1369], [57, 5395, 33, 25, 294, 104, 10], [606, 719, 131, 105, 189], [670, 5396, 1084, 4, 587, 8, 7, 51], [3, 40, 162, 3], [68, 40, 1140], [1288, 5397, 29, 2, 68, 29, 2, 5, 10, 76, 89, 2, 108, 616, 2, 217, 24, 145, 1212], [80, 174, 4, 9], [5398, 540, 121, 2146, 55, 5399, 476, 1018, 5400, 1418, 244, 2032, 1152], [5401, 5, 351, 82, 2, 325, 120, 61, 1005, 5, 473, 2, 1051, 821, 5402, 285, 5, 47, 1167, 120, 2358], [4, 91, 384, 20, 1483], [1850, 625, 1429, 24, 5403, 133, 21, 2501, 110, 26, 3, 2713, 621, 43, 56, 611, 56, 2467, 54, 331, 21, 50, 76, 2, 74, 54, 185, 110, 1713, 129, 5404, 5405, 71, 110, 117, 611, 370], [95, 1574, 1303, 2052, 351, 2053, 366, 41, 1303, 503, 338, 265, 148, 1575, 2054], [547, 308, 267, 526, 790, 5406, 232, 733, 254, 94, 1061, 5407, 628, 232, 110], [830, 5408, 5409, 1071, 1067, 173, 42, 2, 387, 16, 318, 5410, 123, 371, 387], [146, 462, 68, 342, 2], [44, 73, 200, 463, 10, 8, 2654, 7], [9, 275, 228, 159], [1738, 612, 80, 152, 175], [33, 101, 4, 990, 31], [482, 14, 580, 1536, 5411], [63, 5412, 1185], [1503, 38, 390, 262, 259, 198, 1865], [220, 20], [2714, 687, 1130, 73, 41, 90, 31, 88, 190, 714, 2, 2714, 33, 28, 23, 28, 512], [67, 26, 536, 811, 441, 21, 39, 628], [14, 44, 5413, 5414, 968, 3, 27, 52, 28, 20, 3, 1340, 238], [220, 5415, 1256, 492, 5416, 1199, 5417, 1177, 162, 163, 2, 535, 123, 161, 10], [318, 5418, 4, 1015, 1066, 367, 5419, 4, 115, 1239, 56, 98, 1681], [356, 1864, 73, 247, 20, 82], [76, 18, 202], [19, 118, 155, 1083, 119, 207, 83, 1840, 93, 1691, 770], [24, 572, 5420, 10, 572, 2, 5421, 23, 5, 2260, 693, 148, 810], [118, 590, 2, 869, 1518, 9, 92, 1827, 315, 214, 493, 5, 400, 493, 223, 1239], [424], [33, 101, 5422, 1733, 158], [774, 699, 682, 138, 956, 306, 782, 263, 556, 4, 5423, 41, 774, 13, 314, 437, 32, 28, 129], [13, 343, 417, 832, 23, 130, 841, 34, 88, 2425, 126, 5424, 116], [71, 464, 150, 668, 287, 53, 1844, 2643, 5425, 2508, 298, 8, 7, 33, 71, 931, 37], [5426, 19, 983, 629, 970, 401, 255, 362], [42, 847, 23, 453, 85], [48, 182, 1164, 195, 49, 144, 47, 1395, 32, 130, 157, 4, 2609, 701, 27, 1421], [1412, 266, 56, 371, 1412, 19], [417, 220, 436, 96, 216, 1005, 45, 49, 96, 1797, 660, 5427, 5428, 687, 5429, 1585, 783, 5430, 43, 27, 454, 36], [5431, 356, 89, 5432, 4, 37], [379, 142, 5433, 107, 51, 5434, 5435, 62], [537, 1368, 20, 2582, 306, 1711, 201, 1275, 253, 296, 2, 1678, 634, 27, 169, 61, 41, 28, 153], [365, 94], [134, 5, 313, 814, 433, 5436, 5437, 5438, 343, 70, 32, 310, 5439, 5440, 554, 5441], [5442, 751, 661, 5443, 5444, 108, 14], [286, 892, 438, 45, 21, 767, 627, 532, 467, 15, 45, 84], [48, 5445, 5446, 474, 5447, 5448, 5449, 325, 5450, 81, 218, 50, 2118, 70, 81, 5451, 173, 305], [491, 696, 303, 107, 45, 67, 10, 448, 620, 163, 581, 385, 36, 999, 147, 74, 141, 1866, 163], [163], [190, 120, 1244, 20, 383, 71, 1051, 88, 1052, 460, 1245, 527, 28, 593, 364, 129, 242, 135, 1662], [43, 11, 380, 335], [340, 12, 159, 274], [57, 90, 14, 5452, 255, 837], [12, 296], [33, 2, 376, 16, 30], [49, 85, 50, 3], [2, 101, 2, 39, 961, 15], [1953, 16, 251, 35, 129, 122, 5453, 25, 5, 697, 1454], [644, 2, 3, 2585, 138, 522, 230, 636, 77, 34, 237, 748, 5454, 20, 966, 153, 23, 28, 1706, 234], [105, 292, 131, 538, 747, 2511, 1561, 5455, 23, 258, 85, 1670, 54, 37, 30, 62, 179], [118, 22, 707, 5456], [57, 510, 408, 5457, 245, 11], [215, 13], [274, 2441, 40, 583], [30, 344], [35, 176, 68, 211, 149], [49, 47, 458, 6, 32, 144, 422, 24, 88, 701, 1010, 437, 508, 1421], [260, 180, 680], [738, 1496, 1800, 459, 122, 2085, 82, 37, 3], [13, 10, 231, 811, 36, 1056], [6, 1793, 324], [5458, 5459, 5460, 5461, 1205, 2635, 5462, 5463, 921, 5464, 5465, 5466, 5467], [98, 293, 1608, 5468, 1141, 1636, 1593, 338, 1141, 1307, 2, 11, 248, 905, 5469], [779, 2, 14, 5470, 237, 1336, 1598, 444, 858, 477, 5471, 5472, 54, 283, 127, 5473], [2125, 390, 97, 5474, 751, 97, 5475, 289, 5476, 1204, 533, 8, 7], [66, 205, 14, 678, 22, 5477, 142, 69, 38, 46, 18, 20, 31, 121], [654, 543, 377, 5478, 129, 154, 21, 654], [331, 413, 241, 925, 419, 192, 5479], [90, 5480, 5481, 2022, 1339], [215, 868, 159, 526, 254, 152], [134, 47, 69, 313, 81, 193, 3, 321, 230, 70, 442, 226], [15, 2, 4], [996, 29, 2578, 68, 18, 16, 225, 4, 871, 844, 365, 1184, 1709, 116, 695, 269, 97, 871, 844, 59, 341, 766, 112, 194, 31, 1710, 187, 1419, 97, 844], [277, 1389, 1000, 5482, 5, 1310, 232, 1329, 2646, 191, 1209, 1000, 1390, 5, 561, 602, 43, 89, 1389, 64, 1000, 1880], [690, 735, 1614, 5483, 287, 637, 5484], [57, 278, 2684, 14, 5485], [567, 174, 760, 243], [75, 175, 5486, 1097], [80, 14, 6, 14, 73, 812, 1958, 252, 14, 198, 186], [374, 75, 541, 1158], [292, 23, 1695, 316, 262], [1853, 764, 77, 72, 245, 5487, 517, 5488, 4, 1853, 764, 223, 2715, 6, 5489, 1139, 5490, 5491, 361, 683], [1778, 144, 96, 2, 810, 96, 1157, 658, 96, 2693, 1157, 2694, 2695, 2696, 2697, 2698, 88, 1003, 53, 113, 323, 137, 659, 27], [174, 58, 12, 39, 116], [924, 1046, 337, 2], [63, 518, 1004, 2534, 121, 204, 298, 98, 99], [5, 265, 95, 91, 102, 210, 32, 1657, 34, 88, 2166, 285, 740, 124, 27, 210], [35, 23, 1109, 40, 930], [5492, 17, 196, 1542, 1543], [890, 761, 162, 540, 4, 480, 39, 612], [505, 2, 100, 173, 187, 1476, 191, 2, 187, 191, 100, 110, 585, 5493], [777, 47, 219, 2299, 29, 3, 2300, 594, 5, 413, 245, 2301, 212, 2302, 5494, 443, 2303, 2304, 1661, 1662, 208], [80, 152, 186, 630, 404], [39, 2, 269, 897, 5495, 5496], [99, 132, 5497, 631, 420, 153, 10], [2, 168, 37, 249, 411, 284, 89, 633, 246, 2], [66, 306, 1090, 10, 130, 112, 1867, 42], [620, 381, 17, 1400, 850, 1760, 249, 25, 183, 853, 6, 1876, 15], [461, 5498, 1805, 17, 14, 2229], [55, 2232, 3, 1344], [1048, 31, 5499, 200], [718, 5500, 5501, 5502, 5, 1422, 2276, 2246, 123, 5503, 2479, 718], [48, 118, 83, 124, 2, 5504, 470, 5505, 166, 1370, 319, 1544, 1259, 1828, 4, 5506, 238, 61, 958, 2716, 622, 105, 2506], [5507, 125, 72], [9, 203, 13, 607], [340, 662, 84, 1195, 22, 887], [17, 5508, 420, 2669, 1732, 2349, 58, 9], [9, 76, 445, 65, 36, 89, 3, 2, 329], [2, 86, 1311, 267, 170, 64, 284, 354, 628, 211, 184, 24], [48, 2, 789, 312, 4, 1384, 225, 534, 254, 4, 301, 755, 1688, 5509], [66, 329, 104, 887], [577, 255, 285, 30, 26, 158, 376], [415, 318, 318], [539, 113, 47, 369, 61, 13, 868, 13, 474, 984, 5510, 1776, 27, 1335, 833, 23, 6, 28], [605, 42, 4, 300, 635, 15, 149], [99, 11, 66, 173, 62, 5511, 5512, 1430, 19], [51, 1854, 258, 10, 112, 16, 191, 82, 203, 217, 14, 1833, 1842, 1054, 288, 708, 708, 2675], [2, 235, 703, 84, 2, 77, 6, 122, 609, 148], [11, 392, 5513, 156, 415, 150, 1338, 17, 585, 107, 51, 18, 104, 24, 208], [21, 587, 1060], [5514], [31, 31, 406, 5515, 1867, 722, 854], [12, 389, 19, 12, 31, 130, 1867, 4, 1007, 1370, 730, 818, 217, 419, 767, 529], [312, 953, 273, 341], [92, 427, 632], [66, 152, 250, 672, 39, 116], [5516, 20, 2593, 438, 597], [2717, 428, 185, 15, 600, 5517, 987, 5518], [58, 1106], [2283, 30, 514, 214], [235, 520, 43, 11], [174, 12, 296, 78, 117, 49, 115, 57], [359, 422, 188, 549], [270, 1561, 43, 64, 63, 93, 18, 5519, 82], [48, 462, 23, 161, 61], [33, 40, 164, 711, 18], [398, 3, 41, 190, 206, 47, 52, 685, 20, 13, 450, 41, 3, 919, 1056], [402, 1609, 17, 513, 1146, 857, 24], [62, 1127, 976, 868, 64, 86, 163, 10, 1703, 277, 638, 304, 458, 60, 163, 770, 43, 1336, 476, 5520, 38, 62, 10], [2, 207, 6, 170, 140, 896, 2, 256, 2, 354, 61, 25], [26, 184], [255, 285, 17, 49, 196], [398, 109, 41, 195, 206, 1145, 449, 279, 52, 685, 20, 450, 41, 3], [215, 1111, 1768, 25, 87, 5521, 1248, 24], [179, 174, 1118, 64, 5522], [815, 16, 741], [43, 56, 2679, 200, 861, 5523, 494, 18, 2, 16, 9], [9, 16, 5, 30, 198, 186], [697, 445, 5524, 707, 221, 77, 618, 22], [5525, 69, 5526, 1855, 440, 257, 2205, 2555, 440, 111, 14, 5527], [2549, 1123, 2435, 98, 92], [4, 1182, 1668, 82, 777], [2279, 345, 5528, 5529, 5530, 16, 5531, 2291], [99, 86, 21, 307, 211, 5532, 828, 986, 488, 51, 83, 217], [147, 586, 1820], [665, 899, 12, 187, 43, 155, 2584, 145, 1009], [537, 70, 5, 190, 85, 20, 9, 189, 1771, 47, 5, 413, 800, 314, 32, 126, 27, 210, 34, 135, 692, 1462, 1047, 5533, 28], [397, 1583], [5534, 1807, 5535, 5536, 5537, 474, 100, 179, 290, 3, 27, 52, 28, 20, 3, 1340, 238], [8, 7, 33, 57, 23, 30, 745], [231, 256, 2], [2526, 403, 142, 181, 960, 4, 702, 1668, 82, 155, 188, 430, 10], [64, 166], [47, 560, 466, 332, 393, 206, 46, 13, 110, 5, 69, 4, 593, 13, 52, 20, 20, 90, 3], [2718, 21, 295, 5538, 361, 5539], [2719, 18, 6, 979, 1613, 372, 2719, 17, 78, 281, 60, 15], [215, 428, 34, 35], [1605, 421, 5540, 1269, 43, 5541, 43, 288, 6], [667, 2, 87, 54, 17, 285, 268, 2, 176, 6, 149, 2, 84, 461, 628, 251], [429, 25], [329, 35, 5542, 221, 1584, 65, 16, 36, 34, 221, 526, 35, 675, 562, 2399, 35, 17, 40, 129, 1459, 246, 35], [317, 5543, 693, 233, 1377, 1029, 177, 2689, 5544], [667, 458, 361, 5545, 39, 5546, 5547, 103, 361, 5548, 2244, 910], [125, 72, 6, 4, 2015], [588, 305, 176, 743, 1144, 54], [5549, 66, 2, 334, 1792, 114, 5550], [327, 60, 2089, 252, 142, 5551, 1648], [354, 185, 600, 84, 308, 54], [35, 809, 68], [63, 3, 65, 9, 1414], [596, 51, 354, 31, 85, 58, 217, 2183, 62, 112], [5552, 1099, 62, 10, 1162], [147, 618, 1187, 78, 39, 116], [272, 2720, 369, 1809], [176, 2, 140, 461, 1851, 87, 1430, 84, 25, 53, 156, 1399, 36, 553, 26, 44, 1069], [246, 400, 1745, 1242, 1815], [434, 2286, 5, 313, 475, 550, 349, 301, 13, 343, 29, 417, 218, 32, 443, 2287], [257, 5553, 531, 97, 5554, 2, 117], [1197, 43, 491, 78], [84, 37, 30, 311], [103, 159, 76, 11], [5555, 31, 573, 10, 8], [808, 40, 1977, 86, 100, 2, 78], [805, 37, 1930, 1230, 1124, 5556, 24, 979, 979, 121, 1078, 319, 682, 1753, 396, 45, 82], [5557, 5558, 111, 65, 149, 792], [16, 2, 17, 228], [1861, 775, 2668], [292, 12, 112, 58, 12, 179, 421, 76, 11, 365, 1276, 8, 7, 284, 803, 103, 93, 56, 813, 584, 1214, 1160, 1411, 38, 280, 665, 905, 93, 129, 12, 10, 1162], [669, 5559, 45, 45, 18], [57, 1571, 959, 415, 387, 999, 345, 1158, 999, 345, 141, 156, 897, 387, 5560, 5561, 451, 166, 5562, 293], [279, 684, 120, 13, 34, 773, 1010], [5, 641, 114, 338, 989, 5563, 250, 5564, 67, 5565, 34, 1480, 20, 67, 34, 12, 574], [920, 84], [74, 26, 52], [5566, 2, 19, 2, 14, 1839, 572, 2, 4, 1337, 2, 31, 150, 2391, 2, 4, 763], [20, 521, 124], [1852, 247], [142, 742, 4, 2048, 597, 107, 115], [117, 472], [1483, 60, 220, 128, 111, 14, 186], [24, 1331, 69, 819, 435, 325, 391, 5567, 524, 50, 3, 1332, 70, 326, 1070, 238, 1231], [58, 64, 290, 377, 31, 2, 79, 19, 1825, 124], [1828, 812, 1534, 38, 1187, 812, 157, 474, 36, 252], [273], [43, 1064, 678, 474, 2], [80, 38, 59, 1346], [1781, 30, 146, 307, 229, 390, 112, 19, 42, 337, 146], [9, 62, 274, 139], [163, 54, 616, 853, 365, 143, 64, 1422, 71, 2123, 5568, 361, 587, 377, 1224, 50, 106, 54, 797, 19, 1510], [90, 167, 92], [4, 863, 2220, 3, 20, 129, 277], [5569, 29, 2, 1402, 1804, 2, 38, 447, 26, 184], [2, 140, 423, 6, 536], [5570, 21, 31, 108], [80, 1096, 555, 432, 671, 108], [183, 215, 2721, 631, 2327, 811, 2722, 1183, 6, 703, 2280], [225, 3, 2, 1027, 5571, 533, 5572, 1694, 5573, 213, 28, 2398, 260, 1726, 33, 604], [280, 172, 221, 429, 315, 934, 67, 1786], [2, 38, 26, 2701], [23, 5574, 69, 71], [55, 110, 251, 17, 302, 624, 22, 994, 433, 5575, 5576, 5577, 91], [82, 30, 185, 2723, 1576, 1211, 93], [171, 1125, 1005, 572, 134, 71], [791, 2138, 196, 5578, 5579, 5580, 5581], [90, 111, 295, 104, 1578, 1427, 782, 113, 32, 138, 27, 61], [2569, 5582, 30, 2445, 53, 5583, 121, 225, 283, 65, 470, 15, 209], [48, 2691, 75, 168, 30, 698, 66, 655, 1859, 539, 457, 139, 967, 225, 46, 2, 4, 37, 603, 19, 5584, 124, 124, 124, 124, 124, 124, 124, 124, 124], [5585, 5586, 2394, 5587], [13, 350, 20, 148, 614, 20, 4, 318, 96, 129, 223, 13, 96, 124, 5588, 87, 322, 32, 28], [716, 180, 6, 22, 10, 936], [275, 435], [92, 350, 351, 1622, 69, 29, 47, 772, 96, 1314, 50, 3, 182, 120], [537, 48, 309, 691, 17, 49, 1363, 1391, 77, 72, 34, 410, 237, 682, 138, 75, 137, 5589, 810, 138, 2360, 61, 27, 1471], [1730, 640, 6, 36, 87, 82, 75, 876, 2496, 2724, 17, 470, 34, 2, 1027, 19, 5590, 27, 284, 583, 383], [463, 212, 23, 310, 61, 5, 73, 503, 29, 173, 86, 19, 2, 2725, 500, 2726, 177], [502, 901, 647, 509, 2575, 147, 618, 71, 846, 5, 5591, 78, 737], [24, 1331, 69, 819, 435, 325, 391, 524, 50, 3, 1332, 70, 326, 1070, 238, 1231], [185, 2727, 799, 39], [1785, 5592, 932, 2, 320, 56, 1431, 198, 1865, 1171, 1330, 2658], [105, 426, 247], [16, 1217, 8, 440, 7, 2672, 202], [61, 29, 15, 751, 2604, 60, 507, 2, 97, 105, 333, 2, 42, 630, 610, 575, 620, 787, 1878, 2728], [48, 2, 18, 314, 5593, 65, 222, 1328, 3, 2, 151], [2, 866, 1373, 299, 56, 109, 2, 106, 29, 1374, 42, 5, 191, 3], [1428, 1021, 1429, 1429, 150, 1428, 1021, 5594], [851, 31, 38, 1165], [457, 735, 1614], [81, 6, 258, 182, 34, 88, 34, 1010, 27, 52, 2706, 634, 480, 1154, 137, 373, 511, 50, 3, 37, 403], [84, 17, 2541, 581, 5595, 648, 645, 196, 545, 581, 1346, 243, 315, 648, 545, 291, 5596, 291, 5597], [814, 1523, 1626, 261, 91, 21, 134, 465, 412, 631, 135, 1105, 1627, 236], [2729, 147, 1686], [1366, 197, 1868, 22, 60, 35, 77, 3, 79, 3, 205, 5598, 5599, 17, 297, 1868, 5600, 1868, 2072, 629, 1566, 223, 2484, 10, 5601], [62, 10, 499, 22], [29, 164, 976, 1375, 5602, 105, 5603, 8, 7, 5604, 12, 358, 385, 5605], [4, 5606, 5607, 390, 640, 16, 5608, 1178], [51, 5609, 1795, 2730, 395, 180, 51, 663, 2419, 498], [99, 1869, 148, 725, 778], [63, 1352, 255, 5610, 5611, 359, 1827, 5612, 2515, 493, 693], [798, 20, 131, 670, 668, 794, 1067], [18, 131, 8, 7, 5613, 24, 194, 63, 291], [5614, 178, 74, 1321], [544, 5, 313, 550, 301, 349, 193, 13, 343, 831, 218, 32, 443, 1838, 88, 964, 126, 95, 1101, 243], [495, 5615, 400, 58, 79, 865, 5616, 5617, 805, 1690, 76, 642, 561, 384, 123, 5618, 19, 123, 5619, 5620, 5621, 123, 328, 71, 314, 310, 1620, 123, 751, 28, 2143, 1194], [9, 25, 6, 1944, 25], [322, 15, 398, 109, 2, 2, 420, 81, 70, 331, 3, 27, 169, 52, 358, 506, 238], [258, 160, 21, 2536, 566, 1628], [66, 662, 1835, 264, 84, 346, 26, 197, 110, 264, 51, 13, 21, 104, 633, 5622], [336, 6, 1185], [171, 80, 17, 705, 21, 498, 16, 175, 80], [228, 25, 192, 376, 140, 2, 6, 30, 239, 170, 24], [50, 40, 3, 643, 757, 63, 40, 71, 40, 1051, 679], [379, 1399, 5623, 5624, 457, 1503, 80], [350, 396, 4, 113, 782, 2455, 47, 45, 623, 517, 1220, 350, 85, 13, 364], [69, 2, 201], [156, 226, 18, 5625, 741, 352], [522, 271, 489, 143, 661, 744, 257, 3, 557, 326, 523], [386, 1160, 8, 7, 40], [244, 432, 1136, 141, 2731, 483, 2729, 689], [204, 5626, 10, 1102, 100, 177, 73, 317, 5627, 2728, 8, 7], [269, 604, 5628, 5629, 342, 5630, 267, 183], [547, 625, 1123, 801, 287, 1673, 71, 122, 335], [547, 9, 324, 14, 186, 53, 1163, 86, 1617], [48, 840, 1799, 5631, 1082, 5632, 439, 5633, 2179], [5, 313, 1174, 497, 132, 95, 774, 269, 1103, 102, 210, 32, 626, 1816, 1117, 1817, 243, 1818], [463, 10, 191, 95, 663, 39, 1057, 433, 1490, 23, 6, 27, 61, 915, 740], [446, 444, 1550, 37, 259], [118, 55, 174, 5634, 5635, 464, 5636, 141, 1669, 280, 783, 5, 411, 1197, 1701, 5637], [9, 25, 122, 68], [64, 5, 5638, 5639, 224], [644, 2, 3, 51, 5640, 56, 2713, 14, 2, 107, 15, 363, 253, 5641, 460], [111, 5, 257, 87, 5642, 2703, 84], [1062, 187, 5643, 645, 1427, 203, 2589, 5644, 3], [2567, 377, 309, 167, 543, 1819, 497, 77, 72, 6, 660, 5645, 21, 680, 5646], [57, 1333], [1482, 1372, 438, 5647, 654, 5648], [42, 298, 204, 3, 1173, 112, 147, 111, 107, 115, 156, 132, 6, 4, 188, 847, 1396, 935, 520, 24, 64, 2086, 93, 16, 37, 178, 5649, 166, 69, 800], [577, 34, 35], [76, 11, 109, 2579, 247, 76, 11, 9], [66, 83, 63, 4, 2450, 1840, 16, 972, 451, 42, 11, 6, 438, 1841, 60, 224, 8, 7, 998, 11, 240, 1396, 106, 173, 439, 561, 5650, 97, 76, 11, 18, 83], [50, 23, 1423, 69], [55, 812, 1476, 21, 5651, 2227, 76, 11], [131, 5652, 182, 120, 636, 271, 2412, 5, 316, 414, 375, 109, 2], [131, 1822, 1180, 276, 266], [178, 1004, 1811, 320, 719, 750, 788, 22, 568, 199, 334, 690, 93, 42, 719, 247, 93, 291, 56, 133, 2639], [2, 104, 5, 387, 1057, 127, 5, 2466, 5653, 157, 106, 13, 32, 2732, 1397, 5, 1523, 928, 87, 219, 2732, 5654], [1049, 17, 192], [80, 167, 795, 11, 94, 381, 65], [272, 277, 276], [199, 31, 61, 42, 1426, 2733, 2734, 678, 784, 11, 1426, 2733, 371, 73, 1012], [333, 249], [83, 58, 9, 252, 51, 170, 1808, 1187, 2724, 5655, 74, 149, 5656, 1479, 149, 124], [522, 271, 489, 583, 143, 661, 744, 257, 3, 557, 326, 523], [63, 40, 597, 1869, 164, 2444, 74], [38, 352, 15, 105, 398, 5657, 5658, 5659, 911, 8, 7], [22, 2214, 22, 5660, 99], [103, 94, 678, 63, 388], [5661, 1193, 336, 178, 18, 457, 336, 1280, 2413, 1651, 587, 5662, 98], [223, 5663, 5664, 1272], [134, 181, 109, 2, 24, 218, 143, 81, 193, 3, 321, 230, 70, 34, 442, 226], [33, 44, 94], [99, 55, 377, 132, 250, 745, 384], [140, 467, 2, 176, 2, 156], [99, 1591, 1034, 1290, 184, 497], [405, 2642, 629, 2292, 197, 5665, 17, 2186, 315, 1784, 87, 177, 1608, 294, 402, 39], [2297, 132, 1438, 15, 169, 51, 688], [1282, 890, 255, 524, 362], [118, 35, 416, 2709, 2735, 346, 157, 1780], [215, 84, 274, 5666, 36, 5667], [215, 184, 2136, 2, 211, 84], [48, 117, 386, 48, 48, 48, 48, 48, 48, 48], [1219, 6, 1468, 151], [570, 2025, 632, 632, 1798, 1798, 720, 720, 130], [759, 60, 320, 8, 7], [5668, 57, 8, 7, 16, 2612], [5669, 894, 120, 173, 11, 106, 3, 47, 412, 323, 5670], [509, 651, 1999, 2647, 5671, 1055, 98, 82, 16, 2, 106, 651, 102, 610, 2, 201], [14, 1762, 335], [463, 212, 23, 310, 61, 5, 73, 503, 29, 173, 86, 19, 2, 2725, 500, 2726, 177, 810], [66, 2431, 778, 69, 1861, 2100, 73], [269, 25, 1147, 579, 619, 152, 703], [691, 97, 227, 241, 778, 1393, 975, 997, 509, 1188, 1754, 108, 997, 1327, 5672, 711, 38, 60, 1393], [5673, 398, 146, 233, 2513, 1382, 475], [5674, 5675, 1656], [57, 33, 2670, 197], [99, 80, 257, 241], [77, 72, 4, 1862, 273, 18, 244, 820, 1188, 131, 686, 5, 47, 314, 113, 1863, 820, 279, 32, 629, 591, 1263, 1517, 61], [262, 5676], [133, 5677, 1158, 211, 371, 45, 451, 24, 815, 1311, 5678, 45, 689], [90, 428, 255, 10, 98, 19], [155, 333, 258, 1616], [1615, 63, 25, 268, 285, 268, 385, 262, 46], [66, 2112, 51, 1048, 1188, 246, 5679, 5680], [9, 9, 241], [44, 587, 2705, 166, 2736], [2187, 17, 889], [82, 2737, 617, 5681, 264, 51, 82, 2, 18, 89, 36, 314, 1384, 133, 13, 21, 11, 5682, 2716, 1745, 698], [38, 74, 26, 733, 202], [66, 413, 1850, 5683, 199, 1184, 153, 160, 1184, 300, 2715, 204, 65], [48, 58, 5, 10, 12, 37, 361, 2213, 662, 198, 2599, 76, 11, 5, 168], [991], [297, 19], [5684, 623, 430, 96, 210, 5685, 120, 417, 96, 5686, 27, 2, 22, 383, 726, 37, 214], [101, 4, 5687, 5688, 5689, 2720, 5690, 2554, 879, 5691, 2031], [215, 9], [289, 146, 311, 125, 72, 341, 249], [434, 1121, 162, 829, 2738, 1068, 5692, 47, 182, 325, 1121, 3], [491, 696, 303, 107, 45, 67, 10, 448, 620, 163, 581, 385, 36, 999, 147, 74, 141, 1866, 163, 1551, 2699, 275, 103, 117, 67, 10, 1173, 802, 191, 1038, 184, 184, 592, 1728, 147, 103, 2, 251, 6, 1024, 165, 9, 1890, 306, 1025, 426, 1891, 1892, 594, 885, 36, 448, 581, 5693, 73, 36, 1866, 1458, 836, 162, 1050, 1865], [43, 590, 275, 419, 2415], [5694, 125, 72, 376, 2700, 10, 5695, 1167, 5696], [2, 519], [1367, 22, 5697, 5698, 2640, 111, 860, 248, 178, 59, 1367, 116, 2, 145, 51, 787, 387, 39, 116], [174, 307], [577, 26, 30, 6, 5699, 2376, 25, 14, 26, 1116, 127], [5700, 74, 818, 5701, 205, 160, 1970, 53, 5702, 5703], [274, 139, 5, 129], [33, 136, 462, 843, 23, 1217, 8, 7, 52], [194, 220, 266, 1249, 293, 410, 2686, 636], [1299, 2509], [1729, 2543, 20, 130, 9, 47, 46, 23], [6, 2562, 43, 2590, 860, 9], [228, 9, 315, 59, 656], [78, 301, 1362, 70, 45, 195, 929, 50, 6, 739, 34, 367, 28, 20, 32, 28], [272, 82, 516], [35, 77, 6, 34, 679], [477, 328, 78, 29, 2, 484], [348, 89, 22, 54, 43, 643], [1931, 1233, 85, 5704, 50], [117, 309, 446, 39, 196, 58, 174, 23, 229, 56, 217, 756, 570, 229, 229], [336, 14, 2739, 1564], [336, 2594, 2449, 22, 257, 167, 298, 1481, 247, 542, 398, 5705, 22, 5706], [17, 2740, 5707, 319], [522, 271, 489, 143, 661, 744, 257, 3, 557, 326, 523], [242, 388, 21, 196, 1179], [262, 594, 5708, 5709, 87, 5710], [66, 180, 29, 2, 58, 2, 29, 55, 919, 29, 1415, 185, 15, 34, 59, 3, 1329, 15, 5711], [356, 397], [35, 23, 473, 711], [10, 352, 10, 1061, 664, 1002], [78, 1191, 2, 592, 1016, 479, 339, 109, 2, 32, 138, 27, 1192, 480, 321, 481, 137, 373, 511, 874, 263], [44, 5712, 5713, 2288, 5714], [68, 15, 2, 77, 104, 65], [57, 277, 738, 69, 859, 20, 37, 5715, 61, 5716, 1142, 1267, 5717], [63, 17, 54, 203, 471, 65], [459, 394, 2, 521, 475, 33, 33, 91, 5718, 301, 3, 1079, 242, 135, 1122, 358, 5719, 224, 236, 47, 1296], [2148, 328, 16, 24, 103, 5720, 760, 2622], [9, 164, 122], [565, 60, 128, 65, 80, 562], [5721, 681, 5722, 253, 2741, 366, 276, 5723, 253, 2741, 5724, 5725, 5726, 5727, 5728, 5729, 347, 5730, 145, 1954], [215, 1836, 38, 1147, 5731, 53, 87, 864, 34, 510], [268, 25, 379, 2402, 22, 176, 280, 9, 429, 21, 322, 1093, 267], [66, 62, 672, 1800, 1242, 208, 5732, 5733, 203], [12, 10], [90, 43, 116, 21, 260, 266], [16, 39, 286, 15, 645, 1230, 5734, 1669, 5735, 18, 324, 51], [222, 3, 65], [418, 395, 805, 53, 5736, 5737, 861, 22, 198, 226, 468, 101, 629], [162, 87, 188, 232, 376, 68, 53, 136, 510, 17, 228, 30, 209, 268, 285, 68], [5, 91, 641, 695, 420, 1150, 5, 91, 23, 6, 27, 61, 995, 949, 480, 321, 481, 137, 373, 511], [99, 1166, 260, 92, 12, 67, 30, 280, 5738, 262, 477, 5, 10, 2, 94, 1860], [164, 199, 1001, 191, 148, 1168, 1830, 191, 394, 107, 1168, 2591, 394, 98, 153, 2099, 5739], [48, 390, 240, 37, 65, 8, 7], [456, 1540, 8, 7, 8, 7, 275], [99, 616, 6, 181, 106, 102, 244, 98, 817, 334, 444], [5740, 270, 596, 1134, 900, 5741, 2350, 1039, 5742, 1310, 166], [181, 179, 158], [1115, 174, 1984, 1305], [5743, 5, 1957, 1941, 5744], [479, 265, 70, 5, 712, 1013, 301, 24, 20, 90, 713, 785, 195, 47, 34, 713, 323, 1285, 786], [219, 151, 239, 79, 5745, 181, 330, 8, 7], [134, 47, 1960, 486, 487, 81, 322, 339, 235, 3, 893], [50, 89, 1562, 353, 2029, 18, 108, 49, 622, 409, 5746, 1493, 951, 8, 7, 666], [183, 644, 20, 121], [2318, 154, 136, 1403], [735, 60, 9, 9], [837, 158, 5747, 43, 100, 1255, 969, 496, 32, 5, 506, 969, 658, 837, 155, 1893, 1632, 32, 5748, 5749, 137, 659], [370, 5750, 657], [918, 2742, 997, 46, 69], [1333, 49, 47, 443, 120, 201, 13, 443, 408, 1314, 1369, 5751, 46, 5752, 473, 517, 5753], [406, 106, 108, 305, 1171], [43, 726, 5754], [2, 104, 1176, 140, 77, 104, 197, 1175, 67, 142, 411], [991, 1028, 312, 2, 273, 281, 153, 381, 295, 254, 40, 471, 1171, 254, 1864, 40, 858, 1024, 19, 1726, 234], [48, 5755, 731, 1380, 1361, 5756, 970, 576, 1329, 5757, 289, 952, 103, 2, 5, 736, 526, 792, 576, 5758, 121, 1717, 1500], [9, 231], [334, 22, 1410], [92, 139, 163, 386, 92, 333, 386, 1643, 5759], [259, 125, 72, 38, 1156, 79, 24, 181, 4, 1737], [5, 1682], [14, 158, 2499, 267, 53, 520, 1069, 14, 520, 1241, 105, 14, 232, 542, 11, 256, 17, 89, 342, 5, 2504, 25], [50, 3, 1008, 134, 85, 162], [19, 5760, 19, 2, 139], [1615, 2, 9, 84, 221, 87, 2422, 5761], [5762, 1148, 197], [2388, 688, 303, 738, 1749, 8, 440, 7, 8, 7, 389, 448, 421, 1870, 1870, 5763, 540, 448, 292, 447, 5764, 444, 111, 2731, 2602, 5765, 780, 5766, 202, 1747, 147, 478, 362, 645, 147, 245, 5767, 147, 1299, 1870, 2707, 1748, 1008, 41, 638, 2, 29, 1803], [547, 164, 2406, 237, 1763, 2595, 410, 885, 649, 290, 432], [63, 3, 65, 222, 54, 5768, 5769, 50, 3, 5770, 8, 7], [2, 5771, 5772, 14, 1637, 34, 978], [202, 1747, 1748, 494, 303, 1749, 8, 7, 300, 1119, 2345, 261, 2346, 2347, 1202, 1195, 478, 362, 657], [18, 332, 206, 1145, 449, 279, 52, 198, 353, 230, 546, 41, 3, 501, 79], [74, 197, 294, 409, 25, 2, 855, 378, 411, 294, 6, 703, 25, 111, 6, 256], [108, 2, 1779], [1807, 237, 5773, 2083, 731, 2621, 653, 1006, 155, 816, 138, 817, 1507, 3, 27, 52, 28, 20, 3], [18, 1751, 5774, 382, 21, 244, 303, 2581, 32, 448, 5775, 1657, 32, 28, 153, 32, 2608, 5776, 5777, 692, 137], [9, 25, 1998, 6, 2371, 2372, 1169, 628, 2, 77, 23, 68], [164, 15, 631, 177, 22, 784], [3, 85, 395, 3], [281, 4, 5, 464, 61, 5778, 337, 23], [5779, 5780, 5781, 242, 1655, 9, 5782], [333, 331, 282, 37, 8, 7, 263, 60, 282, 37, 518, 4], [95, 683, 531, 5783, 904, 1578, 81, 127, 110, 1163, 5, 47, 773, 88, 95, 53, 113], [101, 54, 250, 303, 2284, 2373, 6, 752, 186, 319], [2, 6, 46, 125, 72, 558, 324], [42, 5784, 561], [57, 97, 9, 56, 101, 603, 74, 10, 17, 86, 5785, 5786, 24, 2723, 36, 1981, 86, 129], [78, 5787, 688, 2, 29, 168, 2743, 71, 3, 5788, 2, 157, 348, 105, 235, 1729, 44, 10, 2, 29, 168, 5789, 5790, 1435, 261], [1221, 1313, 51, 1298, 366, 114, 115, 3, 739, 34, 367], [16, 79, 2641], [177, 61, 619, 187, 2, 11, 22, 1182, 5791, 56, 2, 873, 19, 123, 22, 1182, 37, 5792, 5, 598, 12, 51], [5793, 340], [134, 322, 339, 109, 2, 2, 3, 67, 2630, 957, 36, 363, 2631, 236, 2632, 870], [5794, 240, 573, 998, 23, 79, 33, 19, 118], [625, 2742, 21, 359, 57, 1419, 409, 11, 5795, 5796, 2619, 927, 5797, 430, 10, 409, 401, 53, 43, 104, 425, 924, 1071], [99, 39, 785, 103, 1521, 5798, 773, 160, 451, 5799, 5800, 5801, 5802, 82, 5803], [259, 5804, 689, 14, 5805], [10, 151, 151], [48, 706, 75, 82, 1154, 2129, 258, 2385, 250, 5806, 75, 86, 337, 2, 2, 234], [48, 840, 104, 2, 329], [352, 1163, 2438, 20, 2, 65, 192, 13, 138], [1546, 258, 226, 132, 170, 328, 5807, 5808, 31, 5809, 340], [298, 1233, 392, 1860, 5810, 5811, 5812, 126], [2042, 1007, 2680, 126, 2681, 2682, 414, 909, 148, 318, 34, 34, 350], [99, 181, 56, 10, 286, 1488], [2, 11, 5813, 1714], [38, 541, 1281, 24, 260, 10], [44, 507, 409, 26, 28, 627], [103, 229, 229, 404, 2687, 2395, 303, 418, 187, 21, 217, 5814, 10], [83, 133, 76, 4, 155, 723, 1506, 1915, 5815, 2, 5816], [63, 395, 83, 172, 912, 58, 214, 468, 346, 504, 100, 1425, 229], [9, 131, 2, 40, 332, 1406, 40, 586], [954, 666], [141, 73, 5817, 3], [2325, 21, 1720], [95, 86, 757, 185, 15], [18, 906, 102, 51], [17, 49, 115, 53, 2192, 103, 327, 836, 281, 31, 119, 1843, 1214, 1119, 8, 7, 10, 1169, 1770, 1854], [68, 29, 2, 403, 246, 74], [1160, 8, 7, 19, 2, 10, 23, 310, 5, 1261, 693, 2269, 16, 37, 2, 7, 2264, 187, 2, 253, 2, 5818, 310, 2, 631, 5, 253, 5819], [759, 166, 86, 2736, 5820], [49, 47, 458, 6, 32, 144, 422, 24, 88, 701, 1010, 437, 508, 1421, 1395], [39, 2093, 408], [183, 80, 31, 1834], [63, 75, 5821, 2601, 107, 273, 147, 5822, 17, 74], [588, 25, 2, 445, 2, 622, 232, 5823], [13, 431, 96, 20, 1072, 102, 45, 4, 49, 96, 263, 210], [118, 5824, 2633, 768, 68, 197, 1563, 2, 656, 856, 1675, 67, 1813, 256, 575, 294, 2, 140, 74, 755, 329, 2481], [76, 5, 248, 5, 5825, 5, 251, 5, 1270, 5, 2533, 5, 1419, 2, 233, 5826, 317, 5827, 131, 806, 82, 190, 126], [189, 5828, 189, 30, 35, 308, 1006, 130, 1357], [2636, 3, 40], [700, 150, 2491, 180, 150, 696, 846], [5829, 2], [308, 2, 89], [9, 630, 1344, 38, 121], [1159, 1775, 4, 332, 1159, 496, 1676, 5, 47, 210, 13, 409, 13, 96, 32, 1159, 88, 1003, 53, 113, 1110, 32, 27], [50, 3, 1008, 134, 85, 162], [90, 266, 26, 56, 1180], [315, 42, 5830, 94, 795, 11, 18, 423, 983, 1546], [2424, 196], [5831], [171, 504, 1044, 100, 84, 725, 163, 276, 2607, 19], [1391, 471, 663, 95, 1015, 985, 81, 2, 11, 49, 2610, 2611, 32, 148, 150, 1014, 28, 1089], [183, 86, 57, 5832, 346, 329], [55, 345, 859, 219, 5833, 51, 2727, 228], [85, 20, 337, 2710, 150, 337, 69, 337, 131, 369, 337, 337, 2, 139, 194, 304, 337, 131, 806, 1623, 126], [2, 2545, 177, 47, 473, 120, 113, 169, 863, 10, 23, 28, 2546], [48, 311, 64, 290, 4, 85, 167, 414, 32, 2, 53, 75, 376, 1500, 5834, 51], [115, 164, 1638], [336, 2367, 1554, 17, 392, 5835, 17, 2739], [399, 78, 1413, 5836], [40, 5837, 5838, 1416, 244, 369, 24, 43, 5839, 348, 59, 191, 656, 110, 866, 82, 92, 163], [537, 32, 3, 70, 1121, 186, 204, 15, 189, 46, 1821, 508, 2572, 946, 226, 28, 2573], [99, 9, 5840], [2, 447, 26, 39, 183, 17, 5841, 68, 425, 911, 36, 918, 316, 25], [922, 2443, 150], [128, 521, 188, 159], [225, 67, 127], [589, 33, 18, 357, 5842, 2290, 40, 77, 72, 4, 927, 2744, 279, 2744], [48, 706, 709, 2, 838, 1400, 149, 75, 26, 471, 421, 5843, 108, 581, 22, 419, 46, 2], [589, 167, 103, 186, 818, 172, 5844], [5845, 64, 3, 828, 116], [296, 49, 2708, 5846, 16, 5847, 209], [112, 9], [51, 51, 31, 79], [114, 1394, 234, 2745, 206, 131, 214, 22, 2673, 302, 10, 20, 37, 5848, 2745, 4, 114, 206], [495, 1857, 360, 994, 1542, 1543, 415], [37, 192, 185, 53, 2307, 5849, 806, 5850, 1803, 179, 92, 283, 127, 139, 19], [563, 5851, 1428, 651, 430, 355], [9, 315, 21, 357, 103], [55, 670, 5852, 2661, 51], [577, 246, 441, 25, 515, 1716, 857, 1146, 205, 14, 26, 1116, 127], [97, 5853, 2343, 173, 69, 14], [13, 350, 41, 244, 614, 658, 244, 5854, 5855, 5856, 5857, 5858, 223, 96, 13, 2, 314, 210], [421, 22, 128, 87, 46, 89, 84, 103, 9], [43, 42, 637, 14, 5859, 1155, 52, 1649], [125, 72, 288, 228, 59, 119, 189], [48, 709, 596, 31, 149, 225, 46, 79, 17, 2295, 142, 778, 845, 234], [2552, 2553, 25, 35, 136, 1357], [128, 470, 528, 15, 26], [5860, 138, 4, 5861, 343, 138, 247, 5862, 224, 41, 5863, 3, 1821, 27, 208, 5864, 1788, 135, 874, 957, 36, 363], [64, 2, 181, 4], [63, 3, 65], [55, 2615, 5865, 73, 520, 423, 16, 330, 520, 566, 5866, 56, 330, 64, 5867, 54, 31, 5868], [1019, 110, 168, 1408, 589, 1442, 283, 100, 5869], [1219, 6, 5870, 151], [5871, 5872, 5873, 478, 5874, 310, 8, 7], [71, 28, 2746, 687, 1130, 73, 41, 90, 31, 88, 190, 714, 2, 2746, 28, 23, 28, 512], [5875, 4, 5876, 82, 252, 1206, 481], [131, 5877, 5878, 5879, 375, 316, 135], [5880, 5881, 9, 114, 15], [965, 2721, 5882, 1011, 43, 2738, 5883], [24, 1259, 69, 819, 435, 325, 391, 69, 524, 3, 325, 391], [2528, 16, 30], [354, 8, 7, 112], [2, 681, 31], [399, 44, 2671], [42, 1364, 5884, 1114, 199], [2637, 410, 316, 126, 31], [35, 30, 74, 721], [38, 424, 2249, 2002, 71, 76, 11, 6, 111, 131, 4, 2688, 69], [143, 312, 60, 132, 2, 34, 5885], [5886, 80, 374], [424, 815, 122, 65, 262, 84, 1714, 17, 143, 87, 389, 2, 231, 74, 84], [56, 5887, 8, 7, 998, 284], [2730, 406, 2712, 104, 226, 532], [959, 2, 11, 1779], [33, 31, 33], [336, 5888, 693, 17, 119, 1432, 5889, 2, 2, 785, 493, 316, 606, 2, 869, 2664, 8, 7, 29, 843, 5890, 8, 7, 29, 218, 1128, 505, 8, 7, 29], [504, 100, 578], [2747, 1708, 720, 5891, 777, 884, 5892, 5893, 2747, 145, 1009], [1073, 30, 1766, 5894, 30, 295, 2488], [68, 93, 2, 14, 5, 386], [23, 69, 59, 41, 79, 112, 103, 14, 9], [154, 31, 314, 2748, 5895, 2748, 18, 543, 15], [144, 4, 95, 13, 762, 39, 370, 23, 144, 949, 480, 321, 481, 137, 1556], [2, 2718, 21, 1387, 2737, 2, 92], [332, 219, 38, 2194, 5896, 18, 59, 49, 5897, 155], [575, 17, 13, 760, 1272, 378, 77], [183, 80, 1405, 418, 2740], [71, 633, 15, 422, 5898], [418, 444, 2653, 1820, 370, 2495, 21, 5899, 370, 1995, 36, 416, 847, 532, 112], [43, 11, 16, 89, 338, 14, 43, 643], [567, 4, 2556, 5900], [33, 33, 12, 654, 55], [26, 1398, 616, 569, 5901, 1140, 2171, 2104, 15, 5902, 304, 467], [80, 31], [5903, 1408, 1099, 62, 10, 1162], [328, 5904, 54, 305], [620, 146, 462, 455, 5905, 1200, 342, 2], [92, 924, 62, 10], [537, 66, 2, 17, 206, 237, 5906, 41, 5907, 32, 225, 23, 2, 237, 1120, 75, 376, 74, 234, 27, 915, 28, 28], [12, 389, 306, 1090, 6, 196, 509, 354, 148, 167, 178, 19, 163, 174, 117, 11, 2215], [1399, 60, 698, 267, 36, 103, 5908, 5909, 5910, 154, 56, 5911, 103, 136, 25], [12, 389, 5912, 504, 646, 146, 1442, 278, 2221, 2222, 100, 83, 1425, 229], [5913, 276, 55], [5914, 173, 940, 270, 2, 277, 640, 1640, 15, 56, 2, 104, 232, 187, 394, 294, 214, 5, 5915], [9], [908, 24], [14, 5916, 1552, 5917, 2659], [262, 2655, 2426, 5918], [795, 11], [90, 12, 5919, 251], [33, 23, 8, 7, 52], [215, 176, 2, 378, 1178, 68], [17, 285, 268, 721, 2, 74, 24], [42, 162, 297, 1528, 4, 334, 4], [171, 2517], [974, 93, 340, 3, 625, 1429, 76, 11, 54, 916, 29, 8, 7, 1293, 115, 131, 11, 5920, 200, 282, 37, 102, 2749, 59, 102, 2749, 1859, 94, 2735, 108, 14], [2, 3, 5921, 9], [644, 45], [724, 335, 40], [97, 1455, 586, 5922, 608], [146, 462, 33, 68, 342, 822, 142, 1337, 1677, 2734, 2], [826, 21, 453], [1796, 5, 1093, 342, 342, 1377], [295, 254, 39, 864, 65], [2336, 1533, 2037, 27], [1120, 30, 2, 250, 1616, 5923, 107, 487, 2, 335, 175, 5924, 89, 5925], [125, 72, 365, 172, 1042, 30, 45, 315, 200], [33, 1595, 1596, 256, 264, 6, 887, 5926, 22, 755, 294, 1183, 2121, 2122, 492, 6, 1319, 755, 294, 1183, 5927, 864, 2722, 1183], [211, 252, 136, 5, 1772, 293, 2230, 2, 5928], [63, 444, 185, 1378], [40, 1082, 1249, 1433, 5929, 36, 2340, 36, 5930, 2750, 5931, 5932, 5933, 36, 378, 2750, 5934, 5935, 36, 5936, 17, 342, 36, 198, 711], [348, 380, 2, 5937, 921, 110, 2, 5938, 1356, 380, 22, 315], [404, 207, 355, 75, 2652, 75, 101, 15, 231, 79, 32, 153], [140, 176, 1321, 146, 589, 6, 1504, 1629, 378, 6, 104, 839, 346, 294], [5939, 5940, 2, 32, 2, 307, 5941, 18, 204, 2, 32], [11, 45, 26, 5942, 40], [318, 33, 2, 590, 310, 8, 7], [5943, 431, 5, 121, 1092], [30, 178, 138], [311, 121, 761, 139], [136, 8, 7, 52], [174, 58, 105], [1080, 1379, 114, 45, 669, 5944, 209, 965, 727, 1107], [71, 71, 419, 889, 889, 652], [5945, 5946], [159, 361, 121, 5947, 5948, 26, 121, 60, 54, 1679, 6, 22, 1723, 6, 374, 18, 11, 1283, 621, 44, 26, 1283, 18, 1755, 1869], [17, 39, 39, 370, 2751, 2752, 1405, 2, 2753, 1433, 20, 2752, 617, 27, 31, 1076, 2753, 53, 113, 2751, 5949, 2], [67, 172, 19, 490], [42, 5, 1370, 95, 45, 417, 663, 20, 245, 34, 5950, 242, 135, 1285, 508, 45], [90, 2, 2717, 5951, 337, 64], [5952, 572], [78, 1274, 5953, 128, 3, 2522, 755, 5954, 2743, 30, 289, 47, 188, 5955, 1388, 5956, 117, 5957], [4, 13, 3], [322, 15, 398, 109, 2, 2, 81, 70, 331, 3, 27, 169, 165, 358, 506, 238], [18, 50, 906, 510, 1024], [334, 167, 1308, 12, 98, 1640, 1057, 32, 37, 150, 243, 314, 47, 1672, 27, 190], [1034, 379, 392, 5958, 1100, 5959], [872, 98, 2704, 872, 19, 139, 78], [991, 5960, 477, 2313, 381, 5961, 1361, 838, 5962, 36, 87, 82, 2, 77, 72, 636, 734, 363], [68, 5963, 4], [197, 55, 2013, 54], [272, 266, 306], [57, 4, 1170, 1735, 22, 2202, 5964, 2259, 270, 2, 5965, 164, 5966, 4, 1170, 38], [5967, 85, 87, 316], [24, 2627, 5968, 877, 10, 2, 19, 1453, 59, 5969, 123, 23, 5, 5970, 123, 31, 164, 100, 3, 2, 4, 2, 4, 395, 2, 1441, 5, 807], [171, 504, 270, 30, 2539, 167, 19, 58, 161, 773, 136, 394, 16, 30, 229], [74, 97], [40, 627, 1284, 464, 1406, 40], [5971, 4, 1862, 18, 244, 5972, 1188, 131, 686, 47, 314, 113, 1863, 820, 279, 32, 857, 591, 1263, 1517, 61], [57, 5973, 145, 145, 5974, 2081, 5975, 462], [1030, 48, 1920, 1921, 190, 1222, 524, 50, 3, 37, 1922, 85, 524, 995, 27, 52]]\n"
     ]
    }
   ],
   "source": [
    "print(sequences_train_1)"
   ]
  },
  {
   "cell_type": "markdown",
   "metadata": {},
   "source": [
    "#### **Sem Word Embeddings Pré-treinado**"
   ]
  },
  {
   "cell_type": "markdown",
   "metadata": {},
   "source": [
    "O texto das avaliações foi convertido para inteiros, onde cada inteiro representa uma palavra específica no dicionário. \n",
    "\n",
    "As avaliações — os arrays de inteiros — devem ser convertidas em tensores (tensors) antes de alimentar a rede neural.\n",
    "\n",
    "Isso é como se parece a primeira revisão"
   ]
  },
  {
   "cell_type": "code",
   "execution_count": 377,
   "metadata": {},
   "outputs": [
    {
     "name": "stdout",
     "output_type": "stream",
     "text": [
      "Texto em Formato Númerico:  [78, 872, 421]\n",
      "Tamanho:  3\n"
     ]
    }
   ],
   "source": [
    "print('Texto em Formato Númerico: ', sequences_train_1[0])\n",
    "print('Tamanho: ', len(sequences_train_1[0]))"
   ]
  },
  {
   "cell_type": "markdown",
   "metadata": {},
   "source": [
    "As avaliações têm tamanhos diferentes. O código abaixo mostra o número de palavras da primeira e segunda avaliação. Sabendo que o número de entradas da rede neural tem que ser o mesmo, temos que resolver isto."
   ]
  },
  {
   "cell_type": "code",
   "execution_count": 378,
   "metadata": {},
   "outputs": [
    {
     "name": "stdout",
     "output_type": "stream",
     "text": [
      "Tamanho do Primeiro Texto: 3 \n",
      "Tamanho do Segundo Texto: 13\n"
     ]
    }
   ],
   "source": [
    "print(f\"Tamanho do Primeiro Texto: {len(sequences_train_1[0])} \\nTamanho do Segundo Texto: {len(sequences_train_1[1])}\")"
   ]
  },
  {
   "cell_type": "markdown",
   "metadata": {},
   "source": [
    "Como as mensagens (texto) no conjunto de dados são de tamanho variável, usaremos o preenchimento para fazer \n",
    "com que todas as mensagens tenham o mesmo tamanho. Podemos usar o comprimento máximo da sequência para preencher as mensagens. \n",
    "No entanto, também podemos dar uma olhada na distribuição \n",
    "dos comprimentos de sequência no conjunto de treino para encontrar o comprimento de preenchimento correto."
   ]
  },
  {
   "cell_type": "code",
   "execution_count": 379,
   "metadata": {},
   "outputs": [
    {
     "name": "stdout",
     "output_type": "stream",
     "text": [
      "Tamanho do Vocabulário:  5976\n",
      "Comprimento da maior sequência:  77\n"
     ]
    }
   ],
   "source": [
    "# Determina o tamanho do vocabulário\n",
    "print(\"Tamanho do Vocabulário: \", vocab_size_1)\n",
    "\n",
    "# Identificando o comprimento da maior sequência do conjunto de treinamento\n",
    "names = [len(n) for n in sequences_train_1]\n",
    "print(\"Comprimento da maior sequência: \", max(names))"
   ]
  },
  {
   "cell_type": "code",
   "execution_count": 380,
   "metadata": {},
   "outputs": [
    {
     "data": {
      "image/png": "[encoded data removed]",
      "text/plain": [
       "<Figure size 1000x200 with 1 Axes>"
      ]
     },
     "metadata": {},
     "output_type": "display_data"
    }
   ],
   "source": [
    "# Identificando a frêquencia dos comprimentos das sequência de treinamento\n",
    "plt.figure(figsize=(10,2))\n",
    "plt.hist(names, bins = 100)\n",
    "x_ticks = np.arange(0, 100, 5)\n",
    "plt.xticks(x_ticks)\n",
    "plt.show()"
   ]
  },
  {
   "cell_type": "markdown",
   "metadata": {},
   "source": [
    "Podemos ver claramente que a maioria das mensagens tem um comprimento de 25 palavras ou menos. \n",
    "\n",
    "Considerando que o comprimento máximo é 77. Portanto, se selecionarmos 77 como o comprimento de preenchimento, \n",
    "todas as sequências de entrada terão comprimento 77 e a maioria dos tokens nessas sequências serão tokens de preenchimento que \n",
    "não ajudarão o modelo a aprender nada útil e além disso, tornará o treinamento mais lento.\n",
    "\n",
    "Portanto, definiremos 25 como o comprimento do preenchimento."
   ]
  },
  {
   "cell_type": "markdown",
   "metadata": {},
   "source": [
    "#### **Padronização (ou Preenchimento de Sequências)**"
   ]
  },
  {
   "cell_type": "markdown",
   "metadata": {},
   "source": [
    "Já que as avaliações devem ter o mesmo tamanho, usaremos a função pad_sequences para padronizar os tamanhos."
   ]
  },
  {
   "cell_type": "code",
   "execution_count": 381,
   "metadata": {},
   "outputs": [],
   "source": [
    "max_length = 25\n",
    "\n",
    "padded_train_1 = pad_sequences(sequences_train_1, maxlen=max_length, padding='post', truncating='post')\n",
    "padded_valid_1 = pad_sequences(sequences_valid_1, maxlen=max_length, padding='post', truncating='post')\n",
    "padded_test_1 = pad_sequences(sequences_test_1, maxlen=max_length, padding='post', truncating='post')\n",
    "\n",
    "padded_train_2 = pad_sequences(sequences_train_2, maxlen=max_length, padding='post', truncating='post')\n",
    "padded_valid_2 = pad_sequences(sequences_valid_2, maxlen=max_length, padding='post', truncating='post')\n",
    "padded_test_2 = pad_sequences(sequences_test_2, maxlen=max_length, padding='post', truncating='post')\n",
    "\n",
    "padded_train_3 = pad_sequences(sequences_train_3, maxlen=max_length, padding='post', truncating='post')\n",
    "padded_valid_3 = pad_sequences(sequences_valid_3, maxlen=max_length, padding='post', truncating='post')\n",
    "padded_test_3 = pad_sequences(sequences_test_3, maxlen=max_length, padding='post', truncating='post')\n",
    "\n",
    "padded_train_4 = pad_sequences(sequences_train_4, maxlen=max_length, padding='post', truncating='post')\n",
    "padded_valid_4 = pad_sequences(sequences_valid_4, maxlen=max_length, padding='post', truncating='post')\n",
    "padded_test_4 = pad_sequences(sequences_test_4, maxlen=max_length, padding='post', truncating='post')"
   ]
  },
  {
   "cell_type": "code",
   "execution_count": 382,
   "metadata": {},
   "outputs": [
    {
     "data": {
      "text/plain": [
       "array([[  78,  872,  421, ...,    0,    0,    0],\n",
       "       [2754, 2755, 2756, ...,    0,    0,    0],\n",
       "       [ 336,    2,  590, ...,    0,    0,    0],\n",
       "       ...,\n",
       "       [5971,    4, 1862, ...,    0,    0,    0],\n",
       "       [  57, 5973,  145, ...,    0,    0,    0],\n",
       "       [1030,   48, 1920, ...,    0,    0,    0]])"
      ]
     },
     "execution_count": 382,
     "metadata": {},
     "output_type": "execute_result"
    }
   ],
   "source": [
    "padded_train_1"
   ]
  },
  {
   "cell_type": "markdown",
   "metadata": {},
   "source": [
    "#### **Construindo o modelo**"
   ]
  },
  {
   "cell_type": "code",
   "execution_count": 383,
   "metadata": {},
   "outputs": [
    {
     "data": {
      "text/plain": [
       "{0: 0.5722872508699779, 1: 3.9584245076586435}"
      ]
     },
     "execution_count": 383,
     "metadata": {},
     "output_type": "execute_result"
    }
   ],
   "source": [
    "# Estime os pesos das classes para conjuntos de dados não balanceados.\n",
    "\n",
    "classes = np.unique(y_train)\n",
    "class_weights = compute_class_weight(class_weight=\"balanced\", classes=classes, y=y_train)\n",
    "class_weights = dict(zip(classes, class_weights))\n",
    "class_weights"
   ]
  },
  {
   "cell_type": "markdown",
   "metadata": {},
   "source": [
    "**Métrica F1-Score Customer**"
   ]
  },
  {
   "cell_type": "code",
   "execution_count": 384,
   "metadata": {},
   "outputs": [],
   "source": [
    "# O Tensorflow 2 possui uma opção de configuração para executar funções \"avidamente\", o que permitirá obter valores do Tensor por meio do método .numpy(). # Para habilitar a execução antecipada, use o seguinte comando: tf.config.run_functions_eagerly(True)\n",
    "tf.config.run_functions_eagerly(True)"
   ]
  },
  {
   "cell_type": "code",
   "execution_count": 385,
   "metadata": {},
   "outputs": [],
   "source": [
    "class F1_Score(tf.keras.metrics.Metric):\n",
    "    def __init__(self, name='f1-score-macro', **kwargs):\n",
    "        super().__init__(name=name, **kwargs)\n",
    "        self.f1_macro = self.add_variable(\n",
    "            shape=(),\n",
    "            initializer='zeros',\n",
    "            name='f1-macro'\n",
    "        )\n",
    "\n",
    "    def update_state(self, y_true, y_pred, sample_weight=None):\n",
    "        y_pred = tf.cast(tf.reshape(tf.round(y_pred), -1), 'int32')\n",
    "        #y_true = tf.cast(tf.reshape(y_true, shape=(-1, 1)), 'int32')\n",
    "\n",
    "        y_true = ops.cast(y_true, \"bool\")\n",
    "        y_pred = ops.cast(y_pred, \"bool\")\n",
    "\n",
    "        values = ops.logical_and(ops.equal(y_true, True), ops.equal(y_pred, True))\n",
    "        values = ops.cast(values, dtype='int32')\n",
    "        tp = ops.sum(values).numpy()\n",
    "        \n",
    "        values = ops.logical_and(ops.equal(y_true, False), ops.equal(y_pred, False))\n",
    "        values = ops.cast(values, dtype='int32')\n",
    "        tn = ops.sum(values).numpy()\n",
    "        \n",
    "        values = ops.logical_and(ops.equal(y_true, False), ops.equal(y_pred, True))\n",
    "        values = ops.cast(values, dtype='int32')\n",
    "        fp = ops.sum(values).numpy()\n",
    "\n",
    "        values = ops.logical_and(ops.equal(y_true, True), ops.equal(y_pred, False))\n",
    "        values = ops.cast(values, dtype='int32')\n",
    "        fn = ops.sum(values).numpy()\n",
    "\n",
    "        f1_1 = (2 * tp) / (2 * tp + fp + fn)\n",
    "        f1_0 = (2 * tn) / (2 * tn + fp + fn)\n",
    "        f1 = (f1_1 + f1_0) / 2\n",
    "        \n",
    "        self.f1_macro.assign(f1)\n",
    "\n",
    "    def result(self):\n",
    "        return self.f1_macro\n",
    "\n",
    "    def reset_states(self):\n",
    "        self.f1_macro.assign(0)"
   ]
  },
  {
   "cell_type": "code",
   "execution_count": 386,
   "metadata": {},
   "outputs": [],
   "source": [
    "def build(vocab_size, max_length):\n",
    "    #####################################################################################################\n",
    "    # Configurando a arquitetura do modelo  \n",
    "    model = tf.keras.Sequential()\n",
    "    \n",
    "    # --> Camada de Entrada\n",
    "    # Adicionando Camada de Incorporação - Transforma inteiros positivos (índices) em vetores densos de tamanho fixo.\n",
    "    model.add(tf.keras.layers.Embedding(input_dim=vocab_size, output_dim=max_length, input_shape=(max_length,)))\n",
    "\n",
    "    # --> Camadas Intermediárias\n",
    "    # Adicionando Camada de Convolução\n",
    "    model.add(tf.keras.layers.Conv1D(filters=128, kernel_size=5, activation='relu'))\n",
    "\n",
    "    # Adicionando Camada de Pooling\n",
    "    model.add(tf.keras.layers.GlobalMaxPooling1D())\n",
    "                              \n",
    "    # Adicionando Camada Totalmente Conectada\n",
    "    model.add(tf.keras.layers.Dense(units=64, activation='relu'))\n",
    "    model.add(tf.keras.layers.Dropout(rate=0.30))\n",
    "    model.add(tf.keras.layers.Dense(units=64, activation='relu'))\n",
    "    model.add(tf.keras.layers.Dropout(rate=0.30))\n",
    "\n",
    "    # --> Camada de Saída                 \n",
    "    model.add(tf.keras.layers.Dense(units=1, activation='sigmoid'))\n",
    "    #####################################################################################################\n",
    "\n",
    "    return model"
   ]
  },
  {
   "cell_type": "code",
   "execution_count": 387,
   "metadata": {},
   "outputs": [],
   "source": [
    "def cnn(vocab_size, max_length, padded_train, y_train, padded_valid, y_valid):\n",
    "    #####################################################################################################\n",
    "    # Validação Cruzada\n",
    "    model = build(vocab_size, max_length)\n",
    "\n",
    "    clf = KerasClassifier(model=model, \n",
    "                          verbose=0, \n",
    "                          epochs=40, \n",
    "                          batch_size=512, \n",
    "                          class_weight=class_weights,\n",
    "                          optimizer=tf.keras.optimizers.Adam(name='adam', learning_rate=0.001),\n",
    "                          loss=tf.keras.losses.BinaryCrossentropy(name='binary_crossentropy')) \n",
    "\n",
    "    x_all = np.concatenate((padded_train, padded_valid))\n",
    "    y_all = np.concatenate((y_train, y_valid))\n",
    " \n",
    "    cv = StratifiedKFold(n_splits=5, shuffle=True, random_state=42)\n",
    "    scores = cross_val_score(clf, x_all, y_all, cv=cv, scoring='balanced_accuracy', n_jobs=-1)\n",
    "    print(\"Média: {} Desvio Padrão: {}\".format(round(scores.mean(), 2), round(scores.std(),3)))\n",
    "    #####################################################################################################\n",
    "\n",
    "\n",
    "    #####################################################################################################\n",
    "    # Configurando o modelo para treinamento\n",
    "    model.compile(optimizer=tf.keras.optimizers.Adam(name='adam', learning_rate=0.001),   # O learning_rate padrão é 0.001 \n",
    "                  # Já que é um problema de classificação binário e o modelo tem como saída uma probabilidade usaremos a função loss \"binary_crossentropy\". A binary_crossentropy é a melhor função de loss para tratar probabilidades— ela mede a \"distância\" entre as distribuições de probabilidade, ou, no nosso caso, sobre a distribuição real e as previsões.\n",
    "                  loss=tf.keras.losses.BinaryCrossentropy(name='binary_crossentropy'), \n",
    "                  # Usaremos como métrica a binary_accuracy. Essa métrica é utilizada especificamente em problemas de classificação binária e calcula com que frequência as previsões correspondem aos rótulos binários.\n",
    "                  metrics=[tf.keras.metrics.BinaryAccuracy(name='binary_accuracy'), F1_Score()])\n",
    "    #####################################################################################################\n",
    "\n",
    "    \n",
    "    #####################################################################################################\n",
    "    # Resumo do modelo\n",
    "    #model.summary()\n",
    "    #####################################################################################################\n",
    "\n",
    "\n",
    "    #####################################################################################################\n",
    "    # Treinando o modelo\n",
    "    history = model.fit(x=padded_train,\n",
    "              y=y_train,\n",
    "              epochs=40,\n",
    "              batch_size=512,\n",
    "              verbose=0,\n",
    "              class_weight=class_weights,\n",
    "              validation_data=(padded_valid, y_valid),\n",
    "              callbacks=[tf.keras.callbacks.EarlyStopping(monitor='val_loss', patience=5)])\n",
    "    #####################################################################################################\n",
    "\n",
    "\n",
    "    #####################################################################################################\n",
    "    # Fazendo as predições\n",
    "    # O array do treino, validação e teste é um array de 1D com ZEROs e UMs [0, 1]\n",
    "    # Faz a predição\n",
    "    # Arredonda os valores da predição para 1 ou 0\n",
    "    # Transforma o array em 1D\n",
    "    # Transforma o tipo do array em INT\n",
    "    y_pred_train = np.array(np.reshape(np.round(model.predict(padded_train)), -1), np.int32)\n",
    "    y_pred_val = np.array(np.reshape(np.round(model.predict(padded_valid)), -1), np.int32)\n",
    "    #####################################################################################################\n",
    "\n",
    "\n",
    "    #####################################################################################################\n",
    "    # Avaliando o modelo no conjunto de validação\n",
    "    \n",
    "    results = model.evaluate(padded_valid, y_valid, verbose=2)\n",
    "    binary_acc = np.round(results[1], 2)\n",
    "\n",
    "    m = F1_Score()\n",
    "    m.update_state(y_train, model.predict(padded_train))\n",
    "    f1_train_cm = ops.round(tf.convert_to_tensor(m.result().numpy(), dtype=tf.float64), 2)*100\n",
    "\n",
    "    m.update_state(y_valid, model.predict(padded_valid))\n",
    "    f1_valid_cm = ops.round(tf.convert_to_tensor(m.result().numpy(), dtype=tf.float64), 2)*100\n",
    "\n",
    "    f1_train_sk = np.round(f1_score(y_train, y_pred_train, average=\"macro\"), 2)*100\n",
    "    f1_valid_sk = np.round(f1_score(y_valid, y_pred_val, average=\"macro\"), 2)*100\n",
    "\n",
    "\n",
    "\n",
    "    b = tf.keras.metrics.BinaryAccuracy(name='binary_accuracy')\n",
    "    b.update_state(y_train, model.predict(padded_train))\n",
    "    b_train = ops.round(tf.convert_to_tensor(b.result().numpy(), dtype=tf.float64), 2)*100\n",
    "\n",
    "    b = tf.keras.metrics.BinaryAccuracy(name='binary_accuracy')\n",
    "    b.update_state(y_valid, model.predict(padded_valid))\n",
    "    b_valid = ops.round(tf.convert_to_tensor(b.result().numpy(), dtype=tf.float64), 2)*100\n",
    "\n",
    "    \n",
    "    print(f\"F1-Score do Treino: {f1_train_sk} {f1_train_cm} Binary Accuracy do Treino: {b_train} F1-Score da Validação: {f1_valid_sk} {f1_valid_cm} Binary Accuracy da Validação: {b_valid}\")\n",
    "    #####################################################################################################\n",
    "\n",
    "    return model, history"
   ]
  },
  {
   "cell_type": "code",
   "execution_count": 388,
   "metadata": {},
   "outputs": [
    {
     "name": "stdout",
     "output_type": "stream",
     "text": [
      "--> Lemm + stopword removal\n",
      "Média: 0.96 Desvio Padrão: 0.006\n",
      "\u001b[1m117/117\u001b[0m \u001b[32m━━━━━━━━━━━━━━━━━━━━\u001b[0m\u001b[37m\u001b[0m \u001b[1m1s\u001b[0m 9ms/step\n",
      "\u001b[1m21/21\u001b[0m \u001b[32m━━━━━━━━━━━━━━━━━━━━\u001b[0m\u001b[37m\u001b[0m \u001b[1m0s\u001b[0m 11ms/step\n",
      "21/21 - 0s - 20ms/step - binary_accuracy: 0.9818 - f1-score-macro: 0.8190 - loss: 0.0850\n",
      "\u001b[1m117/117\u001b[0m \u001b[32m━━━━━━━━━━━━━━━━━━━━\u001b[0m\u001b[37m\u001b[0m \u001b[1m1s\u001b[0m 9ms/step\n",
      "\u001b[1m21/21\u001b[0m \u001b[32m━━━━━━━━━━━━━━━━━━━━\u001b[0m\u001b[37m\u001b[0m \u001b[1m0s\u001b[0m 8ms/step\n",
      "\u001b[1m117/117\u001b[0m \u001b[32m━━━━━━━━━━━━━━━━━━━━\u001b[0m\u001b[37m\u001b[0m \u001b[1m1s\u001b[0m 8ms/step\n",
      "\u001b[1m21/21\u001b[0m \u001b[32m━━━━━━━━━━━━━━━━━━━━\u001b[0m\u001b[37m\u001b[0m \u001b[1m0s\u001b[0m 9ms/step\n",
      "F1-Score do Treino: 100.0 100.0 Binary Accuracy do Treino: 100.0 F1-Score da Validação: 96.0 96.0 Binary Accuracy da Validação: 98.0\n",
      "\n",
      "--> Lemm + no stopword removal\n",
      "Média: 0.96 Desvio Padrão: 0.006\n",
      "\u001b[1m117/117\u001b[0m \u001b[32m━━━━━━━━━━━━━━━━━━━━\u001b[0m\u001b[37m\u001b[0m \u001b[1m3s\u001b[0m 22ms/step\n",
      "\u001b[1m21/21\u001b[0m \u001b[32m━━━━━━━━━━━━━━━━━━━━\u001b[0m\u001b[37m\u001b[0m \u001b[1m0s\u001b[0m 21ms/step\n",
      "21/21 - 1s - 45ms/step - binary_accuracy: 0.9879 - f1-score-macro: 0.8190 - loss: 0.0831\n",
      "\u001b[1m117/117\u001b[0m \u001b[32m━━━━━━━━━━━━━━━━━━━━\u001b[0m\u001b[37m\u001b[0m \u001b[1m3s\u001b[0m 23ms/step\n",
      "\u001b[1m21/21\u001b[0m \u001b[32m━━━━━━━━━━━━━━━━━━━━\u001b[0m\u001b[37m\u001b[0m \u001b[1m1s\u001b[0m 23ms/step\n",
      "\u001b[1m117/117\u001b[0m \u001b[32m━━━━━━━━━━━━━━━━━━━━\u001b[0m\u001b[37m\u001b[0m \u001b[1m3s\u001b[0m 29ms/step\n",
      "\u001b[1m21/21\u001b[0m \u001b[32m━━━━━━━━━━━━━━━━━━━━\u001b[0m\u001b[37m\u001b[0m \u001b[1m1s\u001b[0m 22ms/step\n",
      "F1-Score do Treino: 100.0 100.0 Binary Accuracy do Treino: 100.0 F1-Score da Validação: 97.0 97.0 Binary Accuracy da Validação: 99.0\n",
      "\n",
      "--> Stem + stopword removal\n",
      "Média: 0.96 Desvio Padrão: 0.005\n",
      "\u001b[1m117/117\u001b[0m \u001b[32m━━━━━━━━━━━━━━━━━━━━\u001b[0m\u001b[37m\u001b[0m \u001b[1m3s\u001b[0m 24ms/step\n",
      "\u001b[1m21/21\u001b[0m \u001b[32m━━━━━━━━━━━━━━━━━━━━\u001b[0m\u001b[37m\u001b[0m \u001b[1m1s\u001b[0m 21ms/step\n",
      "21/21 - 1s - 50ms/step - binary_accuracy: 0.9727 - f1-score-macro: 1.0000 - loss: 0.0996\n",
      "\u001b[1m117/117\u001b[0m \u001b[32m━━━━━━━━━━━━━━━━━━━━\u001b[0m\u001b[37m\u001b[0m \u001b[1m3s\u001b[0m 23ms/step\n",
      "\u001b[1m21/21\u001b[0m \u001b[32m━━━━━━━━━━━━━━━━━━━━\u001b[0m\u001b[37m\u001b[0m \u001b[1m1s\u001b[0m 26ms/step\n",
      "\u001b[1m117/117\u001b[0m \u001b[32m━━━━━━━━━━━━━━━━━━━━\u001b[0m\u001b[37m\u001b[0m \u001b[1m3s\u001b[0m 26ms/step\n",
      "\u001b[1m21/21\u001b[0m \u001b[32m━━━━━━━━━━━━━━━━━━━━\u001b[0m\u001b[37m\u001b[0m \u001b[1m1s\u001b[0m 32ms/step\n",
      "F1-Score do Treino: 100.0 100.0 Binary Accuracy do Treino: 100.0 F1-Score da Validação: 94.0 94.0 Binary Accuracy da Validação: 97.0\n",
      "\n",
      "--> Stem + no stopword removal\n",
      "Média: 0.96 Desvio Padrão: 0.01\n",
      "\u001b[1m117/117\u001b[0m \u001b[32m━━━━━━━━━━━━━━━━━━━━\u001b[0m\u001b[37m\u001b[0m \u001b[1m3s\u001b[0m 21ms/step\n",
      "\u001b[1m21/21\u001b[0m \u001b[32m━━━━━━━━━━━━━━━━━━━━\u001b[0m\u001b[37m\u001b[0m \u001b[1m0s\u001b[0m 21ms/step\n",
      "21/21 - 1s - 52ms/step - binary_accuracy: 0.9757 - f1-score-macro: 0.8190 - loss: 0.1070\n",
      "\u001b[1m117/117\u001b[0m \u001b[32m━━━━━━━━━━━━━━━━━━━━\u001b[0m\u001b[37m\u001b[0m \u001b[1m4s\u001b[0m 32ms/step\n",
      "\u001b[1m21/21\u001b[0m \u001b[32m━━━━━━━━━━━━━━━━━━━━\u001b[0m\u001b[37m\u001b[0m \u001b[1m1s\u001b[0m 24ms/step\n",
      "\u001b[1m117/117\u001b[0m \u001b[32m━━━━━━━━━━━━━━━━━━━━\u001b[0m\u001b[37m\u001b[0m \u001b[1m4s\u001b[0m 30ms/step\n",
      "\u001b[1m21/21\u001b[0m \u001b[32m━━━━━━━━━━━━━━━━━━━━\u001b[0m\u001b[37m\u001b[0m \u001b[1m1s\u001b[0m 30ms/step\n",
      "F1-Score do Treino: 100.0 100.0 Binary Accuracy do Treino: 100.0 F1-Score da Validação: 95.0 95.0 Binary Accuracy da Validação: 98.0\n"
     ]
    }
   ],
   "source": [
    "#Lemm + stopword removal \n",
    "print(\"--> Lemm + stopword removal\") \n",
    "model_1_cnn, history_1 = cnn(vocab_size_1, max_length, padded_train_1, y_train_cnn, padded_valid_1, y_valid_cnn)\n",
    "\n",
    "#Lemm + no stopword removal \n",
    "print(\"\\n--> Lemm + no stopword removal\") \n",
    "model_2_cnn, history_2 = cnn(vocab_size_2, max_length, padded_train_2, y_train_cnn, padded_valid_2, y_valid_cnn)\n",
    "\n",
    "#Stem + stopword removal \n",
    "print(\"\\n--> Stem + stopword removal\") \n",
    "model_3_cnn, history_3 = cnn(vocab_size_3, max_length, padded_train_3, y_train_cnn, padded_valid_3, y_valid_cnn)\n",
    "\n",
    "#Stem + no stopword removal \n",
    "print(\"\\n--> Stem + no stopword removal\") \n",
    "model_4_cnn, history_4 = cnn(vocab_size_4, max_length, padded_train_4, y_train_cnn, padded_valid_4, y_valid_cnn)\n"
   ]
  },
  {
   "cell_type": "markdown",
   "metadata": {},
   "source": [
    "#### **Modelo Escolhido:** Stem + no stopword removal\n",
    "\n",
    "Escolhemos o modelo que obteve o melhor desempenho na validação cruzada e no conjunto de validação, ou seja, a melhor média e menor desvio padrão na validação cruzada e o melhor F1-Score e Binary Accuracy nos dados de validação.\n",
    "\n",
    "O modelo que usa stemização, sem remoção de palavras irrelevantes supera os demais modelos com uma pontuação de F1-Score de 96% e Binary Accuracy de 98%. "
   ]
  },
  {
   "cell_type": "markdown",
   "metadata": {},
   "source": [
    "### **Resultado Final**"
   ]
  },
  {
   "cell_type": "markdown",
   "metadata": {},
   "source": [
    "A CNN obteve melhor desempenho na detecção de spam, apresentando resultados superiores quando comparados com o modelo Multinomial Naive Bayes.\n",
    "\n",
    "Naive Bayes:\n",
    "* Balanced_Accuracy: 96.0 %\n",
    "* F1-Score: 95.0 %\n",
    "\n",
    "CNN: \n",
    "* Balanced_Accuracy: 98.0 %\n",
    "* F1-Score: 96.0 %"
   ]
  },
  {
   "cell_type": "code",
   "execution_count": 389,
   "metadata": {},
   "outputs": [
    {
     "name": "stdout",
     "output_type": "stream",
     "text": [
      "--> AVALIAÇÃO NO TESTE: Lemm + stopword removal + CountVectorizer\n",
      "Balanced_Accuracy: 96.0% F1-Score: 95.0%\n"
     ]
    }
   ],
   "source": [
    "#Lemm + stopword removal \n",
    "print(\"--> AVALIAÇÃO NO TESTE: Lemm + stopword removal + CountVectorizer\") \n",
    "\n",
    "# Predição no Conjunto de Teste\n",
    "predictions_naive = model_count_1.predict(X_test_1_count)\n",
    "\n",
    "# Avaliação Final do Modelo\n",
    "evaluate_model(y_test, predictions_naive)"
   ]
  },
  {
   "cell_type": "code",
   "execution_count": 390,
   "metadata": {},
   "outputs": [
    {
     "name": "stdout",
     "output_type": "stream",
     "text": [
      "--> Stem + stopword removal\n"
     ]
    },
    {
     "name": "stdout",
     "output_type": "stream",
     "text": [
      "\u001b[1m25/25\u001b[0m \u001b[32m━━━━━━━━━━━━━━━━━━━━\u001b[0m\u001b[37m\u001b[0m \u001b[1m1s\u001b[0m 23ms/step\n",
      "\n",
      "Binary Accuracy do Teste: 97.0 --> 97.0\n",
      "Balanced_Accuracy: 95.0% F1-Score: 93.0%\n"
     ]
    }
   ],
   "source": [
    "#Stem + stopword removal\n",
    "print(\"--> Stem + stopword removal\") \n",
    "\n",
    "model_cnn, history_cnn = model_4_cnn, history_4\n",
    "\n",
    "# Predição no Conjunto de Teste\n",
    "predictions_cnn = np.array(np.reshape(np.round(model_cnn.predict(padded_test_4)), -1), np.int32)\n",
    "\n",
    "# Avaliação Final do Modelo\n",
    "results = model_cnn.evaluate(padded_test_4, y_test_cnn, verbose=0)\n",
    "binary_acc = np.round(results[1], 2)\n",
    "\n",
    "print(f\"\\nBinary Accuracy do Teste: {np.round(binary_acc, 2)*100} --> {np.round(accuracy_score(y_test_cnn, predictions_cnn), 2)*100}\")\n",
    "\n",
    "evaluate_model(y_test_cnn, predictions_cnn)"
   ]
  },
  {
   "cell_type": "markdown",
   "metadata": {},
   "source": [
    "**Visualização das Métricas da CNN Durante o Treinamento**"
   ]
  },
  {
   "cell_type": "code",
   "execution_count": 391,
   "metadata": {},
   "outputs": [
    {
     "data": {
      "image/png": "[encoded data removed]",
      "text/plain": [
       "<Figure size 800x400 with 2 Axes>"
      ]
     },
     "metadata": {},
     "output_type": "display_data"
    }
   ],
   "source": [
    "fig, ax = plt.subplots(1, 2, figsize=(8,4))\n",
    "\n",
    "acc = history_cnn.history['binary_accuracy']\n",
    "val_acc = history_cnn.history['val_binary_accuracy']\n",
    "loss = history_cnn.history['loss']\n",
    "val_loss = history_cnn.history['val_loss']\n",
    "\n",
    "epochs = range(1, len(acc) + 1)\n",
    "\n",
    "sns.lineplot(x=epochs, y=loss, ax=ax[1], label='loss')\n",
    "sns.lineplot(x=epochs, y=val_loss, ax=ax[1], label='val_loss')\n",
    "ax[1].set_title(\"Training and Validation Loss\", size=10)\n",
    "ax[1].set_xlabel('Epochs')\n",
    "ax[1].set_ylabel('Loss')\n",
    "\n",
    "\n",
    "sns.lineplot(x=epochs, y=acc, ax=ax[0], label='binary_accuracy')\n",
    "sns.lineplot(x=epochs, y=val_acc, ax=ax[0], label='val_binary_accuracy')\n",
    "ax[0].set_title(\"Training and Validation Binary_Accuracy\", size=10)\n",
    "ax[0].set_xlabel('Epochs')\n",
    "ax[0].set_ylabel('Binary_Accuracy')\n",
    "\n",
    "\n",
    "plt.show()"
   ]
  },
  {
   "cell_type": "markdown",
   "metadata": {},
   "source": [
    "**Visualização da Matriz de Classificação**"
   ]
  },
  {
   "cell_type": "code",
   "execution_count": 392,
   "metadata": {},
   "outputs": [
    {
     "data": {
      "image/png": "[encoded data removed]",
      "text/plain": [
       "<Figure size 640x480 with 2 Axes>"
      ]
     },
     "metadata": {},
     "output_type": "display_data"
    }
   ],
   "source": [
    "classes = data['classification'].unique()\n",
    "\n",
    "cf_matrix = confusion_matrix(y_test_cnn, predictions_cnn)\n",
    "\n",
    "group_names = ['True Neg', 'False Pos', 'False Neg', 'True Pos']\n",
    "group_counts = ['{0:0.0f}'.format(value) for value in cf_matrix.flatten()]\n",
    "\n",
    "group_percentages = ['{0:.2%}'.format(value) for value in cf_matrix.flatten()/np.sum(cf_matrix)]\n",
    "labels = [f'{v1}\\n{v2}\\n{v3}' for v1, v2, v3 in zip(group_names,group_counts,group_percentages)]\n",
    "labels = np.asarray(labels).reshape(2,2)\n",
    "\n",
    "sns.heatmap(cf_matrix, cmap=\"crest\", annot=labels, linewidth=1, fmt='', xticklabels=classes, yticklabels=classes)\n",
    "plt.xlabel('Predição')\n",
    "plt.ylabel(\"Real\")\n",
    "plt.show()"
   ]
  },
  {
   "cell_type": "markdown",
   "metadata": {},
   "source": [
    "**Relatório das Principais Métricas de Classificação**"
   ]
  },
  {
   "cell_type": "code",
   "execution_count": 393,
   "metadata": {},
   "outputs": [
    {
     "name": "stdout",
     "output_type": "stream",
     "text": [
      "              precision    recall  f1-score   support\n",
      "\n",
      "         ham       0.99      0.97      0.98       678\n",
      "        spam       0.84      0.93      0.88        98\n",
      "\n",
      "    accuracy                           0.97       776\n",
      "   macro avg       0.92      0.95      0.93       776\n",
      "weighted avg       0.97      0.97      0.97       776\n",
      "\n"
     ]
    }
   ],
   "source": [
    "print(classification_report(y_test_cnn, predictions_cnn, target_names=classes))"
   ]
  }
 ],
 "metadata": {
  "kernelspec": {
   "display_name": "Python 3 (ipykernel)",
   "language": "python",
   "name": "python3"
  },
  "language_info": {
   "codemirror_mode": {
    "name": "ipython",
    "version": 3
   },
   "file_extension": ".py",
   "mimetype": "text/x-python",
   "name": "python",
   "nbconvert_exporter": "python",
   "pygments_lexer": "ipython3",
   "version": "3.12.3"
  }
 },
 "nbformat": 4,
 "nbformat_minor": 4
}
